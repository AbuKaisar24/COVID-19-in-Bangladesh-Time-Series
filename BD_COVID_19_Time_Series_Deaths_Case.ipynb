{
  "nbformat": 4,
  "nbformat_minor": 0,
  "metadata": {
    "colab": {
      "name": "BD COVID 19 Time Series Deaths Case.ipynb",
      "provenance": [],
      "authorship_tag": "ABX9TyNRacGobTPXQwjgZAK6rB+F",
      "include_colab_link": true
    },
    "kernelspec": {
      "name": "python3",
      "display_name": "Python 3"
    }
  },
  "cells": [
    {
      "cell_type": "markdown",
      "metadata": {
        "id": "view-in-github",
        "colab_type": "text"
      },
      "source": [
        "<a href=\"https://colab.research.google.com/github/AbuKaisar24/COVID-19-in-Bangladesh-Time-Series/blob/master/BD_COVID_19_Time_Series_Deaths_Case.ipynb\" target=\"_parent\"><img src=\"https://colab.research.google.com/assets/colab-badge.svg\" alt=\"Open In Colab\"/></a>"
      ]
    },
    {
      "cell_type": "code",
      "metadata": {
        "id": "5n4j9DdntKOJ",
        "colab_type": "code",
        "colab": {
          "base_uri": "https://localhost:8080/",
          "height": 679
        },
        "outputId": "bd4005eb-e409-40c3-ada0-1fd104903af2"
      },
      "source": [
        "!pip install --upgrade tensorflow"
      ],
      "execution_count": null,
      "outputs": [
        {
          "output_type": "stream",
          "text": [
            "Requirement already up-to-date: tensorflow in /usr/local/lib/python3.6/dist-packages (2.3.0)\n",
            "Requirement already satisfied, skipping upgrade: h5py<2.11.0,>=2.10.0 in /usr/local/lib/python3.6/dist-packages (from tensorflow) (2.10.0)\n",
            "Requirement already satisfied, skipping upgrade: termcolor>=1.1.0 in /usr/local/lib/python3.6/dist-packages (from tensorflow) (1.1.0)\n",
            "Requirement already satisfied, skipping upgrade: wheel>=0.26 in /usr/local/lib/python3.6/dist-packages (from tensorflow) (0.35.1)\n",
            "Requirement already satisfied, skipping upgrade: tensorboard<3,>=2.3.0 in /usr/local/lib/python3.6/dist-packages (from tensorflow) (2.3.0)\n",
            "Requirement already satisfied, skipping upgrade: wrapt>=1.11.1 in /usr/local/lib/python3.6/dist-packages (from tensorflow) (1.12.1)\n",
            "Requirement already satisfied, skipping upgrade: gast==0.3.3 in /usr/local/lib/python3.6/dist-packages (from tensorflow) (0.3.3)\n",
            "Requirement already satisfied, skipping upgrade: keras-preprocessing<1.2,>=1.1.1 in /usr/local/lib/python3.6/dist-packages (from tensorflow) (1.1.2)\n",
            "Requirement already satisfied, skipping upgrade: google-pasta>=0.1.8 in /usr/local/lib/python3.6/dist-packages (from tensorflow) (0.2.0)\n",
            "Requirement already satisfied, skipping upgrade: opt-einsum>=2.3.2 in /usr/local/lib/python3.6/dist-packages (from tensorflow) (3.3.0)\n",
            "Requirement already satisfied, skipping upgrade: absl-py>=0.7.0 in /usr/local/lib/python3.6/dist-packages (from tensorflow) (0.8.1)\n",
            "Requirement already satisfied, skipping upgrade: protobuf>=3.9.2 in /usr/local/lib/python3.6/dist-packages (from tensorflow) (3.12.4)\n",
            "Requirement already satisfied, skipping upgrade: numpy<1.19.0,>=1.16.0 in /usr/local/lib/python3.6/dist-packages (from tensorflow) (1.18.5)\n",
            "Requirement already satisfied, skipping upgrade: six>=1.12.0 in /usr/local/lib/python3.6/dist-packages (from tensorflow) (1.15.0)\n",
            "Requirement already satisfied, skipping upgrade: tensorflow-estimator<2.4.0,>=2.3.0 in /usr/local/lib/python3.6/dist-packages (from tensorflow) (2.3.0)\n",
            "Requirement already satisfied, skipping upgrade: astunparse==1.6.3 in /usr/local/lib/python3.6/dist-packages (from tensorflow) (1.6.3)\n",
            "Requirement already satisfied, skipping upgrade: scipy==1.4.1 in /usr/local/lib/python3.6/dist-packages (from tensorflow) (1.4.1)\n",
            "Requirement already satisfied, skipping upgrade: grpcio>=1.8.6 in /usr/local/lib/python3.6/dist-packages (from tensorflow) (1.31.0)\n",
            "Requirement already satisfied, skipping upgrade: google-auth<2,>=1.6.3 in /usr/local/lib/python3.6/dist-packages (from tensorboard<3,>=2.3.0->tensorflow) (1.17.2)\n",
            "Requirement already satisfied, skipping upgrade: setuptools>=41.0.0 in /usr/local/lib/python3.6/dist-packages (from tensorboard<3,>=2.3.0->tensorflow) (49.6.0)\n",
            "Requirement already satisfied, skipping upgrade: google-auth-oauthlib<0.5,>=0.4.1 in /usr/local/lib/python3.6/dist-packages (from tensorboard<3,>=2.3.0->tensorflow) (0.4.1)\n",
            "Requirement already satisfied, skipping upgrade: requests<3,>=2.21.0 in /usr/local/lib/python3.6/dist-packages (from tensorboard<3,>=2.3.0->tensorflow) (2.23.0)\n",
            "Requirement already satisfied, skipping upgrade: tensorboard-plugin-wit>=1.6.0 in /usr/local/lib/python3.6/dist-packages (from tensorboard<3,>=2.3.0->tensorflow) (1.7.0)\n",
            "Requirement already satisfied, skipping upgrade: werkzeug>=0.11.15 in /usr/local/lib/python3.6/dist-packages (from tensorboard<3,>=2.3.0->tensorflow) (1.0.1)\n",
            "Requirement already satisfied, skipping upgrade: markdown>=2.6.8 in /usr/local/lib/python3.6/dist-packages (from tensorboard<3,>=2.3.0->tensorflow) (3.2.2)\n",
            "Requirement already satisfied, skipping upgrade: rsa<5,>=3.1.4; python_version >= \"3\" in /usr/local/lib/python3.6/dist-packages (from google-auth<2,>=1.6.3->tensorboard<3,>=2.3.0->tensorflow) (4.6)\n",
            "Requirement already satisfied, skipping upgrade: cachetools<5.0,>=2.0.0 in /usr/local/lib/python3.6/dist-packages (from google-auth<2,>=1.6.3->tensorboard<3,>=2.3.0->tensorflow) (4.1.1)\n",
            "Requirement already satisfied, skipping upgrade: pyasn1-modules>=0.2.1 in /usr/local/lib/python3.6/dist-packages (from google-auth<2,>=1.6.3->tensorboard<3,>=2.3.0->tensorflow) (0.2.8)\n",
            "Requirement already satisfied, skipping upgrade: requests-oauthlib>=0.7.0 in /usr/local/lib/python3.6/dist-packages (from google-auth-oauthlib<0.5,>=0.4.1->tensorboard<3,>=2.3.0->tensorflow) (1.3.0)\n",
            "Requirement already satisfied, skipping upgrade: chardet<4,>=3.0.2 in /usr/local/lib/python3.6/dist-packages (from requests<3,>=2.21.0->tensorboard<3,>=2.3.0->tensorflow) (3.0.4)\n",
            "Requirement already satisfied, skipping upgrade: certifi>=2017.4.17 in /usr/local/lib/python3.6/dist-packages (from requests<3,>=2.21.0->tensorboard<3,>=2.3.0->tensorflow) (2020.6.20)\n",
            "Requirement already satisfied, skipping upgrade: idna<3,>=2.5 in /usr/local/lib/python3.6/dist-packages (from requests<3,>=2.21.0->tensorboard<3,>=2.3.0->tensorflow) (2.10)\n",
            "Requirement already satisfied, skipping upgrade: urllib3!=1.25.0,!=1.25.1,<1.26,>=1.21.1 in /usr/local/lib/python3.6/dist-packages (from requests<3,>=2.21.0->tensorboard<3,>=2.3.0->tensorflow) (1.24.3)\n",
            "Requirement already satisfied, skipping upgrade: importlib-metadata; python_version < \"3.8\" in /usr/local/lib/python3.6/dist-packages (from markdown>=2.6.8->tensorboard<3,>=2.3.0->tensorflow) (1.7.0)\n",
            "Requirement already satisfied, skipping upgrade: pyasn1>=0.1.3 in /usr/local/lib/python3.6/dist-packages (from rsa<5,>=3.1.4; python_version >= \"3\"->google-auth<2,>=1.6.3->tensorboard<3,>=2.3.0->tensorflow) (0.4.8)\n",
            "Requirement already satisfied, skipping upgrade: oauthlib>=3.0.0 in /usr/local/lib/python3.6/dist-packages (from requests-oauthlib>=0.7.0->google-auth-oauthlib<0.5,>=0.4.1->tensorboard<3,>=2.3.0->tensorflow) (3.1.0)\n",
            "Requirement already satisfied, skipping upgrade: zipp>=0.5 in /usr/local/lib/python3.6/dist-packages (from importlib-metadata; python_version < \"3.8\"->markdown>=2.6.8->tensorboard<3,>=2.3.0->tensorflow) (3.1.0)\n"
          ],
          "name": "stdout"
        }
      ]
    },
    {
      "cell_type": "code",
      "metadata": {
        "id": "USTrO6HiuvVU",
        "colab_type": "code",
        "colab": {
          "base_uri": "https://localhost:8080/",
          "height": 35
        },
        "outputId": "ece8029d-338b-4e03-e930-ee4314b063dc"
      },
      "source": [
        "from google.colab import drive\n",
        "drive.mount('/content/gdrive')"
      ],
      "execution_count": null,
      "outputs": [
        {
          "output_type": "stream",
          "text": [
            "Drive already mounted at /content/gdrive; to attempt to forcibly remount, call drive.mount(\"/content/gdrive\", force_remount=True).\n"
          ],
          "name": "stdout"
        }
      ]
    },
    {
      "cell_type": "code",
      "metadata": {
        "id": "uN6p8P2NvRjs",
        "colab_type": "code",
        "colab": {}
      },
      "source": [
        "import math\n",
        "import pandas as pd\n",
        "import numpy as np\n",
        "import matplotlib.pyplot as plt\n",
        "from sklearn.preprocessing import MinMaxScaler\n",
        "from sklearn.metrics import mean_squared_error\n",
        "from keras.models import Sequential\n",
        "from keras.layers import Dense, LSTM, Dropout"
      ],
      "execution_count": null,
      "outputs": []
    },
    {
      "cell_type": "code",
      "metadata": {
        "id": "5gAh6JrDve3T",
        "colab_type": "code",
        "colab": {}
      },
      "source": [
        "RANDOM_SEED = 42\n",
        "TEST_SIZE = 0.3\n",
        "LOOK_BACK = 1\n",
        "BATCH_SIZE = 1\n",
        "EPOCHS = 100\n",
        "DAYS_TO_PREDICT = 30\n",
        "Location=\"Bangladesh\"\n",
        "Train_case = 'Deaths'"
      ],
      "execution_count": null,
      "outputs": []
    },
    {
      "cell_type": "code",
      "metadata": {
        "id": "sVPD2qbOvoAW",
        "colab_type": "code",
        "colab": {}
      },
      "source": [
        "np.random.seed(RANDOM_SEED)"
      ],
      "execution_count": null,
      "outputs": []
    },
    {
      "cell_type": "code",
      "metadata": {
        "id": "f6kU0XRavrGX",
        "colab_type": "code",
        "colab": {}
      },
      "source": [
        "df=pd.read_csv(\"gdrive/My Drive/Colab Notebooks/Covid-19_BD.csv\")"
      ],
      "execution_count": null,
      "outputs": []
    },
    {
      "cell_type": "code",
      "metadata": {
        "id": "YvtgCfEWvtPc",
        "colab_type": "code",
        "colab": {
          "base_uri": "https://localhost:8080/",
          "height": 202
        },
        "outputId": "f0920173-e6b8-4551-c8a2-9d657c72093f"
      },
      "source": [
        "df.head()"
      ],
      "execution_count": null,
      "outputs": [
        {
          "output_type": "execute_result",
          "data": {
            "text/html": [
              "<div>\n",
              "<style scoped>\n",
              "    .dataframe tbody tr th:only-of-type {\n",
              "        vertical-align: middle;\n",
              "    }\n",
              "\n",
              "    .dataframe tbody tr th {\n",
              "        vertical-align: top;\n",
              "    }\n",
              "\n",
              "    .dataframe thead th {\n",
              "        text-align: right;\n",
              "    }\n",
              "</style>\n",
              "<table border=\"1\" class=\"dataframe\">\n",
              "  <thead>\n",
              "    <tr style=\"text-align: right;\">\n",
              "      <th></th>\n",
              "      <th>Date</th>\n",
              "      <th>Confirmed</th>\n",
              "      <th>Deaths</th>\n",
              "      <th>Recovery</th>\n",
              "    </tr>\n",
              "  </thead>\n",
              "  <tbody>\n",
              "    <tr>\n",
              "      <th>0</th>\n",
              "      <td>2020-03-04</td>\n",
              "      <td>0</td>\n",
              "      <td>0</td>\n",
              "      <td>0</td>\n",
              "    </tr>\n",
              "    <tr>\n",
              "      <th>1</th>\n",
              "      <td>2020-03-05</td>\n",
              "      <td>0</td>\n",
              "      <td>0</td>\n",
              "      <td>0</td>\n",
              "    </tr>\n",
              "    <tr>\n",
              "      <th>2</th>\n",
              "      <td>2020-03-06</td>\n",
              "      <td>0</td>\n",
              "      <td>0</td>\n",
              "      <td>0</td>\n",
              "    </tr>\n",
              "    <tr>\n",
              "      <th>3</th>\n",
              "      <td>2020-03-07</td>\n",
              "      <td>0</td>\n",
              "      <td>0</td>\n",
              "      <td>0</td>\n",
              "    </tr>\n",
              "    <tr>\n",
              "      <th>4</th>\n",
              "      <td>2020-03-08</td>\n",
              "      <td>3</td>\n",
              "      <td>0</td>\n",
              "      <td>0</td>\n",
              "    </tr>\n",
              "  </tbody>\n",
              "</table>\n",
              "</div>"
            ],
            "text/plain": [
              "         Date  Confirmed  Deaths  Recovery\n",
              "0  2020-03-04          0       0         0\n",
              "1  2020-03-05          0       0         0\n",
              "2  2020-03-06          0       0         0\n",
              "3  2020-03-07          0       0         0\n",
              "4  2020-03-08          3       0         0"
            ]
          },
          "metadata": {
            "tags": []
          },
          "execution_count": 73
        }
      ]
    },
    {
      "cell_type": "code",
      "metadata": {
        "id": "jfs0wmsfvw5n",
        "colab_type": "code",
        "colab": {}
      },
      "source": [
        "df.set_index('Date', inplace=True)\n",
        "df.index = pd.to_datetime(df.index)"
      ],
      "execution_count": null,
      "outputs": []
    },
    {
      "cell_type": "code",
      "metadata": {
        "id": "mLZOaOjzvz_u",
        "colab_type": "code",
        "colab": {
          "base_uri": "https://localhost:8080/",
          "height": 233
        },
        "outputId": "7f9ec041-8532-4f2c-d294-b85238e82f55"
      },
      "source": [
        "df.head()"
      ],
      "execution_count": null,
      "outputs": [
        {
          "output_type": "execute_result",
          "data": {
            "text/html": [
              "<div>\n",
              "<style scoped>\n",
              "    .dataframe tbody tr th:only-of-type {\n",
              "        vertical-align: middle;\n",
              "    }\n",
              "\n",
              "    .dataframe tbody tr th {\n",
              "        vertical-align: top;\n",
              "    }\n",
              "\n",
              "    .dataframe thead th {\n",
              "        text-align: right;\n",
              "    }\n",
              "</style>\n",
              "<table border=\"1\" class=\"dataframe\">\n",
              "  <thead>\n",
              "    <tr style=\"text-align: right;\">\n",
              "      <th></th>\n",
              "      <th>Confirmed</th>\n",
              "      <th>Deaths</th>\n",
              "      <th>Recovery</th>\n",
              "    </tr>\n",
              "    <tr>\n",
              "      <th>Date</th>\n",
              "      <th></th>\n",
              "      <th></th>\n",
              "      <th></th>\n",
              "    </tr>\n",
              "  </thead>\n",
              "  <tbody>\n",
              "    <tr>\n",
              "      <th>2020-03-04</th>\n",
              "      <td>0</td>\n",
              "      <td>0</td>\n",
              "      <td>0</td>\n",
              "    </tr>\n",
              "    <tr>\n",
              "      <th>2020-03-05</th>\n",
              "      <td>0</td>\n",
              "      <td>0</td>\n",
              "      <td>0</td>\n",
              "    </tr>\n",
              "    <tr>\n",
              "      <th>2020-03-06</th>\n",
              "      <td>0</td>\n",
              "      <td>0</td>\n",
              "      <td>0</td>\n",
              "    </tr>\n",
              "    <tr>\n",
              "      <th>2020-03-07</th>\n",
              "      <td>0</td>\n",
              "      <td>0</td>\n",
              "      <td>0</td>\n",
              "    </tr>\n",
              "    <tr>\n",
              "      <th>2020-03-08</th>\n",
              "      <td>3</td>\n",
              "      <td>0</td>\n",
              "      <td>0</td>\n",
              "    </tr>\n",
              "  </tbody>\n",
              "</table>\n",
              "</div>"
            ],
            "text/plain": [
              "            Confirmed  Deaths  Recovery\n",
              "Date                                   \n",
              "2020-03-04          0       0         0\n",
              "2020-03-05          0       0         0\n",
              "2020-03-06          0       0         0\n",
              "2020-03-07          0       0         0\n",
              "2020-03-08          3       0         0"
            ]
          },
          "metadata": {
            "tags": []
          },
          "execution_count": 75
        }
      ]
    },
    {
      "cell_type": "code",
      "metadata": {
        "id": "xOfSgrZov2RR",
        "colab_type": "code",
        "colab": {}
      },
      "source": [
        "cases = df.filter([Train_case])\n",
        "cases = cases[(cases.T != 0).any()]"
      ],
      "execution_count": null,
      "outputs": []
    },
    {
      "cell_type": "code",
      "metadata": {
        "id": "vl5W4SmQv6kK",
        "colab_type": "code",
        "colab": {
          "base_uri": "https://localhost:8080/",
          "height": 233
        },
        "outputId": "a3726268-4437-41b3-e388-ab289875c469"
      },
      "source": [
        "cases.head()"
      ],
      "execution_count": null,
      "outputs": [
        {
          "output_type": "execute_result",
          "data": {
            "text/html": [
              "<div>\n",
              "<style scoped>\n",
              "    .dataframe tbody tr th:only-of-type {\n",
              "        vertical-align: middle;\n",
              "    }\n",
              "\n",
              "    .dataframe tbody tr th {\n",
              "        vertical-align: top;\n",
              "    }\n",
              "\n",
              "    .dataframe thead th {\n",
              "        text-align: right;\n",
              "    }\n",
              "</style>\n",
              "<table border=\"1\" class=\"dataframe\">\n",
              "  <thead>\n",
              "    <tr style=\"text-align: right;\">\n",
              "      <th></th>\n",
              "      <th>Deaths</th>\n",
              "    </tr>\n",
              "    <tr>\n",
              "      <th>Date</th>\n",
              "      <th></th>\n",
              "    </tr>\n",
              "  </thead>\n",
              "  <tbody>\n",
              "    <tr>\n",
              "      <th>2020-03-18</th>\n",
              "      <td>1</td>\n",
              "    </tr>\n",
              "    <tr>\n",
              "      <th>2020-03-21</th>\n",
              "      <td>1</td>\n",
              "    </tr>\n",
              "    <tr>\n",
              "      <th>2020-03-23</th>\n",
              "      <td>1</td>\n",
              "    </tr>\n",
              "    <tr>\n",
              "      <th>2020-03-24</th>\n",
              "      <td>1</td>\n",
              "    </tr>\n",
              "    <tr>\n",
              "      <th>2020-03-25</th>\n",
              "      <td>1</td>\n",
              "    </tr>\n",
              "  </tbody>\n",
              "</table>\n",
              "</div>"
            ],
            "text/plain": [
              "            Deaths\n",
              "Date              \n",
              "2020-03-18       1\n",
              "2020-03-21       1\n",
              "2020-03-23       1\n",
              "2020-03-24       1\n",
              "2020-03-25       1"
            ]
          },
          "metadata": {
            "tags": []
          },
          "execution_count": 77
        }
      ]
    },
    {
      "cell_type": "code",
      "metadata": {
        "id": "eIdwBIxmwBr4",
        "colab_type": "code",
        "colab": {
          "base_uri": "https://localhost:8080/",
          "height": 35
        },
        "outputId": "c752352a-4f30-4374-e231-734a3e24977b"
      },
      "source": [
        "cases.shape"
      ],
      "execution_count": null,
      "outputs": [
        {
          "output_type": "execute_result",
          "data": {
            "text/plain": [
              "(44, 1)"
            ]
          },
          "metadata": {
            "tags": []
          },
          "execution_count": 78
        }
      ]
    },
    {
      "cell_type": "code",
      "metadata": {
        "id": "jpPdqnoPwNYr",
        "colab_type": "code",
        "colab": {}
      },
      "source": [
        "def data_split(data, look_back=1):\n",
        "    x, y = [], []\n",
        "    for i in range(len(data) - look_back - 1):\n",
        "        a = data[i:(i + look_back), 0]\n",
        "        x.append(a)\n",
        "        y.append(data[i + look_back, 0])\n",
        "    return np.array(x), np.array(y)"
      ],
      "execution_count": null,
      "outputs": []
    },
    {
      "cell_type": "code",
      "metadata": {
        "id": "n8VUQZrvwP4d",
        "colab_type": "code",
        "colab": {}
      },
      "source": [
        "test_size = TEST_SIZE\n",
        "test_size = int(cases.shape[0] * test_size)\n",
        "train_cases = cases[:-test_size]\n",
        "test_cases = cases[-test_size:]"
      ],
      "execution_count": null,
      "outputs": []
    },
    {
      "cell_type": "code",
      "metadata": {
        "id": "8u-OZTu2wSMm",
        "colab_type": "code",
        "colab": {
          "base_uri": "https://localhost:8080/",
          "height": 35
        },
        "outputId": "2f04f3ae-9397-456f-d8d9-deb432b85f46"
      },
      "source": [
        "train_cases.shape"
      ],
      "execution_count": null,
      "outputs": [
        {
          "output_type": "execute_result",
          "data": {
            "text/plain": [
              "(31, 1)"
            ]
          },
          "metadata": {
            "tags": []
          },
          "execution_count": 81
        }
      ]
    },
    {
      "cell_type": "code",
      "metadata": {
        "id": "emLnxqx9wUmi",
        "colab_type": "code",
        "colab": {
          "base_uri": "https://localhost:8080/",
          "height": 35
        },
        "outputId": "19be5163-2a1f-4b89-94a5-bc4a304fc8ff"
      },
      "source": [
        "test_cases.shape"
      ],
      "execution_count": null,
      "outputs": [
        {
          "output_type": "execute_result",
          "data": {
            "text/plain": [
              "(13, 1)"
            ]
          },
          "metadata": {
            "tags": []
          },
          "execution_count": 82
        }
      ]
    },
    {
      "cell_type": "code",
      "metadata": {
        "id": "m-qLDGiywXUN",
        "colab_type": "code",
        "colab": {}
      },
      "source": [
        "scaler = MinMaxScaler(feature_range=(-1, 1))\n",
        "scaler = scaler.fit(cases)\n",
        "all_cases = scaler.transform(cases)\n",
        "train_cases = scaler.transform(train_cases)\n",
        "test_cases = scaler.transform(test_cases)"
      ],
      "execution_count": null,
      "outputs": []
    },
    {
      "cell_type": "code",
      "metadata": {
        "id": "jckiut1awaWE",
        "colab_type": "code",
        "colab": {
          "base_uri": "https://localhost:8080/",
          "height": 35
        },
        "outputId": "54514e7d-81b6-4029-d2e2-9b5ca319fdf9"
      },
      "source": [
        "all_cases.shape,train_cases.shape,test_cases.shape"
      ],
      "execution_count": null,
      "outputs": [
        {
          "output_type": "execute_result",
          "data": {
            "text/plain": [
              "((44, 1), (31, 1), (13, 1))"
            ]
          },
          "metadata": {
            "tags": []
          },
          "execution_count": 84
        }
      ]
    },
    {
      "cell_type": "code",
      "metadata": {
        "id": "ayj-woMuwc62",
        "colab_type": "code",
        "colab": {}
      },
      "source": [
        "look_back = LOOK_BACK\n",
        "X_all, Y_all = data_split(all_cases, look_back=look_back)\n",
        "X_train, Y_train = data_split(train_cases, look_back=look_back)\n",
        "X_test, Y_test = data_split(test_cases, look_back=look_back)"
      ],
      "execution_count": null,
      "outputs": []
    },
    {
      "cell_type": "code",
      "metadata": {
        "id": "67dfuc-0wkxf",
        "colab_type": "code",
        "colab": {
          "base_uri": "https://localhost:8080/",
          "height": 35
        },
        "outputId": "442bf05f-3335-43b1-9969-4907ad95f06d"
      },
      "source": [
        "X_all.shape,X_train.shape,X_test.shape"
      ],
      "execution_count": null,
      "outputs": [
        {
          "output_type": "execute_result",
          "data": {
            "text/plain": [
              "((42, 1), (29, 1), (11, 1))"
            ]
          },
          "metadata": {
            "tags": []
          },
          "execution_count": 86
        }
      ]
    },
    {
      "cell_type": "code",
      "metadata": {
        "id": "ay8KcC9cwns2",
        "colab_type": "code",
        "colab": {}
      },
      "source": [
        "X_all = np.array(X_all).reshape(X_all.shape[0], 1, 1)\n",
        "Y_all = np.array(Y_all).reshape(Y_all.shape[0], 1)\n",
        "X_train = np.array(X_train).reshape(X_train.shape[0], 1, 1)\n",
        "Y_train = np.array(Y_train).reshape(Y_train.shape[0], 1)\n",
        "X_test = np.array(X_test).reshape(X_test.shape[0], 1, 1)\n",
        "Y_test = np.array(Y_test).reshape(Y_test.shape[0], 1)"
      ],
      "execution_count": null,
      "outputs": []
    },
    {
      "cell_type": "code",
      "metadata": {
        "id": "jqh1Cg8MwqKM",
        "colab_type": "code",
        "colab": {
          "base_uri": "https://localhost:8080/",
          "height": 35
        },
        "outputId": "2b5ad5a0-c103-48e8-fe9f-88360cbd7b49"
      },
      "source": [
        "X_all.shape,Y_all.shape,X_train.shape,Y_train.shape,X_test.shape,Y_test.shape"
      ],
      "execution_count": null,
      "outputs": [
        {
          "output_type": "execute_result",
          "data": {
            "text/plain": [
              "((42, 1, 1), (42, 1), (29, 1, 1), (29, 1), (11, 1, 1), (11, 1))"
            ]
          },
          "metadata": {
            "tags": []
          },
          "execution_count": 88
        }
      ]
    },
    {
      "cell_type": "code",
      "metadata": {
        "id": "UOsXLZ0Nws2W",
        "colab_type": "code",
        "colab": {
          "base_uri": "https://localhost:8080/",
          "height": 277
        },
        "outputId": "68a52e7c-222c-4cee-ec94-4289097068ec"
      },
      "source": [
        "batch_size = BATCH_SIZE\n",
        "model = Sequential()\n",
        "model.add(LSTM(4, return_sequences=True, \n",
        "               batch_input_shape=(batch_size, X_train.shape[1], X_train.shape[2]), \n",
        "               stateful=True))\n",
        "model.add(LSTM(1, stateful=True))\n",
        "model.add(Dense(Y_train.shape[1]))\n",
        "model.compile(loss='mean_squared_error', optimizer='adam')\n",
        "print(model.summary())"
      ],
      "execution_count": null,
      "outputs": [
        {
          "output_type": "stream",
          "text": [
            "Model: \"sequential_1\"\n",
            "_________________________________________________________________\n",
            "Layer (type)                 Output Shape              Param #   \n",
            "=================================================================\n",
            "lstm_2 (LSTM)                (1, 1, 4)                 96        \n",
            "_________________________________________________________________\n",
            "lstm_3 (LSTM)                (1, 1)                    24        \n",
            "_________________________________________________________________\n",
            "dense_1 (Dense)              (1, 1)                    2         \n",
            "=================================================================\n",
            "Total params: 122\n",
            "Trainable params: 122\n",
            "Non-trainable params: 0\n",
            "_________________________________________________________________\n",
            "None\n"
          ],
          "name": "stdout"
        }
      ]
    },
    {
      "cell_type": "code",
      "metadata": {
        "id": "2ioms3aewviH",
        "colab_type": "code",
        "colab": {
          "base_uri": "https://localhost:8080/",
          "height": 422
        },
        "outputId": "c03b2ffa-f4ee-458b-9717-c0876bc23641"
      },
      "source": [
        "from tensorflow.keras.utils import plot_model\n",
        "plot_model(model, to_file='model.png', show_shapes=True)"
      ],
      "execution_count": null,
      "outputs": [
        {
          "output_type": "execute_result",
          "data": {
            "image/png": "[encoded data removed]",
            "text/plain": [
              "<IPython.core.display.Image object>"
            ]
          },
          "metadata": {
            "tags": []
          },
          "execution_count": 90
        }
      ]
    },
    {
      "cell_type": "code",
      "metadata": {
        "id": "WiT5hwrfwyTI",
        "colab_type": "code",
        "colab": {
          "base_uri": "https://localhost:8080/",
          "height": 1000
        },
        "outputId": "8d713158-93f7-42d2-a0db-e0c207824566"
      },
      "source": [
        "epoch = EPOCHS\n",
        "loss = []\n",
        "for i in range(epoch):\n",
        "    print('Iteration ' + str(i + 1) + '/' + str(epoch))\n",
        "    model.fit(X_train, Y_train, batch_size=batch_size, \n",
        "              epochs=1, verbose=1, shuffle=False)\n",
        "    h = model.history\n",
        "    loss.append(h.history['loss'][0])\n",
        "    model.reset_states()"
      ],
      "execution_count": null,
      "outputs": [
        {
          "output_type": "stream",
          "text": [
            "Iteration 1/100\n",
            "29/29 [==============================] - 0s 2ms/step - loss: 0.3656\n",
            "Iteration 2/100\n",
            "29/29 [==============================] - 0s 2ms/step - loss: 0.3460\n",
            "Iteration 3/100\n",
            "29/29 [==============================] - 0s 2ms/step - loss: 0.3299\n",
            "Iteration 4/100\n",
            "29/29 [==============================] - 0s 2ms/step - loss: 0.3160\n",
            "Iteration 5/100\n",
            "29/29 [==============================] - 0s 2ms/step - loss: 0.3046\n",
            "Iteration 6/100\n",
            "29/29 [==============================] - 0s 2ms/step - loss: 0.2956\n",
            "Iteration 7/100\n",
            "29/29 [==============================] - 0s 2ms/step - loss: 0.2887\n",
            "Iteration 8/100\n",
            "29/29 [==============================] - 0s 2ms/step - loss: 0.2834\n",
            "Iteration 9/100\n",
            "29/29 [==============================] - 0s 2ms/step - loss: 0.2792\n",
            "Iteration 10/100\n",
            "29/29 [==============================] - 0s 2ms/step - loss: 0.2759\n",
            "Iteration 11/100\n",
            "29/29 [==============================] - 0s 2ms/step - loss: 0.2731\n",
            "Iteration 12/100\n",
            "29/29 [==============================] - 0s 2ms/step - loss: 0.2707\n",
            "Iteration 13/100\n",
            "29/29 [==============================] - 0s 2ms/step - loss: 0.2686\n",
            "Iteration 14/100\n",
            "29/29 [==============================] - 0s 2ms/step - loss: 0.2665\n",
            "Iteration 15/100\n",
            "29/29 [==============================] - 0s 2ms/step - loss: 0.2646\n",
            "Iteration 16/100\n",
            "29/29 [==============================] - 0s 2ms/step - loss: 0.2627\n",
            "Iteration 17/100\n",
            "29/29 [==============================] - 0s 2ms/step - loss: 0.2607\n",
            "Iteration 18/100\n",
            "29/29 [==============================] - 0s 2ms/step - loss: 0.2587\n",
            "Iteration 19/100\n",
            "29/29 [==============================] - 0s 2ms/step - loss: 0.2567\n",
            "Iteration 20/100\n",
            "29/29 [==============================] - 0s 2ms/step - loss: 0.2546\n",
            "Iteration 21/100\n",
            "29/29 [==============================] - 0s 2ms/step - loss: 0.2524\n",
            "Iteration 22/100\n",
            "29/29 [==============================] - 0s 2ms/step - loss: 0.2502\n",
            "Iteration 23/100\n",
            "29/29 [==============================] - 0s 2ms/step - loss: 0.2480\n",
            "Iteration 24/100\n",
            "29/29 [==============================] - 0s 2ms/step - loss: 0.2457\n",
            "Iteration 25/100\n",
            "29/29 [==============================] - 0s 2ms/step - loss: 0.2434\n",
            "Iteration 26/100\n",
            "29/29 [==============================] - 0s 2ms/step - loss: 0.2411\n",
            "Iteration 27/100\n",
            "29/29 [==============================] - 0s 2ms/step - loss: 0.2387\n",
            "Iteration 28/100\n",
            "29/29 [==============================] - 0s 2ms/step - loss: 0.2364\n",
            "Iteration 29/100\n",
            "29/29 [==============================] - 0s 2ms/step - loss: 0.2340\n",
            "Iteration 30/100\n",
            "29/29 [==============================] - 0s 2ms/step - loss: 0.2316\n",
            "Iteration 31/100\n",
            "29/29 [==============================] - 0s 2ms/step - loss: 0.2292\n",
            "Iteration 32/100\n",
            "29/29 [==============================] - 0s 2ms/step - loss: 0.2267\n",
            "Iteration 33/100\n",
            "29/29 [==============================] - 0s 2ms/step - loss: 0.2242\n",
            "Iteration 34/100\n",
            "29/29 [==============================] - 0s 2ms/step - loss: 0.2216\n",
            "Iteration 35/100\n",
            "29/29 [==============================] - 0s 2ms/step - loss: 0.2189\n",
            "Iteration 36/100\n",
            "29/29 [==============================] - 0s 2ms/step - loss: 0.2161\n",
            "Iteration 37/100\n",
            "29/29 [==============================] - 0s 2ms/step - loss: 0.2131\n",
            "Iteration 38/100\n",
            "29/29 [==============================] - 0s 2ms/step - loss: 0.2099\n",
            "Iteration 39/100\n",
            "29/29 [==============================] - 0s 2ms/step - loss: 0.2064\n",
            "Iteration 40/100\n",
            "29/29 [==============================] - 0s 2ms/step - loss: 0.2025\n",
            "Iteration 41/100\n",
            "29/29 [==============================] - 0s 2ms/step - loss: 0.1984\n",
            "Iteration 42/100\n",
            "29/29 [==============================] - 0s 2ms/step - loss: 0.1939\n",
            "Iteration 43/100\n",
            "29/29 [==============================] - 0s 2ms/step - loss: 0.1893\n",
            "Iteration 44/100\n",
            "29/29 [==============================] - 0s 2ms/step - loss: 0.1846\n",
            "Iteration 45/100\n",
            "29/29 [==============================] - 0s 2ms/step - loss: 0.1799\n",
            "Iteration 46/100\n",
            "29/29 [==============================] - 0s 2ms/step - loss: 0.1755\n",
            "Iteration 47/100\n",
            "29/29 [==============================] - 0s 2ms/step - loss: 0.1712\n",
            "Iteration 48/100\n",
            "29/29 [==============================] - 0s 2ms/step - loss: 0.1672\n",
            "Iteration 49/100\n",
            "29/29 [==============================] - 0s 2ms/step - loss: 0.1636\n",
            "Iteration 50/100\n",
            "29/29 [==============================] - 0s 2ms/step - loss: 0.1603\n",
            "Iteration 51/100\n",
            "29/29 [==============================] - 0s 2ms/step - loss: 0.1574\n",
            "Iteration 52/100\n",
            "29/29 [==============================] - 0s 2ms/step - loss: 0.1548\n",
            "Iteration 53/100\n",
            "29/29 [==============================] - 0s 2ms/step - loss: 0.1525\n",
            "Iteration 54/100\n",
            "29/29 [==============================] - 0s 2ms/step - loss: 0.1504\n",
            "Iteration 55/100\n",
            "29/29 [==============================] - 0s 2ms/step - loss: 0.1485\n",
            "Iteration 56/100\n",
            "29/29 [==============================] - 0s 2ms/step - loss: 0.1467\n",
            "Iteration 57/100\n",
            "29/29 [==============================] - 0s 2ms/step - loss: 0.1450\n",
            "Iteration 58/100\n",
            "29/29 [==============================] - 0s 2ms/step - loss: 0.1433\n",
            "Iteration 59/100\n",
            "29/29 [==============================] - 0s 2ms/step - loss: 0.1417\n",
            "Iteration 60/100\n",
            "29/29 [==============================] - 0s 2ms/step - loss: 0.1400\n",
            "Iteration 61/100\n",
            "29/29 [==============================] - 0s 2ms/step - loss: 0.1384\n",
            "Iteration 62/100\n",
            "29/29 [==============================] - 0s 2ms/step - loss: 0.1366\n",
            "Iteration 63/100\n",
            "29/29 [==============================] - 0s 2ms/step - loss: 0.1347\n",
            "Iteration 64/100\n",
            "29/29 [==============================] - 0s 2ms/step - loss: 0.1328\n",
            "Iteration 65/100\n",
            "29/29 [==============================] - 0s 2ms/step - loss: 0.1311\n",
            "Iteration 66/100\n",
            "29/29 [==============================] - 0s 2ms/step - loss: 0.1295\n",
            "Iteration 67/100\n",
            "29/29 [==============================] - 0s 2ms/step - loss: 0.1281\n",
            "Iteration 68/100\n",
            "29/29 [==============================] - 0s 2ms/step - loss: 0.1268\n",
            "Iteration 69/100\n",
            "29/29 [==============================] - 0s 2ms/step - loss: 0.1257\n",
            "Iteration 70/100\n",
            "29/29 [==============================] - 0s 2ms/step - loss: 0.1246\n",
            "Iteration 71/100\n",
            "29/29 [==============================] - 0s 2ms/step - loss: 0.1236\n",
            "Iteration 72/100\n",
            "29/29 [==============================] - 0s 2ms/step - loss: 0.1227\n",
            "Iteration 73/100\n",
            "29/29 [==============================] - 0s 2ms/step - loss: 0.1219\n",
            "Iteration 74/100\n",
            "29/29 [==============================] - 0s 2ms/step - loss: 0.1211\n",
            "Iteration 75/100\n",
            "29/29 [==============================] - 0s 2ms/step - loss: 0.1204\n",
            "Iteration 76/100\n",
            "29/29 [==============================] - 0s 2ms/step - loss: 0.1197\n",
            "Iteration 77/100\n",
            "29/29 [==============================] - 0s 2ms/step - loss: 0.1191\n",
            "Iteration 78/100\n",
            "29/29 [==============================] - 0s 2ms/step - loss: 0.1186\n",
            "Iteration 79/100\n",
            "29/29 [==============================] - 0s 2ms/step - loss: 0.1181\n",
            "Iteration 80/100\n",
            "29/29 [==============================] - 0s 2ms/step - loss: 0.1177\n",
            "Iteration 81/100\n",
            "29/29 [==============================] - 0s 2ms/step - loss: 0.1173\n",
            "Iteration 82/100\n",
            "29/29 [==============================] - 0s 2ms/step - loss: 0.1169\n",
            "Iteration 83/100\n",
            "29/29 [==============================] - 0s 2ms/step - loss: 0.1166\n",
            "Iteration 84/100\n",
            "29/29 [==============================] - 0s 2ms/step - loss: 0.1164\n",
            "Iteration 85/100\n",
            "29/29 [==============================] - 0s 2ms/step - loss: 0.1161\n",
            "Iteration 86/100\n",
            "29/29 [==============================] - 0s 2ms/step - loss: 0.1159\n",
            "Iteration 87/100\n",
            "29/29 [==============================] - 0s 2ms/step - loss: 0.1158\n",
            "Iteration 88/100\n",
            "29/29 [==============================] - 0s 2ms/step - loss: 0.1156\n",
            "Iteration 89/100\n",
            "29/29 [==============================] - 0s 2ms/step - loss: 0.1155\n",
            "Iteration 90/100\n",
            "29/29 [==============================] - 0s 2ms/step - loss: 0.1154\n",
            "Iteration 91/100\n",
            "29/29 [==============================] - 0s 2ms/step - loss: 0.1153\n",
            "Iteration 92/100\n",
            "29/29 [==============================] - 0s 2ms/step - loss: 0.1153\n",
            "Iteration 93/100\n",
            "29/29 [==============================] - 0s 3ms/step - loss: 0.1153\n",
            "Iteration 94/100\n",
            "29/29 [==============================] - 0s 2ms/step - loss: 0.1153\n",
            "Iteration 95/100\n",
            "29/29 [==============================] - 0s 2ms/step - loss: 0.1153\n",
            "Iteration 96/100\n",
            "29/29 [==============================] - 0s 2ms/step - loss: 0.1153\n",
            "Iteration 97/100\n",
            "29/29 [==============================] - 0s 2ms/step - loss: 0.1153\n",
            "Iteration 98/100\n",
            "29/29 [==============================] - 0s 2ms/step - loss: 0.1154\n",
            "Iteration 99/100\n",
            "29/29 [==============================] - 0s 2ms/step - loss: 0.1155\n",
            "Iteration 100/100\n",
            "29/29 [==============================] - 0s 2ms/step - loss: 0.1156\n"
          ],
          "name": "stdout"
        }
      ]
    },
    {
      "cell_type": "code",
      "metadata": {
        "id": "2xSkUDsrw1WO",
        "colab_type": "code",
        "colab": {
          "base_uri": "https://localhost:8080/",
          "height": 306
        },
        "outputId": "7a3c81e4-ec50-49bf-d52b-afd607737594"
      },
      "source": [
        "plt.figure(figsize=(6,4),dpi=86)\n",
        "plt.plot(loss, label='loss',color='Maroon',linewidth=2.5)\n",
        "plt.title('Model Loss History',fontsize=8,fontweight='bold')\n",
        "plt.xlabel('epoch',fontsize=8,fontweight='bold')\n",
        "plt.ylabel('loss',fontsize=8,fontweight='bold')\n",
        "plt.legend(prop={\"size\":8})\n",
        "plt.tight_layout(3)\n",
        "plt.show()"
      ],
      "execution_count": null,
      "outputs": [
        {
          "output_type": "display_data",
          "data": {
            "image/png": "[encoded data removed]",
            "text/plain": [
              "<Figure size 516x344 with 1 Axes>"
            ]
          },
          "metadata": {
            "tags": [],
            "needs_background": "light"
          }
        }
      ]
    },
    {
      "cell_type": "code",
      "metadata": {
        "id": "G6_6pXYXw7bM",
        "colab_type": "code",
        "colab": {}
      },
      "source": [
        "train_predict = model.predict(X_train, batch_size=batch_size)\n",
        "\n",
        "days_to_predict = X_test.shape[0]\n",
        "test_predict = []\n",
        "pred_samples = train_predict[-1:]\n",
        "pred_samples = np.array([pred_samples])\n",
        "for i in range(days_to_predict):\n",
        "    pred = model.predict(X_test[i:(i+1)], batch_size=batch_size)\n",
        "    pred = np.array(pred).flatten()\n",
        "    test_predict.append(pred)\n",
        "test_predict = np.array(test_predict).reshape(1, len(test_predict), 1)"
      ],
      "execution_count": null,
      "outputs": []
    },
    {
      "cell_type": "code",
      "metadata": {
        "id": "8icYLKx5w-cb",
        "colab_type": "code",
        "colab": {}
      },
      "source": [
        "model.reset_states()"
      ],
      "execution_count": null,
      "outputs": []
    },
    {
      "cell_type": "code",
      "metadata": {
        "id": "ff3j0a1bxFvG",
        "colab_type": "code",
        "colab": {}
      },
      "source": [
        "X_train_flatten = np.array(scaler.inverse_transform(\n",
        "    np.array(X_train).reshape(X_train.shape[0], 1)\n",
        ")).flatten().astype('int')\n",
        "Y_train_flatten = np.array(scaler.inverse_transform(\n",
        "    np.array(Y_train).reshape(Y_train.shape[0], 1)\n",
        ")).flatten().astype('int')\n",
        "train_predict_flatten = np.array(scaler.inverse_transform(\n",
        "    np.array(train_predict).reshape(train_predict.shape[0], 1)\n",
        ")).flatten().astype('int')\n",
        "X_test_flatten = np.array(scaler.inverse_transform(\n",
        "    np.array(X_test).reshape(X_test.shape[0], 1)\n",
        ")).flatten().astype('int')\n",
        "Y_test_flatten = np.array(scaler.inverse_transform(\n",
        "    np.array(Y_test).reshape(Y_test.shape[0], 1)\n",
        ")).flatten().astype('int')\n",
        "test_predict_flatten = np.array(scaler.inverse_transform(\n",
        "    np.array(test_predict).reshape(test_predict.shape[1], 1)\n",
        ")).flatten().astype('int')"
      ],
      "execution_count": null,
      "outputs": []
    },
    {
      "cell_type": "code",
      "metadata": {
        "id": "93eFnMD5xI1W",
        "colab_type": "code",
        "colab": {}
      },
      "source": [
        "train_predict_score = math.sqrt(\n",
        "    mean_squared_error(\n",
        "        Y_train_flatten, \n",
        "        train_predict_flatten\n",
        "    )\n",
        ")\n",
        "test_predict_score = math.sqrt(\n",
        "    mean_squared_error(\n",
        "        Y_test_flatten, \n",
        "        test_predict_flatten\n",
        "    )\n",
        ")"
      ],
      "execution_count": null,
      "outputs": []
    },
    {
      "cell_type": "code",
      "metadata": {
        "id": "dKxxMf4pxLx_",
        "colab_type": "code",
        "colab": {
          "base_uri": "https://localhost:8080/",
          "height": 35
        },
        "outputId": "e4c4f752-153f-4d48-a3b2-6962b61ffb64"
      },
      "source": [
        "'Train Score: %.2f RMSE' % (train_predict_score)"
      ],
      "execution_count": null,
      "outputs": [
        {
          "output_type": "execute_result",
          "data": {
            "application/vnd.google.colaboratory.intrinsic+json": {
              "type": "string"
            },
            "text/plain": [
              "'Train Score: 2.55 RMSE'"
            ]
          },
          "metadata": {
            "tags": []
          },
          "execution_count": 97
        }
      ]
    },
    {
      "cell_type": "code",
      "metadata": {
        "id": "0eGBT4hpxOqg",
        "colab_type": "code",
        "colab": {
          "base_uri": "https://localhost:8080/",
          "height": 35
        },
        "outputId": "dbf783cb-c926-46e7-b285-cfd42a894f5a"
      },
      "source": [
        "'Test Score: %.2f RMSE' % (test_predict_score)"
      ],
      "execution_count": null,
      "outputs": [
        {
          "output_type": "execute_result",
          "data": {
            "application/vnd.google.colaboratory.intrinsic+json": {
              "type": "string"
            },
            "text/plain": [
              "'Test Score: 4.12 RMSE'"
            ]
          },
          "metadata": {
            "tags": []
          },
          "execution_count": 98
        }
      ]
    },
    {
      "cell_type": "code",
      "metadata": {
        "id": "XmMcQwUBxRQw",
        "colab_type": "code",
        "colab": {
          "base_uri": "https://localhost:8080/",
          "height": 353
        },
        "outputId": "b7515a63-23cf-425a-a9af-0492ab342fb1"
      },
      "source": [
        "plt.figure(figsize=(8, 5))\n",
        "plt.figure(dpi= 86)\n",
        "plt.plot(\n",
        "    cases.index[:len(X_train_flatten)],\n",
        "    X_train_flatten,\n",
        "    label='train (true value)',\n",
        "    linewidth=2.5\n",
        ")\n",
        "plt.plot(\n",
        "    cases.index[:len(train_predict_flatten)],\n",
        "    train_predict_flatten,\n",
        "    label='train (predict value)',\n",
        "    linewidth=2.5\n",
        ")\n",
        "plt.plot(\n",
        "    cases.index[len(X_train_flatten):len(X_train_flatten) + len(X_test_flatten)],\n",
        "    X_test_flatten,\n",
        "    label='test (true value)',\n",
        "    linewidth=2.5\n",
        ")\n",
        "plt.plot(\n",
        "    cases.index[len(X_train_flatten):len(X_train_flatten) + len(test_predict_flatten)],\n",
        "    test_predict_flatten,\n",
        "    label='test (predict value)',\n",
        "    linewidth=2.5\n",
        ")\n",
        "plt.suptitle('Historical Training Test Based on Deaths in Bangladesh',fontsize=8,fontweight='bold')\n",
        "plt.xlabel('Date',fontsize=8,fontweight='bold')\n",
        "plt.ylabel('Deaths',fontsize=8,fontweight='bold')\n",
        "plt.xticks(rotation=70)\n",
        "plt.legend(prop={\"size\":8})\n",
        "plt.tight_layout(3)\n",
        "plt.show()"
      ],
      "execution_count": null,
      "outputs": [
        {
          "output_type": "display_data",
          "data": {
            "text/plain": [
              "<Figure size 576x360 with 0 Axes>"
            ]
          },
          "metadata": {
            "tags": []
          }
        },
        {
          "output_type": "display_data",
          "data": {
            "image/png": "[encoded data removed]",
            "text/plain": [
              "<Figure size 516x344 with 1 Axes>"
            ]
          },
          "metadata": {
            "tags": [],
            "needs_background": "light"
          }
        }
      ]
    },
    {
      "cell_type": "code",
      "metadata": {
        "id": "ywhFm81_xUfZ",
        "colab_type": "code",
        "colab": {}
      },
      "source": [
        "model.reset_states()"
      ],
      "execution_count": null,
      "outputs": []
    },
    {
      "cell_type": "code",
      "metadata": {
        "id": "nTqrx2nSxe4N",
        "colab_type": "code",
        "colab": {
          "base_uri": "https://localhost:8080/",
          "height": 1000
        },
        "outputId": "834b9a3c-833b-47d7-c3db-0a274458d6ae"
      },
      "source": [
        "epoch = EPOCHS\n",
        "loss = []\n",
        "for i in range(epoch):\n",
        "    print('Iteration ' + str(i + 1) + '/' + str(epoch))\n",
        "    model.fit(X_all, Y_all, batch_size=batch_size, \n",
        "              epochs=1, verbose=1, shuffle=False)\n",
        "    h = model.history\n",
        "    loss.append(h.history['loss'][0])\n",
        "    model.reset_states()"
      ],
      "execution_count": null,
      "outputs": [
        {
          "output_type": "stream",
          "text": [
            "Iteration 1/100\n",
            "42/42 [==============================] - 0s 2ms/step - loss: 0.1702\n",
            "Iteration 2/100\n",
            "42/42 [==============================] - 0s 2ms/step - loss: 0.1715\n",
            "Iteration 3/100\n",
            "42/42 [==============================] - 0s 2ms/step - loss: 0.1730\n",
            "Iteration 4/100\n",
            "42/42 [==============================] - 0s 2ms/step - loss: 0.1745\n",
            "Iteration 5/100\n",
            "42/42 [==============================] - 0s 2ms/step - loss: 0.1763\n",
            "Iteration 6/100\n",
            "42/42 [==============================] - 0s 2ms/step - loss: 0.1781\n",
            "Iteration 7/100\n",
            "42/42 [==============================] - 0s 2ms/step - loss: 0.1798\n",
            "Iteration 8/100\n",
            "42/42 [==============================] - 0s 2ms/step - loss: 0.1813\n",
            "Iteration 9/100\n",
            "42/42 [==============================] - 0s 2ms/step - loss: 0.1827\n",
            "Iteration 10/100\n",
            "42/42 [==============================] - 0s 2ms/step - loss: 0.1839\n",
            "Iteration 11/100\n",
            "42/42 [==============================] - 0s 2ms/step - loss: 0.1850\n",
            "Iteration 12/100\n",
            "42/42 [==============================] - 0s 2ms/step - loss: 0.1859\n",
            "Iteration 13/100\n",
            "42/42 [==============================] - 0s 2ms/step - loss: 0.1867\n",
            "Iteration 14/100\n",
            "42/42 [==============================] - 0s 2ms/step - loss: 0.1873\n",
            "Iteration 15/100\n",
            "42/42 [==============================] - 0s 2ms/step - loss: 0.1879\n",
            "Iteration 16/100\n",
            "42/42 [==============================] - 0s 2ms/step - loss: 0.1884\n",
            "Iteration 17/100\n",
            "42/42 [==============================] - 0s 2ms/step - loss: 0.1888\n",
            "Iteration 18/100\n",
            "42/42 [==============================] - 0s 2ms/step - loss: 0.1891\n",
            "Iteration 19/100\n",
            "42/42 [==============================] - 0s 2ms/step - loss: 0.1893\n",
            "Iteration 20/100\n",
            "42/42 [==============================] - 0s 2ms/step - loss: 0.1895\n",
            "Iteration 21/100\n",
            "42/42 [==============================] - 0s 2ms/step - loss: 0.1897\n",
            "Iteration 22/100\n",
            "42/42 [==============================] - 0s 2ms/step - loss: 0.1898\n",
            "Iteration 23/100\n",
            "42/42 [==============================] - 0s 2ms/step - loss: 0.1899\n",
            "Iteration 24/100\n",
            "42/42 [==============================] - 0s 2ms/step - loss: 0.1899\n",
            "Iteration 25/100\n",
            "42/42 [==============================] - 0s 2ms/step - loss: 0.1900\n",
            "Iteration 26/100\n",
            "42/42 [==============================] - 0s 2ms/step - loss: 0.1899\n",
            "Iteration 27/100\n",
            "42/42 [==============================] - 0s 2ms/step - loss: 0.1899\n",
            "Iteration 28/100\n",
            "42/42 [==============================] - 0s 2ms/step - loss: 0.1898\n",
            "Iteration 29/100\n",
            "42/42 [==============================] - 0s 2ms/step - loss: 0.1897\n",
            "Iteration 30/100\n",
            "42/42 [==============================] - 0s 2ms/step - loss: 0.1896\n",
            "Iteration 31/100\n",
            "42/42 [==============================] - 0s 2ms/step - loss: 0.1895\n",
            "Iteration 32/100\n",
            "42/42 [==============================] - 0s 2ms/step - loss: 0.1893\n",
            "Iteration 33/100\n",
            "42/42 [==============================] - 0s 2ms/step - loss: 0.1891\n",
            "Iteration 34/100\n",
            "42/42 [==============================] - 0s 2ms/step - loss: 0.1889\n",
            "Iteration 35/100\n",
            "42/42 [==============================] - 0s 2ms/step - loss: 0.1887\n",
            "Iteration 36/100\n",
            "42/42 [==============================] - 0s 2ms/step - loss: 0.1885\n",
            "Iteration 37/100\n",
            "42/42 [==============================] - 0s 2ms/step - loss: 0.1882\n",
            "Iteration 38/100\n",
            "42/42 [==============================] - 0s 2ms/step - loss: 0.1879\n",
            "Iteration 39/100\n",
            "42/42 [==============================] - 0s 2ms/step - loss: 0.1876\n",
            "Iteration 40/100\n",
            "42/42 [==============================] - 0s 2ms/step - loss: 0.1873\n",
            "Iteration 41/100\n",
            "42/42 [==============================] - 0s 2ms/step - loss: 0.1870\n",
            "Iteration 42/100\n",
            "42/42 [==============================] - 0s 2ms/step - loss: 0.1867\n",
            "Iteration 43/100\n",
            "42/42 [==============================] - 0s 2ms/step - loss: 0.1863\n",
            "Iteration 44/100\n",
            "42/42 [==============================] - 0s 2ms/step - loss: 0.1859\n",
            "Iteration 45/100\n",
            "42/42 [==============================] - 0s 2ms/step - loss: 0.1855\n",
            "Iteration 46/100\n",
            "42/42 [==============================] - 0s 2ms/step - loss: 0.1851\n",
            "Iteration 47/100\n",
            "42/42 [==============================] - 0s 2ms/step - loss: 0.1847\n",
            "Iteration 48/100\n",
            "42/42 [==============================] - 0s 2ms/step - loss: 0.1843\n",
            "Iteration 49/100\n",
            "42/42 [==============================] - 0s 2ms/step - loss: 0.1838\n",
            "Iteration 50/100\n",
            "42/42 [==============================] - 0s 2ms/step - loss: 0.1833\n",
            "Iteration 51/100\n",
            "42/42 [==============================] - 0s 2ms/step - loss: 0.1829\n",
            "Iteration 52/100\n",
            "42/42 [==============================] - 0s 2ms/step - loss: 0.1824\n",
            "Iteration 53/100\n",
            "42/42 [==============================] - 0s 2ms/step - loss: 0.1819\n",
            "Iteration 54/100\n",
            "42/42 [==============================] - 0s 2ms/step - loss: 0.1814\n",
            "Iteration 55/100\n",
            "42/42 [==============================] - 0s 2ms/step - loss: 0.1808\n",
            "Iteration 56/100\n",
            "42/42 [==============================] - 0s 2ms/step - loss: 0.1803\n",
            "Iteration 57/100\n",
            "42/42 [==============================] - 0s 2ms/step - loss: 0.1798\n",
            "Iteration 58/100\n",
            "42/42 [==============================] - 0s 2ms/step - loss: 0.1792\n",
            "Iteration 59/100\n",
            "42/42 [==============================] - 0s 2ms/step - loss: 0.1787\n",
            "Iteration 60/100\n",
            "42/42 [==============================] - 0s 2ms/step - loss: 0.1782\n",
            "Iteration 61/100\n",
            "42/42 [==============================] - 0s 2ms/step - loss: 0.1776\n",
            "Iteration 62/100\n",
            "42/42 [==============================] - 0s 2ms/step - loss: 0.1771\n",
            "Iteration 63/100\n",
            "42/42 [==============================] - 0s 2ms/step - loss: 0.1766\n",
            "Iteration 64/100\n",
            "42/42 [==============================] - 0s 2ms/step - loss: 0.1761\n",
            "Iteration 65/100\n",
            "42/42 [==============================] - 0s 2ms/step - loss: 0.1756\n",
            "Iteration 66/100\n",
            "42/42 [==============================] - 0s 2ms/step - loss: 0.1751\n",
            "Iteration 67/100\n",
            "42/42 [==============================] - 0s 2ms/step - loss: 0.1746\n",
            "Iteration 68/100\n",
            "42/42 [==============================] - 0s 3ms/step - loss: 0.1742\n",
            "Iteration 69/100\n",
            "42/42 [==============================] - 0s 2ms/step - loss: 0.1737\n",
            "Iteration 70/100\n",
            "42/42 [==============================] - 0s 2ms/step - loss: 0.1733\n",
            "Iteration 71/100\n",
            "42/42 [==============================] - 0s 2ms/step - loss: 0.1729\n",
            "Iteration 72/100\n",
            "42/42 [==============================] - 0s 2ms/step - loss: 0.1726\n",
            "Iteration 73/100\n",
            "42/42 [==============================] - 0s 2ms/step - loss: 0.1723\n",
            "Iteration 74/100\n",
            "42/42 [==============================] - 0s 2ms/step - loss: 0.1719\n",
            "Iteration 75/100\n",
            "42/42 [==============================] - 0s 2ms/step - loss: 0.1717\n",
            "Iteration 76/100\n",
            "42/42 [==============================] - 0s 2ms/step - loss: 0.1714\n",
            "Iteration 77/100\n",
            "42/42 [==============================] - 0s 2ms/step - loss: 0.1712\n",
            "Iteration 78/100\n",
            "42/42 [==============================] - 0s 2ms/step - loss: 0.1710\n",
            "Iteration 79/100\n",
            "42/42 [==============================] - 0s 2ms/step - loss: 0.1708\n",
            "Iteration 80/100\n",
            "42/42 [==============================] - 0s 2ms/step - loss: 0.1706\n",
            "Iteration 81/100\n",
            "42/42 [==============================] - 0s 2ms/step - loss: 0.1704\n",
            "Iteration 82/100\n",
            "42/42 [==============================] - 0s 2ms/step - loss: 0.1703\n",
            "Iteration 83/100\n",
            "42/42 [==============================] - 0s 2ms/step - loss: 0.1702\n",
            "Iteration 84/100\n",
            "42/42 [==============================] - 0s 2ms/step - loss: 0.1700\n",
            "Iteration 85/100\n",
            "42/42 [==============================] - 0s 2ms/step - loss: 0.1699\n",
            "Iteration 86/100\n",
            "42/42 [==============================] - 0s 2ms/step - loss: 0.1698\n",
            "Iteration 87/100\n",
            "42/42 [==============================] - 0s 2ms/step - loss: 0.1698\n",
            "Iteration 88/100\n",
            "42/42 [==============================] - 0s 2ms/step - loss: 0.1697\n",
            "Iteration 89/100\n",
            "42/42 [==============================] - 0s 2ms/step - loss: 0.1696\n",
            "Iteration 90/100\n",
            "42/42 [==============================] - 0s 2ms/step - loss: 0.1695\n",
            "Iteration 91/100\n",
            "42/42 [==============================] - 0s 2ms/step - loss: 0.1694\n",
            "Iteration 92/100\n",
            "42/42 [==============================] - 0s 2ms/step - loss: 0.1693\n",
            "Iteration 93/100\n",
            "42/42 [==============================] - 0s 2ms/step - loss: 0.1693\n",
            "Iteration 94/100\n",
            "42/42 [==============================] - 0s 2ms/step - loss: 0.1692\n",
            "Iteration 95/100\n",
            "42/42 [==============================] - 0s 2ms/step - loss: 0.1691\n",
            "Iteration 96/100\n",
            "42/42 [==============================] - 0s 2ms/step - loss: 0.1690\n",
            "Iteration 97/100\n",
            "42/42 [==============================] - 0s 2ms/step - loss: 0.1689\n",
            "Iteration 98/100\n",
            "42/42 [==============================] - 0s 2ms/step - loss: 0.1689\n",
            "Iteration 99/100\n",
            "42/42 [==============================] - 0s 2ms/step - loss: 0.1688\n",
            "Iteration 100/100\n",
            "42/42 [==============================] - 0s 2ms/step - loss: 0.1687\n"
          ],
          "name": "stdout"
        }
      ]
    },
    {
      "cell_type": "code",
      "metadata": {
        "id": "3jdyZjIDxhDU",
        "colab_type": "code",
        "colab": {
          "base_uri": "https://localhost:8080/",
          "height": 306
        },
        "outputId": "d1835f3e-496f-43da-f568-83828b730552"
      },
      "source": [
        "plt.figure(figsize=(6,4),dpi=86)\n",
        "plt.plot(loss, label='loss',color='Maroon',linewidth=2.5)\n",
        "plt.title('Model Loss History',fontsize=8,fontweight='bold')\n",
        "plt.xlabel('epoch',fontsize=8,fontweight='bold')\n",
        "plt.ylabel('loss',fontsize=8,fontweight='bold')\n",
        "plt.legend(prop={\"size\":8})\n",
        "plt.tight_layout(3)\n",
        "plt.show()"
      ],
      "execution_count": null,
      "outputs": [
        {
          "output_type": "display_data",
          "data": {
            "image/png": "[encoded data removed]",
            "text/plain": [
              "<Figure size 516x344 with 1 Axes>"
            ]
          },
          "metadata": {
            "tags": [],
            "needs_background": "light"
          }
        }
      ]
    },
    {
      "cell_type": "code",
      "metadata": {
        "id": "Pec1DcuOxnNW",
        "colab_type": "code",
        "colab": {}
      },
      "source": [
        "all_predict = model.predict(X_all, batch_size=batch_size)"
      ],
      "execution_count": null,
      "outputs": []
    },
    {
      "cell_type": "code",
      "metadata": {
        "id": "h27k0Kz9xycT",
        "colab_type": "code",
        "colab": {}
      },
      "source": [
        "days_to_predict = DAYS_TO_PREDICT\n",
        "future_predict = []\n",
        "pred_samples = all_predict[-1:]\n",
        "pred_samples = np.array([pred_samples])\n",
        "for i in range(days_to_predict):\n",
        "    pred = model.predict(pred_samples, batch_size=batch_size)\n",
        "    pred = np.array(pred).flatten()\n",
        "    future_predict.append(pred)\n",
        "    new_samples = np.array(pred_samples).flatten()\n",
        "    new_samples = np.append(new_samples, [pred])\n",
        "    new_samples = new_samples[1:]\n",
        "    pred_samples = np.array(new_samples).reshape(1, 1, 1)\n",
        "future_predict = np.array(future_predict).reshape(len(future_predict), 1, 1)"
      ],
      "execution_count": null,
      "outputs": []
    },
    {
      "cell_type": "code",
      "metadata": {
        "id": "tybIAQGtx1Hp",
        "colab_type": "code",
        "colab": {}
      },
      "source": [
        "model.reset_states()"
      ],
      "execution_count": null,
      "outputs": []
    },
    {
      "cell_type": "code",
      "metadata": {
        "id": "RkHvIMJfx3f3",
        "colab_type": "code",
        "colab": {}
      },
      "source": [
        "f_future_predict = model.predict(future_predict, batch_size=batch_size)"
      ],
      "execution_count": null,
      "outputs": []
    },
    {
      "cell_type": "code",
      "metadata": {
        "id": "7Iksf2YKx6ab",
        "colab_type": "code",
        "colab": {}
      },
      "source": [
        "model.reset_states()"
      ],
      "execution_count": null,
      "outputs": []
    },
    {
      "cell_type": "code",
      "metadata": {
        "id": "1iroU51rx8qQ",
        "colab_type": "code",
        "colab": {}
      },
      "source": [
        "X_all_flatten = np.array(scaler.inverse_transform(\n",
        "    np.array(X_all).reshape(X_all.shape[0], 1)\n",
        ")).flatten().astype('int')\n",
        "X_all_flatten = np.absolute(X_all_flatten)\n",
        "Y_all_flatten = np.array(scaler.inverse_transform(\n",
        "    np.array(Y_all).reshape(Y_all.shape[0], 1)\n",
        ")).flatten().astype('int')\n",
        "Y_all_flatten = np.absolute(Y_all_flatten)\n",
        "all_predict_flatten = np.array(scaler.inverse_transform(\n",
        "    np.array(all_predict).reshape(all_predict.shape[0], 1)\n",
        ")).flatten().astype('int')\n",
        "all_predict_flatten = np.absolute(all_predict_flatten)\n",
        "future_predict_flatten = np.array(scaler.inverse_transform(\n",
        "    np.array(future_predict).reshape(future_predict.shape[0], 1)\n",
        ")).flatten().astype('int')\n",
        "future_predict_flatten = np.absolute(future_predict_flatten)\n",
        "f_future_predict_flatten = np.array(scaler.inverse_transform(\n",
        "    np.array(f_future_predict).reshape(f_future_predict.shape[0], 1)\n",
        ")).flatten().astype('int')\n",
        "f_future_predict_flatten = np.absolute(f_future_predict_flatten)"
      ],
      "execution_count": null,
      "outputs": []
    },
    {
      "cell_type": "code",
      "metadata": {
        "id": "7kQSw3HTyB-r",
        "colab_type": "code",
        "colab": {}
      },
      "source": [
        "all_predict_score = math.sqrt(\n",
        "    mean_squared_error(\n",
        "        Y_all_flatten, \n",
        "        all_predict_flatten\n",
        "    )\n",
        ")"
      ],
      "execution_count": null,
      "outputs": []
    },
    {
      "cell_type": "code",
      "metadata": {
        "id": "7eCKkJR4yEmB",
        "colab_type": "code",
        "colab": {
          "base_uri": "https://localhost:8080/",
          "height": 35
        },
        "outputId": "1913e7e9-4538-4ec5-c39d-20c627b0ec6a"
      },
      "source": [
        "'All Score: %.2f RMSE' % (all_predict_score)"
      ],
      "execution_count": null,
      "outputs": [
        {
          "output_type": "execute_result",
          "data": {
            "application/vnd.google.colaboratory.intrinsic+json": {
              "type": "string"
            },
            "text/plain": [
              "'All Score: 3.05 RMSE'"
            ]
          },
          "metadata": {
            "tags": []
          },
          "execution_count": 110
        }
      ]
    },
    {
      "cell_type": "code",
      "metadata": {
        "id": "H91SldOGyGzh",
        "colab_type": "code",
        "colab": {}
      },
      "source": [
        "future_index = pd.date_range(start=cases.index[-1], periods=days_to_predict + 1, closed='right')"
      ],
      "execution_count": null,
      "outputs": []
    },
    {
      "cell_type": "code",
      "metadata": {
        "id": "yF0drCQ-yJrs",
        "colab_type": "code",
        "colab": {
          "base_uri": "https://localhost:8080/",
          "height": 335
        },
        "outputId": "d62ec236-0b86-4d63-8836-7a7df6be9448"
      },
      "source": [
        "plt.figure(figsize=(6,4),dpi=86)\n",
        "plt.plot(\n",
        "    future_index,\n",
        "    future_predict_flatten,\n",
        "    label='Prediction Deaths',\n",
        "    color='red',\n",
        "    linewidth=2.5\n",
        ")\n",
        "plt.suptitle('Future Prediction Based on Per Day Deaths in Bangladesh',fontsize=8,fontweight='bold')\n",
        "plt.xlabel('Date',fontsize=8,fontweight='bold')\n",
        "plt.ylabel('Deaths',fontsize=8,fontweight='bold')\n",
        "plt.xticks(rotation=70)\n",
        "plt.legend(prop={\"size\":8})\n",
        "plt.tight_layout(3)\n",
        "plt.show()  "
      ],
      "execution_count": null,
      "outputs": [
        {
          "output_type": "display_data",
          "data": {
            "image/png": "[encoded data removed]",
            "text/plain": [
              "<Figure size 516x344 with 1 Axes>"
            ]
          },
          "metadata": {
            "tags": [],
            "needs_background": "light"
          }
        }
      ]
    },
    {
      "cell_type": "code",
      "metadata": {
        "id": "sPqkEBmSyM8a",
        "colab_type": "code",
        "colab": {
          "base_uri": "https://localhost:8080/",
          "height": 335
        },
        "outputId": "28924aa6-4545-4857-f161-1186444d520a"
      },
      "source": [
        "plt.figure(figsize=(6,4),dpi=86)\n",
        "plt.plot(\n",
        "    future_index,\n",
        "    f_future_predict_flatten,\n",
        "    label='Future Prediction Deaths',\n",
        "    color='red',\n",
        "    linewidth=2.5\n",
        ")\n",
        "plt.suptitle('Future Prediction Based on Previous Per day Future Deaths Prediction in Bangladesh',fontsize=8,fontweight='bold')\n",
        "plt.xlabel('Date',fontsize=8,fontweight='bold')\n",
        "plt.ylabel('Deaths',fontsize=8,fontweight='bold')\n",
        "plt.xticks(rotation=70)\n",
        "plt.legend(prop={\"size\":8})\n",
        "plt.tight_layout(3)\n",
        "plt.show()"
      ],
      "execution_count": null,
      "outputs": [
        {
          "output_type": "display_data",
          "data": {
            "image/png": "[encoded data removed]",
            "text/plain": [
              "<Figure size 516x344 with 1 Axes>"
            ]
          },
          "metadata": {
            "tags": [],
            "needs_background": "light"
          }
        }
      ]
    },
    {
      "cell_type": "code",
      "metadata": {
        "id": "QTp1GEgVyXrA",
        "colab_type": "code",
        "colab": {
          "base_uri": "https://localhost:8080/",
          "height": 353
        },
        "outputId": "a3e603f9-0339-4331-991b-ccfcd0d113e3"
      },
      "source": [
        "plt.figure(figsize=(8, 5))\n",
        "plt.figure(dpi= 86)\n",
        "plt.plot(\n",
        "    cases.index[:len(X_all_flatten)],\n",
        "    X_all_flatten,\n",
        "    label='Actual Deaths',\n",
        "    linewidth=2.5\n",
        ")\n",
        "plt.plot(\n",
        "    cases.index[:len(X_all_flatten)],\n",
        "    all_predict_flatten,\n",
        "    label='Actual Prediction Deaths',\n",
        "    linewidth=2.5\n",
        ")\n",
        "plt.plot(\n",
        "    future_index,\n",
        "    future_predict_flatten,\n",
        "    label='Predict up to ' + str(days_to_predict) + ' Days in the future',\n",
        "    linewidth=2.5\n",
        ")\n",
        "plt.plot(\n",
        "    future_index,\n",
        "    f_future_predict_flatten,\n",
        "    label='Future based on previous future prediction',\n",
        "    linewidth=2.5\n",
        ")\n",
        "plt.suptitle('Future Prediction Based on Per Day Deaths in Bangladesh',fontsize=8,fontweight='bold')\n",
        "plt.xlabel('Date',fontsize=8,fontweight='bold')\n",
        "plt.ylabel('Deaths',fontsize=8,fontweight='bold')\n",
        "plt.xticks(rotation=70)\n",
        "plt.legend(prop={\"size\":8})\n",
        "plt.tight_layout(3)\n",
        "plt.show()"
      ],
      "execution_count": null,
      "outputs": [
        {
          "output_type": "display_data",
          "data": {
            "text/plain": [
              "<Figure size 576x360 with 0 Axes>"
            ]
          },
          "metadata": {
            "tags": []
          }
        },
        {
          "output_type": "display_data",
          "data": {
            "image/png": "[encoded data removed]",
            "text/plain": [
              "<Figure size 516x344 with 1 Axes>"
            ]
          },
          "metadata": {
            "tags": [],
            "needs_background": "light"
          }
        }
      ]
    },
    {
      "cell_type": "code",
      "metadata": {
        "id": "GQ00oWsfzKot",
        "colab_type": "code",
        "colab": {}
      },
      "source": [
        ""
      ],
      "execution_count": null,
      "outputs": []
    },
    {
      "cell_type": "markdown",
      "metadata": {
        "id": "r75VFCrRzaHR",
        "colab_type": "text"
      },
      "source": [
        "##Random Forest "
      ]
    },
    {
      "cell_type": "code",
      "metadata": {
        "id": "7NjSW2bRzf-b",
        "colab_type": "code",
        "colab": {}
      },
      "source": [
        "def data_split(data, look_back=1):\n",
        "    x, y = [], []\n",
        "    for i in range(len(data) - look_back - 1):\n",
        "        a = data[i:(i + look_back), 0]\n",
        "        x.append(a)\n",
        "        y.append(data[i + look_back, 0])\n",
        "    return np.array(x), np.array(y)"
      ],
      "execution_count": null,
      "outputs": []
    },
    {
      "cell_type": "code",
      "metadata": {
        "id": "EVjJciIPziWn",
        "colab_type": "code",
        "colab": {}
      },
      "source": [
        "test_size = TEST_SIZE\n",
        "test_size = int(cases.shape[0] * test_size)\n",
        "train_cases = cases[:-test_size]\n",
        "test_cases = cases[-test_size:]"
      ],
      "execution_count": null,
      "outputs": []
    },
    {
      "cell_type": "code",
      "metadata": {
        "id": "F5_DSzYezkdR",
        "colab_type": "code",
        "colab": {}
      },
      "source": [
        "scaler = MinMaxScaler(feature_range=(-1, 1))\n",
        "scaler = scaler.fit(cases)\n",
        "all_cases = scaler.transform(cases)\n",
        "train_cases = scaler.transform(train_cases)\n",
        "test_cases = scaler.transform(test_cases)"
      ],
      "execution_count": null,
      "outputs": []
    },
    {
      "cell_type": "code",
      "metadata": {
        "id": "bX4tPY5ozmie",
        "colab_type": "code",
        "colab": {}
      },
      "source": [
        "look_back = LOOK_BACK\n",
        "X_all, Y_all = data_split(all_cases, look_back=look_back)\n",
        "X_train, Y_train = data_split(train_cases, look_back=look_back)\n",
        "X_test, Y_test = data_split(test_cases, look_back=look_back)"
      ],
      "execution_count": null,
      "outputs": []
    },
    {
      "cell_type": "code",
      "metadata": {
        "id": "7r3CcDnuzo6s",
        "colab_type": "code",
        "colab": {
          "base_uri": "https://localhost:8080/"
        },
        "outputId": "ca863a4b-8319-4b04-ab91-d4827f5f6b4c"
      },
      "source": [
        "X_train.shape,Y_train.shape,X_test.shape,Y_test.shape"
      ],
      "execution_count": null,
      "outputs": [
        {
          "output_type": "execute_result",
          "data": {
            "text/plain": [
              "((29, 1), (29,), (11, 1), (11,))"
            ]
          },
          "metadata": {
            "tags": []
          },
          "execution_count": 119
        }
      ]
    },
    {
      "cell_type": "code",
      "metadata": {
        "id": "auixSAxjzrIA",
        "colab_type": "code",
        "colab": {}
      },
      "source": [
        "from sklearn.ensemble import RandomForestRegressor\n",
        "rf=RandomForestRegressor()\n",
        "model = rf.fit(X_train, Y_train)"
      ],
      "execution_count": null,
      "outputs": []
    },
    {
      "cell_type": "code",
      "metadata": {
        "id": "06ACeCT9ztX3",
        "colab_type": "code",
        "colab": {}
      },
      "source": [
        "all_predict = model.predict(X_all)"
      ],
      "execution_count": null,
      "outputs": []
    },
    {
      "cell_type": "code",
      "metadata": {
        "id": "qvLHmBMlzveS",
        "colab_type": "code",
        "colab": {}
      },
      "source": [
        "Y_train_flatten = np.array(scaler.inverse_transform(\n",
        "    np.array(Y_train).reshape(Y_train.shape[0], 1)\n",
        ")).flatten().astype('int')\n",
        "Y_test_flatten = np.array(scaler.inverse_transform(\n",
        "    np.array(Y_test).reshape(Y_test.shape[0], 1)\n",
        ")).flatten().astype('int')\n",
        "all_predict_flatten = np.array(scaler.inverse_transform(\n",
        "    np.array(all_predict).reshape(all_predict.shape[0], 1)\n",
        ")).flatten().astype('int')\n",
        "all_predict_flatten = np.absolute(all_predict_flatten)"
      ],
      "execution_count": null,
      "outputs": []
    },
    {
      "cell_type": "code",
      "metadata": {
        "id": "P0TygvI8zxgy",
        "colab_type": "code",
        "colab": {}
      },
      "source": [
        "y_train_predict=model.predict(X_train)\n",
        "y_test_predict=model.predict(X_test)"
      ],
      "execution_count": null,
      "outputs": []
    },
    {
      "cell_type": "code",
      "metadata": {
        "id": "SSOsRvyxz0SH",
        "colab_type": "code",
        "colab": {
          "base_uri": "https://localhost:8080/"
        },
        "outputId": "4017d580-b703-4349-d168-78ddf9a91a5f"
      },
      "source": [
        "from sklearn.metrics import mean_squared_error\n",
        "import math\n",
        "\n",
        "print('Train RMSE')\n",
        "print(math.sqrt(mean_squared_error(Y_train_flatten,y_train_predict)))\n",
        "print('Test RMSE')\n",
        "print(math.sqrt(mean_squared_error(Y_test_flatten,y_test_predict)))"
      ],
      "execution_count": null,
      "outputs": [
        {
          "output_type": "stream",
          "text": [
            "Train RMSE\n",
            "6.4710004747407215\n",
            "Test RMSE\n",
            "8.10275260917035\n"
          ],
          "name": "stdout"
        }
      ]
    },
    {
      "cell_type": "code",
      "metadata": {
        "id": "OvUFiIDfz2MJ",
        "colab_type": "code",
        "colab": {
          "base_uri": "https://localhost:8080/"
        },
        "outputId": "fb77e8ea-1462-4335-f22f-64a022974a74"
      },
      "source": [
        "all_predict_score = math.sqrt(\n",
        "    mean_squared_error(\n",
        "        Y_all_flatten, \n",
        "        all_predict_flatten\n",
        "    )\n",
        ")\n",
        "print(\"All RMSE :\",all_predict_score)"
      ],
      "execution_count": null,
      "outputs": [
        {
          "output_type": "stream",
          "text": [
            "All RMSE : 3.25868802112869\n"
          ],
          "name": "stdout"
        }
      ]
    },
    {
      "cell_type": "markdown",
      "metadata": {
        "id": "kT91Aa2t0QSH",
        "colab_type": "text"
      },
      "source": [
        "##SVR"
      ]
    },
    {
      "cell_type": "code",
      "metadata": {
        "id": "jvWcNy1-z5gN",
        "colab_type": "code",
        "colab": {}
      },
      "source": [
        "from sklearn.svm import SVR  \n",
        "svr = SVR(kernel='rbf', gamma=0.1) \n",
        "model2 = svr.fit(X_train, Y_train)"
      ],
      "execution_count": null,
      "outputs": []
    },
    {
      "cell_type": "code",
      "metadata": {
        "id": "2sAT0YfUz8It",
        "colab_type": "code",
        "colab": {}
      },
      "source": [
        "y_train_predict=model2.predict(X_train)"
      ],
      "execution_count": null,
      "outputs": []
    },
    {
      "cell_type": "code",
      "metadata": {
        "id": "YVQ3a1c00Aek",
        "colab_type": "code",
        "colab": {
          "base_uri": "https://localhost:8080/"
        },
        "outputId": "e1173559-9fc8-45fb-f65f-7e2f4776b4cc"
      },
      "source": [
        "y_train_predict"
      ],
      "execution_count": null,
      "outputs": [
        {
          "output_type": "execute_result",
          "data": {
            "text/plain": [
              "array([-0.75692726, -0.75692726, -0.75692726, -0.75692726, -0.75692726,\n",
              "       -0.75692726, -0.69512277, -0.56569772, -0.49956085, -0.63113688,\n",
              "       -0.75692726, -0.43349476, -0.63113688, -0.56569772, -0.49956085,\n",
              "       -0.36826596, -0.56569772, -0.18493269,  0.04307272, -0.24328843,\n",
              "       -0.36826596, -0.18493269, -0.24328843, -0.18493269, -0.36826596,\n",
              "       -0.56569772, -0.24328843, -0.56569772, -0.36826596])"
            ]
          },
          "metadata": {
            "tags": []
          },
          "execution_count": 128
        }
      ]
    },
    {
      "cell_type": "code",
      "metadata": {
        "id": "h8QDCHUn0Ctp",
        "colab_type": "code",
        "colab": {}
      },
      "source": [
        "y_test_predict=model2.predict(X_test)"
      ],
      "execution_count": null,
      "outputs": []
    },
    {
      "cell_type": "code",
      "metadata": {
        "id": "Ze4kzuKF0E9o",
        "colab_type": "code",
        "colab": {
          "base_uri": "https://localhost:8080/"
        },
        "outputId": "54406258-8aef-4ffb-d4ad-99880c6bfcb4"
      },
      "source": [
        "from sklearn.metrics import mean_squared_error\n",
        "import math\n",
        "\n",
        "print('Train RMSE')\n",
        "print(math.sqrt(mean_squared_error(Y_train_flatten,y_train_predict)))\n",
        "print('Test RMSE')\n",
        "print(math.sqrt(mean_squared_error(Y_test_flatten,y_test_predict)))"
      ],
      "execution_count": null,
      "outputs": [
        {
          "output_type": "stream",
          "text": [
            "Train RMSE\n",
            "6.648362993302023\n",
            "Test RMSE\n",
            "8.104403169871944\n"
          ],
          "name": "stdout"
        }
      ]
    },
    {
      "cell_type": "code",
      "metadata": {
        "id": "zBGzf0rb0HG5",
        "colab_type": "code",
        "colab": {
          "base_uri": "https://localhost:8080/"
        },
        "outputId": "3b0b3cf1-380c-434d-9e2c-9cfe1947cc9c"
      },
      "source": [
        "all_predict = model2.predict(X_all)\n",
        "all_predict_score = math.sqrt(\n",
        "    mean_squared_error(\n",
        "        Y_all_flatten, \n",
        "        all_predict_flatten\n",
        "    )\n",
        ")\n",
        "print(\"All RMSE\",all_predict_score)"
      ],
      "execution_count": null,
      "outputs": [
        {
          "output_type": "stream",
          "text": [
            "All RMSE 3.25868802112869\n"
          ],
          "name": "stdout"
        }
      ]
    },
    {
      "cell_type": "code",
      "metadata": {
        "id": "KDWwqdCf0KLc",
        "colab_type": "code",
        "colab": {}
      },
      "source": [
        ""
      ],
      "execution_count": null,
      "outputs": []
    }
  ]
}