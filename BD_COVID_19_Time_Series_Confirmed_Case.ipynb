{
  "nbformat": 4,
  "nbformat_minor": 0,
  "metadata": {
    "colab": {
      "name": "BD COVID-19 Time Series Confirmed Case.ipynb",
      "provenance": [],
      "include_colab_link": true
    },
    "kernelspec": {
      "name": "python3",
      "display_name": "Python 3"
    }
  },
  "cells": [
    {
      "cell_type": "markdown",
      "metadata": {
        "id": "view-in-github",
        "colab_type": "text"
      },
      "source": [
        "<a href=\"https://colab.research.google.com/github/AbuKaisar24/COVID-19-in-Bangladesh-Time-Series/blob/master/BD_COVID_19_Time_Series_Confirmed_Case.ipynb\" target=\"_parent\"><img src=\"https://colab.research.google.com/assets/colab-badge.svg\" alt=\"Open In Colab\"/></a>"
      ]
    },
    {
      "cell_type": "code",
      "metadata": {
        "id": "0wRZuf6qP6YD",
        "colab_type": "code",
        "colab": {
          "base_uri": "https://localhost:8080/",
          "height": 695
        },
        "outputId": "c97b1258-6556-449f-91bf-35a2625c8326"
      },
      "source": [
        "!pip install --upgrade tensorflow"
      ],
      "execution_count": null,
      "outputs": [
        {
          "output_type": "stream",
          "text": [
            "Requirement already up-to-date: tensorflow in /usr/local/lib/python3.6/dist-packages (2.3.0)\n",
            "Requirement already satisfied, skipping upgrade: keras-preprocessing<1.2,>=1.1.1 in /usr/local/lib/python3.6/dist-packages (from tensorflow) (1.1.2)\n",
            "Requirement already satisfied, skipping upgrade: six>=1.12.0 in /usr/local/lib/python3.6/dist-packages (from tensorflow) (1.15.0)\n",
            "Requirement already satisfied, skipping upgrade: scipy==1.4.1 in /usr/local/lib/python3.6/dist-packages (from tensorflow) (1.4.1)\n",
            "Requirement already satisfied, skipping upgrade: absl-py>=0.7.0 in /usr/local/lib/python3.6/dist-packages (from tensorflow) (0.9.0)\n",
            "Requirement already satisfied, skipping upgrade: numpy<1.19.0,>=1.16.0 in /usr/local/lib/python3.6/dist-packages (from tensorflow) (1.18.5)\n",
            "Requirement already satisfied, skipping upgrade: tensorflow-estimator<2.4.0,>=2.3.0 in /usr/local/lib/python3.6/dist-packages (from tensorflow) (2.3.0)\n",
            "Requirement already satisfied, skipping upgrade: astunparse==1.6.3 in /usr/local/lib/python3.6/dist-packages (from tensorflow) (1.6.3)\n",
            "Requirement already satisfied, skipping upgrade: wrapt>=1.11.1 in /usr/local/lib/python3.6/dist-packages (from tensorflow) (1.12.1)\n",
            "Requirement already satisfied, skipping upgrade: h5py<2.11.0,>=2.10.0 in /usr/local/lib/python3.6/dist-packages (from tensorflow) (2.10.0)\n",
            "Requirement already satisfied, skipping upgrade: wheel>=0.26 in /usr/local/lib/python3.6/dist-packages (from tensorflow) (0.34.2)\n",
            "Requirement already satisfied, skipping upgrade: grpcio>=1.8.6 in /usr/local/lib/python3.6/dist-packages (from tensorflow) (1.31.0)\n",
            "Requirement already satisfied, skipping upgrade: termcolor>=1.1.0 in /usr/local/lib/python3.6/dist-packages (from tensorflow) (1.1.0)\n",
            "Requirement already satisfied, skipping upgrade: protobuf>=3.9.2 in /usr/local/lib/python3.6/dist-packages (from tensorflow) (3.12.4)\n",
            "Requirement already satisfied, skipping upgrade: opt-einsum>=2.3.2 in /usr/local/lib/python3.6/dist-packages (from tensorflow) (3.3.0)\n",
            "Requirement already satisfied, skipping upgrade: google-pasta>=0.1.8 in /usr/local/lib/python3.6/dist-packages (from tensorflow) (0.2.0)\n",
            "Requirement already satisfied, skipping upgrade: gast==0.3.3 in /usr/local/lib/python3.6/dist-packages (from tensorflow) (0.3.3)\n",
            "Requirement already satisfied, skipping upgrade: tensorboard<3,>=2.3.0 in /usr/local/lib/python3.6/dist-packages (from tensorflow) (2.3.0)\n",
            "Requirement already satisfied, skipping upgrade: setuptools in /usr/local/lib/python3.6/dist-packages (from protobuf>=3.9.2->tensorflow) (49.2.0)\n",
            "Requirement already satisfied, skipping upgrade: requests<3,>=2.21.0 in /usr/local/lib/python3.6/dist-packages (from tensorboard<3,>=2.3.0->tensorflow) (2.23.0)\n",
            "Requirement already satisfied, skipping upgrade: markdown>=2.6.8 in /usr/local/lib/python3.6/dist-packages (from tensorboard<3,>=2.3.0->tensorflow) (3.2.2)\n",
            "Requirement already satisfied, skipping upgrade: google-auth-oauthlib<0.5,>=0.4.1 in /usr/local/lib/python3.6/dist-packages (from tensorboard<3,>=2.3.0->tensorflow) (0.4.1)\n",
            "Requirement already satisfied, skipping upgrade: tensorboard-plugin-wit>=1.6.0 in /usr/local/lib/python3.6/dist-packages (from tensorboard<3,>=2.3.0->tensorflow) (1.7.0)\n",
            "Requirement already satisfied, skipping upgrade: werkzeug>=0.11.15 in /usr/local/lib/python3.6/dist-packages (from tensorboard<3,>=2.3.0->tensorflow) (1.0.1)\n",
            "Requirement already satisfied, skipping upgrade: google-auth<2,>=1.6.3 in /usr/local/lib/python3.6/dist-packages (from tensorboard<3,>=2.3.0->tensorflow) (1.17.2)\n",
            "Requirement already satisfied, skipping upgrade: urllib3!=1.25.0,!=1.25.1,<1.26,>=1.21.1 in /usr/local/lib/python3.6/dist-packages (from requests<3,>=2.21.0->tensorboard<3,>=2.3.0->tensorflow) (1.24.3)\n",
            "Requirement already satisfied, skipping upgrade: certifi>=2017.4.17 in /usr/local/lib/python3.6/dist-packages (from requests<3,>=2.21.0->tensorboard<3,>=2.3.0->tensorflow) (2020.6.20)\n",
            "Requirement already satisfied, skipping upgrade: chardet<4,>=3.0.2 in /usr/local/lib/python3.6/dist-packages (from requests<3,>=2.21.0->tensorboard<3,>=2.3.0->tensorflow) (3.0.4)\n",
            "Requirement already satisfied, skipping upgrade: idna<3,>=2.5 in /usr/local/lib/python3.6/dist-packages (from requests<3,>=2.21.0->tensorboard<3,>=2.3.0->tensorflow) (2.10)\n",
            "Requirement already satisfied, skipping upgrade: importlib-metadata; python_version < \"3.8\" in /usr/local/lib/python3.6/dist-packages (from markdown>=2.6.8->tensorboard<3,>=2.3.0->tensorflow) (1.7.0)\n",
            "Requirement already satisfied, skipping upgrade: requests-oauthlib>=0.7.0 in /usr/local/lib/python3.6/dist-packages (from google-auth-oauthlib<0.5,>=0.4.1->tensorboard<3,>=2.3.0->tensorflow) (1.3.0)\n",
            "Requirement already satisfied, skipping upgrade: cachetools<5.0,>=2.0.0 in /usr/local/lib/python3.6/dist-packages (from google-auth<2,>=1.6.3->tensorboard<3,>=2.3.0->tensorflow) (4.1.1)\n",
            "Requirement already satisfied, skipping upgrade: pyasn1-modules>=0.2.1 in /usr/local/lib/python3.6/dist-packages (from google-auth<2,>=1.6.3->tensorboard<3,>=2.3.0->tensorflow) (0.2.8)\n",
            "Requirement already satisfied, skipping upgrade: rsa<5,>=3.1.4; python_version >= \"3\" in /usr/local/lib/python3.6/dist-packages (from google-auth<2,>=1.6.3->tensorboard<3,>=2.3.0->tensorflow) (4.6)\n",
            "Requirement already satisfied, skipping upgrade: zipp>=0.5 in /usr/local/lib/python3.6/dist-packages (from importlib-metadata; python_version < \"3.8\"->markdown>=2.6.8->tensorboard<3,>=2.3.0->tensorflow) (3.1.0)\n",
            "Requirement already satisfied, skipping upgrade: oauthlib>=3.0.0 in /usr/local/lib/python3.6/dist-packages (from requests-oauthlib>=0.7.0->google-auth-oauthlib<0.5,>=0.4.1->tensorboard<3,>=2.3.0->tensorflow) (3.1.0)\n",
            "Requirement already satisfied, skipping upgrade: pyasn1<0.5.0,>=0.4.6 in /usr/local/lib/python3.6/dist-packages (from pyasn1-modules>=0.2.1->google-auth<2,>=1.6.3->tensorboard<3,>=2.3.0->tensorflow) (0.4.8)\n"
          ],
          "name": "stdout"
        }
      ]
    },
    {
      "cell_type": "code",
      "metadata": {
        "id": "x-oHV5i-QKmh",
        "colab_type": "code",
        "colab": {
          "base_uri": "https://localhost:8080/",
          "height": 126
        },
        "outputId": "abb6128a-d2f7-4305-a199-373ae6ee1395"
      },
      "source": [
        "from google.colab import drive\n",
        "drive.mount('/content/gdrive')"
      ],
      "execution_count": null,
      "outputs": [
        {
          "output_type": "stream",
          "text": [
            "Go to this URL in a browser: https://accounts.google.com/o/oauth2/auth?client_id=947318989803-6bn6qk8qdgf4n4g3pfee6491hc0brc4i.apps.googleusercontent.com&redirect_uri=urn%3aietf%3awg%3aoauth%3a2.0%3aoob&scope=email%20https%3a%2f%2fwww.googleapis.com%2fauth%2fdocs.test%20https%3a%2f%2fwww.googleapis.com%2fauth%2fdrive%20https%3a%2f%2fwww.googleapis.com%2fauth%2fdrive.photos.readonly%20https%3a%2f%2fwww.googleapis.com%2fauth%2fpeopleapi.readonly&response_type=code\n",
            "\n",
            "Enter your authorization code:\n",
            "··········\n",
            "Mounted at /content/gdrive\n"
          ],
          "name": "stdout"
        }
      ]
    },
    {
      "cell_type": "code",
      "metadata": {
        "id": "mcnLnqg4QbBj",
        "colab_type": "code",
        "colab": {}
      },
      "source": [
        "import math\n",
        "import pandas as pd\n",
        "import numpy as np\n",
        "import matplotlib.pyplot as plt\n",
        "from sklearn.preprocessing import MinMaxScaler\n",
        "from sklearn.metrics import mean_squared_error\n",
        "from keras.models import Sequential\n",
        "from keras.layers import Dense, LSTM, Dropout"
      ],
      "execution_count": null,
      "outputs": []
    },
    {
      "cell_type": "code",
      "metadata": {
        "id": "-tQK3b5KQjqt",
        "colab_type": "code",
        "colab": {}
      },
      "source": [
        "RANDOM_SEED = 42\n",
        "TEST_SIZE = 0.3\n",
        "LOOK_BACK = 1\n",
        "BATCH_SIZE = 1\n",
        "EPOCHS = 100\n",
        "DAYS_TO_PREDICT = 30\n",
        "Location=\"Bangladesh\"\n",
        "Train_case = 'Confirmed'"
      ],
      "execution_count": null,
      "outputs": []
    },
    {
      "cell_type": "code",
      "metadata": {
        "id": "L-VeWfNbQrwa",
        "colab_type": "code",
        "colab": {}
      },
      "source": [
        "np.random.seed(RANDOM_SEED)"
      ],
      "execution_count": null,
      "outputs": []
    },
    {
      "cell_type": "code",
      "metadata": {
        "id": "cGUry5AQQruu",
        "colab_type": "code",
        "colab": {}
      },
      "source": [
        "df=pd.read_csv(\"gdrive/My Drive/Colab Notebooks/Covid-19_BD.csv\")"
      ],
      "execution_count": null,
      "outputs": []
    },
    {
      "cell_type": "code",
      "metadata": {
        "id": "BaPdgR9pBhCD",
        "colab_type": "code",
        "colab": {
          "base_uri": "https://localhost:8080/",
          "height": 332
        },
        "outputId": "1b2be8dc-fa76-4144-e627-984708e4b7fa"
      },
      "source": [
        "df.plot()\n",
        "plt.figure(dpi=86)\n",
        "plt.show()             "
      ],
      "execution_count": null,
      "outputs": [
        {
          "output_type": "display_data",
          "data": {
            "image/png": "[encoded data removed]",
            "text/plain": [
              "<Figure size 432x288 with 1 Axes>"
            ]
          },
          "metadata": {
            "tags": [],
            "needs_background": "light"
          }
        },
        {
          "output_type": "display_data",
          "data": {
            "text/plain": [
              "<Figure size 516x344 with 0 Axes>"
            ]
          },
          "metadata": {
            "tags": []
          }
        }
      ]
    },
    {
      "cell_type": "code",
      "metadata": {
        "id": "K7H9WahkQ6tk",
        "colab_type": "code",
        "colab": {
          "base_uri": "https://localhost:8080/",
          "height": 200
        },
        "outputId": "b041ed7a-3edf-4b60-971e-9533a78ff341"
      },
      "source": [
        "df.head()"
      ],
      "execution_count": null,
      "outputs": [
        {
          "output_type": "execute_result",
          "data": {
            "text/html": [
              "<div>\n",
              "<style scoped>\n",
              "    .dataframe tbody tr th:only-of-type {\n",
              "        vertical-align: middle;\n",
              "    }\n",
              "\n",
              "    .dataframe tbody tr th {\n",
              "        vertical-align: top;\n",
              "    }\n",
              "\n",
              "    .dataframe thead th {\n",
              "        text-align: right;\n",
              "    }\n",
              "</style>\n",
              "<table border=\"1\" class=\"dataframe\">\n",
              "  <thead>\n",
              "    <tr style=\"text-align: right;\">\n",
              "      <th></th>\n",
              "      <th>Date</th>\n",
              "      <th>Confirmed</th>\n",
              "      <th>Deaths</th>\n",
              "      <th>Recovery</th>\n",
              "    </tr>\n",
              "  </thead>\n",
              "  <tbody>\n",
              "    <tr>\n",
              "      <th>0</th>\n",
              "      <td>2020-03-04</td>\n",
              "      <td>0</td>\n",
              "      <td>0</td>\n",
              "      <td>0</td>\n",
              "    </tr>\n",
              "    <tr>\n",
              "      <th>1</th>\n",
              "      <td>2020-03-05</td>\n",
              "      <td>0</td>\n",
              "      <td>0</td>\n",
              "      <td>0</td>\n",
              "    </tr>\n",
              "    <tr>\n",
              "      <th>2</th>\n",
              "      <td>2020-03-06</td>\n",
              "      <td>0</td>\n",
              "      <td>0</td>\n",
              "      <td>0</td>\n",
              "    </tr>\n",
              "    <tr>\n",
              "      <th>3</th>\n",
              "      <td>2020-03-07</td>\n",
              "      <td>0</td>\n",
              "      <td>0</td>\n",
              "      <td>0</td>\n",
              "    </tr>\n",
              "    <tr>\n",
              "      <th>4</th>\n",
              "      <td>2020-03-08</td>\n",
              "      <td>3</td>\n",
              "      <td>0</td>\n",
              "      <td>0</td>\n",
              "    </tr>\n",
              "  </tbody>\n",
              "</table>\n",
              "</div>"
            ],
            "text/plain": [
              "         Date  Confirmed  Deaths  Recovery\n",
              "0  2020-03-04          0       0         0\n",
              "1  2020-03-05          0       0         0\n",
              "2  2020-03-06          0       0         0\n",
              "3  2020-03-07          0       0         0\n",
              "4  2020-03-08          3       0         0"
            ]
          },
          "metadata": {
            "tags": []
          },
          "execution_count": 8
        }
      ]
    },
    {
      "cell_type": "code",
      "metadata": {
        "id": "lbgSk3pfYdud",
        "colab_type": "code",
        "colab": {}
      },
      "source": [
        "df.set_index('Date', inplace=True)\n",
        "df.index = pd.to_datetime(df.index)\n"
      ],
      "execution_count": null,
      "outputs": []
    },
    {
      "cell_type": "code",
      "metadata": {
        "id": "dTGnIDlIY6T3",
        "colab_type": "code",
        "colab": {
          "base_uri": "https://localhost:8080/",
          "height": 230
        },
        "outputId": "8fa7b947-a9a9-419e-82e3-13592780f161"
      },
      "source": [
        "df.head()"
      ],
      "execution_count": null,
      "outputs": [
        {
          "output_type": "execute_result",
          "data": {
            "text/html": [
              "<div>\n",
              "<style scoped>\n",
              "    .dataframe tbody tr th:only-of-type {\n",
              "        vertical-align: middle;\n",
              "    }\n",
              "\n",
              "    .dataframe tbody tr th {\n",
              "        vertical-align: top;\n",
              "    }\n",
              "\n",
              "    .dataframe thead th {\n",
              "        text-align: right;\n",
              "    }\n",
              "</style>\n",
              "<table border=\"1\" class=\"dataframe\">\n",
              "  <thead>\n",
              "    <tr style=\"text-align: right;\">\n",
              "      <th></th>\n",
              "      <th>Confirmed</th>\n",
              "      <th>Deaths</th>\n",
              "      <th>Recovery</th>\n",
              "    </tr>\n",
              "    <tr>\n",
              "      <th>Date</th>\n",
              "      <th></th>\n",
              "      <th></th>\n",
              "      <th></th>\n",
              "    </tr>\n",
              "  </thead>\n",
              "  <tbody>\n",
              "    <tr>\n",
              "      <th>2020-03-04</th>\n",
              "      <td>0</td>\n",
              "      <td>0</td>\n",
              "      <td>0</td>\n",
              "    </tr>\n",
              "    <tr>\n",
              "      <th>2020-03-05</th>\n",
              "      <td>0</td>\n",
              "      <td>0</td>\n",
              "      <td>0</td>\n",
              "    </tr>\n",
              "    <tr>\n",
              "      <th>2020-03-06</th>\n",
              "      <td>0</td>\n",
              "      <td>0</td>\n",
              "      <td>0</td>\n",
              "    </tr>\n",
              "    <tr>\n",
              "      <th>2020-03-07</th>\n",
              "      <td>0</td>\n",
              "      <td>0</td>\n",
              "      <td>0</td>\n",
              "    </tr>\n",
              "    <tr>\n",
              "      <th>2020-03-08</th>\n",
              "      <td>3</td>\n",
              "      <td>0</td>\n",
              "      <td>0</td>\n",
              "    </tr>\n",
              "  </tbody>\n",
              "</table>\n",
              "</div>"
            ],
            "text/plain": [
              "            Confirmed  Deaths  Recovery\n",
              "Date                                   \n",
              "2020-03-04          0       0         0\n",
              "2020-03-05          0       0         0\n",
              "2020-03-06          0       0         0\n",
              "2020-03-07          0       0         0\n",
              "2020-03-08          3       0         0"
            ]
          },
          "metadata": {
            "tags": []
          },
          "execution_count": 10
        }
      ]
    },
    {
      "cell_type": "code",
      "metadata": {
        "id": "jliGDXbvxWhY",
        "colab_type": "code",
        "colab": {
          "base_uri": "https://localhost:8080/",
          "height": 35
        },
        "outputId": "da39d279-e433-4135-d5da-7ebe9ac7a0f7"
      },
      "source": [
        "df.shape"
      ],
      "execution_count": null,
      "outputs": [
        {
          "output_type": "execute_result",
          "data": {
            "text/plain": [
              "(70, 3)"
            ]
          },
          "metadata": {
            "tags": []
          },
          "execution_count": 11
        }
      ]
    },
    {
      "cell_type": "code",
      "metadata": {
        "id": "0pII-L2aRAgr",
        "colab_type": "code",
        "colab": {}
      },
      "source": [
        "cases = df.filter([Train_case])\n",
        "cases = cases[(cases.T != 0).any()]\n"
      ],
      "execution_count": null,
      "outputs": []
    },
    {
      "cell_type": "code",
      "metadata": {
        "id": "SN8_5B5YRbgT",
        "colab_type": "code",
        "colab": {
          "base_uri": "https://localhost:8080/",
          "height": 230
        },
        "outputId": "efae0f53-974f-4b36-e3d0-e40b2397bf98"
      },
      "source": [
        "cases.head()"
      ],
      "execution_count": null,
      "outputs": [
        {
          "output_type": "execute_result",
          "data": {
            "text/html": [
              "<div>\n",
              "<style scoped>\n",
              "    .dataframe tbody tr th:only-of-type {\n",
              "        vertical-align: middle;\n",
              "    }\n",
              "\n",
              "    .dataframe tbody tr th {\n",
              "        vertical-align: top;\n",
              "    }\n",
              "\n",
              "    .dataframe thead th {\n",
              "        text-align: right;\n",
              "    }\n",
              "</style>\n",
              "<table border=\"1\" class=\"dataframe\">\n",
              "  <thead>\n",
              "    <tr style=\"text-align: right;\">\n",
              "      <th></th>\n",
              "      <th>Confirmed</th>\n",
              "    </tr>\n",
              "    <tr>\n",
              "      <th>Date</th>\n",
              "      <th></th>\n",
              "    </tr>\n",
              "  </thead>\n",
              "  <tbody>\n",
              "    <tr>\n",
              "      <th>2020-03-08</th>\n",
              "      <td>3</td>\n",
              "    </tr>\n",
              "    <tr>\n",
              "      <th>2020-03-15</th>\n",
              "      <td>2</td>\n",
              "    </tr>\n",
              "    <tr>\n",
              "      <th>2020-03-16</th>\n",
              "      <td>3</td>\n",
              "    </tr>\n",
              "    <tr>\n",
              "      <th>2020-03-19</th>\n",
              "      <td>2</td>\n",
              "    </tr>\n",
              "    <tr>\n",
              "      <th>2020-03-20</th>\n",
              "      <td>7</td>\n",
              "    </tr>\n",
              "  </tbody>\n",
              "</table>\n",
              "</div>"
            ],
            "text/plain": [
              "            Confirmed\n",
              "Date                 \n",
              "2020-03-08          3\n",
              "2020-03-15          2\n",
              "2020-03-16          3\n",
              "2020-03-19          2\n",
              "2020-03-20          7"
            ]
          },
          "metadata": {
            "tags": []
          },
          "execution_count": 13
        }
      ]
    },
    {
      "cell_type": "code",
      "metadata": {
        "id": "DEAbe1FIRe8w",
        "colab_type": "code",
        "colab": {
          "base_uri": "https://localhost:8080/",
          "height": 352
        },
        "outputId": "cb22e9f1-4d2e-4903-f46e-4b4933956157"
      },
      "source": [
        "plt.figure(figsize=(6,4))\n",
        "plt.figure(dpi=86)\n",
        "plt.suptitle('Everyday Confirmed Cases in Bangladesh',fontsize=8,fontweight='bold')\n",
        "plt.plot(cases, label=Train_case,color='red', linewidth=2.5)\n",
        "plt.xlabel('Date',fontsize=8,fontweight='bold')\n",
        "plt.ylabel('Confirmed Case',fontsize=8,fontweight='bold')\n",
        "plt.xticks(rotation=70)\n",
        "plt.legend(prop={\"size\":8})\n",
        "plt.tight_layout(3)\n",
        "plt.show()\n",
        "plt.show()"
      ],
      "execution_count": null,
      "outputs": [
        {
          "output_type": "display_data",
          "data": {
            "text/plain": [
              "<Figure size 432x288 with 0 Axes>"
            ]
          },
          "metadata": {
            "tags": []
          }
        },
        {
          "output_type": "display_data",
          "data": {
            "image/png": "[encoded data removed]",
            "text/plain": [
              "<Figure size 516x344 with 1 Axes>"
            ]
          },
          "metadata": {
            "tags": [],
            "needs_background": "light"
          }
        }
      ]
    },
    {
      "cell_type": "code",
      "metadata": {
        "id": "v8QOGpSDzLx8",
        "colab_type": "code",
        "colab": {
          "base_uri": "https://localhost:8080/",
          "height": 352
        },
        "outputId": "4ea7c263-80f6-4ecc-dda1-c8ab7c128b21"
      },
      "source": [
        "plt.figure(figsize=(6,4))\n",
        "plt.figure(dpi=86)\n",
        "plt.suptitle('Everyday Deaths Cases in Bangladesh',fontsize=8,fontweight='bold')\n",
        "plt.plot(df.Deaths, label='Deaths',color='red',linewidth=2.5)\n",
        "plt.xlabel('Date',fontsize=8,fontweight='bold')\n",
        "plt.ylabel('Deaths',fontsize=8,fontweight='bold')\n",
        "plt.xticks(rotation=70)\n",
        "plt.legend(prop={\"size\":8})\n",
        "plt.tight_layout(3)\n",
        "plt.show()\n",
        "plt.show()"
      ],
      "execution_count": null,
      "outputs": [
        {
          "output_type": "display_data",
          "data": {
            "text/plain": [
              "<Figure size 432x288 with 0 Axes>"
            ]
          },
          "metadata": {
            "tags": []
          }
        },
        {
          "output_type": "display_data",
          "data": {
            "image/png": "[encoded data removed]",
            "text/plain": [
              "<Figure size 516x344 with 1 Axes>"
            ]
          },
          "metadata": {
            "tags": [],
            "needs_background": "light"
          }
        }
      ]
    },
    {
      "cell_type": "code",
      "metadata": {
        "id": "TpIRlGgn1rzf",
        "colab_type": "code",
        "colab": {
          "base_uri": "https://localhost:8080/",
          "height": 352
        },
        "outputId": "a4b082a7-c181-4224-fbb2-34d9434ded59"
      },
      "source": [
        "plt.figure(figsize=(6,4))\n",
        "plt.figure(dpi=86)\n",
        "plt.suptitle('Everyday Recovery Cases in Bangladesh',fontsize=8,fontweight='bold')\n",
        "plt.plot(df.Recovery, label='Recovery',color='green',linewidth=2.5)\n",
        "plt.xlabel('Date',fontsize=8,fontweight='bold')\n",
        "plt.ylabel('Recovery',fontsize=8,fontweight='bold')\n",
        "plt.xticks(rotation=70)\n",
        "plt.legend(prop={\"size\":8})\n",
        "plt.tight_layout(3)\n",
        "plt.show()\n",
        "plt.show()"
      ],
      "execution_count": null,
      "outputs": [
        {
          "output_type": "display_data",
          "data": {
            "text/plain": [
              "<Figure size 432x288 with 0 Axes>"
            ]
          },
          "metadata": {
            "tags": []
          }
        },
        {
          "output_type": "display_data",
          "data": {
            "image/png": "[encoded data removed]",
            "text/plain": [
              "<Figure size 516x344 with 1 Axes>"
            ]
          },
          "metadata": {
            "tags": [],
            "needs_background": "light"
          }
        }
      ]
    },
    {
      "cell_type": "code",
      "metadata": {
        "id": "4Dbs7GDbR28b",
        "colab_type": "code",
        "colab": {
          "base_uri": "https://localhost:8080/",
          "height": 35
        },
        "outputId": "b6d10b01-8889-4c8b-e382-7adfa27ab7e1"
      },
      "source": [
        "cases.shape"
      ],
      "execution_count": null,
      "outputs": [
        {
          "output_type": "execute_result",
          "data": {
            "text/plain": [
              "(55, 1)"
            ]
          },
          "metadata": {
            "tags": []
          },
          "execution_count": 17
        }
      ]
    },
    {
      "cell_type": "code",
      "metadata": {
        "id": "PC8E6sjNS_wB",
        "colab_type": "code",
        "colab": {}
      },
      "source": [
        "def data_split(data, look_back=1):\n",
        "    x, y = [], []\n",
        "    for i in range(len(data) - look_back - 1):\n",
        "        a = data[i:(i + look_back), 0]\n",
        "        x.append(a)\n",
        "        y.append(data[i + look_back, 0])\n",
        "    return np.array(x), np.array(y)"
      ],
      "execution_count": null,
      "outputs": []
    },
    {
      "cell_type": "code",
      "metadata": {
        "id": "ZlVxHXSnTe6y",
        "colab_type": "code",
        "colab": {}
      },
      "source": [
        "test_size = TEST_SIZE\n",
        "test_size = int(cases.shape[0] * test_size)\n",
        "train_cases = cases[:-test_size]\n",
        "test_cases = cases[-test_size:]\n"
      ],
      "execution_count": null,
      "outputs": []
    },
    {
      "cell_type": "code",
      "metadata": {
        "id": "3_PRwibTTp8X",
        "colab_type": "code",
        "colab": {
          "base_uri": "https://localhost:8080/",
          "height": 35
        },
        "outputId": "00f28faf-dac3-4584-f3ee-900cce9f7ad1"
      },
      "source": [
        "train_cases.shape"
      ],
      "execution_count": null,
      "outputs": [
        {
          "output_type": "execute_result",
          "data": {
            "text/plain": [
              "(39, 1)"
            ]
          },
          "metadata": {
            "tags": []
          },
          "execution_count": 20
        }
      ]
    },
    {
      "cell_type": "code",
      "metadata": {
        "id": "TqrFXm-MTtsc",
        "colab_type": "code",
        "colab": {
          "base_uri": "https://localhost:8080/",
          "height": 35
        },
        "outputId": "6969ab37-2f81-45fd-b59e-bd808e6772ab"
      },
      "source": [
        "test_cases.shape"
      ],
      "execution_count": null,
      "outputs": [
        {
          "output_type": "execute_result",
          "data": {
            "text/plain": [
              "(16, 1)"
            ]
          },
          "metadata": {
            "tags": []
          },
          "execution_count": 21
        }
      ]
    },
    {
      "cell_type": "code",
      "metadata": {
        "id": "xDKPkfM5TwFz",
        "colab_type": "code",
        "colab": {}
      },
      "source": [
        "scaler = MinMaxScaler(feature_range=(-1, 1))\n",
        "scaler = scaler.fit(cases)\n",
        "all_cases = scaler.transform(cases)\n",
        "train_cases = scaler.transform(train_cases)\n",
        "test_cases = scaler.transform(test_cases)"
      ],
      "execution_count": null,
      "outputs": []
    },
    {
      "cell_type": "code",
      "metadata": {
        "id": "t77w3zGQT0Sf",
        "colab_type": "code",
        "colab": {
          "base_uri": "https://localhost:8080/",
          "height": 35
        },
        "outputId": "91cfbf74-8a74-4f22-9bef-8828565df3a1"
      },
      "source": [
        "all_cases.shape,train_cases.shape,test_cases.shape"
      ],
      "execution_count": null,
      "outputs": [
        {
          "output_type": "execute_result",
          "data": {
            "text/plain": [
              "((55, 1), (39, 1), (16, 1))"
            ]
          },
          "metadata": {
            "tags": []
          },
          "execution_count": 23
        }
      ]
    },
    {
      "cell_type": "code",
      "metadata": {
        "id": "Fw2jfwPfT2tM",
        "colab_type": "code",
        "colab": {}
      },
      "source": [
        "look_back = LOOK_BACK\n",
        "X_all, Y_all = data_split(all_cases, look_back=look_back)\n",
        "X_train, Y_train = data_split(train_cases, look_back=look_back)\n",
        "X_test, Y_test = data_split(test_cases, look_back=look_back)"
      ],
      "execution_count": null,
      "outputs": []
    },
    {
      "cell_type": "code",
      "metadata": {
        "id": "Wy1Z1xynT-6s",
        "colab_type": "code",
        "colab": {
          "base_uri": "https://localhost:8080/",
          "height": 35
        },
        "outputId": "0c79244d-6ab2-40d8-ccd4-ac2963d3d336"
      },
      "source": [
        "X_all.shape,X_train.shape,X_test.shape\n"
      ],
      "execution_count": null,
      "outputs": [
        {
          "output_type": "execute_result",
          "data": {
            "text/plain": [
              "((53, 1), (37, 1), (14, 1))"
            ]
          },
          "metadata": {
            "tags": []
          },
          "execution_count": 25
        }
      ]
    },
    {
      "cell_type": "code",
      "metadata": {
        "id": "H0RtJi6cUCQy",
        "colab_type": "code",
        "colab": {}
      },
      "source": [
        "X_all = np.array(X_all).reshape(X_all.shape[0], 1, 1)\n",
        "Y_all = np.array(Y_all).reshape(Y_all.shape[0], 1)\n",
        "X_train = np.array(X_train).reshape(X_train.shape[0], 1, 1)\n",
        "Y_train = np.array(Y_train).reshape(Y_train.shape[0], 1)\n",
        "X_test = np.array(X_test).reshape(X_test.shape[0], 1, 1)\n",
        "Y_test = np.array(Y_test).reshape(Y_test.shape[0], 1)"
      ],
      "execution_count": null,
      "outputs": []
    },
    {
      "cell_type": "code",
      "metadata": {
        "id": "xj0TtkJ0UOMs",
        "colab_type": "code",
        "colab": {
          "base_uri": "https://localhost:8080/",
          "height": 35
        },
        "outputId": "9c2c8518-0950-44a0-911c-164680031d6c"
      },
      "source": [
        "X_all.shape,Y_all.shape,X_train.shape,Y_train.shape,X_test.shape,Y_test.shape"
      ],
      "execution_count": null,
      "outputs": [
        {
          "output_type": "execute_result",
          "data": {
            "text/plain": [
              "((53, 1, 1), (53, 1), (37, 1, 1), (37, 1), (14, 1, 1), (14, 1))"
            ]
          },
          "metadata": {
            "tags": []
          },
          "execution_count": 27
        }
      ]
    },
    {
      "cell_type": "markdown",
      "metadata": {
        "id": "bfC6gajMDWqv",
        "colab_type": "text"
      },
      "source": [
        "\\\n",
        "##LSTM"
      ]
    },
    {
      "cell_type": "code",
      "metadata": {
        "id": "gNE_SDpyUsEp",
        "colab_type": "code",
        "colab": {
          "base_uri": "https://localhost:8080/",
          "height": 284
        },
        "outputId": "c8b31924-7de3-4348-e8d7-68e7cf18508a"
      },
      "source": [
        "batch_size = BATCH_SIZE\n",
        "model = Sequential()\n",
        "model.add(LSTM(4, return_sequences=True, \n",
        "               batch_input_shape=(batch_size, X_train.shape[1], X_train.shape[2]), \n",
        "               stateful=True))\n",
        "model.add(LSTM(1, stateful=True))\n",
        "model.add(Dense(Y_train.shape[1]))\n",
        "model.compile(loss='mean_squared_error', optimizer='adam')\n",
        "print(model.summary())"
      ],
      "execution_count": null,
      "outputs": [
        {
          "output_type": "stream",
          "text": [
            "Model: \"sequential\"\n",
            "_________________________________________________________________\n",
            "Layer (type)                 Output Shape              Param #   \n",
            "=================================================================\n",
            "lstm (LSTM)                  (1, 1, 4)                 96        \n",
            "_________________________________________________________________\n",
            "lstm_1 (LSTM)                (1, 1)                    24        \n",
            "_________________________________________________________________\n",
            "dense (Dense)                (1, 1)                    2         \n",
            "=================================================================\n",
            "Total params: 122\n",
            "Trainable params: 122\n",
            "Non-trainable params: 0\n",
            "_________________________________________________________________\n",
            "None\n"
          ],
          "name": "stdout"
        }
      ]
    },
    {
      "cell_type": "code",
      "metadata": {
        "id": "RXrpphSz2MwB",
        "colab_type": "code",
        "colab": {
          "base_uri": "https://localhost:8080/",
          "height": 422
        },
        "outputId": "d59f99d5-1b50-4d6d-bf04-db65e4a411eb"
      },
      "source": [
        "from tensorflow.keras.utils import plot_model\n",
        "plot_model(model, to_file='model.png', show_shapes=True)"
      ],
      "execution_count": null,
      "outputs": [
        {
          "output_type": "execute_result",
          "data": {
            "image/png": "[encoded data removed]",
            "text/plain": [
              "<IPython.core.display.Image object>"
            ]
          },
          "metadata": {
            "tags": []
          },
          "execution_count": 29
        }
      ]
    },
    {
      "cell_type": "code",
      "metadata": {
        "id": "e4k8B4FmU0Zt",
        "colab_type": "code",
        "colab": {
          "base_uri": "https://localhost:8080/",
          "height": 1000
        },
        "outputId": "38c691f6-6c26-4389-d760-d3d0cc1af4d4"
      },
      "source": [
        "epoch = EPOCHS\n",
        "loss = []\n",
        "for i in range(epoch):\n",
        "    print('Iteration ' + str(i + 1) + '/' + str(epoch))\n",
        "    model.fit(X_train, Y_train, batch_size=batch_size, \n",
        "              epochs=1, verbose=1, shuffle=False)\n",
        "    h = model.history\n",
        "    loss.append(h.history['loss'][0])\n",
        "    model.reset_states()"
      ],
      "execution_count": null,
      "outputs": [
        {
          "output_type": "stream",
          "text": [
            "Iteration 1/100\n",
            "37/37 [==============================] - 0s 1ms/step - loss: 0.5431\n",
            "Iteration 2/100\n",
            "37/37 [==============================] - 0s 1ms/step - loss: 0.4492\n",
            "Iteration 3/100\n",
            "37/37 [==============================] - 0s 2ms/step - loss: 0.3704\n",
            "Iteration 4/100\n",
            "37/37 [==============================] - 0s 2ms/step - loss: 0.2998\n",
            "Iteration 5/100\n",
            "37/37 [==============================] - 0s 2ms/step - loss: 0.2426\n",
            "Iteration 6/100\n",
            "37/37 [==============================] - 0s 2ms/step - loss: 0.2022\n",
            "Iteration 7/100\n",
            "37/37 [==============================] - 0s 2ms/step - loss: 0.1753\n",
            "Iteration 8/100\n",
            "37/37 [==============================] - 0s 2ms/step - loss: 0.1577\n",
            "Iteration 9/100\n",
            "37/37 [==============================] - 0s 1ms/step - loss: 0.1459\n",
            "Iteration 10/100\n",
            "37/37 [==============================] - 0s 2ms/step - loss: 0.1378\n",
            "Iteration 11/100\n",
            "37/37 [==============================] - 0s 1ms/step - loss: 0.1321\n",
            "Iteration 12/100\n",
            "37/37 [==============================] - 0s 2ms/step - loss: 0.1280\n",
            "Iteration 13/100\n",
            "37/37 [==============================] - 0s 2ms/step - loss: 0.1249\n",
            "Iteration 14/100\n",
            "37/37 [==============================] - 0s 2ms/step - loss: 0.1224\n",
            "Iteration 15/100\n",
            "37/37 [==============================] - 0s 2ms/step - loss: 0.1205\n",
            "Iteration 16/100\n",
            "37/37 [==============================] - 0s 2ms/step - loss: 0.1187\n",
            "Iteration 17/100\n",
            "37/37 [==============================] - 0s 2ms/step - loss: 0.1172\n",
            "Iteration 18/100\n",
            "37/37 [==============================] - 0s 2ms/step - loss: 0.1158\n",
            "Iteration 19/100\n",
            "37/37 [==============================] - 0s 1ms/step - loss: 0.1145\n",
            "Iteration 20/100\n",
            "37/37 [==============================] - 0s 2ms/step - loss: 0.1132\n",
            "Iteration 21/100\n",
            "37/37 [==============================] - 0s 2ms/step - loss: 0.1119\n",
            "Iteration 22/100\n",
            "37/37 [==============================] - 0s 2ms/step - loss: 0.1107\n",
            "Iteration 23/100\n",
            "37/37 [==============================] - 0s 1ms/step - loss: 0.1095\n",
            "Iteration 24/100\n",
            "37/37 [==============================] - 0s 2ms/step - loss: 0.1083\n",
            "Iteration 25/100\n",
            "37/37 [==============================] - 0s 2ms/step - loss: 0.1072\n",
            "Iteration 26/100\n",
            "37/37 [==============================] - 0s 2ms/step - loss: 0.1061\n",
            "Iteration 27/100\n",
            "37/37 [==============================] - 0s 1ms/step - loss: 0.1049\n",
            "Iteration 28/100\n",
            "37/37 [==============================] - 0s 2ms/step - loss: 0.1038\n",
            "Iteration 29/100\n",
            "37/37 [==============================] - 0s 2ms/step - loss: 0.1025\n",
            "Iteration 30/100\n",
            "37/37 [==============================] - 0s 2ms/step - loss: 0.1012\n",
            "Iteration 31/100\n",
            "37/37 [==============================] - 0s 2ms/step - loss: 0.0998\n",
            "Iteration 32/100\n",
            "37/37 [==============================] - 0s 2ms/step - loss: 0.0982\n",
            "Iteration 33/100\n",
            "37/37 [==============================] - 0s 2ms/step - loss: 0.0965\n",
            "Iteration 34/100\n",
            "37/37 [==============================] - 0s 2ms/step - loss: 0.0945\n",
            "Iteration 35/100\n",
            "37/37 [==============================] - 0s 2ms/step - loss: 0.0923\n",
            "Iteration 36/100\n",
            "37/37 [==============================] - 0s 1ms/step - loss: 0.0898\n",
            "Iteration 37/100\n",
            "37/37 [==============================] - 0s 2ms/step - loss: 0.0869\n",
            "Iteration 38/100\n",
            "37/37 [==============================] - 0s 1ms/step - loss: 0.0837\n",
            "Iteration 39/100\n",
            "37/37 [==============================] - 0s 1ms/step - loss: 0.0803\n",
            "Iteration 40/100\n",
            "37/37 [==============================] - 0s 1ms/step - loss: 0.0766\n",
            "Iteration 41/100\n",
            "37/37 [==============================] - 0s 2ms/step - loss: 0.0730\n",
            "Iteration 42/100\n",
            "37/37 [==============================] - 0s 2ms/step - loss: 0.0692\n",
            "Iteration 43/100\n",
            "37/37 [==============================] - 0s 2ms/step - loss: 0.0655\n",
            "Iteration 44/100\n",
            "37/37 [==============================] - 0s 1ms/step - loss: 0.0617\n",
            "Iteration 45/100\n",
            "37/37 [==============================] - 0s 2ms/step - loss: 0.0578\n",
            "Iteration 46/100\n",
            "37/37 [==============================] - 0s 2ms/step - loss: 0.0540\n",
            "Iteration 47/100\n",
            "37/37 [==============================] - 0s 2ms/step - loss: 0.0502\n",
            "Iteration 48/100\n",
            "37/37 [==============================] - 0s 1ms/step - loss: 0.0465\n",
            "Iteration 49/100\n",
            "37/37 [==============================] - 0s 1ms/step - loss: 0.0429\n",
            "Iteration 50/100\n",
            "37/37 [==============================] - 0s 2ms/step - loss: 0.0396\n",
            "Iteration 51/100\n",
            "37/37 [==============================] - 0s 2ms/step - loss: 0.0365\n",
            "Iteration 52/100\n",
            "37/37 [==============================] - 0s 2ms/step - loss: 0.0337\n",
            "Iteration 53/100\n",
            "37/37 [==============================] - 0s 2ms/step - loss: 0.0311\n",
            "Iteration 54/100\n",
            "37/37 [==============================] - 0s 2ms/step - loss: 0.0288\n",
            "Iteration 55/100\n",
            "37/37 [==============================] - 0s 1ms/step - loss: 0.0268\n",
            "Iteration 56/100\n",
            "37/37 [==============================] - 0s 2ms/step - loss: 0.0249\n",
            "Iteration 57/100\n",
            "37/37 [==============================] - 0s 2ms/step - loss: 0.0233\n",
            "Iteration 58/100\n",
            "37/37 [==============================] - 0s 2ms/step - loss: 0.0220\n",
            "Iteration 59/100\n",
            "37/37 [==============================] - 0s 1ms/step - loss: 0.0207\n",
            "Iteration 60/100\n",
            "37/37 [==============================] - 0s 1ms/step - loss: 0.0197\n",
            "Iteration 61/100\n",
            "37/37 [==============================] - 0s 1ms/step - loss: 0.0188\n",
            "Iteration 62/100\n",
            "37/37 [==============================] - 0s 1ms/step - loss: 0.0180\n",
            "Iteration 63/100\n",
            "37/37 [==============================] - 0s 1ms/step - loss: 0.0174\n",
            "Iteration 64/100\n",
            "37/37 [==============================] - 0s 2ms/step - loss: 0.0168\n",
            "Iteration 65/100\n",
            "37/37 [==============================] - 0s 2ms/step - loss: 0.0163\n",
            "Iteration 66/100\n",
            "37/37 [==============================] - 0s 2ms/step - loss: 0.0160\n",
            "Iteration 67/100\n",
            "37/37 [==============================] - 0s 2ms/step - loss: 0.0168\n",
            "Iteration 68/100\n",
            "37/37 [==============================] - 0s 2ms/step - loss: 0.0209\n",
            "Iteration 69/100\n",
            "37/37 [==============================] - 0s 1ms/step - loss: 0.0374\n",
            "Iteration 70/100\n",
            "37/37 [==============================] - 0s 1ms/step - loss: 0.0418\n",
            "Iteration 71/100\n",
            "37/37 [==============================] - 0s 2ms/step - loss: 0.0205\n",
            "Iteration 72/100\n",
            "37/37 [==============================] - 0s 2ms/step - loss: 0.0201\n",
            "Iteration 73/100\n",
            "37/37 [==============================] - 0s 2ms/step - loss: 0.0332\n",
            "Iteration 74/100\n",
            "37/37 [==============================] - 0s 1ms/step - loss: 0.0242\n",
            "Iteration 75/100\n",
            "37/37 [==============================] - 0s 2ms/step - loss: 0.0441\n",
            "Iteration 76/100\n",
            "37/37 [==============================] - 0s 2ms/step - loss: 0.0161\n",
            "Iteration 77/100\n",
            "37/37 [==============================] - 0s 2ms/step - loss: 0.0380\n",
            "Iteration 78/100\n",
            "37/37 [==============================] - 0s 1ms/step - loss: 0.0210\n",
            "Iteration 79/100\n",
            "37/37 [==============================] - 0s 2ms/step - loss: 0.0379\n",
            "Iteration 80/100\n",
            "37/37 [==============================] - 0s 1ms/step - loss: 0.0243\n",
            "Iteration 81/100\n",
            "37/37 [==============================] - 0s 2ms/step - loss: 0.0334\n",
            "Iteration 82/100\n",
            "37/37 [==============================] - 0s 2ms/step - loss: 0.0260\n",
            "Iteration 83/100\n",
            "37/37 [==============================] - 0s 2ms/step - loss: 0.0293\n",
            "Iteration 84/100\n",
            "37/37 [==============================] - 0s 2ms/step - loss: 0.0239\n",
            "Iteration 85/100\n",
            "37/37 [==============================] - 0s 2ms/step - loss: 0.0277\n",
            "Iteration 86/100\n",
            "37/37 [==============================] - 0s 1ms/step - loss: 0.0238\n",
            "Iteration 87/100\n",
            "37/37 [==============================] - 0s 2ms/step - loss: 0.0264\n",
            "Iteration 88/100\n",
            "37/37 [==============================] - 0s 2ms/step - loss: 0.0236\n",
            "Iteration 89/100\n",
            "37/37 [==============================] - 0s 2ms/step - loss: 0.0247\n",
            "Iteration 90/100\n",
            "37/37 [==============================] - 0s 2ms/step - loss: 0.0233\n",
            "Iteration 91/100\n",
            "37/37 [==============================] - 0s 2ms/step - loss: 0.0227\n",
            "Iteration 92/100\n",
            "37/37 [==============================] - 0s 2ms/step - loss: 0.0231\n",
            "Iteration 93/100\n",
            "37/37 [==============================] - 0s 2ms/step - loss: 0.0207\n",
            "Iteration 94/100\n",
            "37/37 [==============================] - 0s 2ms/step - loss: 0.0229\n",
            "Iteration 95/100\n",
            "37/37 [==============================] - 0s 1ms/step - loss: 0.0188\n",
            "Iteration 96/100\n",
            "37/37 [==============================] - 0s 2ms/step - loss: 0.0228\n",
            "Iteration 97/100\n",
            "37/37 [==============================] - 0s 2ms/step - loss: 0.0171\n",
            "Iteration 98/100\n",
            "37/37 [==============================] - 0s 1ms/step - loss: 0.0226\n",
            "Iteration 99/100\n",
            "37/37 [==============================] - 0s 2ms/step - loss: 0.0159\n",
            "Iteration 100/100\n",
            "37/37 [==============================] - 0s 2ms/step - loss: 0.0224\n"
          ],
          "name": "stdout"
        }
      ]
    },
    {
      "cell_type": "code",
      "metadata": {
        "id": "3xECBiQCU53Z",
        "colab_type": "code",
        "colab": {
          "base_uri": "https://localhost:8080/",
          "height": 324
        },
        "outputId": "9bbf18e0-72ee-42d7-c1c3-7ee7d22a0491"
      },
      "source": [
        "plt.figure(figsize=(6,4))\n",
        "plt.figure(dpi=86)\n",
        "plt.plot(loss, label='loss',color='Maroon',linewidth=2.5)\n",
        "plt.title('Model Loss History',fontsize=8,fontweight='bold')\n",
        "plt.xlabel('epoch',fontsize=8,fontweight='bold')\n",
        "plt.ylabel('loss',fontsize=8,fontweight='bold')\n",
        "plt.legend(prop={\"size\":8})\n",
        "plt.tight_layout(3)\n",
        "plt.show()"
      ],
      "execution_count": null,
      "outputs": [
        {
          "output_type": "display_data",
          "data": {
            "text/plain": [
              "<Figure size 432x288 with 0 Axes>"
            ]
          },
          "metadata": {
            "tags": []
          }
        },
        {
          "output_type": "display_data",
          "data": {
            "image/png": "[encoded data removed]",
            "text/plain": [
              "<Figure size 516x344 with 1 Axes>"
            ]
          },
          "metadata": {
            "tags": [],
            "needs_background": "light"
          }
        }
      ]
    },
    {
      "cell_type": "code",
      "metadata": {
        "id": "TDzFJGoAVEQO",
        "colab_type": "code",
        "colab": {}
      },
      "source": [
        "train_predict = model.predict(X_train, batch_size=batch_size)"
      ],
      "execution_count": null,
      "outputs": []
    },
    {
      "cell_type": "code",
      "metadata": {
        "id": "WXTpHPi1VMbh",
        "colab_type": "code",
        "colab": {}
      },
      "source": [
        "days_to_predict = X_test.shape[0]\n",
        "test_predict = []\n",
        "pred_samples = train_predict[-1:]\n",
        "pred_samples = np.array([pred_samples])\n",
        "for i in range(days_to_predict):\n",
        "    pred = model.predict(X_test[i:(i+1)], batch_size=batch_size)\n",
        "    pred = np.array(pred).flatten()\n",
        "    test_predict.append(pred)\n",
        "test_predict = np.array(test_predict).reshape(1, len(test_predict), 1)"
      ],
      "execution_count": null,
      "outputs": []
    },
    {
      "cell_type": "code",
      "metadata": {
        "id": "1680aWFQVRe5",
        "colab_type": "code",
        "colab": {}
      },
      "source": [
        "model.reset_states()"
      ],
      "execution_count": null,
      "outputs": []
    },
    {
      "cell_type": "code",
      "metadata": {
        "id": "q3fw58GPVV7-",
        "colab_type": "code",
        "colab": {}
      },
      "source": [
        "X_train_flatten = np.array(scaler.inverse_transform(\n",
        "    np.array(X_train).reshape(X_train.shape[0], 1)\n",
        ")).flatten().astype('int')\n",
        "Y_train_flatten = np.array(scaler.inverse_transform(\n",
        "    np.array(Y_train).reshape(Y_train.shape[0], 1)\n",
        ")).flatten().astype('int')\n",
        "train_predict_flatten = np.array(scaler.inverse_transform(\n",
        "    np.array(train_predict).reshape(train_predict.shape[0], 1)\n",
        ")).flatten().astype('int')\n",
        "X_test_flatten = np.array(scaler.inverse_transform(\n",
        "    np.array(X_test).reshape(X_test.shape[0], 1)\n",
        ")).flatten().astype('int')\n",
        "Y_test_flatten = np.array(scaler.inverse_transform(\n",
        "    np.array(Y_test).reshape(Y_test.shape[0], 1)\n",
        ")).flatten().astype('int')\n",
        "test_predict_flatten = np.array(scaler.inverse_transform(\n",
        "    np.array(test_predict).reshape(test_predict.shape[1], 1)\n",
        ")).flatten().astype('int')"
      ],
      "execution_count": null,
      "outputs": []
    },
    {
      "cell_type": "code",
      "metadata": {
        "id": "wLhS1-qwVrXj",
        "colab_type": "code",
        "colab": {}
      },
      "source": [
        "train_predict_score = math.sqrt(\n",
        "    mean_squared_error(\n",
        "        Y_train_flatten, \n",
        "        train_predict_flatten\n",
        "    )\n",
        ")\n",
        "test_predict_score = math.sqrt(\n",
        "    mean_squared_error(\n",
        "        Y_test_flatten, \n",
        "        test_predict_flatten\n",
        "    )\n",
        ")"
      ],
      "execution_count": null,
      "outputs": []
    },
    {
      "cell_type": "code",
      "metadata": {
        "id": "bGZCzY-nVv6U",
        "colab_type": "code",
        "colab": {
          "base_uri": "https://localhost:8080/",
          "height": 35
        },
        "outputId": "2da2ab1c-3fa0-4ac9-b63c-f15c0bda6316"
      },
      "source": [
        "'Train Score: %.2f RMSE' % (train_predict_score)"
      ],
      "execution_count": null,
      "outputs": [
        {
          "output_type": "execute_result",
          "data": {
            "application/vnd.google.colaboratory.intrinsic+json": {
              "type": "string"
            },
            "text/plain": [
              "'Train Score: 58.89 RMSE'"
            ]
          },
          "metadata": {
            "tags": []
          },
          "execution_count": 37
        }
      ]
    },
    {
      "cell_type": "code",
      "metadata": {
        "id": "PsniN56pV0Wb",
        "colab_type": "code",
        "colab": {
          "base_uri": "https://localhost:8080/",
          "height": 35
        },
        "outputId": "45588020-476c-4c7e-cf78-9c410d998d46"
      },
      "source": [
        "'Test Score: %.2f RMSE' % (test_predict_score)"
      ],
      "execution_count": null,
      "outputs": [
        {
          "output_type": "execute_result",
          "data": {
            "application/vnd.google.colaboratory.intrinsic+json": {
              "type": "string"
            },
            "text/plain": [
              "'Test Score: 327.70 RMSE'"
            ]
          },
          "metadata": {
            "tags": []
          },
          "execution_count": 38
        }
      ]
    },
    {
      "cell_type": "code",
      "metadata": {
        "id": "rhcIQwjlV3CE",
        "colab_type": "code",
        "colab": {
          "base_uri": "https://localhost:8080/",
          "height": 352
        },
        "outputId": "1f9f1425-7ccc-4176-fda4-fedef7b82d8e"
      },
      "source": [
        "plt.figure(figsize=(8, 5))\n",
        "plt.figure(dpi=86)\n",
        "plt.plot(\n",
        "    cases.index[:len(X_train_flatten)],\n",
        "    X_train_flatten,\n",
        "    label='train (true value)',linewidth=2.5\n",
        ")\n",
        "plt.plot(\n",
        "    cases.index[:len(train_predict_flatten)],\n",
        "    train_predict_flatten,\n",
        "    label='train (predict value)',linewidth=2.5\n",
        ")\n",
        "plt.plot(\n",
        "    cases.index[len(X_train_flatten):len(X_train_flatten) + len(X_test_flatten)],\n",
        "    X_test_flatten,\n",
        "    label='test (true value)',linewidth=2.5\n",
        ")\n",
        "plt.plot(\n",
        "    cases.index[len(X_train_flatten):len(X_train_flatten) + len(test_predict_flatten)],\n",
        "    test_predict_flatten,\n",
        "    label='test (predict value)',linewidth=2.5\n",
        ")\n",
        "plt.suptitle('Historical Training Test Based on Confirmed Case in Bangladesh',fontsize=8,fontweight='bold')\n",
        "plt.xlabel('Date',fontsize=8,fontweight='bold')\n",
        "plt.ylabel('Confirmed case',fontsize=8,fontweight='bold')\n",
        "plt.xticks(rotation=70)\n",
        "plt.legend(prop={\"size\":8})\n",
        "plt.tight_layout(3)\n",
        "plt.show()"
      ],
      "execution_count": null,
      "outputs": [
        {
          "output_type": "display_data",
          "data": {
            "text/plain": [
              "<Figure size 576x360 with 0 Axes>"
            ]
          },
          "metadata": {
            "tags": []
          }
        },
        {
          "output_type": "display_data",
          "data": {
            "image/png": "[encoded data removed]",
            "text/plain": [
              "<Figure size 516x344 with 1 Axes>"
            ]
          },
          "metadata": {
            "tags": [],
            "needs_background": "light"
          }
        }
      ]
    },
    {
      "cell_type": "code",
      "metadata": {
        "id": "8_x65-7RV8Jp",
        "colab_type": "code",
        "colab": {}
      },
      "source": [
        "model.reset_states()"
      ],
      "execution_count": null,
      "outputs": []
    },
    {
      "cell_type": "code",
      "metadata": {
        "id": "91aijtuiWR2_",
        "colab_type": "code",
        "colab": {
          "base_uri": "https://localhost:8080/",
          "height": 1000
        },
        "outputId": "05c9dd74-a95a-4043-ec04-d530b30a1e1d"
      },
      "source": [
        "epoch = EPOCHS\n",
        "loss = []\n",
        "for i in range(epoch):\n",
        "    print('Iteration ' + str(i + 1) + '/' + str(epoch))\n",
        "    model.fit(X_all, Y_all, batch_size=batch_size, \n",
        "              epochs=1, verbose=1, shuffle=False)\n",
        "    h = model.history\n",
        "    loss.append(h.history['loss'][0])\n",
        "    model.reset_states()"
      ],
      "execution_count": null,
      "outputs": [
        {
          "output_type": "stream",
          "text": [
            "Iteration 1/100\n",
            "53/53 [==============================] - 0s 2ms/step - loss: 0.1183\n",
            "Iteration 2/100\n",
            "53/53 [==============================] - 0s 1ms/step - loss: 0.0973\n",
            "Iteration 3/100\n",
            "53/53 [==============================] - 0s 2ms/step - loss: 0.0807\n",
            "Iteration 4/100\n",
            "53/53 [==============================] - 0s 2ms/step - loss: 0.0788\n",
            "Iteration 5/100\n",
            "53/53 [==============================] - 0s 1ms/step - loss: 0.0510\n",
            "Iteration 6/100\n",
            "53/53 [==============================] - 0s 1ms/step - loss: 0.0517\n",
            "Iteration 7/100\n",
            "53/53 [==============================] - 0s 1ms/step - loss: 0.0529\n",
            "Iteration 8/100\n",
            "53/53 [==============================] - 0s 1ms/step - loss: 0.0491\n",
            "Iteration 9/100\n",
            "53/53 [==============================] - 0s 1ms/step - loss: 0.0342\n",
            "Iteration 10/100\n",
            "53/53 [==============================] - 0s 2ms/step - loss: 0.0326\n",
            "Iteration 11/100\n",
            "53/53 [==============================] - 0s 1ms/step - loss: 0.0619\n",
            "Iteration 12/100\n",
            "53/53 [==============================] - 0s 2ms/step - loss: 0.0378\n",
            "Iteration 13/100\n",
            "53/53 [==============================] - 0s 2ms/step - loss: 0.0384\n",
            "Iteration 14/100\n",
            "53/53 [==============================] - 0s 1ms/step - loss: 0.0350\n",
            "Iteration 15/100\n",
            "53/53 [==============================] - 0s 2ms/step - loss: 0.0520\n",
            "Iteration 16/100\n",
            "53/53 [==============================] - 0s 2ms/step - loss: 0.0336\n",
            "Iteration 17/100\n",
            "53/53 [==============================] - 0s 2ms/step - loss: 0.0363\n",
            "Iteration 18/100\n",
            "53/53 [==============================] - 0s 2ms/step - loss: 0.0315\n",
            "Iteration 19/100\n",
            "53/53 [==============================] - 0s 2ms/step - loss: 0.0451\n",
            "Iteration 20/100\n",
            "53/53 [==============================] - 0s 1ms/step - loss: 0.0311\n",
            "Iteration 21/100\n",
            "53/53 [==============================] - 0s 2ms/step - loss: 0.0350\n",
            "Iteration 22/100\n",
            "53/53 [==============================] - 0s 2ms/step - loss: 0.0296\n",
            "Iteration 23/100\n",
            "53/53 [==============================] - 0s 2ms/step - loss: 0.0374\n",
            "Iteration 24/100\n",
            "53/53 [==============================] - 0s 2ms/step - loss: 0.0290\n",
            "Iteration 25/100\n",
            "53/53 [==============================] - 0s 2ms/step - loss: 0.0331\n",
            "Iteration 26/100\n",
            "53/53 [==============================] - 0s 2ms/step - loss: 0.0282\n",
            "Iteration 27/100\n",
            "53/53 [==============================] - 0s 2ms/step - loss: 0.0321\n",
            "Iteration 28/100\n",
            "53/53 [==============================] - 0s 2ms/step - loss: 0.0273\n",
            "Iteration 29/100\n",
            "53/53 [==============================] - 0s 1ms/step - loss: 0.0305\n",
            "Iteration 30/100\n",
            "53/53 [==============================] - 0s 1ms/step - loss: 0.0267\n",
            "Iteration 31/100\n",
            "53/53 [==============================] - 0s 1ms/step - loss: 0.0292\n",
            "Iteration 32/100\n",
            "53/53 [==============================] - 0s 1ms/step - loss: 0.0261\n",
            "Iteration 33/100\n",
            "53/53 [==============================] - 0s 1ms/step - loss: 0.0282\n",
            "Iteration 34/100\n",
            "53/53 [==============================] - 0s 2ms/step - loss: 0.0256\n",
            "Iteration 35/100\n",
            "53/53 [==============================] - 0s 2ms/step - loss: 0.0272\n",
            "Iteration 36/100\n",
            "53/53 [==============================] - 0s 1ms/step - loss: 0.0251\n",
            "Iteration 37/100\n",
            "53/53 [==============================] - 0s 1ms/step - loss: 0.0264\n",
            "Iteration 38/100\n",
            "53/53 [==============================] - 0s 1ms/step - loss: 0.0246\n",
            "Iteration 39/100\n",
            "53/53 [==============================] - 0s 1ms/step - loss: 0.0257\n",
            "Iteration 40/100\n",
            "53/53 [==============================] - 0s 1ms/step - loss: 0.0242\n",
            "Iteration 41/100\n",
            "53/53 [==============================] - 0s 2ms/step - loss: 0.0251\n",
            "Iteration 42/100\n",
            "53/53 [==============================] - 0s 2ms/step - loss: 0.0238\n",
            "Iteration 43/100\n",
            "53/53 [==============================] - 0s 1ms/step - loss: 0.0245\n",
            "Iteration 44/100\n",
            "53/53 [==============================] - 0s 2ms/step - loss: 0.0234\n",
            "Iteration 45/100\n",
            "53/53 [==============================] - 0s 2ms/step - loss: 0.0240\n",
            "Iteration 46/100\n",
            "53/53 [==============================] - 0s 2ms/step - loss: 0.0231\n",
            "Iteration 47/100\n",
            "53/53 [==============================] - 0s 2ms/step - loss: 0.0235\n",
            "Iteration 48/100\n",
            "53/53 [==============================] - 0s 2ms/step - loss: 0.0228\n",
            "Iteration 49/100\n",
            "53/53 [==============================] - 0s 2ms/step - loss: 0.0231\n",
            "Iteration 50/100\n",
            "53/53 [==============================] - 0s 2ms/step - loss: 0.0225\n",
            "Iteration 51/100\n",
            "53/53 [==============================] - 0s 2ms/step - loss: 0.0227\n",
            "Iteration 52/100\n",
            "53/53 [==============================] - 0s 1ms/step - loss: 0.0222\n",
            "Iteration 53/100\n",
            "53/53 [==============================] - 0s 2ms/step - loss: 0.0223\n",
            "Iteration 54/100\n",
            "53/53 [==============================] - 0s 1ms/step - loss: 0.0219\n",
            "Iteration 55/100\n",
            "53/53 [==============================] - 0s 1ms/step - loss: 0.0219\n",
            "Iteration 56/100\n",
            "53/53 [==============================] - 0s 1ms/step - loss: 0.0217\n",
            "Iteration 57/100\n",
            "53/53 [==============================] - 0s 1ms/step - loss: 0.0216\n",
            "Iteration 58/100\n",
            "53/53 [==============================] - 0s 2ms/step - loss: 0.0214\n",
            "Iteration 59/100\n",
            "53/53 [==============================] - 0s 1ms/step - loss: 0.0213\n",
            "Iteration 60/100\n",
            "53/53 [==============================] - 0s 1ms/step - loss: 0.0212\n",
            "Iteration 61/100\n",
            "53/53 [==============================] - 0s 1ms/step - loss: 0.0210\n",
            "Iteration 62/100\n",
            "53/53 [==============================] - 0s 1ms/step - loss: 0.0210\n",
            "Iteration 63/100\n",
            "53/53 [==============================] - 0s 2ms/step - loss: 0.0207\n",
            "Iteration 64/100\n",
            "53/53 [==============================] - 0s 1ms/step - loss: 0.0208\n",
            "Iteration 65/100\n",
            "53/53 [==============================] - 0s 1ms/step - loss: 0.0205\n",
            "Iteration 66/100\n",
            "53/53 [==============================] - 0s 1ms/step - loss: 0.0206\n",
            "Iteration 67/100\n",
            "53/53 [==============================] - 0s 1ms/step - loss: 0.0202\n",
            "Iteration 68/100\n",
            "53/53 [==============================] - 0s 1ms/step - loss: 0.0204\n",
            "Iteration 69/100\n",
            "53/53 [==============================] - 0s 2ms/step - loss: 0.0200\n",
            "Iteration 70/100\n",
            "53/53 [==============================] - 0s 1ms/step - loss: 0.0203\n",
            "Iteration 71/100\n",
            "53/53 [==============================] - 0s 1ms/step - loss: 0.0198\n",
            "Iteration 72/100\n",
            "53/53 [==============================] - 0s 1ms/step - loss: 0.0201\n",
            "Iteration 73/100\n",
            "53/53 [==============================] - 0s 2ms/step - loss: 0.0196\n",
            "Iteration 74/100\n",
            "53/53 [==============================] - 0s 1ms/step - loss: 0.0199\n",
            "Iteration 75/100\n",
            "53/53 [==============================] - 0s 2ms/step - loss: 0.0194\n",
            "Iteration 76/100\n",
            "53/53 [==============================] - 0s 2ms/step - loss: 0.0198\n",
            "Iteration 77/100\n",
            "53/53 [==============================] - 0s 2ms/step - loss: 0.0192\n",
            "Iteration 78/100\n",
            "53/53 [==============================] - 0s 1ms/step - loss: 0.0196\n",
            "Iteration 79/100\n",
            "53/53 [==============================] - 0s 1ms/step - loss: 0.0191\n",
            "Iteration 80/100\n",
            "53/53 [==============================] - 0s 2ms/step - loss: 0.0195\n",
            "Iteration 81/100\n",
            "53/53 [==============================] - 0s 1ms/step - loss: 0.0189\n",
            "Iteration 82/100\n",
            "53/53 [==============================] - 0s 2ms/step - loss: 0.0194\n",
            "Iteration 83/100\n",
            "53/53 [==============================] - 0s 2ms/step - loss: 0.0188\n",
            "Iteration 84/100\n",
            "53/53 [==============================] - 0s 2ms/step - loss: 0.0193\n",
            "Iteration 85/100\n",
            "53/53 [==============================] - 0s 1ms/step - loss: 0.0186\n",
            "Iteration 86/100\n",
            "53/53 [==============================] - 0s 2ms/step - loss: 0.0191\n",
            "Iteration 87/100\n",
            "53/53 [==============================] - 0s 1ms/step - loss: 0.0185\n",
            "Iteration 88/100\n",
            "53/53 [==============================] - 0s 1ms/step - loss: 0.0190\n",
            "Iteration 89/100\n",
            "53/53 [==============================] - 0s 1ms/step - loss: 0.0184\n",
            "Iteration 90/100\n",
            "53/53 [==============================] - 0s 2ms/step - loss: 0.0189\n",
            "Iteration 91/100\n",
            "53/53 [==============================] - 0s 1ms/step - loss: 0.0182\n",
            "Iteration 92/100\n",
            "53/53 [==============================] - 0s 2ms/step - loss: 0.0188\n",
            "Iteration 93/100\n",
            "53/53 [==============================] - 0s 2ms/step - loss: 0.0181\n",
            "Iteration 94/100\n",
            "53/53 [==============================] - 0s 2ms/step - loss: 0.0187\n",
            "Iteration 95/100\n",
            "53/53 [==============================] - 0s 2ms/step - loss: 0.0180\n",
            "Iteration 96/100\n",
            "53/53 [==============================] - 0s 1ms/step - loss: 0.0185\n",
            "Iteration 97/100\n",
            "53/53 [==============================] - 0s 1ms/step - loss: 0.0179\n",
            "Iteration 98/100\n",
            "53/53 [==============================] - 0s 2ms/step - loss: 0.0184\n",
            "Iteration 99/100\n",
            "53/53 [==============================] - 0s 2ms/step - loss: 0.0178\n",
            "Iteration 100/100\n",
            "53/53 [==============================] - 0s 2ms/step - loss: 0.0183\n"
          ],
          "name": "stdout"
        }
      ]
    },
    {
      "cell_type": "code",
      "metadata": {
        "id": "h0xy57ZmWVND",
        "colab_type": "code",
        "colab": {
          "base_uri": "https://localhost:8080/",
          "height": 324
        },
        "outputId": "8c344cee-0256-44a2-a39a-8cbe24098cbc"
      },
      "source": [
        "plt.figure(figsize=(6,4))\n",
        "plt.figure(dpi=86)\n",
        "plt.plot(loss, label='loss',color='Maroon',linewidth=2.5)\n",
        "plt.title('Model Loss History',fontsize=8,fontweight='bold')\n",
        "plt.xlabel('epoch',fontsize=8,fontweight='bold')\n",
        "plt.ylabel('loss',fontsize=8,fontweight='bold')\n",
        "plt.legend(prop={\"size\":8})\n",
        "plt.tight_layout(3)\n",
        "plt.show()\n"
      ],
      "execution_count": null,
      "outputs": [
        {
          "output_type": "display_data",
          "data": {
            "text/plain": [
              "<Figure size 432x288 with 0 Axes>"
            ]
          },
          "metadata": {
            "tags": []
          }
        },
        {
          "output_type": "display_data",
          "data": {
            "image/png": "[encoded data removed]",
            "text/plain": [
              "<Figure size 516x344 with 1 Axes>"
            ]
          },
          "metadata": {
            "tags": [],
            "needs_background": "light"
          }
        }
      ]
    },
    {
      "cell_type": "code",
      "metadata": {
        "id": "6Wm05h8-We1U",
        "colab_type": "code",
        "colab": {}
      },
      "source": [
        "all_predict = model.predict(X_all, batch_size=batch_size)"
      ],
      "execution_count": null,
      "outputs": []
    },
    {
      "cell_type": "code",
      "metadata": {
        "id": "69HKqEAuWi7z",
        "colab_type": "code",
        "colab": {}
      },
      "source": [
        "days_to_predict = DAYS_TO_PREDICT\n",
        "future_predict = []\n",
        "pred_samples = all_predict[-1:]\n",
        "pred_samples = np.array([pred_samples])\n",
        "for i in range(days_to_predict):\n",
        "    pred = model.predict(pred_samples, batch_size=batch_size)\n",
        "    pred = np.array(pred).flatten()\n",
        "    future_predict.append(pred)\n",
        "    new_samples = np.array(pred_samples).flatten()\n",
        "    new_samples = np.append(new_samples, [pred])\n",
        "    new_samples = new_samples[1:]\n",
        "    pred_samples = np.array(new_samples).reshape(1, 1, 1)\n",
        "future_predict = np.array(future_predict).reshape(len(future_predict), 1, 1)"
      ],
      "execution_count": null,
      "outputs": []
    },
    {
      "cell_type": "code",
      "metadata": {
        "id": "rLQ4IaYsWmP1",
        "colab_type": "code",
        "colab": {}
      },
      "source": [
        "model.reset_states()"
      ],
      "execution_count": null,
      "outputs": []
    },
    {
      "cell_type": "code",
      "metadata": {
        "id": "2xNNvitdWpY-",
        "colab_type": "code",
        "colab": {}
      },
      "source": [
        "f_future_predict = model.predict(future_predict, batch_size=batch_size)"
      ],
      "execution_count": null,
      "outputs": []
    },
    {
      "cell_type": "code",
      "metadata": {
        "id": "Ni0q7WP5Wr6L",
        "colab_type": "code",
        "colab": {}
      },
      "source": [
        "model.reset_states()"
      ],
      "execution_count": null,
      "outputs": []
    },
    {
      "cell_type": "code",
      "metadata": {
        "id": "6QI8wCZ_Ww6H",
        "colab_type": "code",
        "colab": {}
      },
      "source": [
        "X_all_flatten = np.array(scaler.inverse_transform(\n",
        "    np.array(X_all).reshape(X_all.shape[0], 1)\n",
        ")).flatten().astype('int')\n",
        "X_all_flatten = np.absolute(X_all_flatten)\n",
        "Y_all_flatten = np.array(scaler.inverse_transform(\n",
        "    np.array(Y_all).reshape(Y_all.shape[0], 1)\n",
        ")).flatten().astype('int')\n",
        "Y_all_flatten = np.absolute(Y_all_flatten)\n",
        "all_predict_flatten = np.array(scaler.inverse_transform(\n",
        "    np.array(all_predict).reshape(all_predict.shape[0], 1)\n",
        ")).flatten().astype('int')\n",
        "all_predict_flatten = np.absolute(all_predict_flatten)\n",
        "future_predict_flatten = np.array(scaler.inverse_transform(\n",
        "    np.array(future_predict).reshape(future_predict.shape[0], 1)\n",
        ")).flatten().astype('int')\n",
        "future_predict_flatten = np.absolute(future_predict_flatten)\n",
        "f_future_predict_flatten = np.array(scaler.inverse_transform(\n",
        "    np.array(f_future_predict).reshape(f_future_predict.shape[0], 1)\n",
        ")).flatten().astype('int')\n",
        "f_future_predict_flatten = np.absolute(f_future_predict_flatten)"
      ],
      "execution_count": null,
      "outputs": []
    },
    {
      "cell_type": "code",
      "metadata": {
        "id": "H28sNVMFW050",
        "colab_type": "code",
        "colab": {}
      },
      "source": [
        "all_predict_score = math.sqrt(\n",
        "    mean_squared_error(\n",
        "        Y_all_flatten, \n",
        "        all_predict_flatten\n",
        "    )\n",
        ")"
      ],
      "execution_count": null,
      "outputs": []
    },
    {
      "cell_type": "code",
      "metadata": {
        "id": "_hkgKaOIW497",
        "colab_type": "code",
        "colab": {
          "base_uri": "https://localhost:8080/",
          "height": 35
        },
        "outputId": "23ea615f-7254-4031-c14e-f11b607e4277"
      },
      "source": [
        "'All Score: %.2f RMSE' % (all_predict_score)"
      ],
      "execution_count": null,
      "outputs": [
        {
          "output_type": "execute_result",
          "data": {
            "application/vnd.google.colaboratory.intrinsic+json": {
              "type": "string"
            },
            "text/plain": [
              "'All Score: 71.28 RMSE'"
            ]
          },
          "metadata": {
            "tags": []
          },
          "execution_count": 50
        }
      ]
    },
    {
      "cell_type": "code",
      "metadata": {
        "id": "jWpORiTFW8Va",
        "colab_type": "code",
        "colab": {}
      },
      "source": [
        "future_index = pd.date_range(start=cases.index[-1], periods=days_to_predict + 1, closed='right')"
      ],
      "execution_count": null,
      "outputs": []
    },
    {
      "cell_type": "code",
      "metadata": {
        "id": "n2yYQIxDW_XV",
        "colab_type": "code",
        "colab": {
          "base_uri": "https://localhost:8080/",
          "height": 352
        },
        "outputId": "ad23ad64-d722-4235-b8b8-867a63a4a502"
      },
      "source": [
        "plt.figure(figsize=(6,4))\n",
        "plt.figure(dpi=86)\n",
        "plt.plot(\n",
        "    future_index,\n",
        "    future_predict_flatten,\n",
        "    label='Prediction Confirmed Cases',\n",
        "    color='red',\n",
        "    linewidth=2.5\n",
        ")\n",
        "plt.suptitle('Future Prediction Based on Per Day Confirmed Case in Bangladesh',fontsize=8,fontweight='bold')\n",
        "plt.xlabel('Date',fontsize=8,fontweight='bold')\n",
        "plt.ylabel('Confirmed Case',fontsize=8,fontweight='bold')\n",
        "plt.xticks(rotation=70)\n",
        "plt.legend(prop={\"size\":8})\n",
        "plt.tight_layout(3)\n",
        "plt.show()                                                                      "
      ],
      "execution_count": null,
      "outputs": [
        {
          "output_type": "display_data",
          "data": {
            "text/plain": [
              "<Figure size 432x288 with 0 Axes>"
            ]
          },
          "metadata": {
            "tags": []
          }
        },
        {
          "output_type": "display_data",
          "data": {
            "image/png": "[encoded data removed]",
            "text/plain": [
              "<Figure size 516x344 with 1 Axes>"
            ]
          },
          "metadata": {
            "tags": [],
            "needs_background": "light"
          }
        }
      ]
    },
    {
      "cell_type": "code",
      "metadata": {
        "id": "9MHgn_EEXB9J",
        "colab_type": "code",
        "colab": {
          "base_uri": "https://localhost:8080/",
          "height": 352
        },
        "outputId": "b945b185-9abc-47bc-cd2b-eae05a33863a"
      },
      "source": [
        "plt.figure(figsize=(6,4))\n",
        "plt.figure(dpi=86)\n",
        "plt.plot(\n",
        "    future_index,\n",
        "    f_future_predict_flatten,\n",
        "    label='Future Prediction Confirmed Cases',\n",
        "    color='red',\n",
        "    linewidth=2.5\n",
        ")\n",
        "plt.suptitle('Future Prediction Based on Previous Per day Confirmed Future Prediction in Bangladesh',fontsize=8,fontweight='bold')\n",
        "plt.xlabel('Date',fontsize=8,fontweight='bold')\n",
        "plt.ylabel('Confirmed Case',fontsize=8,fontweight='bold')\n",
        "plt.xticks(rotation=70)\n",
        "plt.legend(prop={\"size\":8})\n",
        "plt.tight_layout(3)\n",
        "plt.show()"
      ],
      "execution_count": null,
      "outputs": [
        {
          "output_type": "display_data",
          "data": {
            "text/plain": [
              "<Figure size 432x288 with 0 Axes>"
            ]
          },
          "metadata": {
            "tags": []
          }
        },
        {
          "output_type": "display_data",
          "data": {
            "image/png": "[encoded data removed]",
            "text/plain": [
              "<Figure size 516x344 with 1 Axes>"
            ]
          },
          "metadata": {
            "tags": [],
            "needs_background": "light"
          }
        }
      ]
    },
    {
      "cell_type": "code",
      "metadata": {
        "id": "glFIC1Y7XXWR",
        "colab_type": "code",
        "colab": {
          "base_uri": "https://localhost:8080/",
          "height": 352
        },
        "outputId": "5cc20318-e9f2-464b-9194-edba8fde1fce"
      },
      "source": [
        "plt.figure(figsize=(8, 5))\n",
        "plt.figure(dpi= 86)\n",
        "plt.plot(\n",
        "    cases.index[:len(X_all_flatten)],\n",
        "    X_all_flatten,\n",
        "    label='Actual Confirmed Cases',\n",
        "    linewidth=2.5\n",
        ")\n",
        "plt.plot(\n",
        "    cases.index[:len(X_all_flatten)],\n",
        "    all_predict_flatten,\n",
        "    label='Actual Prediction Confirmed Cases',\n",
        "    linewidth=2.5\n",
        ")\n",
        "plt.plot(\n",
        "    future_index,\n",
        "    future_predict_flatten,\n",
        "    label='Predict up to ' + str(days_to_predict) + ' Days in the future',\n",
        "    linewidth=2.5\n",
        ")\n",
        "plt.plot(\n",
        "    future_index,\n",
        "    f_future_predict_flatten,\n",
        "    label='Future based on previous future prediction',\n",
        "    linewidth=2.5\n",
        ")\n",
        "\n",
        "plt.suptitle('Future Prediction Based on Per Day Confirmed Case in Bangladesh',fontsize=8,fontweight='bold')\n",
        "plt.xlabel('Date',fontsize=8,fontweight='bold')\n",
        "plt.ylabel('Confirmed Case',fontsize=8,fontweight='bold')\n",
        "plt.xticks(rotation=70)\n",
        "plt.legend(prop={\"size\":8})\n",
        "plt.tight_layout(3)\n",
        "plt.show()"
      ],
      "execution_count": null,
      "outputs": [
        {
          "output_type": "display_data",
          "data": {
            "text/plain": [
              "<Figure size 576x360 with 0 Axes>"
            ]
          },
          "metadata": {
            "tags": []
          }
        },
        {
          "output_type": "display_data",
          "data": {
            "image/png": "[encoded data removed]",
            "text/plain": [
              "<Figure size 516x344 with 1 Axes>"
            ]
          },
          "metadata": {
            "tags": [],
            "needs_background": "light"
          }
        }
      ]
    },
    {
      "cell_type": "markdown",
      "metadata": {
        "id": "P4BL_n_MQ6y4",
        "colab_type": "text"
      },
      "source": [
        "## Random Forest Regression"
      ]
    },
    {
      "cell_type": "code",
      "metadata": {
        "id": "y4Busmp8Rfyz",
        "colab_type": "code",
        "colab": {}
      },
      "source": [
        "def data_split(data, look_back=1):\n",
        "    x, y = [], []\n",
        "    for i in range(len(data) - look_back - 1):\n",
        "        a = data[i:(i + look_back), 0]\n",
        "        x.append(a)\n",
        "        y.append(data[i + look_back, 0])\n",
        "    return np.array(x), np.array(y)"
      ],
      "execution_count": null,
      "outputs": []
    },
    {
      "cell_type": "code",
      "metadata": {
        "id": "gOR_Nhj8RBJy",
        "colab_type": "code",
        "colab": {}
      },
      "source": [
        "test_size = TEST_SIZE\n",
        "test_size = int(cases.shape[0] * test_size)\n",
        "train_cases = cases[:-test_size]\n",
        "test_cases = cases[-test_size:]"
      ],
      "execution_count": null,
      "outputs": []
    },
    {
      "cell_type": "code",
      "metadata": {
        "id": "9OugF7fhRSkK",
        "colab_type": "code",
        "colab": {}
      },
      "source": [
        "scaler = MinMaxScaler(feature_range=(-1, 1))\n",
        "scaler = scaler.fit(cases)\n",
        "all_cases = scaler.transform(cases)\n",
        "train_cases = scaler.transform(train_cases)\n",
        "test_cases = scaler.transform(test_cases)"
      ],
      "execution_count": null,
      "outputs": []
    },
    {
      "cell_type": "code",
      "metadata": {
        "id": "PBKG5UygTsUk",
        "colab_type": "code",
        "colab": {}
      },
      "source": [
        "look_back = LOOK_BACK\n",
        "X_all, Y_all = data_split(all_cases, look_back=look_back)\n",
        "X_train, Y_train = data_split(train_cases, look_back=look_back)\n",
        "X_test, Y_test = data_split(test_cases, look_back=look_back)"
      ],
      "execution_count": null,
      "outputs": []
    },
    {
      "cell_type": "code",
      "metadata": {
        "id": "7iuTjpqbT044",
        "colab_type": "code",
        "colab": {
          "base_uri": "https://localhost:8080/"
        },
        "outputId": "76c45b6e-810a-4d4e-9b37-e78ce431a3cd"
      },
      "source": [
        "X_train.shape,Y_train.shape,X_test.shape,Y_test.shape"
      ],
      "execution_count": null,
      "outputs": [
        {
          "output_type": "execute_result",
          "data": {
            "text/plain": [
              "((37, 1), (37,), (14, 1), (14,))"
            ]
          },
          "metadata": {
            "tags": []
          },
          "execution_count": 59
        }
      ]
    },
    {
      "cell_type": "code",
      "metadata": {
        "id": "20l0Fg05mNa2",
        "colab_type": "code",
        "colab": {}
      },
      "source": [
        "from sklearn.ensemble import RandomForestRegressor\n",
        "rf=RandomForestRegressor()\n",
        "model = rf.fit(X_train, Y_train)"
      ],
      "execution_count": null,
      "outputs": []
    },
    {
      "cell_type": "code",
      "metadata": {
        "id": "IQrw3g4tl6Gc",
        "colab_type": "code",
        "colab": {}
      },
      "source": [
        "all_predict = model.predict(X_all)"
      ],
      "execution_count": null,
      "outputs": []
    },
    {
      "cell_type": "code",
      "metadata": {
        "id": "jDgWKXtXk1ae",
        "colab_type": "code",
        "colab": {}
      },
      "source": [
        "Y_train_flatten = np.array(scaler.inverse_transform(\n",
        "    np.array(Y_train).reshape(Y_train.shape[0], 1)\n",
        ")).flatten().astype('int')\n",
        "Y_test_flatten = np.array(scaler.inverse_transform(\n",
        "    np.array(Y_test).reshape(Y_test.shape[0], 1)\n",
        ")).flatten().astype('int')\n",
        "all_predict_flatten = np.array(scaler.inverse_transform(\n",
        "    np.array(all_predict).reshape(all_predict.shape[0], 1)\n",
        ")).flatten().astype('int')\n",
        "all_predict_flatten = np.absolute(all_predict_flatten)"
      ],
      "execution_count": null,
      "outputs": []
    },
    {
      "cell_type": "code",
      "metadata": {
        "id": "epIz9kG3UJzJ",
        "colab_type": "code",
        "colab": {}
      },
      "source": [
        "y_train_predict=model.predict(X_train)\n",
        "y_test_predict=model.predict(X_test)"
      ],
      "execution_count": null,
      "outputs": []
    },
    {
      "cell_type": "code",
      "metadata": {
        "id": "yI3BWPlkUmIe",
        "colab_type": "code",
        "colab": {
          "base_uri": "https://localhost:8080/"
        },
        "outputId": "393eddb6-98cd-4be6-b632-306d7ac0a5c8"
      },
      "source": [
        "from sklearn.metrics import mean_squared_error\n",
        "import math\n",
        "\n",
        "print('Train RMSE')\n",
        "print(math.sqrt(mean_squared_error(Y_train_flatten,y_train_predict)))\n",
        "print('Test RMSE')\n",
        "print(math.sqrt(mean_squared_error(Y_test_flatten,y_test_predict)))\n"
      ],
      "execution_count": null,
      "outputs": [
        {
          "output_type": "stream",
          "text": [
            "Train RMSE\n",
            "211.64694446156565\n",
            "Test RMSE\n",
            "711.3680692511064\n"
          ],
          "name": "stdout"
        }
      ]
    },
    {
      "cell_type": "code",
      "metadata": {
        "id": "5cx2RIVxnqJV",
        "colab_type": "code",
        "colab": {
          "base_uri": "https://localhost:8080/"
        },
        "outputId": "0d79bb67-db1e-4416-f29f-4b2cea2d2dc7"
      },
      "source": [
        "all_predict_score = math.sqrt(\n",
        "    mean_squared_error(\n",
        "        Y_all_flatten, \n",
        "        all_predict_flatten\n",
        "    )\n",
        ")\n",
        "print(\"All RMSE :\",all_predict_score)"
      ],
      "execution_count": null,
      "outputs": [
        {
          "output_type": "stream",
          "text": [
            "All RMSE : 196.651113338721\n"
          ],
          "name": "stdout"
        }
      ]
    },
    {
      "cell_type": "markdown",
      "metadata": {
        "id": "6rIV3Q_5WMCL",
        "colab_type": "text"
      },
      "source": [
        "SVR"
      ]
    },
    {
      "cell_type": "code",
      "metadata": {
        "id": "ZuH6JZ4eVSeX",
        "colab_type": "code",
        "colab": {}
      },
      "source": [
        "from sklearn.svm import SVR  \n",
        "svr = SVR(kernel='rbf', gamma=0.1) \n",
        "model2 = svr.fit(X_train, Y_train)"
      ],
      "execution_count": null,
      "outputs": []
    },
    {
      "cell_type": "code",
      "metadata": {
        "id": "dY8_kLe-V6At",
        "colab_type": "code",
        "colab": {}
      },
      "source": [
        "y_train_predict=model2.predict(X_train)"
      ],
      "execution_count": null,
      "outputs": []
    },
    {
      "cell_type": "code",
      "metadata": {
        "id": "qKX9TAAegD0q",
        "colab_type": "code",
        "colab": {
          "base_uri": "https://localhost:8080/"
        },
        "outputId": "36587d54-0383-4f33-d529-48b514a2dcf5"
      },
      "source": [
        "y_train_predict"
      ],
      "execution_count": null,
      "outputs": [
        {
          "output_type": "execute_result",
          "data": {
            "text/plain": [
              "array([-0.89740809, -0.89868769, -0.89740809, -0.89868769, -0.89228477,\n",
              "       -0.89228477, -0.89740809, -0.89356633, -0.89356633, -0.8948474 ,\n",
              "       -0.89612799, -0.89996681, -0.89868769, -0.89740809, -0.89868769,\n",
              "       -0.8948474 , -0.88972023, -0.87815671, -0.85621719, -0.84844554,\n",
              "       -0.83156054, -0.75560596, -0.7792683 , -0.82635313, -0.72001047,\n",
              "       -0.66319857, -0.62753897, -0.6143488 , -0.45542022, -0.55258896,\n",
              "       -0.50049535, -0.49273079, -0.2693057 , -0.33888058, -0.3933496 ,\n",
              "       -0.36347483, -0.25643204])"
            ]
          },
          "metadata": {
            "tags": []
          },
          "execution_count": 68
        }
      ]
    },
    {
      "cell_type": "code",
      "metadata": {
        "id": "dIg-GrGfWDud",
        "colab_type": "code",
        "colab": {}
      },
      "source": [
        "y_test_predict=model2.predict(X_test)"
      ],
      "execution_count": null,
      "outputs": []
    },
    {
      "cell_type": "code",
      "metadata": {
        "id": "Y4AxESsAWGVK",
        "colab_type": "code",
        "colab": {
          "base_uri": "https://localhost:8080/"
        },
        "outputId": "3e08bccb-0baa-4147-cac5-6dc5a1241de4"
      },
      "source": [
        "from sklearn.metrics import mean_squared_error\n",
        "import math\n",
        "\n",
        "print('Train RMSE')\n",
        "print(math.sqrt(mean_squared_error(Y_train_flatten,y_train_predict)))\n",
        "print('Test RMSE')\n",
        "print(math.sqrt(mean_squared_error(Y_test_flatten,y_test_predict)))"
      ],
      "execution_count": null,
      "outputs": [
        {
          "output_type": "stream",
          "text": [
            "Train RMSE\n",
            "211.73408055906813\n",
            "Test RMSE\n",
            "711.1162293085941\n"
          ],
          "name": "stdout"
        }
      ]
    },
    {
      "cell_type": "code",
      "metadata": {
        "id": "_46aFIMcfw4E",
        "colab_type": "code",
        "colab": {
          "base_uri": "https://localhost:8080/"
        },
        "outputId": "f5b17050-11b7-404f-df06-cf01665d1b98"
      },
      "source": [
        "all_predict = model2.predict(X_all)\n",
        "all_predict_score = math.sqrt(\n",
        "    mean_squared_error(\n",
        "        Y_all_flatten, \n",
        "        all_predict_flatten\n",
        "    )\n",
        ")\n",
        "print(\"All RMSE\",all_predict_score)"
      ],
      "execution_count": null,
      "outputs": [
        {
          "output_type": "stream",
          "text": [
            "All RMSE 196.651113338721\n"
          ],
          "name": "stdout"
        }
      ]
    },
    {
      "cell_type": "code",
      "metadata": {
        "id": "X3t4JbsYm8PR",
        "colab_type": "code",
        "colab": {}
      },
      "source": [
        ""
      ],
      "execution_count": null,
      "outputs": []
    }
  ]
}