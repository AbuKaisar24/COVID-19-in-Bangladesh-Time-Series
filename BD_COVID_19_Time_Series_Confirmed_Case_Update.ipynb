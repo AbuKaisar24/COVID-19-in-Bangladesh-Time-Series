{
  "nbformat": 4,
  "nbformat_minor": 0,
  "metadata": {
    "colab": {
      "name": "BD COVID-19 Time Series Confirmed Case Update.ipynb",
      "provenance": [],
      "include_colab_link": true
    },
    "kernelspec": {
      "name": "python3",
      "display_name": "Python 3"
    }
  },
  "cells": [
    {
      "cell_type": "markdown",
      "metadata": {
        "id": "view-in-github",
        "colab_type": "text"
      },
      "source": [
        "<a href=\"https://colab.research.google.com/github/AbuKaisar24/COVID-19-in-Bangladesh-Time-Series/blob/master/BD_COVID_19_Time_Series_Confirmed_Case_Update.ipynb\" target=\"_parent\"><img src=\"https://colab.research.google.com/assets/colab-badge.svg\" alt=\"Open In Colab\"/></a>"
      ]
    },
    {
      "cell_type": "code",
      "metadata": {
        "id": "0wRZuf6qP6YD",
        "colab_type": "code",
        "colab": {
          "base_uri": "https://localhost:8080/",
          "height": 695
        },
        "outputId": "a1495623-682d-4a2c-f7cb-1e5911b8c998"
      },
      "source": [
        "!pip install --upgrade tensorflow"
      ],
      "execution_count": null,
      "outputs": [
        {
          "output_type": "stream",
          "text": [
            "Requirement already up-to-date: tensorflow in /usr/local/lib/python3.6/dist-packages (2.3.0)\n",
            "Requirement already satisfied, skipping upgrade: wrapt>=1.11.1 in /usr/local/lib/python3.6/dist-packages (from tensorflow) (1.12.1)\n",
            "Requirement already satisfied, skipping upgrade: opt-einsum>=2.3.2 in /usr/local/lib/python3.6/dist-packages (from tensorflow) (3.3.0)\n",
            "Requirement already satisfied, skipping upgrade: gast==0.3.3 in /usr/local/lib/python3.6/dist-packages (from tensorflow) (0.3.3)\n",
            "Requirement already satisfied, skipping upgrade: grpcio>=1.8.6 in /usr/local/lib/python3.6/dist-packages (from tensorflow) (1.31.0)\n",
            "Requirement already satisfied, skipping upgrade: scipy==1.4.1 in /usr/local/lib/python3.6/dist-packages (from tensorflow) (1.4.1)\n",
            "Requirement already satisfied, skipping upgrade: h5py<2.11.0,>=2.10.0 in /usr/local/lib/python3.6/dist-packages (from tensorflow) (2.10.0)\n",
            "Requirement already satisfied, skipping upgrade: numpy<1.19.0,>=1.16.0 in /usr/local/lib/python3.6/dist-packages (from tensorflow) (1.18.5)\n",
            "Requirement already satisfied, skipping upgrade: google-pasta>=0.1.8 in /usr/local/lib/python3.6/dist-packages (from tensorflow) (0.2.0)\n",
            "Requirement already satisfied, skipping upgrade: tensorboard<3,>=2.3.0 in /usr/local/lib/python3.6/dist-packages (from tensorflow) (2.3.0)\n",
            "Requirement already satisfied, skipping upgrade: keras-preprocessing<1.2,>=1.1.1 in /usr/local/lib/python3.6/dist-packages (from tensorflow) (1.1.2)\n",
            "Requirement already satisfied, skipping upgrade: protobuf>=3.9.2 in /usr/local/lib/python3.6/dist-packages (from tensorflow) (3.12.4)\n",
            "Requirement already satisfied, skipping upgrade: wheel>=0.26 in /usr/local/lib/python3.6/dist-packages (from tensorflow) (0.34.2)\n",
            "Requirement already satisfied, skipping upgrade: astunparse==1.6.3 in /usr/local/lib/python3.6/dist-packages (from tensorflow) (1.6.3)\n",
            "Requirement already satisfied, skipping upgrade: absl-py>=0.7.0 in /usr/local/lib/python3.6/dist-packages (from tensorflow) (0.9.0)\n",
            "Requirement already satisfied, skipping upgrade: tensorflow-estimator<2.4.0,>=2.3.0 in /usr/local/lib/python3.6/dist-packages (from tensorflow) (2.3.0)\n",
            "Requirement already satisfied, skipping upgrade: termcolor>=1.1.0 in /usr/local/lib/python3.6/dist-packages (from tensorflow) (1.1.0)\n",
            "Requirement already satisfied, skipping upgrade: six>=1.12.0 in /usr/local/lib/python3.6/dist-packages (from tensorflow) (1.15.0)\n",
            "Requirement already satisfied, skipping upgrade: requests<3,>=2.21.0 in /usr/local/lib/python3.6/dist-packages (from tensorboard<3,>=2.3.0->tensorflow) (2.23.0)\n",
            "Requirement already satisfied, skipping upgrade: tensorboard-plugin-wit>=1.6.0 in /usr/local/lib/python3.6/dist-packages (from tensorboard<3,>=2.3.0->tensorflow) (1.7.0)\n",
            "Requirement already satisfied, skipping upgrade: werkzeug>=0.11.15 in /usr/local/lib/python3.6/dist-packages (from tensorboard<3,>=2.3.0->tensorflow) (1.0.1)\n",
            "Requirement already satisfied, skipping upgrade: markdown>=2.6.8 in /usr/local/lib/python3.6/dist-packages (from tensorboard<3,>=2.3.0->tensorflow) (3.2.2)\n",
            "Requirement already satisfied, skipping upgrade: setuptools>=41.0.0 in /usr/local/lib/python3.6/dist-packages (from tensorboard<3,>=2.3.0->tensorflow) (49.2.0)\n",
            "Requirement already satisfied, skipping upgrade: google-auth<2,>=1.6.3 in /usr/local/lib/python3.6/dist-packages (from tensorboard<3,>=2.3.0->tensorflow) (1.17.2)\n",
            "Requirement already satisfied, skipping upgrade: google-auth-oauthlib<0.5,>=0.4.1 in /usr/local/lib/python3.6/dist-packages (from tensorboard<3,>=2.3.0->tensorflow) (0.4.1)\n",
            "Requirement already satisfied, skipping upgrade: idna<3,>=2.5 in /usr/local/lib/python3.6/dist-packages (from requests<3,>=2.21.0->tensorboard<3,>=2.3.0->tensorflow) (2.10)\n",
            "Requirement already satisfied, skipping upgrade: chardet<4,>=3.0.2 in /usr/local/lib/python3.6/dist-packages (from requests<3,>=2.21.0->tensorboard<3,>=2.3.0->tensorflow) (3.0.4)\n",
            "Requirement already satisfied, skipping upgrade: urllib3!=1.25.0,!=1.25.1,<1.26,>=1.21.1 in /usr/local/lib/python3.6/dist-packages (from requests<3,>=2.21.0->tensorboard<3,>=2.3.0->tensorflow) (1.24.3)\n",
            "Requirement already satisfied, skipping upgrade: certifi>=2017.4.17 in /usr/local/lib/python3.6/dist-packages (from requests<3,>=2.21.0->tensorboard<3,>=2.3.0->tensorflow) (2020.6.20)\n",
            "Requirement already satisfied, skipping upgrade: importlib-metadata; python_version < \"3.8\" in /usr/local/lib/python3.6/dist-packages (from markdown>=2.6.8->tensorboard<3,>=2.3.0->tensorflow) (1.7.0)\n",
            "Requirement already satisfied, skipping upgrade: rsa<5,>=3.1.4; python_version >= \"3\" in /usr/local/lib/python3.6/dist-packages (from google-auth<2,>=1.6.3->tensorboard<3,>=2.3.0->tensorflow) (4.6)\n",
            "Requirement already satisfied, skipping upgrade: pyasn1-modules>=0.2.1 in /usr/local/lib/python3.6/dist-packages (from google-auth<2,>=1.6.3->tensorboard<3,>=2.3.0->tensorflow) (0.2.8)\n",
            "Requirement already satisfied, skipping upgrade: cachetools<5.0,>=2.0.0 in /usr/local/lib/python3.6/dist-packages (from google-auth<2,>=1.6.3->tensorboard<3,>=2.3.0->tensorflow) (4.1.1)\n",
            "Requirement already satisfied, skipping upgrade: requests-oauthlib>=0.7.0 in /usr/local/lib/python3.6/dist-packages (from google-auth-oauthlib<0.5,>=0.4.1->tensorboard<3,>=2.3.0->tensorflow) (1.3.0)\n",
            "Requirement already satisfied, skipping upgrade: zipp>=0.5 in /usr/local/lib/python3.6/dist-packages (from importlib-metadata; python_version < \"3.8\"->markdown>=2.6.8->tensorboard<3,>=2.3.0->tensorflow) (3.1.0)\n",
            "Requirement already satisfied, skipping upgrade: pyasn1>=0.1.3 in /usr/local/lib/python3.6/dist-packages (from rsa<5,>=3.1.4; python_version >= \"3\"->google-auth<2,>=1.6.3->tensorboard<3,>=2.3.0->tensorflow) (0.4.8)\n",
            "Requirement already satisfied, skipping upgrade: oauthlib>=3.0.0 in /usr/local/lib/python3.6/dist-packages (from requests-oauthlib>=0.7.0->google-auth-oauthlib<0.5,>=0.4.1->tensorboard<3,>=2.3.0->tensorflow) (3.1.0)\n"
          ],
          "name": "stdout"
        }
      ]
    },
    {
      "cell_type": "code",
      "metadata": {
        "id": "x-oHV5i-QKmh",
        "colab_type": "code",
        "colab": {
          "base_uri": "https://localhost:8080/",
          "height": 126
        },
        "outputId": "4d5601f6-8818-4150-ead3-028421501d17"
      },
      "source": [
        "from google.colab import drive\n",
        "drive.mount('/content/gdrive')"
      ],
      "execution_count": null,
      "outputs": [
        {
          "output_type": "stream",
          "text": [
            "Go to this URL in a browser: https://accounts.google.com/o/oauth2/auth?client_id=947318989803-6bn6qk8qdgf4n4g3pfee6491hc0brc4i.apps.googleusercontent.com&redirect_uri=urn%3aietf%3awg%3aoauth%3a2.0%3aoob&scope=email%20https%3a%2f%2fwww.googleapis.com%2fauth%2fdocs.test%20https%3a%2f%2fwww.googleapis.com%2fauth%2fdrive%20https%3a%2f%2fwww.googleapis.com%2fauth%2fdrive.photos.readonly%20https%3a%2f%2fwww.googleapis.com%2fauth%2fpeopleapi.readonly&response_type=code\n",
            "\n",
            "Enter your authorization code:\n",
            "··········\n",
            "Mounted at /content/gdrive\n"
          ],
          "name": "stdout"
        }
      ]
    },
    {
      "cell_type": "code",
      "metadata": {
        "id": "mcnLnqg4QbBj",
        "colab_type": "code",
        "colab": {}
      },
      "source": [
        "import math\n",
        "import pandas as pd\n",
        "import numpy as np\n",
        "import matplotlib.pyplot as plt\n",
        "from sklearn.preprocessing import MinMaxScaler\n",
        "from sklearn.metrics import mean_squared_error\n",
        "from keras.models import Sequential\n",
        "from keras.layers import Dense, LSTM, Dropout"
      ],
      "execution_count": null,
      "outputs": []
    },
    {
      "cell_type": "code",
      "metadata": {
        "id": "-tQK3b5KQjqt",
        "colab_type": "code",
        "colab": {}
      },
      "source": [
        "RANDOM_SEED = 42\n",
        "TEST_SIZE = 0.3\n",
        "LOOK_BACK = 1\n",
        "BATCH_SIZE = 1\n",
        "EPOCHS = 100\n",
        "DAYS_TO_PREDICT = 30\n",
        "Location=\"Bangladesh\"\n",
        "Train_case = 'Confirmed'"
      ],
      "execution_count": null,
      "outputs": []
    },
    {
      "cell_type": "code",
      "metadata": {
        "id": "L-VeWfNbQrwa",
        "colab_type": "code",
        "colab": {}
      },
      "source": [
        "np.random.seed(RANDOM_SEED)"
      ],
      "execution_count": null,
      "outputs": []
    },
    {
      "cell_type": "code",
      "metadata": {
        "id": "cGUry5AQQruu",
        "colab_type": "code",
        "colab": {}
      },
      "source": [
        "df=pd.read_csv(\"gdrive/My Drive/Colab Notebooks/Covid-19_BD_Update.csv\")"
      ],
      "execution_count": null,
      "outputs": []
    },
    {
      "cell_type": "code",
      "metadata": {
        "id": "BaPdgR9pBhCD",
        "colab_type": "code",
        "colab": {
          "base_uri": "https://localhost:8080/",
          "height": 269
        },
        "outputId": "638ab02b-2fa8-4b0a-9210-56ce68e46b25"
      },
      "source": [
        "df.plot()\n",
        "plt.show()             "
      ],
      "execution_count": null,
      "outputs": [
        {
          "output_type": "display_data",
          "data": {
            "image/png": "[encoded data removed]",
            "text/plain": [
              "<Figure size 432x288 with 1 Axes>"
            ]
          },
          "metadata": {
            "tags": [],
            "needs_background": "light"
          }
        }
      ]
    },
    {
      "cell_type": "code",
      "metadata": {
        "id": "K7H9WahkQ6tk",
        "colab_type": "code",
        "colab": {
          "base_uri": "https://localhost:8080/",
          "height": 200
        },
        "outputId": "4f4f327b-fe68-4d64-ba23-1827331b2304"
      },
      "source": [
        "df.head()"
      ],
      "execution_count": null,
      "outputs": [
        {
          "output_type": "execute_result",
          "data": {
            "text/html": [
              "<div>\n",
              "<style scoped>\n",
              "    .dataframe tbody tr th:only-of-type {\n",
              "        vertical-align: middle;\n",
              "    }\n",
              "\n",
              "    .dataframe tbody tr th {\n",
              "        vertical-align: top;\n",
              "    }\n",
              "\n",
              "    .dataframe thead th {\n",
              "        text-align: right;\n",
              "    }\n",
              "</style>\n",
              "<table border=\"1\" class=\"dataframe\">\n",
              "  <thead>\n",
              "    <tr style=\"text-align: right;\">\n",
              "      <th></th>\n",
              "      <th>Date</th>\n",
              "      <th>Confirmed</th>\n",
              "      <th>Deaths</th>\n",
              "      <th>Recovery</th>\n",
              "    </tr>\n",
              "  </thead>\n",
              "  <tbody>\n",
              "    <tr>\n",
              "      <th>0</th>\n",
              "      <td>5/13/2020</td>\n",
              "      <td>1162</td>\n",
              "      <td>19</td>\n",
              "      <td>214</td>\n",
              "    </tr>\n",
              "    <tr>\n",
              "      <th>1</th>\n",
              "      <td>5/14/2020</td>\n",
              "      <td>1041</td>\n",
              "      <td>14</td>\n",
              "      <td>242</td>\n",
              "    </tr>\n",
              "    <tr>\n",
              "      <th>2</th>\n",
              "      <td>5/15/2020</td>\n",
              "      <td>1202</td>\n",
              "      <td>15</td>\n",
              "      <td>279</td>\n",
              "    </tr>\n",
              "    <tr>\n",
              "      <th>3</th>\n",
              "      <td>5/16/2020</td>\n",
              "      <td>930</td>\n",
              "      <td>16</td>\n",
              "      <td>235</td>\n",
              "    </tr>\n",
              "    <tr>\n",
              "      <th>4</th>\n",
              "      <td>5/17/2020</td>\n",
              "      <td>1273</td>\n",
              "      <td>14</td>\n",
              "      <td>256</td>\n",
              "    </tr>\n",
              "  </tbody>\n",
              "</table>\n",
              "</div>"
            ],
            "text/plain": [
              "        Date  Confirmed  Deaths  Recovery\n",
              "0  5/13/2020       1162      19       214\n",
              "1  5/14/2020       1041      14       242\n",
              "2  5/15/2020       1202      15       279\n",
              "3  5/16/2020        930      16       235\n",
              "4  5/17/2020       1273      14       256"
            ]
          },
          "metadata": {
            "tags": []
          },
          "execution_count": 10
        }
      ]
    },
    {
      "cell_type": "code",
      "metadata": {
        "id": "lbgSk3pfYdud",
        "colab_type": "code",
        "colab": {}
      },
      "source": [
        "df.set_index('Date', inplace=True)\n",
        "df.index = pd.to_datetime(df.index)\n"
      ],
      "execution_count": null,
      "outputs": []
    },
    {
      "cell_type": "code",
      "metadata": {
        "id": "dTGnIDlIY6T3",
        "colab_type": "code",
        "colab": {
          "base_uri": "https://localhost:8080/",
          "height": 230
        },
        "outputId": "15f314cc-7544-4c25-842d-f6478e81142c"
      },
      "source": [
        "df.head()"
      ],
      "execution_count": null,
      "outputs": [
        {
          "output_type": "execute_result",
          "data": {
            "text/html": [
              "<div>\n",
              "<style scoped>\n",
              "    .dataframe tbody tr th:only-of-type {\n",
              "        vertical-align: middle;\n",
              "    }\n",
              "\n",
              "    .dataframe tbody tr th {\n",
              "        vertical-align: top;\n",
              "    }\n",
              "\n",
              "    .dataframe thead th {\n",
              "        text-align: right;\n",
              "    }\n",
              "</style>\n",
              "<table border=\"1\" class=\"dataframe\">\n",
              "  <thead>\n",
              "    <tr style=\"text-align: right;\">\n",
              "      <th></th>\n",
              "      <th>Confirmed</th>\n",
              "      <th>Deaths</th>\n",
              "      <th>Recovery</th>\n",
              "    </tr>\n",
              "    <tr>\n",
              "      <th>Date</th>\n",
              "      <th></th>\n",
              "      <th></th>\n",
              "      <th></th>\n",
              "    </tr>\n",
              "  </thead>\n",
              "  <tbody>\n",
              "    <tr>\n",
              "      <th>2020-05-13</th>\n",
              "      <td>1162</td>\n",
              "      <td>19</td>\n",
              "      <td>214</td>\n",
              "    </tr>\n",
              "    <tr>\n",
              "      <th>2020-05-14</th>\n",
              "      <td>1041</td>\n",
              "      <td>14</td>\n",
              "      <td>242</td>\n",
              "    </tr>\n",
              "    <tr>\n",
              "      <th>2020-05-15</th>\n",
              "      <td>1202</td>\n",
              "      <td>15</td>\n",
              "      <td>279</td>\n",
              "    </tr>\n",
              "    <tr>\n",
              "      <th>2020-05-16</th>\n",
              "      <td>930</td>\n",
              "      <td>16</td>\n",
              "      <td>235</td>\n",
              "    </tr>\n",
              "    <tr>\n",
              "      <th>2020-05-17</th>\n",
              "      <td>1273</td>\n",
              "      <td>14</td>\n",
              "      <td>256</td>\n",
              "    </tr>\n",
              "  </tbody>\n",
              "</table>\n",
              "</div>"
            ],
            "text/plain": [
              "            Confirmed  Deaths  Recovery\n",
              "Date                                   \n",
              "2020-05-13       1162      19       214\n",
              "2020-05-14       1041      14       242\n",
              "2020-05-15       1202      15       279\n",
              "2020-05-16        930      16       235\n",
              "2020-05-17       1273      14       256"
            ]
          },
          "metadata": {
            "tags": []
          },
          "execution_count": 12
        }
      ]
    },
    {
      "cell_type": "code",
      "metadata": {
        "id": "jliGDXbvxWhY",
        "colab_type": "code",
        "colab": {
          "base_uri": "https://localhost:8080/",
          "height": 35
        },
        "outputId": "c7ee9117-4a64-46c8-8a2b-cb58c5d63a20"
      },
      "source": [
        "df.shape"
      ],
      "execution_count": null,
      "outputs": [
        {
          "output_type": "execute_result",
          "data": {
            "text/plain": [
              "(64, 3)"
            ]
          },
          "metadata": {
            "tags": []
          },
          "execution_count": 13
        }
      ]
    },
    {
      "cell_type": "code",
      "metadata": {
        "id": "0pII-L2aRAgr",
        "colab_type": "code",
        "colab": {}
      },
      "source": [
        "cases = df.filter([Train_case])\n",
        "cases = cases[(cases.T != 0).any()]\n"
      ],
      "execution_count": null,
      "outputs": []
    },
    {
      "cell_type": "code",
      "metadata": {
        "id": "SN8_5B5YRbgT",
        "colab_type": "code",
        "colab": {
          "base_uri": "https://localhost:8080/",
          "height": 230
        },
        "outputId": "4d51dcf2-e018-4b82-ef9d-dea9aef9336a"
      },
      "source": [
        "cases.head()"
      ],
      "execution_count": null,
      "outputs": [
        {
          "output_type": "execute_result",
          "data": {
            "text/html": [
              "<div>\n",
              "<style scoped>\n",
              "    .dataframe tbody tr th:only-of-type {\n",
              "        vertical-align: middle;\n",
              "    }\n",
              "\n",
              "    .dataframe tbody tr th {\n",
              "        vertical-align: top;\n",
              "    }\n",
              "\n",
              "    .dataframe thead th {\n",
              "        text-align: right;\n",
              "    }\n",
              "</style>\n",
              "<table border=\"1\" class=\"dataframe\">\n",
              "  <thead>\n",
              "    <tr style=\"text-align: right;\">\n",
              "      <th></th>\n",
              "      <th>Confirmed</th>\n",
              "    </tr>\n",
              "    <tr>\n",
              "      <th>Date</th>\n",
              "      <th></th>\n",
              "    </tr>\n",
              "  </thead>\n",
              "  <tbody>\n",
              "    <tr>\n",
              "      <th>2020-05-13</th>\n",
              "      <td>1162</td>\n",
              "    </tr>\n",
              "    <tr>\n",
              "      <th>2020-05-14</th>\n",
              "      <td>1041</td>\n",
              "    </tr>\n",
              "    <tr>\n",
              "      <th>2020-05-15</th>\n",
              "      <td>1202</td>\n",
              "    </tr>\n",
              "    <tr>\n",
              "      <th>2020-05-16</th>\n",
              "      <td>930</td>\n",
              "    </tr>\n",
              "    <tr>\n",
              "      <th>2020-05-17</th>\n",
              "      <td>1273</td>\n",
              "    </tr>\n",
              "  </tbody>\n",
              "</table>\n",
              "</div>"
            ],
            "text/plain": [
              "            Confirmed\n",
              "Date                 \n",
              "2020-05-13       1162\n",
              "2020-05-14       1041\n",
              "2020-05-15       1202\n",
              "2020-05-16        930\n",
              "2020-05-17       1273"
            ]
          },
          "metadata": {
            "tags": []
          },
          "execution_count": 15
        }
      ]
    },
    {
      "cell_type": "code",
      "metadata": {
        "id": "DEAbe1FIRe8w",
        "colab_type": "code",
        "colab": {
          "base_uri": "https://localhost:8080/",
          "height": 335
        },
        "outputId": "1bb928ae-50e6-4c19-c832-a4a532a2f62b"
      },
      "source": [
        "plt.figure(figsize=(6,4),dpi=86)\n",
        "plt.suptitle('Everyday Confirmed Cases in Bangladesh',fontsize=8,fontweight='bold')\n",
        "plt.plot(cases, label=Train_case,color='red', linewidth=2.5)\n",
        "plt.xlabel('Date',fontsize=8,fontweight='bold')\n",
        "plt.ylabel('Confirmed Case',fontsize=8,fontweight='bold')\n",
        "plt.xticks(rotation=70)\n",
        "plt.legend(prop={\"size\":8})\n",
        "plt.tight_layout(3)\n",
        "plt.show()\n",
        "plt.show()"
      ],
      "execution_count": null,
      "outputs": [
        {
          "output_type": "display_data",
          "data": {
            "image/png": "[encoded data removed]",
            "text/plain": [
              "<Figure size 516x344 with 1 Axes>"
            ]
          },
          "metadata": {
            "tags": [],
            "needs_background": "light"
          }
        }
      ]
    },
    {
      "cell_type": "code",
      "metadata": {
        "id": "v8QOGpSDzLx8",
        "colab_type": "code",
        "colab": {
          "base_uri": "https://localhost:8080/",
          "height": 335
        },
        "outputId": "c7779984-bd4f-41ff-a946-12930646d768"
      },
      "source": [
        "plt.figure(figsize=(6,4),dpi=86)\n",
        "plt.suptitle('Everyday Deaths Cases in Bangladesh',fontsize=8,fontweight='bold')\n",
        "plt.plot(df.Deaths, label='Deaths',color='red',linewidth=2.5)\n",
        "plt.xlabel('Date',fontsize=8,fontweight='bold')\n",
        "plt.ylabel('Deaths',fontsize=8,fontweight='bold')\n",
        "plt.xticks(rotation=70)\n",
        "plt.legend(prop={\"size\":8})\n",
        "plt.tight_layout(3)\n",
        "plt.show()\n",
        "plt.show()"
      ],
      "execution_count": null,
      "outputs": [
        {
          "output_type": "display_data",
          "data": {
            "image/png": "[encoded data removed]",
            "text/plain": [
              "<Figure size 516x344 with 1 Axes>"
            ]
          },
          "metadata": {
            "tags": [],
            "needs_background": "light"
          }
        }
      ]
    },
    {
      "cell_type": "code",
      "metadata": {
        "id": "TpIRlGgn1rzf",
        "colab_type": "code",
        "colab": {
          "base_uri": "https://localhost:8080/",
          "height": 335
        },
        "outputId": "d3a22931-045d-48dc-877d-f43db52c4f29"
      },
      "source": [
        "plt.figure(figsize=(6,4),dpi=86)\n",
        "plt.suptitle('Everyday Recovery Cases in Bangladesh',fontsize=8,fontweight='bold')\n",
        "plt.plot(df.Recovery, label='Recovery',color='green',linewidth=2.5)\n",
        "plt.xlabel('Date',fontsize=8,fontweight='bold')\n",
        "plt.ylabel('Recovery',fontsize=8,fontweight='bold')\n",
        "plt.xticks(rotation=70)\n",
        "plt.legend(prop={\"size\":8})\n",
        "plt.tight_layout(3)\n",
        "plt.show()\n",
        "plt.show()"
      ],
      "execution_count": null,
      "outputs": [
        {
          "output_type": "display_data",
          "data": {
            "image/png": "[encoded data removed]",
            "text/plain": [
              "<Figure size 516x344 with 1 Axes>"
            ]
          },
          "metadata": {
            "tags": [],
            "needs_background": "light"
          }
        }
      ]
    },
    {
      "cell_type": "code",
      "metadata": {
        "id": "4Dbs7GDbR28b",
        "colab_type": "code",
        "colab": {
          "base_uri": "https://localhost:8080/",
          "height": 35
        },
        "outputId": "098dd1f1-a981-4f4b-a9b2-2eaf5dac2924"
      },
      "source": [
        "cases.shape"
      ],
      "execution_count": null,
      "outputs": [
        {
          "output_type": "execute_result",
          "data": {
            "text/plain": [
              "(64, 1)"
            ]
          },
          "metadata": {
            "tags": []
          },
          "execution_count": 19
        }
      ]
    },
    {
      "cell_type": "code",
      "metadata": {
        "id": "PC8E6sjNS_wB",
        "colab_type": "code",
        "colab": {}
      },
      "source": [
        "def data_split(data, look_back=1):\n",
        "    x, y = [], []\n",
        "    for i in range(len(data) - look_back - 1):\n",
        "        a = data[i:(i + look_back), 0]\n",
        "        x.append(a)\n",
        "        y.append(data[i + look_back, 0])\n",
        "    return np.array(x), np.array(y)"
      ],
      "execution_count": null,
      "outputs": []
    },
    {
      "cell_type": "code",
      "metadata": {
        "id": "ZlVxHXSnTe6y",
        "colab_type": "code",
        "colab": {}
      },
      "source": [
        "test_size = TEST_SIZE\n",
        "test_size = int(cases.shape[0] * test_size)\n",
        "train_cases = cases[:-test_size]\n",
        "test_cases = cases[-test_size:]\n"
      ],
      "execution_count": null,
      "outputs": []
    },
    {
      "cell_type": "code",
      "metadata": {
        "id": "3_PRwibTTp8X",
        "colab_type": "code",
        "colab": {
          "base_uri": "https://localhost:8080/",
          "height": 35
        },
        "outputId": "54ecf0f9-752b-471c-afd4-a1a8909099ae"
      },
      "source": [
        "train_cases.shape"
      ],
      "execution_count": null,
      "outputs": [
        {
          "output_type": "execute_result",
          "data": {
            "text/plain": [
              "(45, 1)"
            ]
          },
          "metadata": {
            "tags": []
          },
          "execution_count": 22
        }
      ]
    },
    {
      "cell_type": "code",
      "metadata": {
        "id": "TqrFXm-MTtsc",
        "colab_type": "code",
        "colab": {
          "base_uri": "https://localhost:8080/",
          "height": 35
        },
        "outputId": "d6bd3a60-5023-4eb6-b6ea-b79dfa8256e2"
      },
      "source": [
        "test_cases.shape"
      ],
      "execution_count": null,
      "outputs": [
        {
          "output_type": "execute_result",
          "data": {
            "text/plain": [
              "(19, 1)"
            ]
          },
          "metadata": {
            "tags": []
          },
          "execution_count": 23
        }
      ]
    },
    {
      "cell_type": "code",
      "metadata": {
        "id": "xDKPkfM5TwFz",
        "colab_type": "code",
        "colab": {}
      },
      "source": [
        "scaler = MinMaxScaler(feature_range=(-1, 1))\n",
        "scaler = scaler.fit(cases)\n",
        "all_cases = scaler.transform(cases)\n",
        "train_cases = scaler.transform(train_cases)\n",
        "test_cases = scaler.transform(test_cases)"
      ],
      "execution_count": null,
      "outputs": []
    },
    {
      "cell_type": "code",
      "metadata": {
        "id": "t77w3zGQT0Sf",
        "colab_type": "code",
        "colab": {
          "base_uri": "https://localhost:8080/",
          "height": 35
        },
        "outputId": "643fabe0-3ad2-4f4d-986f-1aade8407e92"
      },
      "source": [
        "all_cases.shape,train_cases.shape,test_cases.shape"
      ],
      "execution_count": null,
      "outputs": [
        {
          "output_type": "execute_result",
          "data": {
            "text/plain": [
              "((64, 1), (45, 1), (19, 1))"
            ]
          },
          "metadata": {
            "tags": []
          },
          "execution_count": 25
        }
      ]
    },
    {
      "cell_type": "code",
      "metadata": {
        "id": "Fw2jfwPfT2tM",
        "colab_type": "code",
        "colab": {}
      },
      "source": [
        "look_back = LOOK_BACK\n",
        "X_all, Y_all = data_split(all_cases, look_back=look_back)\n",
        "X_train, Y_train = data_split(train_cases, look_back=look_back)\n",
        "X_test, Y_test = data_split(test_cases, look_back=look_back)"
      ],
      "execution_count": null,
      "outputs": []
    },
    {
      "cell_type": "code",
      "metadata": {
        "id": "Wy1Z1xynT-6s",
        "colab_type": "code",
        "colab": {
          "base_uri": "https://localhost:8080/",
          "height": 35
        },
        "outputId": "bc0d582c-bdb9-4381-9e6d-d018c3bb4416"
      },
      "source": [
        "X_all.shape,X_train.shape,X_test.shape\n"
      ],
      "execution_count": null,
      "outputs": [
        {
          "output_type": "execute_result",
          "data": {
            "text/plain": [
              "((62, 1), (43, 1), (17, 1))"
            ]
          },
          "metadata": {
            "tags": []
          },
          "execution_count": 27
        }
      ]
    },
    {
      "cell_type": "code",
      "metadata": {
        "id": "H0RtJi6cUCQy",
        "colab_type": "code",
        "colab": {}
      },
      "source": [
        "X_all = np.array(X_all).reshape(X_all.shape[0], 1, 1)\n",
        "Y_all = np.array(Y_all).reshape(Y_all.shape[0], 1)\n",
        "X_train = np.array(X_train).reshape(X_train.shape[0], 1, 1)\n",
        "Y_train = np.array(Y_train).reshape(Y_train.shape[0], 1)\n",
        "X_test = np.array(X_test).reshape(X_test.shape[0], 1, 1)\n",
        "Y_test = np.array(Y_test).reshape(Y_test.shape[0], 1)"
      ],
      "execution_count": null,
      "outputs": []
    },
    {
      "cell_type": "code",
      "metadata": {
        "id": "xj0TtkJ0UOMs",
        "colab_type": "code",
        "colab": {
          "base_uri": "https://localhost:8080/",
          "height": 35
        },
        "outputId": "fa17442b-2137-4692-ae7d-c121c0ed28c3"
      },
      "source": [
        "X_all.shape,Y_all.shape,X_train.shape,Y_train.shape,X_test.shape,Y_test.shape"
      ],
      "execution_count": null,
      "outputs": [
        {
          "output_type": "execute_result",
          "data": {
            "text/plain": [
              "((62, 1, 1), (62, 1), (43, 1, 1), (43, 1), (17, 1, 1), (17, 1))"
            ]
          },
          "metadata": {
            "tags": []
          },
          "execution_count": 29
        }
      ]
    },
    {
      "cell_type": "markdown",
      "metadata": {
        "id": "bfC6gajMDWqv",
        "colab_type": "text"
      },
      "source": [
        "\\\n",
        "##LSTM"
      ]
    },
    {
      "cell_type": "code",
      "metadata": {
        "id": "gNE_SDpyUsEp",
        "colab_type": "code",
        "colab": {
          "base_uri": "https://localhost:8080/",
          "height": 284
        },
        "outputId": "274a84d7-8fed-4ebb-d6eb-7bfa188079f4"
      },
      "source": [
        "batch_size = BATCH_SIZE\n",
        "model = Sequential()\n",
        "model.add(LSTM(4, return_sequences=True, \n",
        "               batch_input_shape=(batch_size, X_train.shape[1], X_train.shape[2]), \n",
        "               stateful=True))\n",
        "model.add(LSTM(1, stateful=True))\n",
        "model.add(Dense(Y_train.shape[1]))\n",
        "model.compile(loss='mean_squared_error', optimizer='adam')\n",
        "print(model.summary())"
      ],
      "execution_count": null,
      "outputs": [
        {
          "output_type": "stream",
          "text": [
            "Model: \"sequential\"\n",
            "_________________________________________________________________\n",
            "Layer (type)                 Output Shape              Param #   \n",
            "=================================================================\n",
            "lstm (LSTM)                  (1, 1, 4)                 96        \n",
            "_________________________________________________________________\n",
            "lstm_1 (LSTM)                (1, 1)                    24        \n",
            "_________________________________________________________________\n",
            "dense (Dense)                (1, 1)                    2         \n",
            "=================================================================\n",
            "Total params: 122\n",
            "Trainable params: 122\n",
            "Non-trainable params: 0\n",
            "_________________________________________________________________\n",
            "None\n"
          ],
          "name": "stdout"
        }
      ]
    },
    {
      "cell_type": "code",
      "metadata": {
        "id": "RXrpphSz2MwB",
        "colab_type": "code",
        "colab": {
          "base_uri": "https://localhost:8080/",
          "height": 422
        },
        "outputId": "fba039fb-6411-4a70-af12-d7b86b775e56"
      },
      "source": [
        "from tensorflow.keras.utils import plot_model\n",
        "plot_model(model, to_file='model.png', show_shapes=True)"
      ],
      "execution_count": null,
      "outputs": [
        {
          "output_type": "execute_result",
          "data": {
            "image/png": "[encoded data removed]",
            "text/plain": [
              "<IPython.core.display.Image object>"
            ]
          },
          "metadata": {
            "tags": []
          },
          "execution_count": 31
        }
      ]
    },
    {
      "cell_type": "code",
      "metadata": {
        "id": "e4k8B4FmU0Zt",
        "colab_type": "code",
        "colab": {
          "base_uri": "https://localhost:8080/",
          "height": 1000
        },
        "outputId": "0aa5f47d-0da6-430b-dad9-db1ea699883c"
      },
      "source": [
        "epoch = EPOCHS\n",
        "loss = []\n",
        "for i in range(epoch):\n",
        "    print('Iteration ' + str(i + 1) + '/' + str(epoch))\n",
        "    model.fit(X_train, Y_train, batch_size=batch_size, \n",
        "              epochs=1, verbose=1, shuffle=False)\n",
        "    h = model.history\n",
        "    loss.append(h.history['loss'][0])\n",
        "    model.reset_states()"
      ],
      "execution_count": null,
      "outputs": [
        {
          "output_type": "stream",
          "text": [
            "Iteration 1/100\n",
            "43/43 [==============================] - 0s 2ms/step - loss: 0.3278\n",
            "Iteration 2/100\n",
            "43/43 [==============================] - 0s 2ms/step - loss: 0.3155\n",
            "Iteration 3/100\n",
            "43/43 [==============================] - 0s 2ms/step - loss: 0.3032\n",
            "Iteration 4/100\n",
            "43/43 [==============================] - 0s 2ms/step - loss: 0.2863\n",
            "Iteration 5/100\n",
            "43/43 [==============================] - 0s 2ms/step - loss: 0.2705\n",
            "Iteration 6/100\n",
            "43/43 [==============================] - 0s 2ms/step - loss: 0.2623\n",
            "Iteration 7/100\n",
            "43/43 [==============================] - 0s 2ms/step - loss: 0.2570\n",
            "Iteration 8/100\n",
            "43/43 [==============================] - 0s 2ms/step - loss: 0.2526\n",
            "Iteration 9/100\n",
            "43/43 [==============================] - 0s 2ms/step - loss: 0.2483\n",
            "Iteration 10/100\n",
            "43/43 [==============================] - 0s 2ms/step - loss: 0.2439\n",
            "Iteration 11/100\n",
            "43/43 [==============================] - 0s 2ms/step - loss: 0.2390\n",
            "Iteration 12/100\n",
            "43/43 [==============================] - 0s 2ms/step - loss: 0.2335\n",
            "Iteration 13/100\n",
            "43/43 [==============================] - 0s 2ms/step - loss: 0.2274\n",
            "Iteration 14/100\n",
            "43/43 [==============================] - 0s 2ms/step - loss: 0.2204\n",
            "Iteration 15/100\n",
            "43/43 [==============================] - 0s 2ms/step - loss: 0.2127\n",
            "Iteration 16/100\n",
            "43/43 [==============================] - 0s 2ms/step - loss: 0.2045\n",
            "Iteration 17/100\n",
            "43/43 [==============================] - 0s 2ms/step - loss: 0.1958\n",
            "Iteration 18/100\n",
            "43/43 [==============================] - 0s 2ms/step - loss: 0.1870\n",
            "Iteration 19/100\n",
            "43/43 [==============================] - 0s 2ms/step - loss: 0.1783\n",
            "Iteration 20/100\n",
            "43/43 [==============================] - 0s 2ms/step - loss: 0.1697\n",
            "Iteration 21/100\n",
            "43/43 [==============================] - 0s 2ms/step - loss: 0.1613\n",
            "Iteration 22/100\n",
            "43/43 [==============================] - 0s 2ms/step - loss: 0.1531\n",
            "Iteration 23/100\n",
            "43/43 [==============================] - 0s 2ms/step - loss: 0.1452\n",
            "Iteration 24/100\n",
            "43/43 [==============================] - 0s 2ms/step - loss: 0.1375\n",
            "Iteration 25/100\n",
            "43/43 [==============================] - 0s 2ms/step - loss: 0.1301\n",
            "Iteration 26/100\n",
            "43/43 [==============================] - 0s 2ms/step - loss: 0.1233\n",
            "Iteration 27/100\n",
            "43/43 [==============================] - 0s 2ms/step - loss: 0.1169\n",
            "Iteration 28/100\n",
            "43/43 [==============================] - 0s 2ms/step - loss: 0.1111\n",
            "Iteration 29/100\n",
            "43/43 [==============================] - 0s 2ms/step - loss: 0.1058\n",
            "Iteration 30/100\n",
            "43/43 [==============================] - 0s 2ms/step - loss: 0.1010\n",
            "Iteration 31/100\n",
            "43/43 [==============================] - 0s 2ms/step - loss: 0.0967\n",
            "Iteration 32/100\n",
            "43/43 [==============================] - 0s 2ms/step - loss: 0.0928\n",
            "Iteration 33/100\n",
            "43/43 [==============================] - 0s 2ms/step - loss: 0.0891\n",
            "Iteration 34/100\n",
            "43/43 [==============================] - 0s 2ms/step - loss: 0.0856\n",
            "Iteration 35/100\n",
            "43/43 [==============================] - 0s 2ms/step - loss: 0.0822\n",
            "Iteration 36/100\n",
            "43/43 [==============================] - 0s 2ms/step - loss: 0.0792\n",
            "Iteration 37/100\n",
            "43/43 [==============================] - 0s 2ms/step - loss: 0.0764\n",
            "Iteration 38/100\n",
            "43/43 [==============================] - 0s 2ms/step - loss: 0.0738\n",
            "Iteration 39/100\n",
            "43/43 [==============================] - 0s 2ms/step - loss: 0.0716\n",
            "Iteration 40/100\n",
            "43/43 [==============================] - 0s 2ms/step - loss: 0.0695\n",
            "Iteration 41/100\n",
            "43/43 [==============================] - 0s 2ms/step - loss: 0.0676\n",
            "Iteration 42/100\n",
            "43/43 [==============================] - 0s 2ms/step - loss: 0.0658\n",
            "Iteration 43/100\n",
            "43/43 [==============================] - 0s 2ms/step - loss: 0.0641\n",
            "Iteration 44/100\n",
            "43/43 [==============================] - 0s 2ms/step - loss: 0.0625\n",
            "Iteration 45/100\n",
            "43/43 [==============================] - 0s 2ms/step - loss: 0.0611\n",
            "Iteration 46/100\n",
            "43/43 [==============================] - 0s 2ms/step - loss: 0.0597\n",
            "Iteration 47/100\n",
            "43/43 [==============================] - 0s 2ms/step - loss: 0.0585\n",
            "Iteration 48/100\n",
            "43/43 [==============================] - 0s 2ms/step - loss: 0.0573\n",
            "Iteration 49/100\n",
            "43/43 [==============================] - 0s 2ms/step - loss: 0.0562\n",
            "Iteration 50/100\n",
            "43/43 [==============================] - 0s 2ms/step - loss: 0.0552\n",
            "Iteration 51/100\n",
            "43/43 [==============================] - 0s 2ms/step - loss: 0.0543\n",
            "Iteration 52/100\n",
            "43/43 [==============================] - 0s 2ms/step - loss: 0.0534\n",
            "Iteration 53/100\n",
            "43/43 [==============================] - 0s 2ms/step - loss: 0.0526\n",
            "Iteration 54/100\n",
            "43/43 [==============================] - 0s 2ms/step - loss: 0.0518\n",
            "Iteration 55/100\n",
            "43/43 [==============================] - 0s 2ms/step - loss: 0.0510\n",
            "Iteration 56/100\n",
            "43/43 [==============================] - 0s 2ms/step - loss: 0.0502\n",
            "Iteration 57/100\n",
            "43/43 [==============================] - 0s 2ms/step - loss: 0.0494\n",
            "Iteration 58/100\n",
            "43/43 [==============================] - 0s 2ms/step - loss: 0.0486\n",
            "Iteration 59/100\n",
            "43/43 [==============================] - 0s 2ms/step - loss: 0.0479\n",
            "Iteration 60/100\n",
            "43/43 [==============================] - 0s 2ms/step - loss: 0.0471\n",
            "Iteration 61/100\n",
            "43/43 [==============================] - 0s 2ms/step - loss: 0.0465\n",
            "Iteration 62/100\n",
            "43/43 [==============================] - 0s 2ms/step - loss: 0.0459\n",
            "Iteration 63/100\n",
            "43/43 [==============================] - 0s 2ms/step - loss: 0.0454\n",
            "Iteration 64/100\n",
            "43/43 [==============================] - 0s 2ms/step - loss: 0.0450\n",
            "Iteration 65/100\n",
            "43/43 [==============================] - 0s 2ms/step - loss: 0.0445\n",
            "Iteration 66/100\n",
            "43/43 [==============================] - 0s 2ms/step - loss: 0.0442\n",
            "Iteration 67/100\n",
            "43/43 [==============================] - 0s 2ms/step - loss: 0.0438\n",
            "Iteration 68/100\n",
            "43/43 [==============================] - 0s 2ms/step - loss: 0.0435\n",
            "Iteration 69/100\n",
            "43/43 [==============================] - 0s 2ms/step - loss: 0.0432\n",
            "Iteration 70/100\n",
            "43/43 [==============================] - 0s 2ms/step - loss: 0.0430\n",
            "Iteration 71/100\n",
            "43/43 [==============================] - 0s 2ms/step - loss: 0.0428\n",
            "Iteration 72/100\n",
            "43/43 [==============================] - 0s 2ms/step - loss: 0.0426\n",
            "Iteration 73/100\n",
            "43/43 [==============================] - 0s 2ms/step - loss: 0.0424\n",
            "Iteration 74/100\n",
            "43/43 [==============================] - 0s 2ms/step - loss: 0.0422\n",
            "Iteration 75/100\n",
            "43/43 [==============================] - 0s 2ms/step - loss: 0.0420\n",
            "Iteration 76/100\n",
            "43/43 [==============================] - 0s 3ms/step - loss: 0.0419\n",
            "Iteration 77/100\n",
            "43/43 [==============================] - 0s 2ms/step - loss: 0.0418\n",
            "Iteration 78/100\n",
            "43/43 [==============================] - 0s 2ms/step - loss: 0.0417\n",
            "Iteration 79/100\n",
            "43/43 [==============================] - 0s 2ms/step - loss: 0.0415\n",
            "Iteration 80/100\n",
            "43/43 [==============================] - 0s 2ms/step - loss: 0.0414\n",
            "Iteration 81/100\n",
            "43/43 [==============================] - 0s 2ms/step - loss: 0.0413\n",
            "Iteration 82/100\n",
            "43/43 [==============================] - 0s 2ms/step - loss: 0.0413\n",
            "Iteration 83/100\n",
            "43/43 [==============================] - 0s 2ms/step - loss: 0.0412\n",
            "Iteration 84/100\n",
            "43/43 [==============================] - 0s 2ms/step - loss: 0.0411\n",
            "Iteration 85/100\n",
            "43/43 [==============================] - 0s 2ms/step - loss: 0.0411\n",
            "Iteration 86/100\n",
            "43/43 [==============================] - 0s 2ms/step - loss: 0.0410\n",
            "Iteration 87/100\n",
            "43/43 [==============================] - 0s 2ms/step - loss: 0.0410\n",
            "Iteration 88/100\n",
            "43/43 [==============================] - 0s 2ms/step - loss: 0.0409\n",
            "Iteration 89/100\n",
            "43/43 [==============================] - 0s 2ms/step - loss: 0.0409\n",
            "Iteration 90/100\n",
            "43/43 [==============================] - 0s 2ms/step - loss: 0.0409\n",
            "Iteration 91/100\n",
            "43/43 [==============================] - 0s 2ms/step - loss: 0.0409\n",
            "Iteration 92/100\n",
            "43/43 [==============================] - 0s 2ms/step - loss: 0.0409\n",
            "Iteration 93/100\n",
            "43/43 [==============================] - 0s 2ms/step - loss: 0.0409\n",
            "Iteration 94/100\n",
            "43/43 [==============================] - 0s 2ms/step - loss: 0.0409\n",
            "Iteration 95/100\n",
            "43/43 [==============================] - 0s 2ms/step - loss: 0.0409\n",
            "Iteration 96/100\n",
            "43/43 [==============================] - 0s 2ms/step - loss: 0.0409\n",
            "Iteration 97/100\n",
            "43/43 [==============================] - 0s 2ms/step - loss: 0.0410\n",
            "Iteration 98/100\n",
            "43/43 [==============================] - 0s 2ms/step - loss: 0.0410\n",
            "Iteration 99/100\n",
            "43/43 [==============================] - 0s 2ms/step - loss: 0.0410\n",
            "Iteration 100/100\n",
            "43/43 [==============================] - 0s 2ms/step - loss: 0.0409\n"
          ],
          "name": "stdout"
        }
      ]
    },
    {
      "cell_type": "code",
      "metadata": {
        "id": "3xECBiQCU53Z",
        "colab_type": "code",
        "colab": {
          "base_uri": "https://localhost:8080/",
          "height": 306
        },
        "outputId": "c3545a5d-7a8f-4a08-faed-e5df6c5918bb"
      },
      "source": [
        "plt.figure(figsize=(6,4),dpi=86)\n",
        "plt.plot(loss, label='loss',color='Maroon',linewidth=2.5)\n",
        "plt.title('Model Loss History',fontsize=8,fontweight='bold')\n",
        "plt.xlabel('epoch',fontsize=8,fontweight='bold')\n",
        "plt.ylabel('loss',fontsize=8,fontweight='bold')\n",
        "plt.legend(prop={\"size\":8})\n",
        "plt.tight_layout(3)\n",
        "plt.show()"
      ],
      "execution_count": null,
      "outputs": [
        {
          "output_type": "display_data",
          "data": {
            "image/png": "[encoded data removed]",
            "text/plain": [
              "<Figure size 516x344 with 1 Axes>"
            ]
          },
          "metadata": {
            "tags": [],
            "needs_background": "light"
          }
        }
      ]
    },
    {
      "cell_type": "code",
      "metadata": {
        "id": "TDzFJGoAVEQO",
        "colab_type": "code",
        "colab": {}
      },
      "source": [
        "train_predict = model.predict(X_train, batch_size=batch_size)"
      ],
      "execution_count": null,
      "outputs": []
    },
    {
      "cell_type": "code",
      "metadata": {
        "id": "WXTpHPi1VMbh",
        "colab_type": "code",
        "colab": {}
      },
      "source": [
        "days_to_predict = X_test.shape[0]\n",
        "test_predict = []\n",
        "pred_samples = train_predict[-1:]\n",
        "pred_samples = np.array([pred_samples])\n",
        "for i in range(days_to_predict):\n",
        "    pred = model.predict(X_test[i:(i+1)], batch_size=batch_size)\n",
        "    pred = np.array(pred).flatten()\n",
        "    test_predict.append(pred)\n",
        "test_predict = np.array(test_predict).reshape(1, len(test_predict), 1)"
      ],
      "execution_count": null,
      "outputs": []
    },
    {
      "cell_type": "code",
      "metadata": {
        "id": "1680aWFQVRe5",
        "colab_type": "code",
        "colab": {}
      },
      "source": [
        "model.reset_states()"
      ],
      "execution_count": null,
      "outputs": []
    },
    {
      "cell_type": "code",
      "metadata": {
        "id": "q3fw58GPVV7-",
        "colab_type": "code",
        "colab": {}
      },
      "source": [
        "X_train_flatten = np.array(scaler.inverse_transform(\n",
        "    np.array(X_train).reshape(X_train.shape[0], 1)\n",
        ")).flatten().astype('int')\n",
        "Y_train_flatten = np.array(scaler.inverse_transform(\n",
        "    np.array(Y_train).reshape(Y_train.shape[0], 1)\n",
        ")).flatten().astype('int')\n",
        "train_predict_flatten = np.array(scaler.inverse_transform(\n",
        "    np.array(train_predict).reshape(train_predict.shape[0], 1)\n",
        ")).flatten().astype('int')\n",
        "X_test_flatten = np.array(scaler.inverse_transform(\n",
        "    np.array(X_test).reshape(X_test.shape[0], 1)\n",
        ")).flatten().astype('int')\n",
        "Y_test_flatten = np.array(scaler.inverse_transform(\n",
        "    np.array(Y_test).reshape(Y_test.shape[0], 1)\n",
        ")).flatten().astype('int')\n",
        "test_predict_flatten = np.array(scaler.inverse_transform(\n",
        "    np.array(test_predict).reshape(test_predict.shape[1], 1)\n",
        ")).flatten().astype('int')"
      ],
      "execution_count": null,
      "outputs": []
    },
    {
      "cell_type": "code",
      "metadata": {
        "id": "wLhS1-qwVrXj",
        "colab_type": "code",
        "colab": {}
      },
      "source": [
        "train_predict_score = math.sqrt(\n",
        "    mean_squared_error(\n",
        "        Y_train_flatten, \n",
        "        train_predict_flatten\n",
        "    )\n",
        ")\n",
        "test_predict_score = math.sqrt(\n",
        "    mean_squared_error(\n",
        "        Y_test_flatten, \n",
        "        test_predict_flatten\n",
        "    )\n",
        ")"
      ],
      "execution_count": null,
      "outputs": []
    },
    {
      "cell_type": "code",
      "metadata": {
        "id": "bGZCzY-nVv6U",
        "colab_type": "code",
        "colab": {
          "base_uri": "https://localhost:8080/",
          "height": 35
        },
        "outputId": "9002d37d-8de5-4266-8c3c-a8fc273b8d87"
      },
      "source": [
        "'Train Score: %.2f RMSE' % (train_predict_score)"
      ],
      "execution_count": null,
      "outputs": [
        {
          "output_type": "execute_result",
          "data": {
            "application/vnd.google.colaboratory.intrinsic+json": {
              "type": "string"
            },
            "text/plain": [
              "'Train Score: 311.32 RMSE'"
            ]
          },
          "metadata": {
            "tags": []
          },
          "execution_count": 39
        }
      ]
    },
    {
      "cell_type": "code",
      "metadata": {
        "id": "PsniN56pV0Wb",
        "colab_type": "code",
        "colab": {
          "base_uri": "https://localhost:8080/",
          "height": 35
        },
        "outputId": "207a42d5-f497-4a61-e769-1393e4002038"
      },
      "source": [
        "'Test Score: %.2f RMSE' % (test_predict_score)"
      ],
      "execution_count": null,
      "outputs": [
        {
          "output_type": "execute_result",
          "data": {
            "application/vnd.google.colaboratory.intrinsic+json": {
              "type": "string"
            },
            "text/plain": [
              "'Test Score: 471.39 RMSE'"
            ]
          },
          "metadata": {
            "tags": []
          },
          "execution_count": 40
        }
      ]
    },
    {
      "cell_type": "code",
      "metadata": {
        "id": "rhcIQwjlV3CE",
        "colab_type": "code",
        "colab": {
          "base_uri": "https://localhost:8080/",
          "height": 419
        },
        "outputId": "00dabae2-4c64-4e9b-9d9c-1c3c30eed625"
      },
      "source": [
        "plt.figure(figsize=(8, 5),dpi=86)\n",
        "plt.plot(\n",
        "    cases.index[:len(X_train_flatten)],\n",
        "    X_train_flatten,\n",
        "    label='train (true value)',linewidth=2.5\n",
        ")\n",
        "plt.plot(\n",
        "    cases.index[:len(train_predict_flatten)],\n",
        "    train_predict_flatten,\n",
        "    label='train (predict value)',linewidth=2.5\n",
        ")\n",
        "plt.plot(\n",
        "    cases.index[len(X_train_flatten):len(X_train_flatten) + len(X_test_flatten)],\n",
        "    X_test_flatten,\n",
        "    label='test (true value)',linewidth=2.5\n",
        ")\n",
        "plt.plot(\n",
        "    cases.index[len(X_train_flatten):len(X_train_flatten) + len(test_predict_flatten)],\n",
        "    test_predict_flatten,\n",
        "    label='test (predict value)',linewidth=2.5\n",
        ")\n",
        "plt.suptitle('Historical Training Test Based on Confirmed Case in Bangladesh',fontsize=8,fontweight='bold')\n",
        "plt.xlabel('Date',fontsize=8,fontweight='bold')\n",
        "plt.ylabel('Confirmed case',fontsize=8,fontweight='bold')\n",
        "plt.xticks(rotation=70)\n",
        "plt.legend(prop={\"size\":8})\n",
        "plt.tight_layout(3)\n",
        "plt.show()"
      ],
      "execution_count": null,
      "outputs": [
        {
          "output_type": "display_data",
          "data": {
            "image/png": "[encoded data removed]",
            "text/plain": [
              "<Figure size 688x430 with 1 Axes>"
            ]
          },
          "metadata": {
            "tags": [],
            "needs_background": "light"
          }
        }
      ]
    },
    {
      "cell_type": "code",
      "metadata": {
        "id": "8_x65-7RV8Jp",
        "colab_type": "code",
        "colab": {}
      },
      "source": [
        "model.reset_states()"
      ],
      "execution_count": null,
      "outputs": []
    },
    {
      "cell_type": "code",
      "metadata": {
        "id": "91aijtuiWR2_",
        "colab_type": "code",
        "colab": {
          "base_uri": "https://localhost:8080/",
          "height": 1000
        },
        "outputId": "79adf455-aec3-4694-ed9c-6a0dd15eaf6c"
      },
      "source": [
        "epoch = EPOCHS\n",
        "loss = []\n",
        "for i in range(epoch):\n",
        "    print('Iteration ' + str(i + 1) + '/' + str(epoch))\n",
        "    model.fit(X_all, Y_all, batch_size=batch_size, \n",
        "              epochs=1, verbose=1, shuffle=False)\n",
        "    h = model.history\n",
        "    loss.append(h.history['loss'][0])\n",
        "    model.reset_states()"
      ],
      "execution_count": null,
      "outputs": [
        {
          "output_type": "stream",
          "text": [
            "Iteration 1/100\n",
            "62/62 [==============================] - 0s 2ms/step - loss: 0.0555\n",
            "Iteration 2/100\n",
            "62/62 [==============================] - 0s 2ms/step - loss: 0.0516\n",
            "Iteration 3/100\n",
            "62/62 [==============================] - 0s 2ms/step - loss: 0.0509\n",
            "Iteration 4/100\n",
            "62/62 [==============================] - 0s 2ms/step - loss: 0.0501\n",
            "Iteration 5/100\n",
            "62/62 [==============================] - 0s 2ms/step - loss: 0.0496\n",
            "Iteration 6/100\n",
            "62/62 [==============================] - 0s 2ms/step - loss: 0.0491\n",
            "Iteration 7/100\n",
            "62/62 [==============================] - 0s 2ms/step - loss: 0.0486\n",
            "Iteration 8/100\n",
            "62/62 [==============================] - 0s 3ms/step - loss: 0.0482\n",
            "Iteration 9/100\n",
            "62/62 [==============================] - 0s 2ms/step - loss: 0.0479\n",
            "Iteration 10/100\n",
            "62/62 [==============================] - 0s 2ms/step - loss: 0.0476\n",
            "Iteration 11/100\n",
            "62/62 [==============================] - 0s 2ms/step - loss: 0.0473\n",
            "Iteration 12/100\n",
            "62/62 [==============================] - 0s 2ms/step - loss: 0.0470\n",
            "Iteration 13/100\n",
            "62/62 [==============================] - 0s 2ms/step - loss: 0.0467\n",
            "Iteration 14/100\n",
            "62/62 [==============================] - 0s 2ms/step - loss: 0.0465\n",
            "Iteration 15/100\n",
            "62/62 [==============================] - 0s 2ms/step - loss: 0.0462\n",
            "Iteration 16/100\n",
            "62/62 [==============================] - 0s 2ms/step - loss: 0.0460\n",
            "Iteration 17/100\n",
            "62/62 [==============================] - 0s 2ms/step - loss: 0.0457\n",
            "Iteration 18/100\n",
            "62/62 [==============================] - 0s 2ms/step - loss: 0.0455\n",
            "Iteration 19/100\n",
            "62/62 [==============================] - 0s 2ms/step - loss: 0.0453\n",
            "Iteration 20/100\n",
            "62/62 [==============================] - 0s 2ms/step - loss: 0.0451\n",
            "Iteration 21/100\n",
            "62/62 [==============================] - 0s 2ms/step - loss: 0.0449\n",
            "Iteration 22/100\n",
            "62/62 [==============================] - 0s 2ms/step - loss: 0.0447\n",
            "Iteration 23/100\n",
            "62/62 [==============================] - 0s 2ms/step - loss: 0.0445\n",
            "Iteration 24/100\n",
            "62/62 [==============================] - 0s 2ms/step - loss: 0.0443\n",
            "Iteration 25/100\n",
            "62/62 [==============================] - 0s 2ms/step - loss: 0.0441\n",
            "Iteration 26/100\n",
            "62/62 [==============================] - 0s 2ms/step - loss: 0.0439\n",
            "Iteration 27/100\n",
            "62/62 [==============================] - 0s 2ms/step - loss: 0.0437\n",
            "Iteration 28/100\n",
            "62/62 [==============================] - 0s 2ms/step - loss: 0.0435\n",
            "Iteration 29/100\n",
            "62/62 [==============================] - 0s 2ms/step - loss: 0.0433\n",
            "Iteration 30/100\n",
            "62/62 [==============================] - 0s 2ms/step - loss: 0.0432\n",
            "Iteration 31/100\n",
            "62/62 [==============================] - 0s 2ms/step - loss: 0.0430\n",
            "Iteration 32/100\n",
            "62/62 [==============================] - 0s 2ms/step - loss: 0.0428\n",
            "Iteration 33/100\n",
            "62/62 [==============================] - 0s 2ms/step - loss: 0.0427\n",
            "Iteration 34/100\n",
            "62/62 [==============================] - 0s 2ms/step - loss: 0.0425\n",
            "Iteration 35/100\n",
            "62/62 [==============================] - 0s 2ms/step - loss: 0.0423\n",
            "Iteration 36/100\n",
            "62/62 [==============================] - 0s 2ms/step - loss: 0.0422\n",
            "Iteration 37/100\n",
            "62/62 [==============================] - 0s 2ms/step - loss: 0.0420\n",
            "Iteration 38/100\n",
            "62/62 [==============================] - 0s 2ms/step - loss: 0.0419\n",
            "Iteration 39/100\n",
            "62/62 [==============================] - 0s 2ms/step - loss: 0.0417\n",
            "Iteration 40/100\n",
            "62/62 [==============================] - 0s 2ms/step - loss: 0.0416\n",
            "Iteration 41/100\n",
            "62/62 [==============================] - 0s 2ms/step - loss: 0.0414\n",
            "Iteration 42/100\n",
            "62/62 [==============================] - 0s 2ms/step - loss: 0.0413\n",
            "Iteration 43/100\n",
            "62/62 [==============================] - 0s 2ms/step - loss: 0.0411\n",
            "Iteration 44/100\n",
            "62/62 [==============================] - 0s 2ms/step - loss: 0.0410\n",
            "Iteration 45/100\n",
            "62/62 [==============================] - 0s 2ms/step - loss: 0.0408\n",
            "Iteration 46/100\n",
            "62/62 [==============================] - 0s 2ms/step - loss: 0.0407\n",
            "Iteration 47/100\n",
            "62/62 [==============================] - 0s 2ms/step - loss: 0.0406\n",
            "Iteration 48/100\n",
            "62/62 [==============================] - 0s 2ms/step - loss: 0.0404\n",
            "Iteration 49/100\n",
            "62/62 [==============================] - 0s 2ms/step - loss: 0.0403\n",
            "Iteration 50/100\n",
            "62/62 [==============================] - 0s 2ms/step - loss: 0.0402\n",
            "Iteration 51/100\n",
            "62/62 [==============================] - 0s 2ms/step - loss: 0.0400\n",
            "Iteration 52/100\n",
            "62/62 [==============================] - 0s 2ms/step - loss: 0.0399\n",
            "Iteration 53/100\n",
            "62/62 [==============================] - 0s 2ms/step - loss: 0.0398\n",
            "Iteration 54/100\n",
            "62/62 [==============================] - 0s 2ms/step - loss: 0.0397\n",
            "Iteration 55/100\n",
            "62/62 [==============================] - 0s 2ms/step - loss: 0.0395\n",
            "Iteration 56/100\n",
            "62/62 [==============================] - 0s 2ms/step - loss: 0.0394\n",
            "Iteration 57/100\n",
            "62/62 [==============================] - 0s 2ms/step - loss: 0.0393\n",
            "Iteration 58/100\n",
            "62/62 [==============================] - 0s 2ms/step - loss: 0.0392\n",
            "Iteration 59/100\n",
            "62/62 [==============================] - 0s 2ms/step - loss: 0.0390\n",
            "Iteration 60/100\n",
            "62/62 [==============================] - 0s 2ms/step - loss: 0.0389\n",
            "Iteration 61/100\n",
            "62/62 [==============================] - 0s 2ms/step - loss: 0.0388\n",
            "Iteration 62/100\n",
            "62/62 [==============================] - 0s 2ms/step - loss: 0.0387\n",
            "Iteration 63/100\n",
            "62/62 [==============================] - 0s 2ms/step - loss: 0.0386\n",
            "Iteration 64/100\n",
            "62/62 [==============================] - 0s 2ms/step - loss: 0.0385\n",
            "Iteration 65/100\n",
            "62/62 [==============================] - 0s 2ms/step - loss: 0.0384\n",
            "Iteration 66/100\n",
            "62/62 [==============================] - 0s 2ms/step - loss: 0.0383\n",
            "Iteration 67/100\n",
            "62/62 [==============================] - 0s 2ms/step - loss: 0.0381\n",
            "Iteration 68/100\n",
            "62/62 [==============================] - 0s 2ms/step - loss: 0.0380\n",
            "Iteration 69/100\n",
            "62/62 [==============================] - 0s 2ms/step - loss: 0.0379\n",
            "Iteration 70/100\n",
            "62/62 [==============================] - 0s 2ms/step - loss: 0.0378\n",
            "Iteration 71/100\n",
            "62/62 [==============================] - 0s 2ms/step - loss: 0.0377\n",
            "Iteration 72/100\n",
            "62/62 [==============================] - 0s 2ms/step - loss: 0.0376\n",
            "Iteration 73/100\n",
            "62/62 [==============================] - 0s 2ms/step - loss: 0.0375\n",
            "Iteration 74/100\n",
            "62/62 [==============================] - 0s 2ms/step - loss: 0.0374\n",
            "Iteration 75/100\n",
            "62/62 [==============================] - 0s 2ms/step - loss: 0.0373\n",
            "Iteration 76/100\n",
            "62/62 [==============================] - 0s 2ms/step - loss: 0.0372\n",
            "Iteration 77/100\n",
            "62/62 [==============================] - 0s 2ms/step - loss: 0.0371\n",
            "Iteration 78/100\n",
            "62/62 [==============================] - 0s 2ms/step - loss: 0.0371\n",
            "Iteration 79/100\n",
            "62/62 [==============================] - 0s 2ms/step - loss: 0.0370\n",
            "Iteration 80/100\n",
            "62/62 [==============================] - 0s 2ms/step - loss: 0.0369\n",
            "Iteration 81/100\n",
            "62/62 [==============================] - 0s 2ms/step - loss: 0.0368\n",
            "Iteration 82/100\n",
            "62/62 [==============================] - 0s 2ms/step - loss: 0.0367\n",
            "Iteration 83/100\n",
            "62/62 [==============================] - 0s 2ms/step - loss: 0.0366\n",
            "Iteration 84/100\n",
            "62/62 [==============================] - 0s 2ms/step - loss: 0.0365\n",
            "Iteration 85/100\n",
            "62/62 [==============================] - 0s 2ms/step - loss: 0.0364\n",
            "Iteration 86/100\n",
            "62/62 [==============================] - 0s 2ms/step - loss: 0.0364\n",
            "Iteration 87/100\n",
            "62/62 [==============================] - 0s 2ms/step - loss: 0.0363\n",
            "Iteration 88/100\n",
            "62/62 [==============================] - 0s 2ms/step - loss: 0.0362\n",
            "Iteration 89/100\n",
            "62/62 [==============================] - 0s 2ms/step - loss: 0.0361\n",
            "Iteration 90/100\n",
            "62/62 [==============================] - 0s 2ms/step - loss: 0.0360\n",
            "Iteration 91/100\n",
            "62/62 [==============================] - 0s 2ms/step - loss: 0.0360\n",
            "Iteration 92/100\n",
            "62/62 [==============================] - 0s 2ms/step - loss: 0.0359\n",
            "Iteration 93/100\n",
            "62/62 [==============================] - 0s 2ms/step - loss: 0.0358\n",
            "Iteration 94/100\n",
            "62/62 [==============================] - 0s 2ms/step - loss: 0.0357\n",
            "Iteration 95/100\n",
            "62/62 [==============================] - 0s 2ms/step - loss: 0.0357\n",
            "Iteration 96/100\n",
            "62/62 [==============================] - 0s 2ms/step - loss: 0.0356\n",
            "Iteration 97/100\n",
            "62/62 [==============================] - 0s 2ms/step - loss: 0.0355\n",
            "Iteration 98/100\n",
            "62/62 [==============================] - 0s 2ms/step - loss: 0.0355\n",
            "Iteration 99/100\n",
            "62/62 [==============================] - 0s 2ms/step - loss: 0.0354\n",
            "Iteration 100/100\n",
            "62/62 [==============================] - 0s 2ms/step - loss: 0.0353\n"
          ],
          "name": "stdout"
        }
      ]
    },
    {
      "cell_type": "code",
      "metadata": {
        "id": "h0xy57ZmWVND",
        "colab_type": "code",
        "colab": {
          "base_uri": "https://localhost:8080/",
          "height": 259
        },
        "outputId": "8941f1ad-ec0d-425b-e87c-a369acd558db"
      },
      "source": [
        "plt.figure(figsize=(6,4))\n",
        "plt.plot(loss, label='loss',color='Maroon',linewidth=2.5)\n",
        "plt.title('Model Loss History',fontsize=8,fontweight='bold')\n",
        "plt.xlabel('epoch',fontsize=8,fontweight='bold')\n",
        "plt.ylabel('loss',fontsize=8,fontweight='bold')\n",
        "plt.legend(prop={\"size\":8})\n",
        "plt.tight_layout(3)\n",
        "plt.show()\n"
      ],
      "execution_count": null,
      "outputs": [
        {
          "output_type": "display_data",
          "data": {
            "image/png": "[encoded data removed]",
            "text/plain": [
              "<Figure size 432x288 with 1 Axes>"
            ]
          },
          "metadata": {
            "tags": [],
            "needs_background": "light"
          }
        }
      ]
    },
    {
      "cell_type": "code",
      "metadata": {
        "id": "6Wm05h8-We1U",
        "colab_type": "code",
        "colab": {}
      },
      "source": [
        "all_predict = model.predict(X_all, batch_size=batch_size)"
      ],
      "execution_count": null,
      "outputs": []
    },
    {
      "cell_type": "code",
      "metadata": {
        "id": "69HKqEAuWi7z",
        "colab_type": "code",
        "colab": {}
      },
      "source": [
        "days_to_predict = DAYS_TO_PREDICT\n",
        "future_predict = []\n",
        "pred_samples = all_predict[-1:]\n",
        "pred_samples = np.array([pred_samples])\n",
        "for i in range(days_to_predict):\n",
        "    pred = model.predict(pred_samples, batch_size=batch_size)\n",
        "    pred = np.array(pred).flatten()\n",
        "    future_predict.append(pred)\n",
        "    new_samples = np.array(pred_samples).flatten()\n",
        "    new_samples = np.append(new_samples, [pred])\n",
        "    new_samples = new_samples[1:]\n",
        "    pred_samples = np.array(new_samples).reshape(1, 1, 1)\n",
        "future_predict = np.array(future_predict).reshape(len(future_predict), 1, 1)"
      ],
      "execution_count": null,
      "outputs": []
    },
    {
      "cell_type": "code",
      "metadata": {
        "id": "rLQ4IaYsWmP1",
        "colab_type": "code",
        "colab": {}
      },
      "source": [
        "model.reset_states()"
      ],
      "execution_count": null,
      "outputs": []
    },
    {
      "cell_type": "code",
      "metadata": {
        "id": "2xNNvitdWpY-",
        "colab_type": "code",
        "colab": {}
      },
      "source": [
        "f_future_predict = model.predict(future_predict, batch_size=batch_size)"
      ],
      "execution_count": null,
      "outputs": []
    },
    {
      "cell_type": "code",
      "metadata": {
        "id": "Ni0q7WP5Wr6L",
        "colab_type": "code",
        "colab": {}
      },
      "source": [
        "model.reset_states()"
      ],
      "execution_count": null,
      "outputs": []
    },
    {
      "cell_type": "code",
      "metadata": {
        "id": "6QI8wCZ_Ww6H",
        "colab_type": "code",
        "colab": {}
      },
      "source": [
        "X_all_flatten = np.array(scaler.inverse_transform(\n",
        "    np.array(X_all).reshape(X_all.shape[0], 1)\n",
        ")).flatten().astype('int')\n",
        "X_all_flatten = np.absolute(X_all_flatten)\n",
        "Y_all_flatten = np.array(scaler.inverse_transform(\n",
        "    np.array(Y_all).reshape(Y_all.shape[0], 1)\n",
        ")).flatten().astype('int')\n",
        "Y_all_flatten = np.absolute(Y_all_flatten)\n",
        "all_predict_flatten = np.array(scaler.inverse_transform(\n",
        "    np.array(all_predict).reshape(all_predict.shape[0], 1)\n",
        ")).flatten().astype('int')\n",
        "all_predict_flatten = np.absolute(all_predict_flatten)\n",
        "future_predict_flatten = np.array(scaler.inverse_transform(\n",
        "    np.array(future_predict).reshape(future_predict.shape[0], 1)\n",
        ")).flatten().astype('int')\n",
        "future_predict_flatten = np.absolute(future_predict_flatten)\n",
        "f_future_predict_flatten = np.array(scaler.inverse_transform(\n",
        "    np.array(f_future_predict).reshape(f_future_predict.shape[0], 1)\n",
        ")).flatten().astype('int')\n",
        "f_future_predict_flatten = np.absolute(f_future_predict_flatten)"
      ],
      "execution_count": null,
      "outputs": []
    },
    {
      "cell_type": "code",
      "metadata": {
        "id": "H28sNVMFW050",
        "colab_type": "code",
        "colab": {}
      },
      "source": [
        "all_predict_score = math.sqrt(\n",
        "    mean_squared_error(\n",
        "        Y_all_flatten, \n",
        "        all_predict_flatten\n",
        "    )\n",
        ")"
      ],
      "execution_count": null,
      "outputs": []
    },
    {
      "cell_type": "code",
      "metadata": {
        "id": "_hkgKaOIW497",
        "colab_type": "code",
        "colab": {
          "base_uri": "https://localhost:8080/",
          "height": 35
        },
        "outputId": "f407a6c6-2efb-4444-b373-145fbbbe319a"
      },
      "source": [
        "'All Score: %.2f RMSE' % (all_predict_score)"
      ],
      "execution_count": null,
      "outputs": [
        {
          "output_type": "execute_result",
          "data": {
            "application/vnd.google.colaboratory.intrinsic+json": {
              "type": "string"
            },
            "text/plain": [
              "'All Score: 288.58 RMSE'"
            ]
          },
          "metadata": {
            "tags": []
          },
          "execution_count": 52
        }
      ]
    },
    {
      "cell_type": "code",
      "metadata": {
        "id": "jWpORiTFW8Va",
        "colab_type": "code",
        "colab": {}
      },
      "source": [
        "future_index = pd.date_range(start=cases.index[-1], periods=days_to_predict + 1, closed='right')"
      ],
      "execution_count": null,
      "outputs": []
    },
    {
      "cell_type": "code",
      "metadata": {
        "id": "n2yYQIxDW_XV",
        "colab_type": "code",
        "colab": {
          "base_uri": "https://localhost:8080/",
          "height": 335
        },
        "outputId": "d0e7c485-0756-4600-8b21-2a408cdb2fd5"
      },
      "source": [
        "plt.figure(figsize=(6,4),dpi=86)\n",
        "plt.plot(\n",
        "    future_index,\n",
        "    future_predict_flatten,\n",
        "    label='Prediction Confirmed Cases',\n",
        "    color='red',\n",
        "    linewidth=2.5\n",
        ")\n",
        "plt.suptitle('Future Prediction Based on Per Day Confirmed Case in Bangladesh',fontsize=8,fontweight='bold')\n",
        "plt.xlabel('Date',fontsize=8,fontweight='bold')\n",
        "plt.ylabel('Confirmed Case',fontsize=8,fontweight='bold')\n",
        "plt.xticks(rotation=70)\n",
        "plt.legend(prop={\"size\":8})\n",
        "plt.tight_layout(3)\n",
        "plt.show()                                                                      "
      ],
      "execution_count": null,
      "outputs": [
        {
          "output_type": "display_data",
          "data": {
            "image/png": "[encoded data removed]",
            "text/plain": [
              "<Figure size 516x344 with 1 Axes>"
            ]
          },
          "metadata": {
            "tags": [],
            "needs_background": "light"
          }
        }
      ]
    },
    {
      "cell_type": "code",
      "metadata": {
        "id": "9MHgn_EEXB9J",
        "colab_type": "code",
        "colab": {
          "base_uri": "https://localhost:8080/",
          "height": 283
        },
        "outputId": "72e5d763-ac93-49eb-d4a4-fd8a75636215"
      },
      "source": [
        "plt.plot(\n",
        "    future_index,\n",
        "    f_future_predict_flatten,\n",
        "    label='Future Prediction Confirmed Cases',\n",
        "    color='red',\n",
        "    linewidth=2.5\n",
        ")\n",
        "plt.suptitle('Future Prediction Based on Previous Per day Confirmed Future Prediction in Bangladesh',fontsize=8,fontweight='bold')\n",
        "plt.xlabel('Date',fontsize=8,fontweight='bold')\n",
        "plt.ylabel('Confirmed Case',fontsize=8,fontweight='bold')\n",
        "plt.xticks(rotation=70)\n",
        "plt.legend(prop={\"size\":8})\n",
        "plt.tight_layout(3)\n",
        "plt.show()"
      ],
      "execution_count": null,
      "outputs": [
        {
          "output_type": "display_data",
          "data": {
            "image/png": "[encoded data removed]",
            "text/plain": [
              "<Figure size 432x288 with 1 Axes>"
            ]
          },
          "metadata": {
            "tags": [],
            "needs_background": "light"
          }
        }
      ]
    },
    {
      "cell_type": "code",
      "metadata": {
        "id": "glFIC1Y7XXWR",
        "colab_type": "code",
        "colab": {
          "base_uri": "https://localhost:8080/",
          "height": 419
        },
        "outputId": "91852c81-e0e2-48c5-8c25-9cd0df7ec612"
      },
      "source": [
        "plt.figure(figsize=(8, 5),dpi=86)\n",
        "plt.plot(\n",
        "    cases.index[:len(X_all_flatten)],\n",
        "    X_all_flatten,\n",
        "    label='Actual Confirmed Cases',\n",
        "    linewidth=2.5\n",
        ")\n",
        "plt.plot(\n",
        "    cases.index[:len(X_all_flatten)],\n",
        "    all_predict_flatten,\n",
        "    label='Actual Prediction Confirmed Cases',\n",
        "    linewidth=2.5\n",
        ")\n",
        "plt.plot(\n",
        "    future_index,\n",
        "    future_predict_flatten,\n",
        "    label='Predict up to ' + str(days_to_predict) + ' Days in the future',\n",
        "    linewidth=2.5\n",
        ")\n",
        "plt.plot(\n",
        "    future_index,\n",
        "    f_future_predict_flatten,\n",
        "    label='Future based on previous future prediction',\n",
        "    linewidth=2.5\n",
        ")\n",
        "plt.suptitle('Future Prediction Based on Per Day Confirmed Case in Bangladesh',fontsize=8,fontweight='bold')\n",
        "plt.xlabel('Date',fontsize=8,fontweight='bold')\n",
        "plt.ylabel('Confirmed Case',fontsize=8,fontweight='bold')\n",
        "plt.xticks(rotation=70)\n",
        "plt.legend(prop={\"size\":8})\n",
        "plt.tight_layout(3)\n",
        "plt.show()"
      ],
      "execution_count": null,
      "outputs": [
        {
          "output_type": "display_data",
          "data": {
            "image/png": "[encoded data removed]",
            "text/plain": [
              "<Figure size 688x430 with 1 Axes>"
            ]
          },
          "metadata": {
            "tags": [],
            "needs_background": "light"
          }
        }
      ]
    },
    {
      "cell_type": "markdown",
      "metadata": {
        "id": "P4BL_n_MQ6y4",
        "colab_type": "text"
      },
      "source": [
        "## Random Forest Regression"
      ]
    },
    {
      "cell_type": "code",
      "metadata": {
        "id": "y4Busmp8Rfyz",
        "colab_type": "code",
        "colab": {}
      },
      "source": [
        "def data_split(data, look_back=1):\n",
        "    x, y = [], []\n",
        "    for i in range(len(data) - look_back - 1):\n",
        "        a = data[i:(i + look_back), 0]\n",
        "        x.append(a)\n",
        "        y.append(data[i + look_back, 0])\n",
        "    return np.array(x), np.array(y)"
      ],
      "execution_count": null,
      "outputs": []
    },
    {
      "cell_type": "code",
      "metadata": {
        "id": "gOR_Nhj8RBJy",
        "colab_type": "code",
        "colab": {}
      },
      "source": [
        "test_size = TEST_SIZE\n",
        "test_size = int(cases.shape[0] * test_size)\n",
        "train_cases = cases[:-test_size]\n",
        "test_cases = cases[-test_size:]"
      ],
      "execution_count": null,
      "outputs": []
    },
    {
      "cell_type": "code",
      "metadata": {
        "id": "9OugF7fhRSkK",
        "colab_type": "code",
        "colab": {}
      },
      "source": [
        "scaler = MinMaxScaler(feature_range=(-1, 1))\n",
        "scaler = scaler.fit(cases)\n",
        "all_cases = scaler.transform(cases)\n",
        "train_cases = scaler.transform(train_cases)\n",
        "test_cases = scaler.transform(test_cases)"
      ],
      "execution_count": null,
      "outputs": []
    },
    {
      "cell_type": "code",
      "metadata": {
        "id": "PBKG5UygTsUk",
        "colab_type": "code",
        "colab": {}
      },
      "source": [
        "look_back = LOOK_BACK\n",
        "X_all, Y_all = data_split(all_cases, look_back=look_back)\n",
        "X_train, Y_train = data_split(train_cases, look_back=look_back)\n",
        "X_test, Y_test = data_split(test_cases, look_back=look_back)"
      ],
      "execution_count": null,
      "outputs": []
    },
    {
      "cell_type": "code",
      "metadata": {
        "id": "7iuTjpqbT044",
        "colab_type": "code",
        "colab": {
          "base_uri": "https://localhost:8080/",
          "height": 35
        },
        "outputId": "595bc6d2-415e-4a0f-e715-355ae46db423"
      },
      "source": [
        "X_train.shape,Y_train.shape,X_test.shape,Y_test.shape"
      ],
      "execution_count": null,
      "outputs": [
        {
          "output_type": "execute_result",
          "data": {
            "text/plain": [
              "((43, 1), (43,), (17, 1), (17,))"
            ]
          },
          "metadata": {
            "tags": []
          },
          "execution_count": 80
        }
      ]
    },
    {
      "cell_type": "code",
      "metadata": {
        "id": "20l0Fg05mNa2",
        "colab_type": "code",
        "colab": {}
      },
      "source": [
        "from sklearn.ensemble import RandomForestRegressor\n",
        "rf=RandomForestRegressor()\n",
        "model = rf.fit(X_train, Y_train)"
      ],
      "execution_count": null,
      "outputs": []
    },
    {
      "cell_type": "code",
      "metadata": {
        "id": "IQrw3g4tl6Gc",
        "colab_type": "code",
        "colab": {}
      },
      "source": [
        "all_predict = model.predict(X_all)"
      ],
      "execution_count": null,
      "outputs": []
    },
    {
      "cell_type": "code",
      "metadata": {
        "id": "jDgWKXtXk1ae",
        "colab_type": "code",
        "colab": {}
      },
      "source": [
        "Y_train_flatten = np.array(scaler.inverse_transform(\n",
        "    np.array(Y_train).reshape(Y_train.shape[0], 1)\n",
        ")).flatten().astype('int')\n",
        "Y_test_flatten = np.array(scaler.inverse_transform(\n",
        "    np.array(Y_test).reshape(Y_test.shape[0], 1)\n",
        ")).flatten().astype('int')\n",
        "all_predict_flatten = np.array(scaler.inverse_transform(\n",
        "    np.array(all_predict).reshape(all_predict.shape[0], 1)\n",
        ")).flatten().astype('int')\n",
        "all_predict_flatten = np.absolute(all_predict_flatten)"
      ],
      "execution_count": null,
      "outputs": []
    },
    {
      "cell_type": "code",
      "metadata": {
        "id": "epIz9kG3UJzJ",
        "colab_type": "code",
        "colab": {}
      },
      "source": [
        "y_train_predict=model.predict(X_train)\n",
        "y_test_predict=model.predict(X_test)"
      ],
      "execution_count": null,
      "outputs": []
    },
    {
      "cell_type": "code",
      "metadata": {
        "id": "yI3BWPlkUmIe",
        "colab_type": "code",
        "colab": {
          "base_uri": "https://localhost:8080/",
          "height": 88
        },
        "outputId": "26c0ce64-4cfb-45ee-b45b-f04f12d714e7"
      },
      "source": [
        "from sklearn.metrics import mean_squared_error\n",
        "import math\n",
        "\n",
        "print('Train RMSE')\n",
        "print(math.sqrt(mean_squared_error(Y_train_flatten,y_train_predict)))\n",
        "print('Test RMSE')\n",
        "print(math.sqrt(mean_squared_error(Y_test_flatten,y_test_predict)))\n"
      ],
      "execution_count": null,
      "outputs": [
        {
          "output_type": "stream",
          "text": [
            "Train RMSE\n",
            "2679.7146148116362\n",
            "Test RMSE\n",
            "3325.595447024669\n"
          ],
          "name": "stdout"
        }
      ]
    },
    {
      "cell_type": "code",
      "metadata": {
        "id": "5cx2RIVxnqJV",
        "colab_type": "code",
        "colab": {
          "base_uri": "https://localhost:8080/",
          "height": 35
        },
        "outputId": "c264299a-4302-4451-b05e-5240cac9c980"
      },
      "source": [
        "all_predict_score = math.sqrt(\n",
        "    mean_squared_error(\n",
        "        Y_all_flatten, \n",
        "        all_predict_flatten\n",
        "    )\n",
        ")\n",
        "print(\"All RMSE :\",all_predict_score)"
      ],
      "execution_count": null,
      "outputs": [
        {
          "output_type": "stream",
          "text": [
            "All RMSE : 263.1086185614039\n"
          ],
          "name": "stdout"
        }
      ]
    },
    {
      "cell_type": "markdown",
      "metadata": {
        "id": "6rIV3Q_5WMCL",
        "colab_type": "text"
      },
      "source": [
        "SVR"
      ]
    },
    {
      "cell_type": "code",
      "metadata": {
        "id": "ZuH6JZ4eVSeX",
        "colab_type": "code",
        "colab": {}
      },
      "source": [
        "from sklearn.svm import SVR  \n",
        "svr = SVR(kernel='rbf', gamma=0.1) \n",
        "model2 = svr.fit(X_train, Y_train)"
      ],
      "execution_count": null,
      "outputs": []
    },
    {
      "cell_type": "code",
      "metadata": {
        "id": "dY8_kLe-V6At",
        "colab_type": "code",
        "colab": {}
      },
      "source": [
        "y_train_predict=model2.predict(X_train)"
      ],
      "execution_count": null,
      "outputs": []
    },
    {
      "cell_type": "code",
      "metadata": {
        "id": "qKX9TAAegD0q",
        "colab_type": "code",
        "colab": {
          "base_uri": "https://localhost:8080/",
          "height": 177
        },
        "outputId": "2abb272f-f286-4d5b-91c4-9c7cf9d35e87"
      },
      "source": [
        "y_train_predict"
      ],
      "execution_count": null,
      "outputs": [
        {
          "output_type": "execute_result",
          "data": {
            "text/plain": [
              "array([-0.5950557 , -0.64750111, -0.57728375, -0.69376859, -0.54523561,\n",
              "       -0.38931493, -0.55523325, -0.38195341, -0.30433701, -0.34387287,\n",
              "       -0.25370453, -0.42340562, -0.20149971, -0.59328794, -0.41904759,\n",
              "       -0.17367693,  0.08313497, -0.30886312,  0.09453213,  0.00931787,\n",
              "        0.28103746,  0.17179053,  0.03118612,  0.23940147,  0.14099375,\n",
              "        0.19630456,  0.19222716,  0.40786143,  0.41687897,  0.41545765,\n",
              "        0.54541866,  0.25350016,  0.39354755,  0.37335747,  0.70632802,\n",
              "        0.76014897,  0.68356139,  0.44182978,  0.44042565,  0.57157061,\n",
              "        0.54937263,  0.51923312,  0.54145385])"
            ]
          },
          "metadata": {
            "tags": []
          },
          "execution_count": 89
        }
      ]
    },
    {
      "cell_type": "code",
      "metadata": {
        "id": "dIg-GrGfWDud",
        "colab_type": "code",
        "colab": {}
      },
      "source": [
        "y_test_predict=model2.predict(X_test)"
      ],
      "execution_count": null,
      "outputs": []
    },
    {
      "cell_type": "code",
      "metadata": {
        "id": "Y4AxESsAWGVK",
        "colab_type": "code",
        "colab": {
          "base_uri": "https://localhost:8080/",
          "height": 88
        },
        "outputId": "2e6d3a52-7cd6-4540-c1c8-37a3ea36cad3"
      },
      "source": [
        "from sklearn.metrics import mean_squared_error\n",
        "import math\n",
        "\n",
        "print('Train RMSE')\n",
        "print(math.sqrt(mean_squared_error(Y_train_flatten,y_train_predict)))\n",
        "print('Test RMSE')\n",
        "print(math.sqrt(mean_squared_error(Y_test_flatten,y_test_predict)))"
      ],
      "execution_count": null,
      "outputs": [
        {
          "output_type": "stream",
          "text": [
            "Train RMSE\n",
            "2679.7462438723323\n",
            "Test RMSE\n",
            "3325.678133378566\n"
          ],
          "name": "stdout"
        }
      ]
    },
    {
      "cell_type": "code",
      "metadata": {
        "id": "_46aFIMcfw4E",
        "colab_type": "code",
        "colab": {
          "base_uri": "https://localhost:8080/",
          "height": 35
        },
        "outputId": "b66a8b2a-89bb-4321-88f4-cea38edc64db"
      },
      "source": [
        "all_predict = model2.predict(X_all)\n",
        "all_predict_score = math.sqrt(\n",
        "    mean_squared_error(\n",
        "        Y_all_flatten, \n",
        "        all_predict_flatten\n",
        "    )\n",
        ")\n",
        "print(\"All RMSE\",all_predict_score)"
      ],
      "execution_count": null,
      "outputs": [
        {
          "output_type": "stream",
          "text": [
            "All RMSE 263.1086185614039\n"
          ],
          "name": "stdout"
        }
      ]
    },
    {
      "cell_type": "code",
      "metadata": {
        "id": "X3t4JbsYm8PR",
        "colab_type": "code",
        "colab": {}
      },
      "source": [
        ""
      ],
      "execution_count": null,
      "outputs": []
    }
  ]
}