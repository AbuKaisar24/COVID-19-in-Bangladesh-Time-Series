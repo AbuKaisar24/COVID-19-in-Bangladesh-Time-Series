{
  "nbformat": 4,
  "nbformat_minor": 0,
  "metadata": {
    "colab": {
      "name": "BD COVID 19 Time Series Recovery Case Update.ipynb",
      "provenance": [],
      "include_colab_link": true
    },
    "kernelspec": {
      "name": "python3",
      "display_name": "Python 3"
    }
  },
  "cells": [
    {
      "cell_type": "markdown",
      "metadata": {
        "id": "view-in-github",
        "colab_type": "text"
      },
      "source": [
        "<a href=\"https://colab.research.google.com/github/AbuKaisar24/COVID-19-in-Bangladesh-Time-Series/blob/master/BD_COVID_19_Time_Series_Recovery_Case_Update.ipynb\" target=\"_parent\"><img src=\"https://colab.research.google.com/assets/colab-badge.svg\" alt=\"Open In Colab\"/></a>"
      ]
    },
    {
      "cell_type": "code",
      "metadata": {
        "id": "5n4j9DdntKOJ",
        "colab_type": "code",
        "colab": {
          "base_uri": "https://localhost:8080/",
          "height": 695
        },
        "outputId": "7ab9dc6e-f7cd-4247-fc26-14797f5e7393"
      },
      "source": [
        "!pip install --upgrade tensorflow"
      ],
      "execution_count": null,
      "outputs": [
        {
          "output_type": "stream",
          "text": [
            "Requirement already up-to-date: tensorflow in /usr/local/lib/python3.6/dist-packages (2.3.0)\n",
            "Requirement already satisfied, skipping upgrade: six>=1.12.0 in /usr/local/lib/python3.6/dist-packages (from tensorflow) (1.15.0)\n",
            "Requirement already satisfied, skipping upgrade: protobuf>=3.9.2 in /usr/local/lib/python3.6/dist-packages (from tensorflow) (3.12.4)\n",
            "Requirement already satisfied, skipping upgrade: wheel>=0.26 in /usr/local/lib/python3.6/dist-packages (from tensorflow) (0.34.2)\n",
            "Requirement already satisfied, skipping upgrade: h5py<2.11.0,>=2.10.0 in /usr/local/lib/python3.6/dist-packages (from tensorflow) (2.10.0)\n",
            "Requirement already satisfied, skipping upgrade: tensorboard<3,>=2.3.0 in /usr/local/lib/python3.6/dist-packages (from tensorflow) (2.3.0)\n",
            "Requirement already satisfied, skipping upgrade: google-pasta>=0.1.8 in /usr/local/lib/python3.6/dist-packages (from tensorflow) (0.2.0)\n",
            "Requirement already satisfied, skipping upgrade: astunparse==1.6.3 in /usr/local/lib/python3.6/dist-packages (from tensorflow) (1.6.3)\n",
            "Requirement already satisfied, skipping upgrade: wrapt>=1.11.1 in /usr/local/lib/python3.6/dist-packages (from tensorflow) (1.12.1)\n",
            "Requirement already satisfied, skipping upgrade: grpcio>=1.8.6 in /usr/local/lib/python3.6/dist-packages (from tensorflow) (1.31.0)\n",
            "Requirement already satisfied, skipping upgrade: keras-preprocessing<1.2,>=1.1.1 in /usr/local/lib/python3.6/dist-packages (from tensorflow) (1.1.2)\n",
            "Requirement already satisfied, skipping upgrade: gast==0.3.3 in /usr/local/lib/python3.6/dist-packages (from tensorflow) (0.3.3)\n",
            "Requirement already satisfied, skipping upgrade: tensorflow-estimator<2.4.0,>=2.3.0 in /usr/local/lib/python3.6/dist-packages (from tensorflow) (2.3.0)\n",
            "Requirement already satisfied, skipping upgrade: termcolor>=1.1.0 in /usr/local/lib/python3.6/dist-packages (from tensorflow) (1.1.0)\n",
            "Requirement already satisfied, skipping upgrade: absl-py>=0.7.0 in /usr/local/lib/python3.6/dist-packages (from tensorflow) (0.9.0)\n",
            "Requirement already satisfied, skipping upgrade: opt-einsum>=2.3.2 in /usr/local/lib/python3.6/dist-packages (from tensorflow) (3.3.0)\n",
            "Requirement already satisfied, skipping upgrade: numpy<1.19.0,>=1.16.0 in /usr/local/lib/python3.6/dist-packages (from tensorflow) (1.18.5)\n",
            "Requirement already satisfied, skipping upgrade: scipy==1.4.1 in /usr/local/lib/python3.6/dist-packages (from tensorflow) (1.4.1)\n",
            "Requirement already satisfied, skipping upgrade: setuptools in /usr/local/lib/python3.6/dist-packages (from protobuf>=3.9.2->tensorflow) (49.2.0)\n",
            "Requirement already satisfied, skipping upgrade: requests<3,>=2.21.0 in /usr/local/lib/python3.6/dist-packages (from tensorboard<3,>=2.3.0->tensorflow) (2.23.0)\n",
            "Requirement already satisfied, skipping upgrade: werkzeug>=0.11.15 in /usr/local/lib/python3.6/dist-packages (from tensorboard<3,>=2.3.0->tensorflow) (1.0.1)\n",
            "Requirement already satisfied, skipping upgrade: google-auth-oauthlib<0.5,>=0.4.1 in /usr/local/lib/python3.6/dist-packages (from tensorboard<3,>=2.3.0->tensorflow) (0.4.1)\n",
            "Requirement already satisfied, skipping upgrade: markdown>=2.6.8 in /usr/local/lib/python3.6/dist-packages (from tensorboard<3,>=2.3.0->tensorflow) (3.2.2)\n",
            "Requirement already satisfied, skipping upgrade: tensorboard-plugin-wit>=1.6.0 in /usr/local/lib/python3.6/dist-packages (from tensorboard<3,>=2.3.0->tensorflow) (1.7.0)\n",
            "Requirement already satisfied, skipping upgrade: google-auth<2,>=1.6.3 in /usr/local/lib/python3.6/dist-packages (from tensorboard<3,>=2.3.0->tensorflow) (1.17.2)\n",
            "Requirement already satisfied, skipping upgrade: urllib3!=1.25.0,!=1.25.1,<1.26,>=1.21.1 in /usr/local/lib/python3.6/dist-packages (from requests<3,>=2.21.0->tensorboard<3,>=2.3.0->tensorflow) (1.24.3)\n",
            "Requirement already satisfied, skipping upgrade: chardet<4,>=3.0.2 in /usr/local/lib/python3.6/dist-packages (from requests<3,>=2.21.0->tensorboard<3,>=2.3.0->tensorflow) (3.0.4)\n",
            "Requirement already satisfied, skipping upgrade: certifi>=2017.4.17 in /usr/local/lib/python3.6/dist-packages (from requests<3,>=2.21.0->tensorboard<3,>=2.3.0->tensorflow) (2020.6.20)\n",
            "Requirement already satisfied, skipping upgrade: idna<3,>=2.5 in /usr/local/lib/python3.6/dist-packages (from requests<3,>=2.21.0->tensorboard<3,>=2.3.0->tensorflow) (2.10)\n",
            "Requirement already satisfied, skipping upgrade: requests-oauthlib>=0.7.0 in /usr/local/lib/python3.6/dist-packages (from google-auth-oauthlib<0.5,>=0.4.1->tensorboard<3,>=2.3.0->tensorflow) (1.3.0)\n",
            "Requirement already satisfied, skipping upgrade: importlib-metadata; python_version < \"3.8\" in /usr/local/lib/python3.6/dist-packages (from markdown>=2.6.8->tensorboard<3,>=2.3.0->tensorflow) (1.7.0)\n",
            "Requirement already satisfied, skipping upgrade: rsa<5,>=3.1.4; python_version >= \"3\" in /usr/local/lib/python3.6/dist-packages (from google-auth<2,>=1.6.3->tensorboard<3,>=2.3.0->tensorflow) (4.6)\n",
            "Requirement already satisfied, skipping upgrade: pyasn1-modules>=0.2.1 in /usr/local/lib/python3.6/dist-packages (from google-auth<2,>=1.6.3->tensorboard<3,>=2.3.0->tensorflow) (0.2.8)\n",
            "Requirement already satisfied, skipping upgrade: cachetools<5.0,>=2.0.0 in /usr/local/lib/python3.6/dist-packages (from google-auth<2,>=1.6.3->tensorboard<3,>=2.3.0->tensorflow) (4.1.1)\n",
            "Requirement already satisfied, skipping upgrade: oauthlib>=3.0.0 in /usr/local/lib/python3.6/dist-packages (from requests-oauthlib>=0.7.0->google-auth-oauthlib<0.5,>=0.4.1->tensorboard<3,>=2.3.0->tensorflow) (3.1.0)\n",
            "Requirement already satisfied, skipping upgrade: zipp>=0.5 in /usr/local/lib/python3.6/dist-packages (from importlib-metadata; python_version < \"3.8\"->markdown>=2.6.8->tensorboard<3,>=2.3.0->tensorflow) (3.1.0)\n",
            "Requirement already satisfied, skipping upgrade: pyasn1>=0.1.3 in /usr/local/lib/python3.6/dist-packages (from rsa<5,>=3.1.4; python_version >= \"3\"->google-auth<2,>=1.6.3->tensorboard<3,>=2.3.0->tensorflow) (0.4.8)\n"
          ],
          "name": "stdout"
        }
      ]
    },
    {
      "cell_type": "code",
      "metadata": {
        "id": "USTrO6HiuvVU",
        "colab_type": "code",
        "colab": {
          "base_uri": "https://localhost:8080/",
          "height": 126
        },
        "outputId": "03e6f1ff-4613-4825-ff73-5b311ebab87c"
      },
      "source": [
        "from google.colab import drive\n",
        "drive.mount('/content/gdrive')"
      ],
      "execution_count": null,
      "outputs": [
        {
          "output_type": "stream",
          "text": [
            "Go to this URL in a browser: https://accounts.google.com/o/oauth2/auth?client_id=947318989803-6bn6qk8qdgf4n4g3pfee6491hc0brc4i.apps.googleusercontent.com&redirect_uri=urn%3aietf%3awg%3aoauth%3a2.0%3aoob&scope=email%20https%3a%2f%2fwww.googleapis.com%2fauth%2fdocs.test%20https%3a%2f%2fwww.googleapis.com%2fauth%2fdrive%20https%3a%2f%2fwww.googleapis.com%2fauth%2fdrive.photos.readonly%20https%3a%2f%2fwww.googleapis.com%2fauth%2fpeopleapi.readonly&response_type=code\n",
            "\n",
            "Enter your authorization code:\n",
            "··········\n",
            "Mounted at /content/gdrive\n"
          ],
          "name": "stdout"
        }
      ]
    },
    {
      "cell_type": "code",
      "metadata": {
        "id": "uN6p8P2NvRjs",
        "colab_type": "code",
        "colab": {}
      },
      "source": [
        "import math\n",
        "import pandas as pd\n",
        "import numpy as np\n",
        "import matplotlib.pyplot as plt\n",
        "from sklearn.preprocessing import MinMaxScaler\n",
        "from sklearn.metrics import mean_squared_error\n",
        "from keras.models import Sequential\n",
        "from keras.layers import Dense, LSTM, Dropout"
      ],
      "execution_count": null,
      "outputs": []
    },
    {
      "cell_type": "code",
      "metadata": {
        "id": "5gAh6JrDve3T",
        "colab_type": "code",
        "colab": {}
      },
      "source": [
        "RANDOM_SEED = 42\n",
        "TEST_SIZE = 0.3\n",
        "LOOK_BACK = 1\n",
        "BATCH_SIZE = 1\n",
        "EPOCHS = 100\n",
        "DAYS_TO_PREDICT = 30\n",
        "Location=\"Bangladesh\"\n",
        "Train_case = 'Recovery'"
      ],
      "execution_count": null,
      "outputs": []
    },
    {
      "cell_type": "code",
      "metadata": {
        "id": "sVPD2qbOvoAW",
        "colab_type": "code",
        "colab": {}
      },
      "source": [
        "np.random.seed(RANDOM_SEED)"
      ],
      "execution_count": null,
      "outputs": []
    },
    {
      "cell_type": "code",
      "metadata": {
        "id": "f6kU0XRavrGX",
        "colab_type": "code",
        "colab": {}
      },
      "source": [
        "df=pd.read_csv(\"gdrive/My Drive/Colab Notebooks/Covid-19_BD_Update.csv\")"
      ],
      "execution_count": null,
      "outputs": []
    },
    {
      "cell_type": "code",
      "metadata": {
        "id": "YvtgCfEWvtPc",
        "colab_type": "code",
        "colab": {
          "base_uri": "https://localhost:8080/",
          "height": 200
        },
        "outputId": "2fce6c49-0ab6-4750-aff8-79275373e33d"
      },
      "source": [
        "df.head()"
      ],
      "execution_count": null,
      "outputs": [
        {
          "output_type": "execute_result",
          "data": {
            "text/html": [
              "<div>\n",
              "<style scoped>\n",
              "    .dataframe tbody tr th:only-of-type {\n",
              "        vertical-align: middle;\n",
              "    }\n",
              "\n",
              "    .dataframe tbody tr th {\n",
              "        vertical-align: top;\n",
              "    }\n",
              "\n",
              "    .dataframe thead th {\n",
              "        text-align: right;\n",
              "    }\n",
              "</style>\n",
              "<table border=\"1\" class=\"dataframe\">\n",
              "  <thead>\n",
              "    <tr style=\"text-align: right;\">\n",
              "      <th></th>\n",
              "      <th>Date</th>\n",
              "      <th>Confirmed</th>\n",
              "      <th>Deaths</th>\n",
              "      <th>Recovery</th>\n",
              "    </tr>\n",
              "  </thead>\n",
              "  <tbody>\n",
              "    <tr>\n",
              "      <th>0</th>\n",
              "      <td>5/13/2020</td>\n",
              "      <td>1162</td>\n",
              "      <td>19</td>\n",
              "      <td>214</td>\n",
              "    </tr>\n",
              "    <tr>\n",
              "      <th>1</th>\n",
              "      <td>5/14/2020</td>\n",
              "      <td>1041</td>\n",
              "      <td>14</td>\n",
              "      <td>242</td>\n",
              "    </tr>\n",
              "    <tr>\n",
              "      <th>2</th>\n",
              "      <td>5/15/2020</td>\n",
              "      <td>1202</td>\n",
              "      <td>15</td>\n",
              "      <td>279</td>\n",
              "    </tr>\n",
              "    <tr>\n",
              "      <th>3</th>\n",
              "      <td>5/16/2020</td>\n",
              "      <td>930</td>\n",
              "      <td>16</td>\n",
              "      <td>235</td>\n",
              "    </tr>\n",
              "    <tr>\n",
              "      <th>4</th>\n",
              "      <td>5/17/2020</td>\n",
              "      <td>1273</td>\n",
              "      <td>14</td>\n",
              "      <td>256</td>\n",
              "    </tr>\n",
              "  </tbody>\n",
              "</table>\n",
              "</div>"
            ],
            "text/plain": [
              "        Date  Confirmed  Deaths  Recovery\n",
              "0  5/13/2020       1162      19       214\n",
              "1  5/14/2020       1041      14       242\n",
              "2  5/15/2020       1202      15       279\n",
              "3  5/16/2020        930      16       235\n",
              "4  5/17/2020       1273      14       256"
            ]
          },
          "metadata": {
            "tags": []
          },
          "execution_count": 7
        }
      ]
    },
    {
      "cell_type": "code",
      "metadata": {
        "id": "jfs0wmsfvw5n",
        "colab_type": "code",
        "colab": {}
      },
      "source": [
        "df.set_index('Date', inplace=True)\n",
        "df.index = pd.to_datetime(df.index)"
      ],
      "execution_count": null,
      "outputs": []
    },
    {
      "cell_type": "code",
      "metadata": {
        "id": "mLZOaOjzvz_u",
        "colab_type": "code",
        "colab": {
          "base_uri": "https://localhost:8080/",
          "height": 230
        },
        "outputId": "541d54b2-69c3-49d0-b4c7-3ffd582ec847"
      },
      "source": [
        "df.head()"
      ],
      "execution_count": null,
      "outputs": [
        {
          "output_type": "execute_result",
          "data": {
            "text/html": [
              "<div>\n",
              "<style scoped>\n",
              "    .dataframe tbody tr th:only-of-type {\n",
              "        vertical-align: middle;\n",
              "    }\n",
              "\n",
              "    .dataframe tbody tr th {\n",
              "        vertical-align: top;\n",
              "    }\n",
              "\n",
              "    .dataframe thead th {\n",
              "        text-align: right;\n",
              "    }\n",
              "</style>\n",
              "<table border=\"1\" class=\"dataframe\">\n",
              "  <thead>\n",
              "    <tr style=\"text-align: right;\">\n",
              "      <th></th>\n",
              "      <th>Confirmed</th>\n",
              "      <th>Deaths</th>\n",
              "      <th>Recovery</th>\n",
              "    </tr>\n",
              "    <tr>\n",
              "      <th>Date</th>\n",
              "      <th></th>\n",
              "      <th></th>\n",
              "      <th></th>\n",
              "    </tr>\n",
              "  </thead>\n",
              "  <tbody>\n",
              "    <tr>\n",
              "      <th>2020-05-13</th>\n",
              "      <td>1162</td>\n",
              "      <td>19</td>\n",
              "      <td>214</td>\n",
              "    </tr>\n",
              "    <tr>\n",
              "      <th>2020-05-14</th>\n",
              "      <td>1041</td>\n",
              "      <td>14</td>\n",
              "      <td>242</td>\n",
              "    </tr>\n",
              "    <tr>\n",
              "      <th>2020-05-15</th>\n",
              "      <td>1202</td>\n",
              "      <td>15</td>\n",
              "      <td>279</td>\n",
              "    </tr>\n",
              "    <tr>\n",
              "      <th>2020-05-16</th>\n",
              "      <td>930</td>\n",
              "      <td>16</td>\n",
              "      <td>235</td>\n",
              "    </tr>\n",
              "    <tr>\n",
              "      <th>2020-05-17</th>\n",
              "      <td>1273</td>\n",
              "      <td>14</td>\n",
              "      <td>256</td>\n",
              "    </tr>\n",
              "  </tbody>\n",
              "</table>\n",
              "</div>"
            ],
            "text/plain": [
              "            Confirmed  Deaths  Recovery\n",
              "Date                                   \n",
              "2020-05-13       1162      19       214\n",
              "2020-05-14       1041      14       242\n",
              "2020-05-15       1202      15       279\n",
              "2020-05-16        930      16       235\n",
              "2020-05-17       1273      14       256"
            ]
          },
          "metadata": {
            "tags": []
          },
          "execution_count": 9
        }
      ]
    },
    {
      "cell_type": "code",
      "metadata": {
        "id": "xOfSgrZov2RR",
        "colab_type": "code",
        "colab": {}
      },
      "source": [
        "cases = df.filter([Train_case])\n",
        "cases = cases[(cases.T != 0).any()]"
      ],
      "execution_count": null,
      "outputs": []
    },
    {
      "cell_type": "code",
      "metadata": {
        "id": "vl5W4SmQv6kK",
        "colab_type": "code",
        "colab": {
          "base_uri": "https://localhost:8080/",
          "height": 230
        },
        "outputId": "ca66bdc6-1717-4c17-8320-378b03a66c52"
      },
      "source": [
        "cases.head()"
      ],
      "execution_count": null,
      "outputs": [
        {
          "output_type": "execute_result",
          "data": {
            "text/html": [
              "<div>\n",
              "<style scoped>\n",
              "    .dataframe tbody tr th:only-of-type {\n",
              "        vertical-align: middle;\n",
              "    }\n",
              "\n",
              "    .dataframe tbody tr th {\n",
              "        vertical-align: top;\n",
              "    }\n",
              "\n",
              "    .dataframe thead th {\n",
              "        text-align: right;\n",
              "    }\n",
              "</style>\n",
              "<table border=\"1\" class=\"dataframe\">\n",
              "  <thead>\n",
              "    <tr style=\"text-align: right;\">\n",
              "      <th></th>\n",
              "      <th>Recovery</th>\n",
              "    </tr>\n",
              "    <tr>\n",
              "      <th>Date</th>\n",
              "      <th></th>\n",
              "    </tr>\n",
              "  </thead>\n",
              "  <tbody>\n",
              "    <tr>\n",
              "      <th>2020-05-13</th>\n",
              "      <td>214</td>\n",
              "    </tr>\n",
              "    <tr>\n",
              "      <th>2020-05-14</th>\n",
              "      <td>242</td>\n",
              "    </tr>\n",
              "    <tr>\n",
              "      <th>2020-05-15</th>\n",
              "      <td>279</td>\n",
              "    </tr>\n",
              "    <tr>\n",
              "      <th>2020-05-16</th>\n",
              "      <td>235</td>\n",
              "    </tr>\n",
              "    <tr>\n",
              "      <th>2020-05-17</th>\n",
              "      <td>256</td>\n",
              "    </tr>\n",
              "  </tbody>\n",
              "</table>\n",
              "</div>"
            ],
            "text/plain": [
              "            Recovery\n",
              "Date                \n",
              "2020-05-13       214\n",
              "2020-05-14       242\n",
              "2020-05-15       279\n",
              "2020-05-16       235\n",
              "2020-05-17       256"
            ]
          },
          "metadata": {
            "tags": []
          },
          "execution_count": 11
        }
      ]
    },
    {
      "cell_type": "code",
      "metadata": {
        "id": "eIdwBIxmwBr4",
        "colab_type": "code",
        "colab": {
          "base_uri": "https://localhost:8080/",
          "height": 35
        },
        "outputId": "1c8b5935-8e42-4460-f937-73af92485403"
      },
      "source": [
        "cases.shape"
      ],
      "execution_count": null,
      "outputs": [
        {
          "output_type": "execute_result",
          "data": {
            "text/plain": [
              "(64, 1)"
            ]
          },
          "metadata": {
            "tags": []
          },
          "execution_count": 12
        }
      ]
    },
    {
      "cell_type": "code",
      "metadata": {
        "id": "jpPdqnoPwNYr",
        "colab_type": "code",
        "colab": {}
      },
      "source": [
        "def data_split(data, look_back=1):\n",
        "    x, y = [], []\n",
        "    for i in range(len(data) - look_back - 1):\n",
        "        a = data[i:(i + look_back), 0]\n",
        "        x.append(a)\n",
        "        y.append(data[i + look_back, 0])\n",
        "    return np.array(x), np.array(y)"
      ],
      "execution_count": null,
      "outputs": []
    },
    {
      "cell_type": "code",
      "metadata": {
        "id": "n8VUQZrvwP4d",
        "colab_type": "code",
        "colab": {}
      },
      "source": [
        "test_size = TEST_SIZE\n",
        "test_size = int(cases.shape[0] * test_size)\n",
        "train_cases = cases[:-test_size]\n",
        "test_cases = cases[-test_size:]"
      ],
      "execution_count": null,
      "outputs": []
    },
    {
      "cell_type": "code",
      "metadata": {
        "id": "8u-OZTu2wSMm",
        "colab_type": "code",
        "colab": {
          "base_uri": "https://localhost:8080/",
          "height": 35
        },
        "outputId": "df226d3b-b700-4ccc-db4d-03aef70f837b"
      },
      "source": [
        "train_cases.shape"
      ],
      "execution_count": null,
      "outputs": [
        {
          "output_type": "execute_result",
          "data": {
            "text/plain": [
              "(45, 1)"
            ]
          },
          "metadata": {
            "tags": []
          },
          "execution_count": 15
        }
      ]
    },
    {
      "cell_type": "code",
      "metadata": {
        "id": "emLnxqx9wUmi",
        "colab_type": "code",
        "colab": {
          "base_uri": "https://localhost:8080/",
          "height": 35
        },
        "outputId": "b7bd4d7c-9984-4599-cec7-d8a54d080af9"
      },
      "source": [
        "test_cases.shape"
      ],
      "execution_count": null,
      "outputs": [
        {
          "output_type": "execute_result",
          "data": {
            "text/plain": [
              "(19, 1)"
            ]
          },
          "metadata": {
            "tags": []
          },
          "execution_count": 16
        }
      ]
    },
    {
      "cell_type": "code",
      "metadata": {
        "id": "m-qLDGiywXUN",
        "colab_type": "code",
        "colab": {}
      },
      "source": [
        "scaler = MinMaxScaler(feature_range=(-1, 1))\n",
        "scaler = scaler.fit(cases)\n",
        "all_cases = scaler.transform(cases)\n",
        "train_cases = scaler.transform(train_cases)\n",
        "test_cases = scaler.transform(test_cases)"
      ],
      "execution_count": null,
      "outputs": []
    },
    {
      "cell_type": "code",
      "metadata": {
        "id": "jckiut1awaWE",
        "colab_type": "code",
        "colab": {
          "base_uri": "https://localhost:8080/",
          "height": 35
        },
        "outputId": "37fb2ac8-02d6-43fc-943b-7ee5f0099b6f"
      },
      "source": [
        "all_cases.shape,train_cases.shape,test_cases.shape"
      ],
      "execution_count": null,
      "outputs": [
        {
          "output_type": "execute_result",
          "data": {
            "text/plain": [
              "((64, 1), (45, 1), (19, 1))"
            ]
          },
          "metadata": {
            "tags": []
          },
          "execution_count": 18
        }
      ]
    },
    {
      "cell_type": "code",
      "metadata": {
        "id": "ayj-woMuwc62",
        "colab_type": "code",
        "colab": {}
      },
      "source": [
        "look_back = LOOK_BACK\n",
        "X_all, Y_all = data_split(all_cases, look_back=look_back)\n",
        "X_train, Y_train = data_split(train_cases, look_back=look_back)\n",
        "X_test, Y_test = data_split(test_cases, look_back=look_back)"
      ],
      "execution_count": null,
      "outputs": []
    },
    {
      "cell_type": "code",
      "metadata": {
        "id": "67dfuc-0wkxf",
        "colab_type": "code",
        "colab": {
          "base_uri": "https://localhost:8080/",
          "height": 35
        },
        "outputId": "c5286a0d-9ba0-4496-afaa-87d1bd434472"
      },
      "source": [
        "X_all.shape,X_train.shape,X_test.shape"
      ],
      "execution_count": null,
      "outputs": [
        {
          "output_type": "execute_result",
          "data": {
            "text/plain": [
              "((62, 1), (43, 1), (17, 1))"
            ]
          },
          "metadata": {
            "tags": []
          },
          "execution_count": 20
        }
      ]
    },
    {
      "cell_type": "code",
      "metadata": {
        "id": "ay8KcC9cwns2",
        "colab_type": "code",
        "colab": {}
      },
      "source": [
        "X_all = np.array(X_all).reshape(X_all.shape[0], 1, 1)\n",
        "Y_all = np.array(Y_all).reshape(Y_all.shape[0], 1)\n",
        "X_train = np.array(X_train).reshape(X_train.shape[0], 1, 1)\n",
        "Y_train = np.array(Y_train).reshape(Y_train.shape[0], 1)\n",
        "X_test = np.array(X_test).reshape(X_test.shape[0], 1, 1)\n",
        "Y_test = np.array(Y_test).reshape(Y_test.shape[0], 1)"
      ],
      "execution_count": null,
      "outputs": []
    },
    {
      "cell_type": "code",
      "metadata": {
        "id": "jqh1Cg8MwqKM",
        "colab_type": "code",
        "colab": {
          "base_uri": "https://localhost:8080/",
          "height": 35
        },
        "outputId": "d802bfb7-639c-4a3f-8a24-495418a55387"
      },
      "source": [
        "X_all.shape,Y_all.shape,X_train.shape,Y_train.shape,X_test.shape,Y_test.shape"
      ],
      "execution_count": null,
      "outputs": [
        {
          "output_type": "execute_result",
          "data": {
            "text/plain": [
              "((62, 1, 1), (62, 1), (43, 1, 1), (43, 1), (17, 1, 1), (17, 1))"
            ]
          },
          "metadata": {
            "tags": []
          },
          "execution_count": 22
        }
      ]
    },
    {
      "cell_type": "code",
      "metadata": {
        "id": "UOsXLZ0Nws2W",
        "colab_type": "code",
        "colab": {
          "base_uri": "https://localhost:8080/",
          "height": 284
        },
        "outputId": "7a895c97-4499-42ae-e729-e9d50f42cee7"
      },
      "source": [
        "batch_size = BATCH_SIZE\n",
        "model = Sequential()\n",
        "model.add(LSTM(4, return_sequences=True, \n",
        "               batch_input_shape=(batch_size, X_train.shape[1], X_train.shape[2]), \n",
        "               stateful=True))\n",
        "model.add(LSTM(1, stateful=True))\n",
        "model.add(Dense(Y_train.shape[1]))\n",
        "model.compile(loss='mean_squared_error', optimizer='adam')\n",
        "print(model.summary())"
      ],
      "execution_count": null,
      "outputs": [
        {
          "output_type": "stream",
          "text": [
            "Model: \"sequential\"\n",
            "_________________________________________________________________\n",
            "Layer (type)                 Output Shape              Param #   \n",
            "=================================================================\n",
            "lstm (LSTM)                  (1, 1, 4)                 96        \n",
            "_________________________________________________________________\n",
            "lstm_1 (LSTM)                (1, 1)                    24        \n",
            "_________________________________________________________________\n",
            "dense (Dense)                (1, 1)                    2         \n",
            "=================================================================\n",
            "Total params: 122\n",
            "Trainable params: 122\n",
            "Non-trainable params: 0\n",
            "_________________________________________________________________\n",
            "None\n"
          ],
          "name": "stdout"
        }
      ]
    },
    {
      "cell_type": "code",
      "metadata": {
        "id": "2ioms3aewviH",
        "colab_type": "code",
        "colab": {
          "base_uri": "https://localhost:8080/",
          "height": 422
        },
        "outputId": "94f9325c-abc0-4d3e-a1ea-cd8dc29f010e"
      },
      "source": [
        "from tensorflow.keras.utils import plot_model\n",
        "plot_model(model, to_file='model.png', show_shapes=True)"
      ],
      "execution_count": null,
      "outputs": [
        {
          "output_type": "execute_result",
          "data": {
            "image/png": "[encoded data removed]",
            "text/plain": [
              "<IPython.core.display.Image object>"
            ]
          },
          "metadata": {
            "tags": []
          },
          "execution_count": 24
        }
      ]
    },
    {
      "cell_type": "code",
      "metadata": {
        "id": "WiT5hwrfwyTI",
        "colab_type": "code",
        "colab": {
          "base_uri": "https://localhost:8080/",
          "height": 1000
        },
        "outputId": "17786d4d-2fdf-41cb-d6f8-d0f7d3843d55"
      },
      "source": [
        "epoch = EPOCHS\n",
        "loss = []\n",
        "for i in range(epoch):\n",
        "    print('Iteration ' + str(i + 1) + '/' + str(epoch))\n",
        "    model.fit(X_train, Y_train, batch_size=batch_size, \n",
        "              epochs=1, verbose=1, shuffle=False)\n",
        "    h = model.history\n",
        "    loss.append(h.history['loss'][0])\n",
        "    model.reset_states()"
      ],
      "execution_count": null,
      "outputs": [
        {
          "output_type": "stream",
          "text": [
            "Iteration 1/100\n",
            "43/43 [==============================] - 0s 2ms/step - loss: 0.8555\n",
            "Iteration 2/100\n",
            "43/43 [==============================] - 0s 2ms/step - loss: 0.7145\n",
            "Iteration 3/100\n",
            "43/43 [==============================] - 0s 2ms/step - loss: 0.5777\n",
            "Iteration 4/100\n",
            "43/43 [==============================] - 0s 2ms/step - loss: 0.4186\n",
            "Iteration 5/100\n",
            "43/43 [==============================] - 0s 2ms/step - loss: 0.2474\n",
            "Iteration 6/100\n",
            "43/43 [==============================] - 0s 2ms/step - loss: 0.1570\n",
            "Iteration 7/100\n",
            "43/43 [==============================] - 0s 2ms/step - loss: 0.1349\n",
            "Iteration 8/100\n",
            "43/43 [==============================] - 0s 2ms/step - loss: 0.1289\n",
            "Iteration 9/100\n",
            "43/43 [==============================] - 0s 2ms/step - loss: 0.1260\n",
            "Iteration 10/100\n",
            "43/43 [==============================] - 0s 2ms/step - loss: 0.1240\n",
            "Iteration 11/100\n",
            "43/43 [==============================] - 0s 2ms/step - loss: 0.1223\n",
            "Iteration 12/100\n",
            "43/43 [==============================] - 0s 2ms/step - loss: 0.1208\n",
            "Iteration 13/100\n",
            "43/43 [==============================] - 0s 2ms/step - loss: 0.1194\n",
            "Iteration 14/100\n",
            "43/43 [==============================] - 0s 2ms/step - loss: 0.1181\n",
            "Iteration 15/100\n",
            "43/43 [==============================] - 0s 2ms/step - loss: 0.1168\n",
            "Iteration 16/100\n",
            "43/43 [==============================] - 0s 2ms/step - loss: 0.1156\n",
            "Iteration 17/100\n",
            "43/43 [==============================] - 0s 2ms/step - loss: 0.1145\n",
            "Iteration 18/100\n",
            "43/43 [==============================] - 0s 2ms/step - loss: 0.1134\n",
            "Iteration 19/100\n",
            "43/43 [==============================] - 0s 2ms/step - loss: 0.1123\n",
            "Iteration 20/100\n",
            "43/43 [==============================] - 0s 2ms/step - loss: 0.1114\n",
            "Iteration 21/100\n",
            "43/43 [==============================] - 0s 2ms/step - loss: 0.1104\n",
            "Iteration 22/100\n",
            "43/43 [==============================] - 0s 2ms/step - loss: 0.1096\n",
            "Iteration 23/100\n",
            "43/43 [==============================] - 0s 2ms/step - loss: 0.1088\n",
            "Iteration 24/100\n",
            "43/43 [==============================] - 0s 2ms/step - loss: 0.1080\n",
            "Iteration 25/100\n",
            "43/43 [==============================] - 0s 2ms/step - loss: 0.1073\n",
            "Iteration 26/100\n",
            "43/43 [==============================] - 0s 2ms/step - loss: 0.1066\n",
            "Iteration 27/100\n",
            "43/43 [==============================] - 0s 2ms/step - loss: 0.1060\n",
            "Iteration 28/100\n",
            "43/43 [==============================] - 0s 2ms/step - loss: 0.1053\n",
            "Iteration 29/100\n",
            "43/43 [==============================] - 0s 2ms/step - loss: 0.1048\n",
            "Iteration 30/100\n",
            "43/43 [==============================] - 0s 2ms/step - loss: 0.1042\n",
            "Iteration 31/100\n",
            "43/43 [==============================] - 0s 2ms/step - loss: 0.1037\n",
            "Iteration 32/100\n",
            "43/43 [==============================] - 0s 2ms/step - loss: 0.1031\n",
            "Iteration 33/100\n",
            "43/43 [==============================] - 0s 2ms/step - loss: 0.1026\n",
            "Iteration 34/100\n",
            "43/43 [==============================] - 0s 2ms/step - loss: 0.1020\n",
            "Iteration 35/100\n",
            "43/43 [==============================] - 0s 2ms/step - loss: 0.1015\n",
            "Iteration 36/100\n",
            "43/43 [==============================] - 0s 2ms/step - loss: 0.1009\n",
            "Iteration 37/100\n",
            "43/43 [==============================] - 0s 2ms/step - loss: 0.1002\n",
            "Iteration 38/100\n",
            "43/43 [==============================] - 0s 2ms/step - loss: 0.0995\n",
            "Iteration 39/100\n",
            "43/43 [==============================] - 0s 2ms/step - loss: 0.0986\n",
            "Iteration 40/100\n",
            "43/43 [==============================] - 0s 2ms/step - loss: 0.0976\n",
            "Iteration 41/100\n",
            "43/43 [==============================] - 0s 2ms/step - loss: 0.0966\n",
            "Iteration 42/100\n",
            "43/43 [==============================] - 0s 2ms/step - loss: 0.0958\n",
            "Iteration 43/100\n",
            "43/43 [==============================] - 0s 2ms/step - loss: 0.0945\n",
            "Iteration 44/100\n",
            "43/43 [==============================] - 0s 2ms/step - loss: 0.0951\n",
            "Iteration 45/100\n",
            "43/43 [==============================] - 0s 2ms/step - loss: 0.0898\n",
            "Iteration 46/100\n",
            "43/43 [==============================] - 0s 2ms/step - loss: 0.1092\n",
            "Iteration 47/100\n",
            "43/43 [==============================] - 0s 2ms/step - loss: 0.0973\n",
            "Iteration 48/100\n",
            "43/43 [==============================] - 0s 2ms/step - loss: 0.0915\n",
            "Iteration 49/100\n",
            "43/43 [==============================] - 0s 2ms/step - loss: 0.1047\n",
            "Iteration 50/100\n",
            "43/43 [==============================] - 0s 2ms/step - loss: 0.0987\n",
            "Iteration 51/100\n",
            "43/43 [==============================] - 0s 2ms/step - loss: 0.0955\n",
            "Iteration 52/100\n",
            "43/43 [==============================] - 0s 2ms/step - loss: 0.0985\n",
            "Iteration 53/100\n",
            "43/43 [==============================] - 0s 2ms/step - loss: 0.0953\n",
            "Iteration 54/100\n",
            "43/43 [==============================] - 0s 2ms/step - loss: 0.0958\n",
            "Iteration 55/100\n",
            "43/43 [==============================] - 0s 2ms/step - loss: 0.0921\n",
            "Iteration 56/100\n",
            "43/43 [==============================] - 0s 2ms/step - loss: 0.0982\n",
            "Iteration 57/100\n",
            "43/43 [==============================] - 0s 2ms/step - loss: 0.0888\n",
            "Iteration 58/100\n",
            "43/43 [==============================] - 0s 2ms/step - loss: 0.1020\n",
            "Iteration 59/100\n",
            "43/43 [==============================] - 0s 2ms/step - loss: 0.0968\n",
            "Iteration 60/100\n",
            "43/43 [==============================] - 0s 2ms/step - loss: 0.0906\n",
            "Iteration 61/100\n",
            "43/43 [==============================] - 0s 2ms/step - loss: 0.0993\n",
            "Iteration 62/100\n",
            "43/43 [==============================] - 0s 2ms/step - loss: 0.0956\n",
            "Iteration 63/100\n",
            "43/43 [==============================] - 0s 2ms/step - loss: 0.0915\n",
            "Iteration 64/100\n",
            "43/43 [==============================] - 0s 2ms/step - loss: 0.0972\n",
            "Iteration 65/100\n",
            "43/43 [==============================] - 0s 2ms/step - loss: 0.0885\n",
            "Iteration 66/100\n",
            "43/43 [==============================] - 0s 2ms/step - loss: 0.0993\n",
            "Iteration 67/100\n",
            "43/43 [==============================] - 0s 2ms/step - loss: 0.0952\n",
            "Iteration 68/100\n",
            "43/43 [==============================] - 0s 2ms/step - loss: 0.0882\n",
            "Iteration 69/100\n",
            "43/43 [==============================] - 0s 2ms/step - loss: 0.0991\n",
            "Iteration 70/100\n",
            "43/43 [==============================] - 0s 2ms/step - loss: 0.0961\n",
            "Iteration 71/100\n",
            "43/43 [==============================] - 0s 2ms/step - loss: 0.0914\n",
            "Iteration 72/100\n",
            "43/43 [==============================] - 0s 2ms/step - loss: 0.0956\n",
            "Iteration 73/100\n",
            "43/43 [==============================] - 0s 2ms/step - loss: 0.0868\n",
            "Iteration 74/100\n",
            "43/43 [==============================] - 0s 2ms/step - loss: 0.0988\n",
            "Iteration 75/100\n",
            "43/43 [==============================] - 0s 2ms/step - loss: 0.0960\n",
            "Iteration 76/100\n",
            "43/43 [==============================] - 0s 2ms/step - loss: 0.0917\n",
            "Iteration 77/100\n",
            "43/43 [==============================] - 0s 2ms/step - loss: 0.0931\n",
            "Iteration 78/100\n",
            "43/43 [==============================] - 0s 2ms/step - loss: 0.0859\n",
            "Iteration 79/100\n",
            "43/43 [==============================] - 0s 2ms/step - loss: 0.0987\n",
            "Iteration 80/100\n",
            "43/43 [==============================] - 0s 2ms/step - loss: 0.0958\n",
            "Iteration 81/100\n",
            "43/43 [==============================] - 0s 2ms/step - loss: 0.0914\n",
            "Iteration 82/100\n",
            "43/43 [==============================] - 0s 2ms/step - loss: 0.0914\n",
            "Iteration 83/100\n",
            "43/43 [==============================] - 0s 2ms/step - loss: 0.0853\n",
            "Iteration 84/100\n",
            "43/43 [==============================] - 0s 2ms/step - loss: 0.0981\n",
            "Iteration 85/100\n",
            "43/43 [==============================] - 0s 2ms/step - loss: 0.0953\n",
            "Iteration 86/100\n",
            "43/43 [==============================] - 0s 2ms/step - loss: 0.0872\n",
            "Iteration 87/100\n",
            "43/43 [==============================] - 0s 2ms/step - loss: 0.0967\n",
            "Iteration 88/100\n",
            "43/43 [==============================] - 0s 2ms/step - loss: 0.0939\n",
            "Iteration 89/100\n",
            "43/43 [==============================] - 0s 2ms/step - loss: 0.0854\n",
            "Iteration 90/100\n",
            "43/43 [==============================] - 0s 2ms/step - loss: 0.0973\n",
            "Iteration 91/100\n",
            "43/43 [==============================] - 0s 2ms/step - loss: 0.0954\n",
            "Iteration 92/100\n",
            "43/43 [==============================] - 0s 2ms/step - loss: 0.0938\n",
            "Iteration 93/100\n",
            "43/43 [==============================] - 0s 2ms/step - loss: 0.0896\n",
            "Iteration 94/100\n",
            "43/43 [==============================] - 0s 2ms/step - loss: 0.0920\n",
            "Iteration 95/100\n",
            "43/43 [==============================] - 0s 2ms/step - loss: 0.0853\n",
            "Iteration 96/100\n",
            "43/43 [==============================] - 0s 2ms/step - loss: 0.0972\n",
            "Iteration 97/100\n",
            "43/43 [==============================] - 0s 2ms/step - loss: 0.0946\n",
            "Iteration 98/100\n",
            "43/43 [==============================] - 0s 2ms/step - loss: 0.0880\n",
            "Iteration 99/100\n",
            "43/43 [==============================] - 0s 2ms/step - loss: 0.0930\n",
            "Iteration 100/100\n",
            "43/43 [==============================] - 0s 2ms/step - loss: 0.0852\n"
          ],
          "name": "stdout"
        }
      ]
    },
    {
      "cell_type": "code",
      "metadata": {
        "id": "2xSkUDsrw1WO",
        "colab_type": "code",
        "colab": {
          "base_uri": "https://localhost:8080/",
          "height": 306
        },
        "outputId": "64d8dd12-e175-469b-99de-a33df44b66bc"
      },
      "source": [
        "plt.figure(figsize=(6,4),dpi=86)\n",
        "plt.plot(loss, label='loss',color='Maroon',linewidth=2.5)\n",
        "plt.title('Model Loss History',fontsize=8,fontweight='bold')\n",
        "plt.xlabel('epoch',fontsize=8,fontweight='bold')\n",
        "plt.ylabel('loss',fontsize=8,fontweight='bold')\n",
        "plt.legend(prop={\"size\":8})\n",
        "plt.tight_layout(3)\n",
        "plt.show()"
      ],
      "execution_count": null,
      "outputs": [
        {
          "output_type": "display_data",
          "data": {
            "image/png": "[encoded data removed]",
            "text/plain": [
              "<Figure size 516x344 with 1 Axes>"
            ]
          },
          "metadata": {
            "tags": [],
            "needs_background": "light"
          }
        }
      ]
    },
    {
      "cell_type": "code",
      "metadata": {
        "id": "G6_6pXYXw7bM",
        "colab_type": "code",
        "colab": {}
      },
      "source": [
        "train_predict = model.predict(X_train, batch_size=batch_size)\n",
        "\n",
        "days_to_predict = X_test.shape[0]\n",
        "test_predict = []\n",
        "pred_samples = train_predict[-1:]\n",
        "pred_samples = np.array([pred_samples])\n",
        "for i in range(days_to_predict):\n",
        "    pred = model.predict(X_test[i:(i+1)], batch_size=batch_size)\n",
        "    pred = np.array(pred).flatten()\n",
        "    test_predict.append(pred)\n",
        "test_predict = np.array(test_predict).reshape(1, len(test_predict), 1)"
      ],
      "execution_count": null,
      "outputs": []
    },
    {
      "cell_type": "code",
      "metadata": {
        "id": "8icYLKx5w-cb",
        "colab_type": "code",
        "colab": {}
      },
      "source": [
        "model.reset_states()"
      ],
      "execution_count": null,
      "outputs": []
    },
    {
      "cell_type": "code",
      "metadata": {
        "id": "ff3j0a1bxFvG",
        "colab_type": "code",
        "colab": {}
      },
      "source": [
        "X_train_flatten = np.array(scaler.inverse_transform(\n",
        "    np.array(X_train).reshape(X_train.shape[0], 1)\n",
        ")).flatten().astype('int')\n",
        "Y_train_flatten = np.array(scaler.inverse_transform(\n",
        "    np.array(Y_train).reshape(Y_train.shape[0], 1)\n",
        ")).flatten().astype('int')\n",
        "train_predict_flatten = np.array(scaler.inverse_transform(\n",
        "    np.array(train_predict).reshape(train_predict.shape[0], 1)\n",
        ")).flatten().astype('int')\n",
        "X_test_flatten = np.array(scaler.inverse_transform(\n",
        "    np.array(X_test).reshape(X_test.shape[0], 1)\n",
        ")).flatten().astype('int')\n",
        "Y_test_flatten = np.array(scaler.inverse_transform(\n",
        "    np.array(Y_test).reshape(Y_test.shape[0], 1)\n",
        ")).flatten().astype('int')\n",
        "test_predict_flatten = np.array(scaler.inverse_transform(\n",
        "    np.array(test_predict).reshape(test_predict.shape[1], 1)\n",
        ")).flatten().astype('int')"
      ],
      "execution_count": null,
      "outputs": []
    },
    {
      "cell_type": "code",
      "metadata": {
        "id": "93eFnMD5xI1W",
        "colab_type": "code",
        "colab": {}
      },
      "source": [
        "train_predict_score = math.sqrt(\n",
        "    mean_squared_error(\n",
        "        Y_train_flatten, \n",
        "        train_predict_flatten\n",
        "    )\n",
        ")\n",
        "test_predict_score = math.sqrt(\n",
        "    mean_squared_error(\n",
        "        Y_test_flatten, \n",
        "        test_predict_flatten\n",
        "    )\n",
        ")"
      ],
      "execution_count": null,
      "outputs": []
    },
    {
      "cell_type": "code",
      "metadata": {
        "id": "dKxxMf4pxLx_",
        "colab_type": "code",
        "colab": {
          "base_uri": "https://localhost:8080/",
          "height": 35
        },
        "outputId": "6f993c17-3f7a-4c9d-fa3f-0e7c47a5d42a"
      },
      "source": [
        "'Train Score: %.2f RMSE' % (train_predict_score)"
      ],
      "execution_count": null,
      "outputs": [
        {
          "output_type": "execute_result",
          "data": {
            "application/vnd.google.colaboratory.intrinsic+json": {
              "type": "string"
            },
            "text/plain": [
              "'Train Score: 2324.85 RMSE'"
            ]
          },
          "metadata": {
            "tags": []
          },
          "execution_count": 31
        }
      ]
    },
    {
      "cell_type": "code",
      "metadata": {
        "id": "0eGBT4hpxOqg",
        "colab_type": "code",
        "colab": {
          "base_uri": "https://localhost:8080/",
          "height": 35
        },
        "outputId": "e7978936-a1b0-4b25-c2c4-873c8e6b037c"
      },
      "source": [
        "'Test Score: %.2f RMSE' % (test_predict_score)"
      ],
      "execution_count": null,
      "outputs": [
        {
          "output_type": "execute_result",
          "data": {
            "application/vnd.google.colaboratory.intrinsic+json": {
              "type": "string"
            },
            "text/plain": [
              "'Test Score: 1514.24 RMSE'"
            ]
          },
          "metadata": {
            "tags": []
          },
          "execution_count": 32
        }
      ]
    },
    {
      "cell_type": "code",
      "metadata": {
        "id": "XmMcQwUBxRQw",
        "colab_type": "code",
        "colab": {
          "base_uri": "https://localhost:8080/",
          "height": 419
        },
        "outputId": "cdb6bbdd-382a-4c23-a6e7-87b8eeb8c017"
      },
      "source": [
        "plt.figure(figsize=(8, 5),dpi=86)\n",
        "plt.plot(\n",
        "    cases.index[:len(X_train_flatten)],\n",
        "    X_train_flatten,\n",
        "    label='train (true value)',\n",
        "    linewidth=2.5\n",
        ")\n",
        "plt.plot(\n",
        "    cases.index[:len(train_predict_flatten)],\n",
        "    train_predict_flatten,\n",
        "    label='train (predict value)',\n",
        "    linewidth=2.5\n",
        ")\n",
        "plt.plot(\n",
        "    cases.index[len(X_train_flatten):len(X_train_flatten) + len(X_test_flatten)],\n",
        "    X_test_flatten,\n",
        "    label='test (true value)',\n",
        "    linewidth=2.5\n",
        ")\n",
        "plt.plot(\n",
        "    cases.index[len(X_train_flatten):len(X_train_flatten) + len(test_predict_flatten)],\n",
        "    test_predict_flatten,\n",
        "    label='test (predict value)',\n",
        "    linewidth=2.5\n",
        ")\n",
        "plt.suptitle('Historical Training Test Based on Recovery in Bangladesh',fontsize=8,fontweight='bold')\n",
        "plt.xlabel('Date',fontsize=8,fontweight='bold')\n",
        "plt.ylabel('Recovery',fontsize=8,fontweight='bold')\n",
        "plt.xticks(rotation=70)\n",
        "plt.legend(prop={\"size\":8})\n",
        "plt.tight_layout(3)\n",
        "plt.show()"
      ],
      "execution_count": null,
      "outputs": [
        {
          "output_type": "display_data",
          "data": {
            "image/png": "[encoded data removed]",
            "text/plain": [
              "<Figure size 688x430 with 1 Axes>"
            ]
          },
          "metadata": {
            "tags": [],
            "needs_background": "light"
          }
        }
      ]
    },
    {
      "cell_type": "code",
      "metadata": {
        "id": "ywhFm81_xUfZ",
        "colab_type": "code",
        "colab": {}
      },
      "source": [
        "model.reset_states()"
      ],
      "execution_count": null,
      "outputs": []
    },
    {
      "cell_type": "code",
      "metadata": {
        "id": "nTqrx2nSxe4N",
        "colab_type": "code",
        "colab": {
          "base_uri": "https://localhost:8080/",
          "height": 1000
        },
        "outputId": "e329f6f4-dfea-4f0e-8a83-2833dabe44ac"
      },
      "source": [
        "epoch = EPOCHS\n",
        "loss = []\n",
        "for i in range(epoch):\n",
        "    print('Iteration ' + str(i + 1) + '/' + str(epoch))\n",
        "    model.fit(X_all, Y_all, batch_size=batch_size, \n",
        "              epochs=1, verbose=1, shuffle=False)\n",
        "    h = model.history\n",
        "    loss.append(h.history['loss'][0])\n",
        "    model.reset_states()"
      ],
      "execution_count": null,
      "outputs": [
        {
          "output_type": "stream",
          "text": [
            "Iteration 1/100\n",
            "62/62 [==============================] - 0s 2ms/step - loss: 0.0776\n",
            "Iteration 2/100\n",
            "62/62 [==============================] - 0s 1ms/step - loss: 0.0754\n",
            "Iteration 3/100\n",
            "62/62 [==============================] - 0s 2ms/step - loss: 0.0750\n",
            "Iteration 4/100\n",
            "62/62 [==============================] - 0s 2ms/step - loss: 0.0752\n",
            "Iteration 5/100\n",
            "62/62 [==============================] - 0s 2ms/step - loss: 0.0754\n",
            "Iteration 6/100\n",
            "62/62 [==============================] - 0s 2ms/step - loss: 0.0754\n",
            "Iteration 7/100\n",
            "62/62 [==============================] - 0s 2ms/step - loss: 0.0754\n",
            "Iteration 8/100\n",
            "62/62 [==============================] - 0s 2ms/step - loss: 0.0752\n",
            "Iteration 9/100\n",
            "62/62 [==============================] - 0s 2ms/step - loss: 0.0751\n",
            "Iteration 10/100\n",
            "62/62 [==============================] - 0s 2ms/step - loss: 0.0749\n",
            "Iteration 11/100\n",
            "62/62 [==============================] - 0s 2ms/step - loss: 0.0746\n",
            "Iteration 12/100\n",
            "62/62 [==============================] - 0s 2ms/step - loss: 0.0743\n",
            "Iteration 13/100\n",
            "62/62 [==============================] - 0s 2ms/step - loss: 0.0739\n",
            "Iteration 14/100\n",
            "62/62 [==============================] - 0s 2ms/step - loss: 0.0735\n",
            "Iteration 15/100\n",
            "62/62 [==============================] - 0s 2ms/step - loss: 0.0732\n",
            "Iteration 16/100\n",
            "62/62 [==============================] - 0s 2ms/step - loss: 0.0731\n",
            "Iteration 17/100\n",
            "62/62 [==============================] - 0s 2ms/step - loss: 0.0731\n",
            "Iteration 18/100\n",
            "62/62 [==============================] - 0s 2ms/step - loss: 0.0731\n",
            "Iteration 19/100\n",
            "62/62 [==============================] - 0s 2ms/step - loss: 0.0731\n",
            "Iteration 20/100\n",
            "62/62 [==============================] - 0s 2ms/step - loss: 0.0731\n",
            "Iteration 21/100\n",
            "62/62 [==============================] - 0s 2ms/step - loss: 0.0730\n",
            "Iteration 22/100\n",
            "62/62 [==============================] - 0s 2ms/step - loss: 0.0730\n",
            "Iteration 23/100\n",
            "62/62 [==============================] - 0s 2ms/step - loss: 0.0729\n",
            "Iteration 24/100\n",
            "62/62 [==============================] - 0s 2ms/step - loss: 0.0730\n",
            "Iteration 25/100\n",
            "62/62 [==============================] - 0s 2ms/step - loss: 0.0728\n",
            "Iteration 26/100\n",
            "62/62 [==============================] - 0s 2ms/step - loss: 0.0736\n",
            "Iteration 27/100\n",
            "62/62 [==============================] - 0s 2ms/step - loss: 0.0737\n",
            "Iteration 28/100\n",
            "62/62 [==============================] - 0s 2ms/step - loss: 0.0752\n",
            "Iteration 29/100\n",
            "62/62 [==============================] - 0s 2ms/step - loss: 0.0757\n",
            "Iteration 30/100\n",
            "62/62 [==============================] - 0s 2ms/step - loss: 0.0735\n",
            "Iteration 31/100\n",
            "62/62 [==============================] - 0s 2ms/step - loss: 0.0742\n",
            "Iteration 32/100\n",
            "62/62 [==============================] - 0s 2ms/step - loss: 0.0739\n",
            "Iteration 33/100\n",
            "62/62 [==============================] - 0s 2ms/step - loss: 0.0749\n",
            "Iteration 34/100\n",
            "62/62 [==============================] - 0s 2ms/step - loss: 0.0731\n",
            "Iteration 35/100\n",
            "62/62 [==============================] - 0s 2ms/step - loss: 0.0739\n",
            "Iteration 36/100\n",
            "62/62 [==============================] - 0s 2ms/step - loss: 0.0734\n",
            "Iteration 37/100\n",
            "62/62 [==============================] - 0s 2ms/step - loss: 0.0745\n",
            "Iteration 38/100\n",
            "62/62 [==============================] - 0s 2ms/step - loss: 0.0728\n",
            "Iteration 39/100\n",
            "62/62 [==============================] - 0s 3ms/step - loss: 0.0736\n",
            "Iteration 40/100\n",
            "62/62 [==============================] - 0s 2ms/step - loss: 0.0732\n",
            "Iteration 41/100\n",
            "62/62 [==============================] - 0s 2ms/step - loss: 0.0743\n",
            "Iteration 42/100\n",
            "62/62 [==============================] - 0s 2ms/step - loss: 0.0726\n",
            "Iteration 43/100\n",
            "62/62 [==============================] - 0s 2ms/step - loss: 0.0733\n",
            "Iteration 44/100\n",
            "62/62 [==============================] - 0s 2ms/step - loss: 0.0732\n",
            "Iteration 45/100\n",
            "62/62 [==============================] - 0s 2ms/step - loss: 0.0742\n",
            "Iteration 46/100\n",
            "62/62 [==============================] - 0s 2ms/step - loss: 0.0724\n",
            "Iteration 47/100\n",
            "62/62 [==============================] - 0s 2ms/step - loss: 0.0731\n",
            "Iteration 48/100\n",
            "62/62 [==============================] - 0s 2ms/step - loss: 0.0732\n",
            "Iteration 49/100\n",
            "62/62 [==============================] - 0s 2ms/step - loss: 0.0741\n",
            "Iteration 50/100\n",
            "62/62 [==============================] - 0s 2ms/step - loss: 0.0724\n",
            "Iteration 51/100\n",
            "62/62 [==============================] - 0s 2ms/step - loss: 0.0730\n",
            "Iteration 52/100\n",
            "62/62 [==============================] - 0s 2ms/step - loss: 0.0730\n",
            "Iteration 53/100\n",
            "62/62 [==============================] - 0s 2ms/step - loss: 0.0738\n",
            "Iteration 54/100\n",
            "62/62 [==============================] - 0s 2ms/step - loss: 0.0725\n",
            "Iteration 55/100\n",
            "62/62 [==============================] - 0s 2ms/step - loss: 0.0730\n",
            "Iteration 56/100\n",
            "62/62 [==============================] - 0s 2ms/step - loss: 0.0728\n",
            "Iteration 57/100\n",
            "62/62 [==============================] - 0s 2ms/step - loss: 0.0734\n",
            "Iteration 58/100\n",
            "62/62 [==============================] - 0s 2ms/step - loss: 0.0726\n",
            "Iteration 59/100\n",
            "62/62 [==============================] - 0s 2ms/step - loss: 0.0729\n",
            "Iteration 60/100\n",
            "62/62 [==============================] - 0s 2ms/step - loss: 0.0727\n",
            "Iteration 61/100\n",
            "62/62 [==============================] - 0s 2ms/step - loss: 0.0730\n",
            "Iteration 62/100\n",
            "62/62 [==============================] - 0s 2ms/step - loss: 0.0726\n",
            "Iteration 63/100\n",
            "62/62 [==============================] - 0s 2ms/step - loss: 0.0728\n",
            "Iteration 64/100\n",
            "62/62 [==============================] - 0s 2ms/step - loss: 0.0725\n",
            "Iteration 65/100\n",
            "62/62 [==============================] - 0s 2ms/step - loss: 0.0727\n",
            "Iteration 66/100\n",
            "62/62 [==============================] - 0s 2ms/step - loss: 0.0725\n",
            "Iteration 67/100\n",
            "62/62 [==============================] - 0s 2ms/step - loss: 0.0726\n",
            "Iteration 68/100\n",
            "62/62 [==============================] - 0s 2ms/step - loss: 0.0725\n",
            "Iteration 69/100\n",
            "62/62 [==============================] - 0s 2ms/step - loss: 0.0725\n",
            "Iteration 70/100\n",
            "62/62 [==============================] - 0s 2ms/step - loss: 0.0724\n",
            "Iteration 71/100\n",
            "62/62 [==============================] - 0s 2ms/step - loss: 0.0724\n",
            "Iteration 72/100\n",
            "62/62 [==============================] - 0s 2ms/step - loss: 0.0724\n",
            "Iteration 73/100\n",
            "62/62 [==============================] - 0s 2ms/step - loss: 0.0723\n",
            "Iteration 74/100\n",
            "62/62 [==============================] - 0s 2ms/step - loss: 0.0723\n",
            "Iteration 75/100\n",
            "62/62 [==============================] - 0s 2ms/step - loss: 0.0722\n",
            "Iteration 76/100\n",
            "62/62 [==============================] - 0s 2ms/step - loss: 0.0723\n",
            "Iteration 77/100\n",
            "62/62 [==============================] - 0s 2ms/step - loss: 0.0721\n",
            "Iteration 78/100\n",
            "62/62 [==============================] - 0s 2ms/step - loss: 0.0722\n",
            "Iteration 79/100\n",
            "62/62 [==============================] - 0s 2ms/step - loss: 0.0720\n",
            "Iteration 80/100\n",
            "62/62 [==============================] - 0s 2ms/step - loss: 0.0721\n",
            "Iteration 81/100\n",
            "62/62 [==============================] - 0s 2ms/step - loss: 0.0719\n",
            "Iteration 82/100\n",
            "62/62 [==============================] - 0s 2ms/step - loss: 0.0721\n",
            "Iteration 83/100\n",
            "62/62 [==============================] - 0s 2ms/step - loss: 0.0719\n",
            "Iteration 84/100\n",
            "62/62 [==============================] - 0s 2ms/step - loss: 0.0720\n",
            "Iteration 85/100\n",
            "62/62 [==============================] - 0s 2ms/step - loss: 0.0718\n",
            "Iteration 86/100\n",
            "62/62 [==============================] - 0s 2ms/step - loss: 0.0719\n",
            "Iteration 87/100\n",
            "62/62 [==============================] - 0s 2ms/step - loss: 0.0717\n",
            "Iteration 88/100\n",
            "62/62 [==============================] - 0s 2ms/step - loss: 0.0719\n",
            "Iteration 89/100\n",
            "62/62 [==============================] - 0s 2ms/step - loss: 0.0716\n",
            "Iteration 90/100\n",
            "62/62 [==============================] - 0s 2ms/step - loss: 0.0718\n",
            "Iteration 91/100\n",
            "62/62 [==============================] - 0s 2ms/step - loss: 0.0715\n",
            "Iteration 92/100\n",
            "62/62 [==============================] - 0s 2ms/step - loss: 0.0717\n",
            "Iteration 93/100\n",
            "62/62 [==============================] - 0s 2ms/step - loss: 0.0714\n",
            "Iteration 94/100\n",
            "62/62 [==============================] - 0s 2ms/step - loss: 0.0716\n",
            "Iteration 95/100\n",
            "62/62 [==============================] - 0s 2ms/step - loss: 0.0714\n",
            "Iteration 96/100\n",
            "62/62 [==============================] - 0s 2ms/step - loss: 0.0715\n",
            "Iteration 97/100\n",
            "62/62 [==============================] - 0s 2ms/step - loss: 0.0713\n",
            "Iteration 98/100\n",
            "62/62 [==============================] - 0s 2ms/step - loss: 0.0715\n",
            "Iteration 99/100\n",
            "62/62 [==============================] - 0s 2ms/step - loss: 0.0712\n",
            "Iteration 100/100\n",
            "62/62 [==============================] - 0s 2ms/step - loss: 0.0714\n"
          ],
          "name": "stdout"
        }
      ]
    },
    {
      "cell_type": "code",
      "metadata": {
        "id": "3jdyZjIDxhDU",
        "colab_type": "code",
        "colab": {
          "base_uri": "https://localhost:8080/",
          "height": 306
        },
        "outputId": "e5e3b444-a712-4a8c-9bc6-f023f770bd6c"
      },
      "source": [
        "plt.figure(figsize=(6,4),dpi=86)\n",
        "plt.plot(loss, label='loss',color='Maroon',linewidth=2.5)\n",
        "plt.title('Model Loss History',fontsize=8,fontweight='bold')\n",
        "plt.xlabel('epoch',fontsize=8,fontweight='bold')\n",
        "plt.ylabel('loss',fontsize=8,fontweight='bold')\n",
        "plt.legend(prop={\"size\":8})\n",
        "plt.tight_layout(3)\n",
        "plt.show()"
      ],
      "execution_count": null,
      "outputs": [
        {
          "output_type": "display_data",
          "data": {
            "image/png": "[encoded data removed]",
            "text/plain": [
              "<Figure size 516x344 with 1 Axes>"
            ]
          },
          "metadata": {
            "tags": [],
            "needs_background": "light"
          }
        }
      ]
    },
    {
      "cell_type": "code",
      "metadata": {
        "id": "Pec1DcuOxnNW",
        "colab_type": "code",
        "colab": {}
      },
      "source": [
        "all_predict = model.predict(X_all, batch_size=batch_size)"
      ],
      "execution_count": null,
      "outputs": []
    },
    {
      "cell_type": "code",
      "metadata": {
        "id": "h27k0Kz9xycT",
        "colab_type": "code",
        "colab": {}
      },
      "source": [
        "days_to_predict = DAYS_TO_PREDICT\n",
        "future_predict = []\n",
        "pred_samples = all_predict[-1:]\n",
        "pred_samples = np.array([pred_samples])\n",
        "for i in range(days_to_predict):\n",
        "    pred = model.predict(pred_samples, batch_size=batch_size)\n",
        "    pred = np.array(pred).flatten()\n",
        "    future_predict.append(pred)\n",
        "    new_samples = np.array(pred_samples).flatten()\n",
        "    new_samples = np.append(new_samples, [pred])\n",
        "    new_samples = new_samples[1:]\n",
        "    pred_samples = np.array(new_samples).reshape(1, 1, 1)\n",
        "future_predict = np.array(future_predict).reshape(len(future_predict), 1, 1)"
      ],
      "execution_count": null,
      "outputs": []
    },
    {
      "cell_type": "code",
      "metadata": {
        "id": "tybIAQGtx1Hp",
        "colab_type": "code",
        "colab": {}
      },
      "source": [
        "model.reset_states()"
      ],
      "execution_count": null,
      "outputs": []
    },
    {
      "cell_type": "code",
      "metadata": {
        "id": "RkHvIMJfx3f3",
        "colab_type": "code",
        "colab": {}
      },
      "source": [
        "f_future_predict = model.predict(future_predict, batch_size=batch_size)"
      ],
      "execution_count": null,
      "outputs": []
    },
    {
      "cell_type": "code",
      "metadata": {
        "id": "7Iksf2YKx6ab",
        "colab_type": "code",
        "colab": {}
      },
      "source": [
        "model.reset_states()"
      ],
      "execution_count": null,
      "outputs": []
    },
    {
      "cell_type": "code",
      "metadata": {
        "id": "1iroU51rx8qQ",
        "colab_type": "code",
        "colab": {}
      },
      "source": [
        "X_all_flatten = np.array(scaler.inverse_transform(\n",
        "    np.array(X_all).reshape(X_all.shape[0], 1)\n",
        ")).flatten().astype('int')\n",
        "X_all_flatten = np.absolute(X_all_flatten)\n",
        "Y_all_flatten = np.array(scaler.inverse_transform(\n",
        "    np.array(Y_all).reshape(Y_all.shape[0], 1)\n",
        ")).flatten().astype('int')\n",
        "Y_all_flatten = np.absolute(Y_all_flatten)\n",
        "all_predict_flatten = np.array(scaler.inverse_transform(\n",
        "    np.array(all_predict).reshape(all_predict.shape[0], 1)\n",
        ")).flatten().astype('int')\n",
        "all_predict_flatten = np.absolute(all_predict_flatten)\n",
        "future_predict_flatten = np.array(scaler.inverse_transform(\n",
        "    np.array(future_predict).reshape(future_predict.shape[0], 1)\n",
        ")).flatten().astype('int')\n",
        "future_predict_flatten = np.absolute(future_predict_flatten)\n",
        "f_future_predict_flatten = np.array(scaler.inverse_transform(\n",
        "    np.array(f_future_predict).reshape(f_future_predict.shape[0], 1)\n",
        ")).flatten().astype('int')\n",
        "f_future_predict_flatten = np.absolute(f_future_predict_flatten)"
      ],
      "execution_count": null,
      "outputs": []
    },
    {
      "cell_type": "code",
      "metadata": {
        "id": "7kQSw3HTyB-r",
        "colab_type": "code",
        "colab": {}
      },
      "source": [
        "all_predict_score = math.sqrt(\n",
        "    mean_squared_error(\n",
        "        Y_all_flatten, \n",
        "        all_predict_flatten\n",
        "    )\n",
        ")"
      ],
      "execution_count": null,
      "outputs": []
    },
    {
      "cell_type": "code",
      "metadata": {
        "id": "7eCKkJR4yEmB",
        "colab_type": "code",
        "colab": {
          "base_uri": "https://localhost:8080/",
          "height": 35
        },
        "outputId": "f3519293-dbd1-4873-f296-b512e83c46fd"
      },
      "source": [
        "'All Score: %.2f RMSE' % (all_predict_score)"
      ],
      "execution_count": null,
      "outputs": [
        {
          "output_type": "execute_result",
          "data": {
            "application/vnd.google.colaboratory.intrinsic+json": {
              "type": "string"
            },
            "text/plain": [
              "'All Score: 2001.78 RMSE'"
            ]
          },
          "metadata": {
            "tags": []
          },
          "execution_count": 44
        }
      ]
    },
    {
      "cell_type": "code",
      "metadata": {
        "id": "H91SldOGyGzh",
        "colab_type": "code",
        "colab": {}
      },
      "source": [
        "future_index = pd.date_range(start=cases.index[-1], periods=days_to_predict + 1, closed='right')"
      ],
      "execution_count": null,
      "outputs": []
    },
    {
      "cell_type": "code",
      "metadata": {
        "id": "yF0drCQ-yJrs",
        "colab_type": "code",
        "colab": {
          "base_uri": "https://localhost:8080/",
          "height": 335
        },
        "outputId": "fa4f9a4b-af6a-4c76-ab7b-9c4d5df8f59e"
      },
      "source": [
        "plt.figure(figsize=(6,4),dpi=86)\n",
        "plt.plot(\n",
        "    future_index,\n",
        "    future_predict_flatten,\n",
        "    label='Prediction Recovery',\n",
        "    color='red',\n",
        "    linewidth=2.5\n",
        ")\n",
        "plt.suptitle('Future Prediction Based on Per Day Recovery in Bangladesh',fontsize=8,fontweight='bold')\n",
        "plt.xlabel('Date',fontsize=8,fontweight='bold')\n",
        "plt.ylabel('Recovery',fontsize=8,fontweight='bold')\n",
        "plt.xticks(rotation=70)\n",
        "plt.legend(prop={\"size\":8})\n",
        "plt.tight_layout(3)\n",
        "plt.show()  "
      ],
      "execution_count": null,
      "outputs": [
        {
          "output_type": "display_data",
          "data": {
            "image/png": "[encoded data removed]",
            "text/plain": [
              "<Figure size 516x344 with 1 Axes>"
            ]
          },
          "metadata": {
            "tags": [],
            "needs_background": "light"
          }
        }
      ]
    },
    {
      "cell_type": "code",
      "metadata": {
        "id": "sPqkEBmSyM8a",
        "colab_type": "code",
        "colab": {
          "base_uri": "https://localhost:8080/",
          "height": 335
        },
        "outputId": "73304811-b95d-4ead-ace9-7feff6e7718b"
      },
      "source": [
        "plt.figure(figsize=(6,4),dpi=86)\n",
        "plt.plot(\n",
        "    future_index,\n",
        "    f_future_predict_flatten,\n",
        "    label='Future Prediction Recovery',\n",
        "    color='red',\n",
        "    linewidth=2.5\n",
        ")\n",
        "plt.suptitle('Future Prediction Based on Previous Per day Future Recovery Prediction in Bangladesh',fontsize=8,fontweight='bold')\n",
        "plt.xlabel('Date',fontsize=8,fontweight='bold')\n",
        "plt.ylabel('Recovery',fontsize=8,fontweight='bold')\n",
        "plt.xticks(rotation=70)\n",
        "plt.legend(prop={\"size\":8})\n",
        "plt.tight_layout(3)\n",
        "plt.show()"
      ],
      "execution_count": null,
      "outputs": [
        {
          "output_type": "display_data",
          "data": {
            "image/png": "[encoded data removed]",
            "text/plain": [
              "<Figure size 516x344 with 1 Axes>"
            ]
          },
          "metadata": {
            "tags": [],
            "needs_background": "light"
          }
        }
      ]
    },
    {
      "cell_type": "code",
      "metadata": {
        "id": "QTp1GEgVyXrA",
        "colab_type": "code",
        "colab": {
          "base_uri": "https://localhost:8080/",
          "height": 419
        },
        "outputId": "dd9c3196-88e4-4209-da40-a00f504438a4"
      },
      "source": [
        "plt.figure(figsize=(8, 5),dpi=86)\n",
        "plt.plot(\n",
        "    cases.index[:len(X_all_flatten)],\n",
        "    X_all_flatten,\n",
        "    label='Actual Recovery',\n",
        "    linewidth=2.5\n",
        ")\n",
        "plt.plot(\n",
        "    cases.index[:len(X_all_flatten)],\n",
        "    all_predict_flatten,\n",
        "    label='Actual Prediction Recovery',\n",
        "    linewidth=2.5\n",
        ")\n",
        "plt.plot(\n",
        "    future_index,\n",
        "    future_predict_flatten,\n",
        "    label='Predict up to ' + str(days_to_predict) + ' Days in the future',\n",
        "    linewidth=2.5\n",
        ")\n",
        "plt.plot(\n",
        "    future_index,\n",
        "    f_future_predict_flatten,\n",
        "    label='Future based on previous future prediction',\n",
        "    linewidth=2.5\n",
        ")\n",
        "plt.suptitle('Future Prediction Based on Per Day Recovery in Bangladesh',fontsize=8,fontweight='bold')\n",
        "plt.xlabel('Date',fontsize=8,fontweight='bold')\n",
        "plt.ylabel('Recovery',fontsize=8,fontweight='bold')\n",
        "plt.xticks(rotation=70)\n",
        "plt.legend(prop={\"size\":8})\n",
        "plt.tight_layout(3)\n",
        "plt.show()"
      ],
      "execution_count": null,
      "outputs": [
        {
          "output_type": "display_data",
          "data": {
            "image/png": "[encoded data removed]",
            "text/plain": [
              "<Figure size 688x430 with 1 Axes>"
            ]
          },
          "metadata": {
            "tags": [],
            "needs_background": "light"
          }
        }
      ]
    },
    {
      "cell_type": "code",
      "metadata": {
        "id": "GQ00oWsfzKot",
        "colab_type": "code",
        "colab": {}
      },
      "source": [
        ""
      ],
      "execution_count": null,
      "outputs": []
    },
    {
      "cell_type": "markdown",
      "metadata": {
        "id": "r75VFCrRzaHR",
        "colab_type": "text"
      },
      "source": [
        "##Random Forest "
      ]
    },
    {
      "cell_type": "code",
      "metadata": {
        "id": "7NjSW2bRzf-b",
        "colab_type": "code",
        "colab": {}
      },
      "source": [
        "def data_split(data, look_back=1):\n",
        "    x, y = [], []\n",
        "    for i in range(len(data) - look_back - 1):\n",
        "        a = data[i:(i + look_back), 0]\n",
        "        x.append(a)\n",
        "        y.append(data[i + look_back, 0])\n",
        "    return np.array(x), np.array(y)"
      ],
      "execution_count": null,
      "outputs": []
    },
    {
      "cell_type": "code",
      "metadata": {
        "id": "EVjJciIPziWn",
        "colab_type": "code",
        "colab": {}
      },
      "source": [
        "test_size = TEST_SIZE\n",
        "test_size = int(cases.shape[0] * test_size)\n",
        "train_cases = cases[:-test_size]\n",
        "test_cases = cases[-test_size:]"
      ],
      "execution_count": null,
      "outputs": []
    },
    {
      "cell_type": "code",
      "metadata": {
        "id": "F5_DSzYezkdR",
        "colab_type": "code",
        "colab": {}
      },
      "source": [
        "scaler = MinMaxScaler(feature_range=(-1, 1))\n",
        "scaler = scaler.fit(cases)\n",
        "all_cases = scaler.transform(cases)\n",
        "train_cases = scaler.transform(train_cases)\n",
        "test_cases = scaler.transform(test_cases)"
      ],
      "execution_count": null,
      "outputs": []
    },
    {
      "cell_type": "code",
      "metadata": {
        "id": "bX4tPY5ozmie",
        "colab_type": "code",
        "colab": {}
      },
      "source": [
        "look_back = LOOK_BACK\n",
        "X_all, Y_all = data_split(all_cases, look_back=look_back)\n",
        "X_train, Y_train = data_split(train_cases, look_back=look_back)\n",
        "X_test, Y_test = data_split(test_cases, look_back=look_back)"
      ],
      "execution_count": null,
      "outputs": []
    },
    {
      "cell_type": "code",
      "metadata": {
        "id": "7r3CcDnuzo6s",
        "colab_type": "code",
        "colab": {
          "base_uri": "https://localhost:8080/"
        },
        "outputId": "9ddfbd52-df74-4e79-ecad-32a5be2a030b"
      },
      "source": [
        "X_train.shape,Y_train.shape,X_test.shape,Y_test.shape"
      ],
      "execution_count": null,
      "outputs": [
        {
          "output_type": "execute_result",
          "data": {
            "text/plain": [
              "((43, 1), (43,), (17, 1), (17,))"
            ]
          },
          "metadata": {
            "tags": []
          },
          "execution_count": 53
        }
      ]
    },
    {
      "cell_type": "code",
      "metadata": {
        "id": "auixSAxjzrIA",
        "colab_type": "code",
        "colab": {}
      },
      "source": [
        "from sklearn.ensemble import RandomForestRegressor\n",
        "rf=RandomForestRegressor()\n",
        "model = rf.fit(X_train, Y_train)"
      ],
      "execution_count": null,
      "outputs": []
    },
    {
      "cell_type": "code",
      "metadata": {
        "id": "06ACeCT9ztX3",
        "colab_type": "code",
        "colab": {}
      },
      "source": [
        "all_predict = model.predict(X_all)"
      ],
      "execution_count": null,
      "outputs": []
    },
    {
      "cell_type": "code",
      "metadata": {
        "id": "qvLHmBMlzveS",
        "colab_type": "code",
        "colab": {}
      },
      "source": [
        "Y_train_flatten = np.array(scaler.inverse_transform(\n",
        "    np.array(Y_train).reshape(Y_train.shape[0], 1)\n",
        ")).flatten().astype('int')\n",
        "Y_test_flatten = np.array(scaler.inverse_transform(\n",
        "    np.array(Y_test).reshape(Y_test.shape[0], 1)\n",
        ")).flatten().astype('int')\n",
        "all_predict_flatten = np.array(scaler.inverse_transform(\n",
        "    np.array(all_predict).reshape(all_predict.shape[0], 1)\n",
        ")).flatten().astype('int')\n",
        "all_predict_flatten = np.absolute(all_predict_flatten)"
      ],
      "execution_count": null,
      "outputs": []
    },
    {
      "cell_type": "code",
      "metadata": {
        "id": "P0TygvI8zxgy",
        "colab_type": "code",
        "colab": {}
      },
      "source": [
        "y_train_predict=model.predict(X_train)\n",
        "y_test_predict=model.predict(X_test)"
      ],
      "execution_count": null,
      "outputs": []
    },
    {
      "cell_type": "code",
      "metadata": {
        "id": "SSOsRvyxz0SH",
        "colab_type": "code",
        "colab": {
          "base_uri": "https://localhost:8080/"
        },
        "outputId": "7910e745-2f32-40aa-bac9-f5c0147bfc6e"
      },
      "source": [
        "from sklearn.metrics import mean_squared_error\n",
        "import math\n",
        "\n",
        "print('Train RMSE')\n",
        "print(math.sqrt(mean_squared_error(Y_train_flatten,y_train_predict)))\n",
        "print('Test RMSE')\n",
        "print(math.sqrt(mean_squared_error(Y_test_flatten,y_test_predict)))"
      ],
      "execution_count": null,
      "outputs": [
        {
          "output_type": "stream",
          "text": [
            "Train RMSE\n",
            "2534.4552361475344\n",
            "Test RMSE\n",
            "3152.1186918923786\n"
          ],
          "name": "stdout"
        }
      ]
    },
    {
      "cell_type": "code",
      "metadata": {
        "id": "OvUFiIDfz2MJ",
        "colab_type": "code",
        "colab": {
          "base_uri": "https://localhost:8080/"
        },
        "outputId": "8178463f-e11e-4128-c240-e110b4627385"
      },
      "source": [
        "all_predict_score = math.sqrt(\n",
        "    mean_squared_error(\n",
        "        Y_all_flatten, \n",
        "        all_predict_flatten\n",
        "    )\n",
        ")\n",
        "print(\"All RMSE :\",all_predict_score)"
      ],
      "execution_count": null,
      "outputs": [
        {
          "output_type": "stream",
          "text": [
            "All RMSE : 1244.067457459473\n"
          ],
          "name": "stdout"
        }
      ]
    },
    {
      "cell_type": "markdown",
      "metadata": {
        "id": "kT91Aa2t0QSH",
        "colab_type": "text"
      },
      "source": [
        "##SVR"
      ]
    },
    {
      "cell_type": "code",
      "metadata": {
        "id": "jvWcNy1-z5gN",
        "colab_type": "code",
        "colab": {}
      },
      "source": [
        "from sklearn.svm import SVR  \n",
        "svr = SVR(kernel='rbf', gamma=0.1) \n",
        "model2 = svr.fit(X_train, Y_train)"
      ],
      "execution_count": null,
      "outputs": []
    },
    {
      "cell_type": "code",
      "metadata": {
        "id": "2sAT0YfUz8It",
        "colab_type": "code",
        "colab": {}
      },
      "source": [
        "y_train_predict=model2.predict(X_train)"
      ],
      "execution_count": null,
      "outputs": []
    },
    {
      "cell_type": "code",
      "metadata": {
        "id": "YVQ3a1c00Aek",
        "colab_type": "code",
        "colab": {
          "base_uri": "https://localhost:8080/"
        },
        "outputId": "67f958da-e2a6-422c-95f4-eb6445dfe184"
      },
      "source": [
        "y_train_predict"
      ],
      "execution_count": null,
      "outputs": [
        {
          "output_type": "execute_result",
          "data": {
            "text/plain": [
              "array([-0.89697662, -0.89655452, -0.89599659, -0.89666005, -0.89634343,\n",
              "       -0.89700677, -0.89405019, -0.89697662, -0.89424642, -0.89133169,\n",
              "       -0.89574019, -0.89394452, -0.89367278, -0.89650929, -0.89498589,\n",
              "       -0.89266106, -0.89130147, -0.89477463, -0.89408038, -0.88788526,\n",
              "       -0.89231367, -0.89311412, -0.89158855, -0.89050056, -0.89234388,\n",
              "       -0.89148279, -0.89028897, -0.88847494, -0.89170941, -0.8874165 ,\n",
              "       -0.89263086, -0.89148279, -0.88656964, -0.73398115, -0.86644352,\n",
              "       -0.87113347, -0.8703808 , -0.85831434, -0.88437672, -0.88383227,\n",
              "       -0.87485663, -0.88691747, -0.86953826])"
            ]
          },
          "metadata": {
            "tags": []
          },
          "execution_count": 62
        }
      ]
    },
    {
      "cell_type": "code",
      "metadata": {
        "id": "h8QDCHUn0Ctp",
        "colab_type": "code",
        "colab": {}
      },
      "source": [
        "y_test_predict=model2.predict(X_test)"
      ],
      "execution_count": null,
      "outputs": []
    },
    {
      "cell_type": "code",
      "metadata": {
        "id": "Ze4kzuKF0E9o",
        "colab_type": "code",
        "colab": {
          "base_uri": "https://localhost:8080/"
        },
        "outputId": "f8c570d3-3b53-4326-f1fb-eac813eb35ee"
      },
      "source": [
        "from sklearn.metrics import mean_squared_error\n",
        "import math\n",
        "\n",
        "print('Train RMSE')\n",
        "print(math.sqrt(mean_squared_error(Y_train_flatten,y_train_predict)))\n",
        "print('Test RMSE')\n",
        "print(math.sqrt(mean_squared_error(Y_test_flatten,y_test_predict)))"
      ],
      "execution_count": null,
      "outputs": [
        {
          "output_type": "stream",
          "text": [
            "Train RMSE\n",
            "2534.6421136418453\n",
            "Test RMSE\n",
            "3152.1580506144946\n"
          ],
          "name": "stdout"
        }
      ]
    },
    {
      "cell_type": "code",
      "metadata": {
        "id": "zBGzf0rb0HG5",
        "colab_type": "code",
        "colab": {
          "base_uri": "https://localhost:8080/"
        },
        "outputId": "24e6cd36-a7ef-407a-9375-1022b9bcc0d7"
      },
      "source": [
        "all_predict = model2.predict(X_all)\n",
        "all_predict_score = math.sqrt(\n",
        "    mean_squared_error(\n",
        "        Y_all_flatten, \n",
        "        all_predict_flatten\n",
        "    )\n",
        ")\n",
        "print(\"All RMSE\",all_predict_score)"
      ],
      "execution_count": null,
      "outputs": [
        {
          "output_type": "stream",
          "text": [
            "All RMSE 1244.067457459473\n"
          ],
          "name": "stdout"
        }
      ]
    },
    {
      "cell_type": "code",
      "metadata": {
        "id": "KDWwqdCf0KLc",
        "colab_type": "code",
        "colab": {}
      },
      "source": [
        ""
      ],
      "execution_count": null,
      "outputs": []
    }
  ]
}