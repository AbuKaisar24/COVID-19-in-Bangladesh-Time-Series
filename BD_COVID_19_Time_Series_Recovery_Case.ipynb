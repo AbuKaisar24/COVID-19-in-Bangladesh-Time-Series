{
  "nbformat": 4,
  "nbformat_minor": 0,
  "metadata": {
    "colab": {
      "name": "BD COVID 19 Time Series Recovery Case.ipynb",
      "provenance": [],
      "include_colab_link": true
    },
    "kernelspec": {
      "name": "python3",
      "display_name": "Python 3"
    }
  },
  "cells": [
    {
      "cell_type": "markdown",
      "metadata": {
        "id": "view-in-github",
        "colab_type": "text"
      },
      "source": [
        "<a href=\"https://colab.research.google.com/github/AbuKaisar24/COVID-19-in-Bangladesh-Time-Series/blob/master/BD_COVID_19_Time_Series_Recovery_Case.ipynb\" target=\"_parent\"><img src=\"https://colab.research.google.com/assets/colab-badge.svg\" alt=\"Open In Colab\"/></a>"
      ]
    },
    {
      "cell_type": "code",
      "metadata": {
        "id": "5n4j9DdntKOJ",
        "colab_type": "code",
        "colab": {
          "base_uri": "https://localhost:8080/",
          "height": 695
        },
        "outputId": "ac1b686f-cc1d-437e-931b-da6071737d82"
      },
      "source": [
        "!pip install --upgrade tensorflow"
      ],
      "execution_count": null,
      "outputs": [
        {
          "output_type": "stream",
          "text": [
            "Requirement already up-to-date: tensorflow in /usr/local/lib/python3.6/dist-packages (2.3.0)\n",
            "Requirement already satisfied, skipping upgrade: scipy==1.4.1 in /usr/local/lib/python3.6/dist-packages (from tensorflow) (1.4.1)\n",
            "Requirement already satisfied, skipping upgrade: h5py<2.11.0,>=2.10.0 in /usr/local/lib/python3.6/dist-packages (from tensorflow) (2.10.0)\n",
            "Requirement already satisfied, skipping upgrade: numpy<1.19.0,>=1.16.0 in /usr/local/lib/python3.6/dist-packages (from tensorflow) (1.18.5)\n",
            "Requirement already satisfied, skipping upgrade: protobuf>=3.9.2 in /usr/local/lib/python3.6/dist-packages (from tensorflow) (3.12.4)\n",
            "Requirement already satisfied, skipping upgrade: tensorflow-estimator<2.4.0,>=2.3.0 in /usr/local/lib/python3.6/dist-packages (from tensorflow) (2.3.0)\n",
            "Requirement already satisfied, skipping upgrade: keras-preprocessing<1.2,>=1.1.1 in /usr/local/lib/python3.6/dist-packages (from tensorflow) (1.1.2)\n",
            "Requirement already satisfied, skipping upgrade: grpcio>=1.8.6 in /usr/local/lib/python3.6/dist-packages (from tensorflow) (1.31.0)\n",
            "Requirement already satisfied, skipping upgrade: tensorboard<3,>=2.3.0 in /usr/local/lib/python3.6/dist-packages (from tensorflow) (2.3.0)\n",
            "Requirement already satisfied, skipping upgrade: gast==0.3.3 in /usr/local/lib/python3.6/dist-packages (from tensorflow) (0.3.3)\n",
            "Requirement already satisfied, skipping upgrade: termcolor>=1.1.0 in /usr/local/lib/python3.6/dist-packages (from tensorflow) (1.1.0)\n",
            "Requirement already satisfied, skipping upgrade: google-pasta>=0.1.8 in /usr/local/lib/python3.6/dist-packages (from tensorflow) (0.2.0)\n",
            "Requirement already satisfied, skipping upgrade: absl-py>=0.7.0 in /usr/local/lib/python3.6/dist-packages (from tensorflow) (0.9.0)\n",
            "Requirement already satisfied, skipping upgrade: astunparse==1.6.3 in /usr/local/lib/python3.6/dist-packages (from tensorflow) (1.6.3)\n",
            "Requirement already satisfied, skipping upgrade: wheel>=0.26 in /usr/local/lib/python3.6/dist-packages (from tensorflow) (0.34.2)\n",
            "Requirement already satisfied, skipping upgrade: six>=1.12.0 in /usr/local/lib/python3.6/dist-packages (from tensorflow) (1.15.0)\n",
            "Requirement already satisfied, skipping upgrade: wrapt>=1.11.1 in /usr/local/lib/python3.6/dist-packages (from tensorflow) (1.12.1)\n",
            "Requirement already satisfied, skipping upgrade: opt-einsum>=2.3.2 in /usr/local/lib/python3.6/dist-packages (from tensorflow) (3.3.0)\n",
            "Requirement already satisfied, skipping upgrade: setuptools in /usr/local/lib/python3.6/dist-packages (from protobuf>=3.9.2->tensorflow) (49.2.0)\n",
            "Requirement already satisfied, skipping upgrade: google-auth-oauthlib<0.5,>=0.4.1 in /usr/local/lib/python3.6/dist-packages (from tensorboard<3,>=2.3.0->tensorflow) (0.4.1)\n",
            "Requirement already satisfied, skipping upgrade: google-auth<2,>=1.6.3 in /usr/local/lib/python3.6/dist-packages (from tensorboard<3,>=2.3.0->tensorflow) (1.17.2)\n",
            "Requirement already satisfied, skipping upgrade: markdown>=2.6.8 in /usr/local/lib/python3.6/dist-packages (from tensorboard<3,>=2.3.0->tensorflow) (3.2.2)\n",
            "Requirement already satisfied, skipping upgrade: werkzeug>=0.11.15 in /usr/local/lib/python3.6/dist-packages (from tensorboard<3,>=2.3.0->tensorflow) (1.0.1)\n",
            "Requirement already satisfied, skipping upgrade: requests<3,>=2.21.0 in /usr/local/lib/python3.6/dist-packages (from tensorboard<3,>=2.3.0->tensorflow) (2.23.0)\n",
            "Requirement already satisfied, skipping upgrade: tensorboard-plugin-wit>=1.6.0 in /usr/local/lib/python3.6/dist-packages (from tensorboard<3,>=2.3.0->tensorflow) (1.7.0)\n",
            "Requirement already satisfied, skipping upgrade: requests-oauthlib>=0.7.0 in /usr/local/lib/python3.6/dist-packages (from google-auth-oauthlib<0.5,>=0.4.1->tensorboard<3,>=2.3.0->tensorflow) (1.3.0)\n",
            "Requirement already satisfied, skipping upgrade: pyasn1-modules>=0.2.1 in /usr/local/lib/python3.6/dist-packages (from google-auth<2,>=1.6.3->tensorboard<3,>=2.3.0->tensorflow) (0.2.8)\n",
            "Requirement already satisfied, skipping upgrade: cachetools<5.0,>=2.0.0 in /usr/local/lib/python3.6/dist-packages (from google-auth<2,>=1.6.3->tensorboard<3,>=2.3.0->tensorflow) (4.1.1)\n",
            "Requirement already satisfied, skipping upgrade: rsa<5,>=3.1.4; python_version >= \"3\" in /usr/local/lib/python3.6/dist-packages (from google-auth<2,>=1.6.3->tensorboard<3,>=2.3.0->tensorflow) (4.6)\n",
            "Requirement already satisfied, skipping upgrade: importlib-metadata; python_version < \"3.8\" in /usr/local/lib/python3.6/dist-packages (from markdown>=2.6.8->tensorboard<3,>=2.3.0->tensorflow) (1.7.0)\n",
            "Requirement already satisfied, skipping upgrade: chardet<4,>=3.0.2 in /usr/local/lib/python3.6/dist-packages (from requests<3,>=2.21.0->tensorboard<3,>=2.3.0->tensorflow) (3.0.4)\n",
            "Requirement already satisfied, skipping upgrade: idna<3,>=2.5 in /usr/local/lib/python3.6/dist-packages (from requests<3,>=2.21.0->tensorboard<3,>=2.3.0->tensorflow) (2.10)\n",
            "Requirement already satisfied, skipping upgrade: urllib3!=1.25.0,!=1.25.1,<1.26,>=1.21.1 in /usr/local/lib/python3.6/dist-packages (from requests<3,>=2.21.0->tensorboard<3,>=2.3.0->tensorflow) (1.24.3)\n",
            "Requirement already satisfied, skipping upgrade: certifi>=2017.4.17 in /usr/local/lib/python3.6/dist-packages (from requests<3,>=2.21.0->tensorboard<3,>=2.3.0->tensorflow) (2020.6.20)\n",
            "Requirement already satisfied, skipping upgrade: oauthlib>=3.0.0 in /usr/local/lib/python3.6/dist-packages (from requests-oauthlib>=0.7.0->google-auth-oauthlib<0.5,>=0.4.1->tensorboard<3,>=2.3.0->tensorflow) (3.1.0)\n",
            "Requirement already satisfied, skipping upgrade: pyasn1<0.5.0,>=0.4.6 in /usr/local/lib/python3.6/dist-packages (from pyasn1-modules>=0.2.1->google-auth<2,>=1.6.3->tensorboard<3,>=2.3.0->tensorflow) (0.4.8)\n",
            "Requirement already satisfied, skipping upgrade: zipp>=0.5 in /usr/local/lib/python3.6/dist-packages (from importlib-metadata; python_version < \"3.8\"->markdown>=2.6.8->tensorboard<3,>=2.3.0->tensorflow) (3.1.0)\n"
          ],
          "name": "stdout"
        }
      ]
    },
    {
      "cell_type": "code",
      "metadata": {
        "id": "USTrO6HiuvVU",
        "colab_type": "code",
        "colab": {
          "base_uri": "https://localhost:8080/",
          "height": 126
        },
        "outputId": "f40eb006-8d55-47e6-eed2-36ee8677063e"
      },
      "source": [
        "from google.colab import drive\n",
        "drive.mount('/content/gdrive')"
      ],
      "execution_count": null,
      "outputs": [
        {
          "output_type": "stream",
          "text": [
            "Go to this URL in a browser: https://accounts.google.com/o/oauth2/auth?client_id=947318989803-6bn6qk8qdgf4n4g3pfee6491hc0brc4i.apps.googleusercontent.com&redirect_uri=urn%3aietf%3awg%3aoauth%3a2.0%3aoob&scope=email%20https%3a%2f%2fwww.googleapis.com%2fauth%2fdocs.test%20https%3a%2f%2fwww.googleapis.com%2fauth%2fdrive%20https%3a%2f%2fwww.googleapis.com%2fauth%2fdrive.photos.readonly%20https%3a%2f%2fwww.googleapis.com%2fauth%2fpeopleapi.readonly&response_type=code\n",
            "\n",
            "Enter your authorization code:\n",
            "··········\n",
            "Mounted at /content/gdrive\n"
          ],
          "name": "stdout"
        }
      ]
    },
    {
      "cell_type": "code",
      "metadata": {
        "id": "uN6p8P2NvRjs",
        "colab_type": "code",
        "colab": {}
      },
      "source": [
        "import math\n",
        "import pandas as pd\n",
        "import numpy as np\n",
        "import matplotlib.pyplot as plt\n",
        "from sklearn.preprocessing import MinMaxScaler\n",
        "from sklearn.metrics import mean_squared_error\n",
        "from keras.models import Sequential\n",
        "from keras.layers import Dense, LSTM, Dropout"
      ],
      "execution_count": null,
      "outputs": []
    },
    {
      "cell_type": "code",
      "metadata": {
        "id": "5gAh6JrDve3T",
        "colab_type": "code",
        "colab": {}
      },
      "source": [
        "RANDOM_SEED = 42\n",
        "TEST_SIZE = 0.3\n",
        "LOOK_BACK = 1\n",
        "BATCH_SIZE = 1\n",
        "EPOCHS = 100\n",
        "DAYS_TO_PREDICT = 30\n",
        "Location=\"Bangladesh\"\n",
        "Train_case = 'Recovery'"
      ],
      "execution_count": null,
      "outputs": []
    },
    {
      "cell_type": "code",
      "metadata": {
        "id": "sVPD2qbOvoAW",
        "colab_type": "code",
        "colab": {}
      },
      "source": [
        "np.random.seed(RANDOM_SEED)"
      ],
      "execution_count": null,
      "outputs": []
    },
    {
      "cell_type": "code",
      "metadata": {
        "id": "f6kU0XRavrGX",
        "colab_type": "code",
        "colab": {}
      },
      "source": [
        "df=pd.read_csv(\"gdrive/My Drive/Colab Notebooks/Covid-19_BD.csv\")"
      ],
      "execution_count": null,
      "outputs": []
    },
    {
      "cell_type": "code",
      "metadata": {
        "id": "YvtgCfEWvtPc",
        "colab_type": "code",
        "colab": {
          "base_uri": "https://localhost:8080/",
          "height": 200
        },
        "outputId": "eb80885e-0625-436e-a572-4e67d57a4c8a"
      },
      "source": [
        "df.head()"
      ],
      "execution_count": null,
      "outputs": [
        {
          "output_type": "execute_result",
          "data": {
            "text/html": [
              "<div>\n",
              "<style scoped>\n",
              "    .dataframe tbody tr th:only-of-type {\n",
              "        vertical-align: middle;\n",
              "    }\n",
              "\n",
              "    .dataframe tbody tr th {\n",
              "        vertical-align: top;\n",
              "    }\n",
              "\n",
              "    .dataframe thead th {\n",
              "        text-align: right;\n",
              "    }\n",
              "</style>\n",
              "<table border=\"1\" class=\"dataframe\">\n",
              "  <thead>\n",
              "    <tr style=\"text-align: right;\">\n",
              "      <th></th>\n",
              "      <th>Date</th>\n",
              "      <th>Confirmed</th>\n",
              "      <th>Deaths</th>\n",
              "      <th>Recovery</th>\n",
              "    </tr>\n",
              "  </thead>\n",
              "  <tbody>\n",
              "    <tr>\n",
              "      <th>0</th>\n",
              "      <td>2020-03-04</td>\n",
              "      <td>0</td>\n",
              "      <td>0</td>\n",
              "      <td>0</td>\n",
              "    </tr>\n",
              "    <tr>\n",
              "      <th>1</th>\n",
              "      <td>2020-03-05</td>\n",
              "      <td>0</td>\n",
              "      <td>0</td>\n",
              "      <td>0</td>\n",
              "    </tr>\n",
              "    <tr>\n",
              "      <th>2</th>\n",
              "      <td>2020-03-06</td>\n",
              "      <td>0</td>\n",
              "      <td>0</td>\n",
              "      <td>0</td>\n",
              "    </tr>\n",
              "    <tr>\n",
              "      <th>3</th>\n",
              "      <td>2020-03-07</td>\n",
              "      <td>0</td>\n",
              "      <td>0</td>\n",
              "      <td>0</td>\n",
              "    </tr>\n",
              "    <tr>\n",
              "      <th>4</th>\n",
              "      <td>2020-03-08</td>\n",
              "      <td>3</td>\n",
              "      <td>0</td>\n",
              "      <td>0</td>\n",
              "    </tr>\n",
              "  </tbody>\n",
              "</table>\n",
              "</div>"
            ],
            "text/plain": [
              "         Date  Confirmed  Deaths  Recovery\n",
              "0  2020-03-04          0       0         0\n",
              "1  2020-03-05          0       0         0\n",
              "2  2020-03-06          0       0         0\n",
              "3  2020-03-07          0       0         0\n",
              "4  2020-03-08          3       0         0"
            ]
          },
          "metadata": {
            "tags": []
          },
          "execution_count": 7
        }
      ]
    },
    {
      "cell_type": "code",
      "metadata": {
        "id": "jfs0wmsfvw5n",
        "colab_type": "code",
        "colab": {}
      },
      "source": [
        "df.set_index('Date', inplace=True)\n",
        "df.index = pd.to_datetime(df.index)"
      ],
      "execution_count": null,
      "outputs": []
    },
    {
      "cell_type": "code",
      "metadata": {
        "id": "mLZOaOjzvz_u",
        "colab_type": "code",
        "colab": {
          "base_uri": "https://localhost:8080/",
          "height": 230
        },
        "outputId": "2a726425-8049-4561-d97e-da00e3428f6a"
      },
      "source": [
        "df.head()"
      ],
      "execution_count": null,
      "outputs": [
        {
          "output_type": "execute_result",
          "data": {
            "text/html": [
              "<div>\n",
              "<style scoped>\n",
              "    .dataframe tbody tr th:only-of-type {\n",
              "        vertical-align: middle;\n",
              "    }\n",
              "\n",
              "    .dataframe tbody tr th {\n",
              "        vertical-align: top;\n",
              "    }\n",
              "\n",
              "    .dataframe thead th {\n",
              "        text-align: right;\n",
              "    }\n",
              "</style>\n",
              "<table border=\"1\" class=\"dataframe\">\n",
              "  <thead>\n",
              "    <tr style=\"text-align: right;\">\n",
              "      <th></th>\n",
              "      <th>Confirmed</th>\n",
              "      <th>Deaths</th>\n",
              "      <th>Recovery</th>\n",
              "    </tr>\n",
              "    <tr>\n",
              "      <th>Date</th>\n",
              "      <th></th>\n",
              "      <th></th>\n",
              "      <th></th>\n",
              "    </tr>\n",
              "  </thead>\n",
              "  <tbody>\n",
              "    <tr>\n",
              "      <th>2020-03-04</th>\n",
              "      <td>0</td>\n",
              "      <td>0</td>\n",
              "      <td>0</td>\n",
              "    </tr>\n",
              "    <tr>\n",
              "      <th>2020-03-05</th>\n",
              "      <td>0</td>\n",
              "      <td>0</td>\n",
              "      <td>0</td>\n",
              "    </tr>\n",
              "    <tr>\n",
              "      <th>2020-03-06</th>\n",
              "      <td>0</td>\n",
              "      <td>0</td>\n",
              "      <td>0</td>\n",
              "    </tr>\n",
              "    <tr>\n",
              "      <th>2020-03-07</th>\n",
              "      <td>0</td>\n",
              "      <td>0</td>\n",
              "      <td>0</td>\n",
              "    </tr>\n",
              "    <tr>\n",
              "      <th>2020-03-08</th>\n",
              "      <td>3</td>\n",
              "      <td>0</td>\n",
              "      <td>0</td>\n",
              "    </tr>\n",
              "  </tbody>\n",
              "</table>\n",
              "</div>"
            ],
            "text/plain": [
              "            Confirmed  Deaths  Recovery\n",
              "Date                                   \n",
              "2020-03-04          0       0         0\n",
              "2020-03-05          0       0         0\n",
              "2020-03-06          0       0         0\n",
              "2020-03-07          0       0         0\n",
              "2020-03-08          3       0         0"
            ]
          },
          "metadata": {
            "tags": []
          },
          "execution_count": 9
        }
      ]
    },
    {
      "cell_type": "code",
      "metadata": {
        "id": "xOfSgrZov2RR",
        "colab_type": "code",
        "colab": {}
      },
      "source": [
        "cases = df.filter([Train_case])\n",
        "cases = cases[(cases.T != 0).any()]"
      ],
      "execution_count": null,
      "outputs": []
    },
    {
      "cell_type": "code",
      "metadata": {
        "id": "vl5W4SmQv6kK",
        "colab_type": "code",
        "colab": {
          "base_uri": "https://localhost:8080/",
          "height": 230
        },
        "outputId": "ad37783e-738a-4c93-9fec-782f6334114f"
      },
      "source": [
        "cases.head()"
      ],
      "execution_count": null,
      "outputs": [
        {
          "output_type": "execute_result",
          "data": {
            "text/html": [
              "<div>\n",
              "<style scoped>\n",
              "    .dataframe tbody tr th:only-of-type {\n",
              "        vertical-align: middle;\n",
              "    }\n",
              "\n",
              "    .dataframe tbody tr th {\n",
              "        vertical-align: top;\n",
              "    }\n",
              "\n",
              "    .dataframe thead th {\n",
              "        text-align: right;\n",
              "    }\n",
              "</style>\n",
              "<table border=\"1\" class=\"dataframe\">\n",
              "  <thead>\n",
              "    <tr style=\"text-align: right;\">\n",
              "      <th></th>\n",
              "      <th>Recovery</th>\n",
              "    </tr>\n",
              "    <tr>\n",
              "      <th>Date</th>\n",
              "      <th></th>\n",
              "    </tr>\n",
              "  </thead>\n",
              "  <tbody>\n",
              "    <tr>\n",
              "      <th>2020-03-11</th>\n",
              "      <td>2</td>\n",
              "    </tr>\n",
              "    <tr>\n",
              "      <th>2020-03-14</th>\n",
              "      <td>1</td>\n",
              "    </tr>\n",
              "    <tr>\n",
              "      <th>2020-03-18</th>\n",
              "      <td>1</td>\n",
              "    </tr>\n",
              "    <tr>\n",
              "      <th>2020-03-21</th>\n",
              "      <td>2</td>\n",
              "    </tr>\n",
              "    <tr>\n",
              "      <th>2020-03-25</th>\n",
              "      <td>6</td>\n",
              "    </tr>\n",
              "  </tbody>\n",
              "</table>\n",
              "</div>"
            ],
            "text/plain": [
              "            Recovery\n",
              "Date                \n",
              "2020-03-11         2\n",
              "2020-03-14         1\n",
              "2020-03-18         1\n",
              "2020-03-21         2\n",
              "2020-03-25         6"
            ]
          },
          "metadata": {
            "tags": []
          },
          "execution_count": 11
        }
      ]
    },
    {
      "cell_type": "code",
      "metadata": {
        "id": "eIdwBIxmwBr4",
        "colab_type": "code",
        "colab": {
          "base_uri": "https://localhost:8080/",
          "height": 35
        },
        "outputId": "de69a090-3a2d-48c3-ea4b-8dbeada20fa9"
      },
      "source": [
        "cases.shape"
      ],
      "execution_count": null,
      "outputs": [
        {
          "output_type": "execute_result",
          "data": {
            "text/plain": [
              "(41, 1)"
            ]
          },
          "metadata": {
            "tags": []
          },
          "execution_count": 12
        }
      ]
    },
    {
      "cell_type": "code",
      "metadata": {
        "id": "jpPdqnoPwNYr",
        "colab_type": "code",
        "colab": {}
      },
      "source": [
        "def data_split(data, look_back=1):\n",
        "    x, y = [], []\n",
        "    for i in range(len(data) - look_back - 1):\n",
        "        a = data[i:(i + look_back), 0]\n",
        "        x.append(a)\n",
        "        y.append(data[i + look_back, 0])\n",
        "    return np.array(x), np.array(y)"
      ],
      "execution_count": null,
      "outputs": []
    },
    {
      "cell_type": "code",
      "metadata": {
        "id": "n8VUQZrvwP4d",
        "colab_type": "code",
        "colab": {}
      },
      "source": [
        "test_size = TEST_SIZE\n",
        "test_size = int(cases.shape[0] * test_size)\n",
        "train_cases = cases[:-test_size]\n",
        "test_cases = cases[-test_size:]"
      ],
      "execution_count": null,
      "outputs": []
    },
    {
      "cell_type": "code",
      "metadata": {
        "id": "8u-OZTu2wSMm",
        "colab_type": "code",
        "colab": {
          "base_uri": "https://localhost:8080/",
          "height": 35
        },
        "outputId": "09ee01a6-29f1-4b59-89f8-519f6c7071f1"
      },
      "source": [
        "train_cases.shape"
      ],
      "execution_count": null,
      "outputs": [
        {
          "output_type": "execute_result",
          "data": {
            "text/plain": [
              "(29, 1)"
            ]
          },
          "metadata": {
            "tags": []
          },
          "execution_count": 15
        }
      ]
    },
    {
      "cell_type": "code",
      "metadata": {
        "id": "emLnxqx9wUmi",
        "colab_type": "code",
        "colab": {
          "base_uri": "https://localhost:8080/",
          "height": 35
        },
        "outputId": "a119e65c-93e5-4f70-ea22-052ec9a93411"
      },
      "source": [
        "test_cases.shape"
      ],
      "execution_count": null,
      "outputs": [
        {
          "output_type": "execute_result",
          "data": {
            "text/plain": [
              "(12, 1)"
            ]
          },
          "metadata": {
            "tags": []
          },
          "execution_count": 16
        }
      ]
    },
    {
      "cell_type": "code",
      "metadata": {
        "id": "m-qLDGiywXUN",
        "colab_type": "code",
        "colab": {}
      },
      "source": [
        "scaler = MinMaxScaler(feature_range=(-1, 1))\n",
        "scaler = scaler.fit(cases)\n",
        "all_cases = scaler.transform(cases)\n",
        "train_cases = scaler.transform(train_cases)\n",
        "test_cases = scaler.transform(test_cases)"
      ],
      "execution_count": null,
      "outputs": []
    },
    {
      "cell_type": "code",
      "metadata": {
        "id": "jckiut1awaWE",
        "colab_type": "code",
        "colab": {
          "base_uri": "https://localhost:8080/",
          "height": 35
        },
        "outputId": "93d2b28b-c6a7-4408-fb1b-e48c29c78368"
      },
      "source": [
        "all_cases.shape,train_cases.shape,test_cases.shape"
      ],
      "execution_count": null,
      "outputs": [
        {
          "output_type": "execute_result",
          "data": {
            "text/plain": [
              "((41, 1), (29, 1), (12, 1))"
            ]
          },
          "metadata": {
            "tags": []
          },
          "execution_count": 18
        }
      ]
    },
    {
      "cell_type": "code",
      "metadata": {
        "id": "ayj-woMuwc62",
        "colab_type": "code",
        "colab": {}
      },
      "source": [
        "look_back = LOOK_BACK\n",
        "X_all, Y_all = data_split(all_cases, look_back=look_back)\n",
        "X_train, Y_train = data_split(train_cases, look_back=look_back)\n",
        "X_test, Y_test = data_split(test_cases, look_back=look_back)"
      ],
      "execution_count": null,
      "outputs": []
    },
    {
      "cell_type": "code",
      "metadata": {
        "id": "67dfuc-0wkxf",
        "colab_type": "code",
        "colab": {
          "base_uri": "https://localhost:8080/",
          "height": 35
        },
        "outputId": "92a00487-536e-4407-aec6-00ce1951462d"
      },
      "source": [
        "X_all.shape,X_train.shape,X_test.shape"
      ],
      "execution_count": null,
      "outputs": [
        {
          "output_type": "execute_result",
          "data": {
            "text/plain": [
              "((39, 1), (27, 1), (10, 1))"
            ]
          },
          "metadata": {
            "tags": []
          },
          "execution_count": 20
        }
      ]
    },
    {
      "cell_type": "code",
      "metadata": {
        "id": "ay8KcC9cwns2",
        "colab_type": "code",
        "colab": {}
      },
      "source": [
        "X_all = np.array(X_all).reshape(X_all.shape[0], 1, 1)\n",
        "Y_all = np.array(Y_all).reshape(Y_all.shape[0], 1)\n",
        "X_train = np.array(X_train).reshape(X_train.shape[0], 1, 1)\n",
        "Y_train = np.array(Y_train).reshape(Y_train.shape[0], 1)\n",
        "X_test = np.array(X_test).reshape(X_test.shape[0], 1, 1)\n",
        "Y_test = np.array(Y_test).reshape(Y_test.shape[0], 1)"
      ],
      "execution_count": null,
      "outputs": []
    },
    {
      "cell_type": "code",
      "metadata": {
        "id": "jqh1Cg8MwqKM",
        "colab_type": "code",
        "colab": {
          "base_uri": "https://localhost:8080/",
          "height": 35
        },
        "outputId": "507a4d61-2ec3-4f25-9af8-610bc943af74"
      },
      "source": [
        "X_all.shape,Y_all.shape,X_train.shape,Y_train.shape,X_test.shape,Y_test.shape"
      ],
      "execution_count": null,
      "outputs": [
        {
          "output_type": "execute_result",
          "data": {
            "text/plain": [
              "((39, 1, 1), (39, 1), (27, 1, 1), (27, 1), (10, 1, 1), (10, 1))"
            ]
          },
          "metadata": {
            "tags": []
          },
          "execution_count": 22
        }
      ]
    },
    {
      "cell_type": "code",
      "metadata": {
        "id": "UOsXLZ0Nws2W",
        "colab_type": "code",
        "colab": {
          "base_uri": "https://localhost:8080/",
          "height": 284
        },
        "outputId": "448c8b9c-f9c2-4b2e-cd1e-80f56cea23d2"
      },
      "source": [
        "batch_size = BATCH_SIZE\n",
        "model = Sequential()\n",
        "model.add(LSTM(4, return_sequences=True, \n",
        "               batch_input_shape=(batch_size, X_train.shape[1], X_train.shape[2]), \n",
        "               stateful=True))\n",
        "model.add(LSTM(1, stateful=True))\n",
        "model.add(Dense(Y_train.shape[1]))\n",
        "model.compile(loss='mean_squared_error', optimizer='adam')\n",
        "print(model.summary())"
      ],
      "execution_count": null,
      "outputs": [
        {
          "output_type": "stream",
          "text": [
            "Model: \"sequential\"\n",
            "_________________________________________________________________\n",
            "Layer (type)                 Output Shape              Param #   \n",
            "=================================================================\n",
            "lstm (LSTM)                  (1, 1, 4)                 96        \n",
            "_________________________________________________________________\n",
            "lstm_1 (LSTM)                (1, 1)                    24        \n",
            "_________________________________________________________________\n",
            "dense (Dense)                (1, 1)                    2         \n",
            "=================================================================\n",
            "Total params: 122\n",
            "Trainable params: 122\n",
            "Non-trainable params: 0\n",
            "_________________________________________________________________\n",
            "None\n"
          ],
          "name": "stdout"
        }
      ]
    },
    {
      "cell_type": "code",
      "metadata": {
        "id": "2ioms3aewviH",
        "colab_type": "code",
        "colab": {
          "base_uri": "https://localhost:8080/",
          "height": 422
        },
        "outputId": "2a24718f-a4b7-487a-dc33-e79b0bb385fd"
      },
      "source": [
        "from tensorflow.keras.utils import plot_model\n",
        "plot_model(model, to_file='model.png', show_shapes=True)"
      ],
      "execution_count": null,
      "outputs": [
        {
          "output_type": "execute_result",
          "data": {
            "image/png": "[encoded data removed]",
            "text/plain": [
              "<IPython.core.display.Image object>"
            ]
          },
          "metadata": {
            "tags": []
          },
          "execution_count": 24
        }
      ]
    },
    {
      "cell_type": "code",
      "metadata": {
        "id": "WiT5hwrfwyTI",
        "colab_type": "code",
        "colab": {
          "base_uri": "https://localhost:8080/",
          "height": 1000
        },
        "outputId": "4f307ccf-cd30-480d-84fc-95faf5f86bd0"
      },
      "source": [
        "epoch = EPOCHS\n",
        "loss = []\n",
        "for i in range(epoch):\n",
        "    print('Iteration ' + str(i + 1) + '/' + str(epoch))\n",
        "    model.fit(X_train, Y_train, batch_size=batch_size, \n",
        "              epochs=1, verbose=1, shuffle=False)\n",
        "    h = model.history\n",
        "    loss.append(h.history['loss'][0])\n",
        "    model.reset_states()"
      ],
      "execution_count": null,
      "outputs": [
        {
          "output_type": "stream",
          "text": [
            "Iteration 1/100\n",
            "27/27 [==============================] - 0s 2ms/step - loss: 0.5740\n",
            "Iteration 2/100\n",
            "27/27 [==============================] - 0s 1ms/step - loss: 0.3793\n",
            "Iteration 3/100\n",
            "27/27 [==============================] - 0s 1ms/step - loss: 0.2313\n",
            "Iteration 4/100\n",
            "27/27 [==============================] - 0s 2ms/step - loss: 0.1353\n",
            "Iteration 5/100\n",
            "27/27 [==============================] - 0s 2ms/step - loss: 0.0839\n",
            "Iteration 6/100\n",
            "27/27 [==============================] - 0s 1ms/step - loss: 0.0600\n",
            "Iteration 7/100\n",
            "27/27 [==============================] - 0s 2ms/step - loss: 0.0493\n",
            "Iteration 8/100\n",
            "27/27 [==============================] - 0s 1ms/step - loss: 0.0442\n",
            "Iteration 9/100\n",
            "27/27 [==============================] - 0s 2ms/step - loss: 0.0414\n",
            "Iteration 10/100\n",
            "27/27 [==============================] - 0s 2ms/step - loss: 0.0394\n",
            "Iteration 11/100\n",
            "27/27 [==============================] - 0s 2ms/step - loss: 0.0378\n",
            "Iteration 12/100\n",
            "27/27 [==============================] - 0s 1ms/step - loss: 0.0363\n",
            "Iteration 13/100\n",
            "27/27 [==============================] - 0s 2ms/step - loss: 0.0349\n",
            "Iteration 14/100\n",
            "27/27 [==============================] - 0s 2ms/step - loss: 0.0335\n",
            "Iteration 15/100\n",
            "27/27 [==============================] - 0s 2ms/step - loss: 0.0322\n",
            "Iteration 16/100\n",
            "27/27 [==============================] - 0s 2ms/step - loss: 0.0310\n",
            "Iteration 17/100\n",
            "27/27 [==============================] - 0s 2ms/step - loss: 0.0299\n",
            "Iteration 18/100\n",
            "27/27 [==============================] - 0s 2ms/step - loss: 0.0288\n",
            "Iteration 19/100\n",
            "27/27 [==============================] - 0s 2ms/step - loss: 0.0278\n",
            "Iteration 20/100\n",
            "27/27 [==============================] - 0s 2ms/step - loss: 0.0268\n",
            "Iteration 21/100\n",
            "27/27 [==============================] - 0s 2ms/step - loss: 0.0258\n",
            "Iteration 22/100\n",
            "27/27 [==============================] - 0s 2ms/step - loss: 0.0249\n",
            "Iteration 23/100\n",
            "27/27 [==============================] - 0s 2ms/step - loss: 0.0241\n",
            "Iteration 24/100\n",
            "27/27 [==============================] - 0s 2ms/step - loss: 0.0233\n",
            "Iteration 25/100\n",
            "27/27 [==============================] - 0s 2ms/step - loss: 0.0225\n",
            "Iteration 26/100\n",
            "27/27 [==============================] - 0s 2ms/step - loss: 0.0218\n",
            "Iteration 27/100\n",
            "27/27 [==============================] - 0s 2ms/step - loss: 0.0211\n",
            "Iteration 28/100\n",
            "27/27 [==============================] - 0s 2ms/step - loss: 0.0204\n",
            "Iteration 29/100\n",
            "27/27 [==============================] - 0s 2ms/step - loss: 0.0198\n",
            "Iteration 30/100\n",
            "27/27 [==============================] - 0s 2ms/step - loss: 0.0192\n",
            "Iteration 31/100\n",
            "27/27 [==============================] - 0s 2ms/step - loss: 0.0186\n",
            "Iteration 32/100\n",
            "27/27 [==============================] - 0s 2ms/step - loss: 0.0180\n",
            "Iteration 33/100\n",
            "27/27 [==============================] - 0s 2ms/step - loss: 0.0175\n",
            "Iteration 34/100\n",
            "27/27 [==============================] - 0s 2ms/step - loss: 0.0170\n",
            "Iteration 35/100\n",
            "27/27 [==============================] - 0s 1ms/step - loss: 0.0165\n",
            "Iteration 36/100\n",
            "27/27 [==============================] - 0s 2ms/step - loss: 0.0160\n",
            "Iteration 37/100\n",
            "27/27 [==============================] - 0s 2ms/step - loss: 0.0156\n",
            "Iteration 38/100\n",
            "27/27 [==============================] - 0s 2ms/step - loss: 0.0151\n",
            "Iteration 39/100\n",
            "27/27 [==============================] - 0s 2ms/step - loss: 0.0147\n",
            "Iteration 40/100\n",
            "27/27 [==============================] - 0s 2ms/step - loss: 0.0143\n",
            "Iteration 41/100\n",
            "27/27 [==============================] - 0s 1ms/step - loss: 0.0139\n",
            "Iteration 42/100\n",
            "27/27 [==============================] - 0s 2ms/step - loss: 0.0135\n",
            "Iteration 43/100\n",
            "27/27 [==============================] - 0s 2ms/step - loss: 0.0131\n",
            "Iteration 44/100\n",
            "27/27 [==============================] - 0s 2ms/step - loss: 0.0128\n",
            "Iteration 45/100\n",
            "27/27 [==============================] - 0s 2ms/step - loss: 0.0124\n",
            "Iteration 46/100\n",
            "27/27 [==============================] - 0s 2ms/step - loss: 0.0121\n",
            "Iteration 47/100\n",
            "27/27 [==============================] - 0s 2ms/step - loss: 0.0118\n",
            "Iteration 48/100\n",
            "27/27 [==============================] - 0s 2ms/step - loss: 0.0115\n",
            "Iteration 49/100\n",
            "27/27 [==============================] - 0s 2ms/step - loss: 0.0112\n",
            "Iteration 50/100\n",
            "27/27 [==============================] - 0s 2ms/step - loss: 0.0109\n",
            "Iteration 51/100\n",
            "27/27 [==============================] - 0s 2ms/step - loss: 0.0106\n",
            "Iteration 52/100\n",
            "27/27 [==============================] - 0s 2ms/step - loss: 0.0103\n",
            "Iteration 53/100\n",
            "27/27 [==============================] - 0s 2ms/step - loss: 0.0101\n",
            "Iteration 54/100\n",
            "27/27 [==============================] - 0s 2ms/step - loss: 0.0098\n",
            "Iteration 55/100\n",
            "27/27 [==============================] - 0s 2ms/step - loss: 0.0096\n",
            "Iteration 56/100\n",
            "27/27 [==============================] - 0s 2ms/step - loss: 0.0093\n",
            "Iteration 57/100\n",
            "27/27 [==============================] - 0s 2ms/step - loss: 0.0091\n",
            "Iteration 58/100\n",
            "27/27 [==============================] - 0s 2ms/step - loss: 0.0088\n",
            "Iteration 59/100\n",
            "27/27 [==============================] - 0s 2ms/step - loss: 0.0086\n",
            "Iteration 60/100\n",
            "27/27 [==============================] - 0s 2ms/step - loss: 0.0084\n",
            "Iteration 61/100\n",
            "27/27 [==============================] - 0s 2ms/step - loss: 0.0082\n",
            "Iteration 62/100\n",
            "27/27 [==============================] - 0s 1ms/step - loss: 0.0080\n",
            "Iteration 63/100\n",
            "27/27 [==============================] - 0s 1ms/step - loss: 0.0078\n",
            "Iteration 64/100\n",
            "27/27 [==============================] - 0s 2ms/step - loss: 0.0076\n",
            "Iteration 65/100\n",
            "27/27 [==============================] - 0s 2ms/step - loss: 0.0074\n",
            "Iteration 66/100\n",
            "27/27 [==============================] - 0s 2ms/step - loss: 0.0072\n",
            "Iteration 67/100\n",
            "27/27 [==============================] - 0s 1ms/step - loss: 0.0070\n",
            "Iteration 68/100\n",
            "27/27 [==============================] - 0s 1ms/step - loss: 0.0069\n",
            "Iteration 69/100\n",
            "27/27 [==============================] - 0s 2ms/step - loss: 0.0067\n",
            "Iteration 70/100\n",
            "27/27 [==============================] - 0s 2ms/step - loss: 0.0065\n",
            "Iteration 71/100\n",
            "27/27 [==============================] - 0s 2ms/step - loss: 0.0064\n",
            "Iteration 72/100\n",
            "27/27 [==============================] - 0s 2ms/step - loss: 0.0062\n",
            "Iteration 73/100\n",
            "27/27 [==============================] - 0s 2ms/step - loss: 0.0060\n",
            "Iteration 74/100\n",
            "27/27 [==============================] - 0s 2ms/step - loss: 0.0059\n",
            "Iteration 75/100\n",
            "27/27 [==============================] - 0s 1ms/step - loss: 0.0057\n",
            "Iteration 76/100\n",
            "27/27 [==============================] - 0s 2ms/step - loss: 0.0056\n",
            "Iteration 77/100\n",
            "27/27 [==============================] - 0s 2ms/step - loss: 0.0055\n",
            "Iteration 78/100\n",
            "27/27 [==============================] - 0s 2ms/step - loss: 0.0053\n",
            "Iteration 79/100\n",
            "27/27 [==============================] - 0s 2ms/step - loss: 0.0052\n",
            "Iteration 80/100\n",
            "27/27 [==============================] - 0s 2ms/step - loss: 0.0051\n",
            "Iteration 81/100\n",
            "27/27 [==============================] - 0s 2ms/step - loss: 0.0049\n",
            "Iteration 82/100\n",
            "27/27 [==============================] - 0s 1ms/step - loss: 0.0048\n",
            "Iteration 83/100\n",
            "27/27 [==============================] - 0s 2ms/step - loss: 0.0047\n",
            "Iteration 84/100\n",
            "27/27 [==============================] - 0s 2ms/step - loss: 0.0046\n",
            "Iteration 85/100\n",
            "27/27 [==============================] - 0s 2ms/step - loss: 0.0044\n",
            "Iteration 86/100\n",
            "27/27 [==============================] - 0s 2ms/step - loss: 0.0043\n",
            "Iteration 87/100\n",
            "27/27 [==============================] - 0s 2ms/step - loss: 0.0042\n",
            "Iteration 88/100\n",
            "27/27 [==============================] - 0s 2ms/step - loss: 0.0041\n",
            "Iteration 89/100\n",
            "27/27 [==============================] - 0s 2ms/step - loss: 0.0040\n",
            "Iteration 90/100\n",
            "27/27 [==============================] - 0s 2ms/step - loss: 0.0039\n",
            "Iteration 91/100\n",
            "27/27 [==============================] - 0s 2ms/step - loss: 0.0038\n",
            "Iteration 92/100\n",
            "27/27 [==============================] - 0s 2ms/step - loss: 0.0037\n",
            "Iteration 93/100\n",
            "27/27 [==============================] - 0s 2ms/step - loss: 0.0036\n",
            "Iteration 94/100\n",
            "27/27 [==============================] - 0s 2ms/step - loss: 0.0035\n",
            "Iteration 95/100\n",
            "27/27 [==============================] - 0s 2ms/step - loss: 0.0034\n",
            "Iteration 96/100\n",
            "27/27 [==============================] - 0s 1ms/step - loss: 0.0033\n",
            "Iteration 97/100\n",
            "27/27 [==============================] - 0s 2ms/step - loss: 0.0033\n",
            "Iteration 98/100\n",
            "27/27 [==============================] - 0s 1ms/step - loss: 0.0032\n",
            "Iteration 99/100\n",
            "27/27 [==============================] - 0s 2ms/step - loss: 0.0031\n",
            "Iteration 100/100\n",
            "27/27 [==============================] - 0s 2ms/step - loss: 0.0030\n"
          ],
          "name": "stdout"
        }
      ]
    },
    {
      "cell_type": "code",
      "metadata": {
        "id": "2xSkUDsrw1WO",
        "colab_type": "code",
        "colab": {
          "base_uri": "https://localhost:8080/",
          "height": 306
        },
        "outputId": "4a7f3e40-bab0-41e5-d044-f181d0821604"
      },
      "source": [
        "plt.figure(figsize=(6,4),dpi=86)\n",
        "plt.plot(loss, label='loss',color='Maroon',linewidth=2.5)\n",
        "plt.title('Model Loss History',fontsize=8,fontweight='bold')\n",
        "plt.xlabel('epoch',fontsize=8,fontweight='bold')\n",
        "plt.ylabel('loss',fontsize=8,fontweight='bold')\n",
        "plt.legend(prop={\"size\":8})\n",
        "plt.tight_layout(3)\n",
        "plt.show()"
      ],
      "execution_count": null,
      "outputs": [
        {
          "output_type": "display_data",
          "data": {
            "image/png": "[encoded data removed]",
            "text/plain": [
              "<Figure size 516x344 with 1 Axes>"
            ]
          },
          "metadata": {
            "tags": [],
            "needs_background": "light"
          }
        }
      ]
    },
    {
      "cell_type": "code",
      "metadata": {
        "id": "G6_6pXYXw7bM",
        "colab_type": "code",
        "colab": {}
      },
      "source": [
        "train_predict = model.predict(X_train, batch_size=batch_size)\n",
        "\n",
        "days_to_predict = X_test.shape[0]\n",
        "test_predict = []\n",
        "pred_samples = train_predict[-1:]\n",
        "pred_samples = np.array([pred_samples])\n",
        "for i in range(days_to_predict):\n",
        "    pred = model.predict(X_test[i:(i+1)], batch_size=batch_size)\n",
        "    pred = np.array(pred).flatten()\n",
        "    test_predict.append(pred)\n",
        "test_predict = np.array(test_predict).reshape(1, len(test_predict), 1)"
      ],
      "execution_count": null,
      "outputs": []
    },
    {
      "cell_type": "code",
      "metadata": {
        "id": "8icYLKx5w-cb",
        "colab_type": "code",
        "colab": {}
      },
      "source": [
        "model.reset_states()"
      ],
      "execution_count": null,
      "outputs": []
    },
    {
      "cell_type": "code",
      "metadata": {
        "id": "ff3j0a1bxFvG",
        "colab_type": "code",
        "colab": {}
      },
      "source": [
        "X_train_flatten = np.array(scaler.inverse_transform(\n",
        "    np.array(X_train).reshape(X_train.shape[0], 1)\n",
        ")).flatten().astype('int')\n",
        "Y_train_flatten = np.array(scaler.inverse_transform(\n",
        "    np.array(Y_train).reshape(Y_train.shape[0], 1)\n",
        ")).flatten().astype('int')\n",
        "train_predict_flatten = np.array(scaler.inverse_transform(\n",
        "    np.array(train_predict).reshape(train_predict.shape[0], 1)\n",
        ")).flatten().astype('int')\n",
        "X_test_flatten = np.array(scaler.inverse_transform(\n",
        "    np.array(X_test).reshape(X_test.shape[0], 1)\n",
        ")).flatten().astype('int')\n",
        "Y_test_flatten = np.array(scaler.inverse_transform(\n",
        "    np.array(Y_test).reshape(Y_test.shape[0], 1)\n",
        ")).flatten().astype('int')\n",
        "test_predict_flatten = np.array(scaler.inverse_transform(\n",
        "    np.array(test_predict).reshape(test_predict.shape[1], 1)\n",
        ")).flatten().astype('int')"
      ],
      "execution_count": null,
      "outputs": []
    },
    {
      "cell_type": "code",
      "metadata": {
        "id": "93eFnMD5xI1W",
        "colab_type": "code",
        "colab": {}
      },
      "source": [
        "train_predict_score = math.sqrt(\n",
        "    mean_squared_error(\n",
        "        Y_train_flatten, \n",
        "        train_predict_flatten\n",
        "    )\n",
        ")\n",
        "test_predict_score = math.sqrt(\n",
        "    mean_squared_error(\n",
        "        Y_test_flatten, \n",
        "        test_predict_flatten\n",
        "    )\n",
        ")"
      ],
      "execution_count": null,
      "outputs": []
    },
    {
      "cell_type": "code",
      "metadata": {
        "id": "dKxxMf4pxLx_",
        "colab_type": "code",
        "colab": {
          "base_uri": "https://localhost:8080/",
          "height": 35
        },
        "outputId": "eac77e71-fd6f-46c4-f06e-ea808e502a90"
      },
      "source": [
        "'Train Score: %.2f RMSE' % (train_predict_score)"
      ],
      "execution_count": null,
      "outputs": [
        {
          "output_type": "execute_result",
          "data": {
            "application/vnd.google.colaboratory.intrinsic+json": {
              "type": "string"
            },
            "text/plain": [
              "'Train Score: 23.83 RMSE'"
            ]
          },
          "metadata": {
            "tags": []
          },
          "execution_count": 31
        }
      ]
    },
    {
      "cell_type": "code",
      "metadata": {
        "id": "0eGBT4hpxOqg",
        "colab_type": "code",
        "colab": {
          "base_uri": "https://localhost:8080/",
          "height": 35
        },
        "outputId": "93307157-76ab-4912-9c7c-28803d4bb413"
      },
      "source": [
        "'Test Score: %.2f RMSE' % (test_predict_score)"
      ],
      "execution_count": null,
      "outputs": [
        {
          "output_type": "execute_result",
          "data": {
            "application/vnd.google.colaboratory.intrinsic+json": {
              "type": "string"
            },
            "text/plain": [
              "'Test Score: 333.29 RMSE'"
            ]
          },
          "metadata": {
            "tags": []
          },
          "execution_count": 32
        }
      ]
    },
    {
      "cell_type": "code",
      "metadata": {
        "id": "XmMcQwUBxRQw",
        "colab_type": "code",
        "colab": {
          "base_uri": "https://localhost:8080/",
          "height": 419
        },
        "outputId": "5456f103-0c57-44a5-eae2-cd2bc6e491b1"
      },
      "source": [
        "plt.figure(figsize=(8, 5),dpi=86)\n",
        "plt.plot(\n",
        "    cases.index[:len(X_train_flatten)],\n",
        "    X_train_flatten,\n",
        "    label='train (true value)',\n",
        "    linewidth=2.5\n",
        ")\n",
        "plt.plot(\n",
        "    cases.index[:len(train_predict_flatten)],\n",
        "    train_predict_flatten,\n",
        "    label='train (predict value)',\n",
        "    linewidth=2.5\n",
        ")\n",
        "plt.plot(\n",
        "    cases.index[len(X_train_flatten):len(X_train_flatten) + len(X_test_flatten)],\n",
        "    X_test_flatten,\n",
        "    label='test (true value)',\n",
        "    linewidth=2.5\n",
        ")\n",
        "plt.plot(\n",
        "    cases.index[len(X_train_flatten):len(X_train_flatten) + len(test_predict_flatten)],\n",
        "    test_predict_flatten,\n",
        "    label='test (predict value)',\n",
        "    linewidth=2.5\n",
        ")\n",
        "plt.suptitle('Historical Training Test Based on Recovery in Bangladesh',fontsize=8,fontweight='bold')\n",
        "plt.xlabel('Date',fontsize=8,fontweight='bold')\n",
        "plt.ylabel('Recovery',fontsize=8,fontweight='bold')\n",
        "plt.xticks(rotation=70)\n",
        "plt.legend(prop={\"size\":8})\n",
        "plt.tight_layout(3)\n",
        "plt.show()"
      ],
      "execution_count": null,
      "outputs": [
        {
          "output_type": "display_data",
          "data": {
            "image/png": "[encoded data removed]",
            "text/plain": [
              "<Figure size 688x430 with 1 Axes>"
            ]
          },
          "metadata": {
            "tags": [],
            "needs_background": "light"
          }
        }
      ]
    },
    {
      "cell_type": "code",
      "metadata": {
        "id": "ywhFm81_xUfZ",
        "colab_type": "code",
        "colab": {}
      },
      "source": [
        "model.reset_states()"
      ],
      "execution_count": null,
      "outputs": []
    },
    {
      "cell_type": "code",
      "metadata": {
        "id": "nTqrx2nSxe4N",
        "colab_type": "code",
        "colab": {
          "base_uri": "https://localhost:8080/",
          "height": 1000
        },
        "outputId": "4627748b-e0b3-4943-eb9d-406d9c16342a"
      },
      "source": [
        "epoch = EPOCHS\n",
        "loss = []\n",
        "for i in range(epoch):\n",
        "    print('Iteration ' + str(i + 1) + '/' + str(epoch))\n",
        "    model.fit(X_all, Y_all, batch_size=batch_size, \n",
        "              epochs=1, verbose=1, shuffle=False)\n",
        "    h = model.history\n",
        "    loss.append(h.history['loss'][0])\n",
        "    model.reset_states()"
      ],
      "execution_count": null,
      "outputs": [
        {
          "output_type": "stream",
          "text": [
            "Iteration 1/100\n",
            "39/39 [==============================] - 0s 2ms/step - loss: 0.1412\n",
            "Iteration 2/100\n",
            "39/39 [==============================] - 0s 2ms/step - loss: 0.1311\n",
            "Iteration 3/100\n",
            "39/39 [==============================] - 0s 2ms/step - loss: 0.1327\n",
            "Iteration 4/100\n",
            "39/39 [==============================] - 0s 2ms/step - loss: 0.1325\n",
            "Iteration 5/100\n",
            "39/39 [==============================] - 0s 2ms/step - loss: 0.1321\n",
            "Iteration 6/100\n",
            "39/39 [==============================] - 0s 2ms/step - loss: 0.1317\n",
            "Iteration 7/100\n",
            "39/39 [==============================] - 0s 2ms/step - loss: 0.1314\n",
            "Iteration 8/100\n",
            "39/39 [==============================] - 0s 2ms/step - loss: 0.1311\n",
            "Iteration 9/100\n",
            "39/39 [==============================] - 0s 2ms/step - loss: 0.1309\n",
            "Iteration 10/100\n",
            "39/39 [==============================] - 0s 2ms/step - loss: 0.1306\n",
            "Iteration 11/100\n",
            "39/39 [==============================] - 0s 2ms/step - loss: 0.1304\n",
            "Iteration 12/100\n",
            "39/39 [==============================] - 0s 2ms/step - loss: 0.1303\n",
            "Iteration 13/100\n",
            "39/39 [==============================] - 0s 2ms/step - loss: 0.1301\n",
            "Iteration 14/100\n",
            "39/39 [==============================] - 0s 2ms/step - loss: 0.1299\n",
            "Iteration 15/100\n",
            "39/39 [==============================] - 0s 2ms/step - loss: 0.1298\n",
            "Iteration 16/100\n",
            "39/39 [==============================] - 0s 2ms/step - loss: 0.1297\n",
            "Iteration 17/100\n",
            "39/39 [==============================] - 0s 2ms/step - loss: 0.1295\n",
            "Iteration 18/100\n",
            "39/39 [==============================] - 0s 2ms/step - loss: 0.1294\n",
            "Iteration 19/100\n",
            "39/39 [==============================] - 0s 2ms/step - loss: 0.1293\n",
            "Iteration 20/100\n",
            "39/39 [==============================] - 0s 2ms/step - loss: 0.1292\n",
            "Iteration 21/100\n",
            "39/39 [==============================] - 0s 2ms/step - loss: 0.1291\n",
            "Iteration 22/100\n",
            "39/39 [==============================] - 0s 2ms/step - loss: 0.1290\n",
            "Iteration 23/100\n",
            "39/39 [==============================] - 0s 2ms/step - loss: 0.1289\n",
            "Iteration 24/100\n",
            "39/39 [==============================] - 0s 2ms/step - loss: 0.1288\n",
            "Iteration 25/100\n",
            "39/39 [==============================] - 0s 2ms/step - loss: 0.1287\n",
            "Iteration 26/100\n",
            "39/39 [==============================] - 0s 2ms/step - loss: 0.1286\n",
            "Iteration 27/100\n",
            "39/39 [==============================] - 0s 2ms/step - loss: 0.1285\n",
            "Iteration 28/100\n",
            "39/39 [==============================] - 0s 2ms/step - loss: 0.1284\n",
            "Iteration 29/100\n",
            "39/39 [==============================] - 0s 2ms/step - loss: 0.1283\n",
            "Iteration 30/100\n",
            "39/39 [==============================] - 0s 2ms/step - loss: 0.1282\n",
            "Iteration 31/100\n",
            "39/39 [==============================] - 0s 2ms/step - loss: 0.1281\n",
            "Iteration 32/100\n",
            "39/39 [==============================] - 0s 2ms/step - loss: 0.1280\n",
            "Iteration 33/100\n",
            "39/39 [==============================] - 0s 2ms/step - loss: 0.1279\n",
            "Iteration 34/100\n",
            "39/39 [==============================] - 0s 2ms/step - loss: 0.1278\n",
            "Iteration 35/100\n",
            "39/39 [==============================] - 0s 2ms/step - loss: 0.1277\n",
            "Iteration 36/100\n",
            "39/39 [==============================] - 0s 2ms/step - loss: 0.1276\n",
            "Iteration 37/100\n",
            "39/39 [==============================] - 0s 2ms/step - loss: 0.1275\n",
            "Iteration 38/100\n",
            "39/39 [==============================] - 0s 2ms/step - loss: 0.1274\n",
            "Iteration 39/100\n",
            "39/39 [==============================] - 0s 2ms/step - loss: 0.1273\n",
            "Iteration 40/100\n",
            "39/39 [==============================] - 0s 2ms/step - loss: 0.1272\n",
            "Iteration 41/100\n",
            "39/39 [==============================] - 0s 2ms/step - loss: 0.1271\n",
            "Iteration 42/100\n",
            "39/39 [==============================] - 0s 2ms/step - loss: 0.1270\n",
            "Iteration 43/100\n",
            "39/39 [==============================] - 0s 2ms/step - loss: 0.1269\n",
            "Iteration 44/100\n",
            "39/39 [==============================] - 0s 2ms/step - loss: 0.1268\n",
            "Iteration 45/100\n",
            "39/39 [==============================] - 0s 2ms/step - loss: 0.1267\n",
            "Iteration 46/100\n",
            "39/39 [==============================] - 0s 2ms/step - loss: 0.1266\n",
            "Iteration 47/100\n",
            "39/39 [==============================] - 0s 2ms/step - loss: 0.1265\n",
            "Iteration 48/100\n",
            "39/39 [==============================] - 0s 2ms/step - loss: 0.1263\n",
            "Iteration 49/100\n",
            "39/39 [==============================] - 0s 2ms/step - loss: 0.1262\n",
            "Iteration 50/100\n",
            "39/39 [==============================] - 0s 2ms/step - loss: 0.1261\n",
            "Iteration 51/100\n",
            "39/39 [==============================] - 0s 2ms/step - loss: 0.1260\n",
            "Iteration 52/100\n",
            "39/39 [==============================] - 0s 2ms/step - loss: 0.1259\n",
            "Iteration 53/100\n",
            "39/39 [==============================] - 0s 2ms/step - loss: 0.1258\n",
            "Iteration 54/100\n",
            "39/39 [==============================] - 0s 2ms/step - loss: 0.1257\n",
            "Iteration 55/100\n",
            "39/39 [==============================] - 0s 2ms/step - loss: 0.1255\n",
            "Iteration 56/100\n",
            "39/39 [==============================] - 0s 2ms/step - loss: 0.1254\n",
            "Iteration 57/100\n",
            "39/39 [==============================] - 0s 2ms/step - loss: 0.1253\n",
            "Iteration 58/100\n",
            "39/39 [==============================] - 0s 2ms/step - loss: 0.1252\n",
            "Iteration 59/100\n",
            "39/39 [==============================] - 0s 2ms/step - loss: 0.1251\n",
            "Iteration 60/100\n",
            "39/39 [==============================] - 0s 2ms/step - loss: 0.1250\n",
            "Iteration 61/100\n",
            "39/39 [==============================] - 0s 2ms/step - loss: 0.1249\n",
            "Iteration 62/100\n",
            "39/39 [==============================] - 0s 2ms/step - loss: 0.1247\n",
            "Iteration 63/100\n",
            "39/39 [==============================] - 0s 2ms/step - loss: 0.1246\n",
            "Iteration 64/100\n",
            "39/39 [==============================] - 0s 2ms/step - loss: 0.1245\n",
            "Iteration 65/100\n",
            "39/39 [==============================] - 0s 2ms/step - loss: 0.1244\n",
            "Iteration 66/100\n",
            "39/39 [==============================] - 0s 2ms/step - loss: 0.1243\n",
            "Iteration 67/100\n",
            "39/39 [==============================] - 0s 2ms/step - loss: 0.1242\n",
            "Iteration 68/100\n",
            "39/39 [==============================] - 0s 2ms/step - loss: 0.1241\n",
            "Iteration 69/100\n",
            "39/39 [==============================] - 0s 2ms/step - loss: 0.1239\n",
            "Iteration 70/100\n",
            "39/39 [==============================] - 0s 2ms/step - loss: 0.1238\n",
            "Iteration 71/100\n",
            "39/39 [==============================] - 0s 2ms/step - loss: 0.1237\n",
            "Iteration 72/100\n",
            "39/39 [==============================] - 0s 2ms/step - loss: 0.1236\n",
            "Iteration 73/100\n",
            "39/39 [==============================] - 0s 2ms/step - loss: 0.1235\n",
            "Iteration 74/100\n",
            "39/39 [==============================] - 0s 2ms/step - loss: 0.1234\n",
            "Iteration 75/100\n",
            "39/39 [==============================] - 0s 2ms/step - loss: 0.1233\n",
            "Iteration 76/100\n",
            "39/39 [==============================] - 0s 2ms/step - loss: 0.1232\n",
            "Iteration 77/100\n",
            "39/39 [==============================] - 0s 2ms/step - loss: 0.1230\n",
            "Iteration 78/100\n",
            "39/39 [==============================] - 0s 2ms/step - loss: 0.1229\n",
            "Iteration 79/100\n",
            "39/39 [==============================] - 0s 2ms/step - loss: 0.1228\n",
            "Iteration 80/100\n",
            "39/39 [==============================] - 0s 2ms/step - loss: 0.1227\n",
            "Iteration 81/100\n",
            "39/39 [==============================] - 0s 2ms/step - loss: 0.1226\n",
            "Iteration 82/100\n",
            "39/39 [==============================] - 0s 2ms/step - loss: 0.1225\n",
            "Iteration 83/100\n",
            "39/39 [==============================] - 0s 2ms/step - loss: 0.1224\n",
            "Iteration 84/100\n",
            "39/39 [==============================] - 0s 2ms/step - loss: 0.1222\n",
            "Iteration 85/100\n",
            "39/39 [==============================] - 0s 2ms/step - loss: 0.1221\n",
            "Iteration 86/100\n",
            "39/39 [==============================] - 0s 2ms/step - loss: 0.1220\n",
            "Iteration 87/100\n",
            "39/39 [==============================] - 0s 2ms/step - loss: 0.1219\n",
            "Iteration 88/100\n",
            "39/39 [==============================] - 0s 2ms/step - loss: 0.1218\n",
            "Iteration 89/100\n",
            "39/39 [==============================] - 0s 2ms/step - loss: 0.1217\n",
            "Iteration 90/100\n",
            "39/39 [==============================] - 0s 2ms/step - loss: 0.1215\n",
            "Iteration 91/100\n",
            "39/39 [==============================] - 0s 2ms/step - loss: 0.1214\n",
            "Iteration 92/100\n",
            "39/39 [==============================] - 0s 2ms/step - loss: 0.1213\n",
            "Iteration 93/100\n",
            "39/39 [==============================] - 0s 2ms/step - loss: 0.1212\n",
            "Iteration 94/100\n",
            "39/39 [==============================] - 0s 2ms/step - loss: 0.1210\n",
            "Iteration 95/100\n",
            "39/39 [==============================] - 0s 2ms/step - loss: 0.1209\n",
            "Iteration 96/100\n",
            "39/39 [==============================] - 0s 2ms/step - loss: 0.1208\n",
            "Iteration 97/100\n",
            "39/39 [==============================] - 0s 2ms/step - loss: 0.1207\n",
            "Iteration 98/100\n",
            "39/39 [==============================] - 0s 2ms/step - loss: 0.1205\n",
            "Iteration 99/100\n",
            "39/39 [==============================] - 0s 2ms/step - loss: 0.1204\n",
            "Iteration 100/100\n",
            "39/39 [==============================] - 0s 2ms/step - loss: 0.1203\n"
          ],
          "name": "stdout"
        }
      ]
    },
    {
      "cell_type": "code",
      "metadata": {
        "id": "3jdyZjIDxhDU",
        "colab_type": "code",
        "colab": {
          "base_uri": "https://localhost:8080/",
          "height": 306
        },
        "outputId": "014b0456-91d6-4e9b-87f0-973820e75d61"
      },
      "source": [
        "plt.figure(figsize=(6,4),dpi=86)\n",
        "plt.plot(loss, label='loss',color='Maroon',linewidth=2.5)\n",
        "plt.title('Model Loss History',fontsize=8,fontweight='bold')\n",
        "plt.xlabel('epoch',fontsize=8,fontweight='bold')\n",
        "plt.ylabel('loss',fontsize=8,fontweight='bold')\n",
        "plt.legend(prop={\"size\":8})\n",
        "plt.tight_layout(3)\n",
        "plt.show()"
      ],
      "execution_count": null,
      "outputs": [
        {
          "output_type": "display_data",
          "data": {
            "image/png": "[encoded data removed]",
            "text/plain": [
              "<Figure size 516x344 with 1 Axes>"
            ]
          },
          "metadata": {
            "tags": [],
            "needs_background": "light"
          }
        }
      ]
    },
    {
      "cell_type": "code",
      "metadata": {
        "id": "Pec1DcuOxnNW",
        "colab_type": "code",
        "colab": {}
      },
      "source": [
        "all_predict = model.predict(X_all, batch_size=batch_size)"
      ],
      "execution_count": null,
      "outputs": []
    },
    {
      "cell_type": "code",
      "metadata": {
        "id": "h27k0Kz9xycT",
        "colab_type": "code",
        "colab": {}
      },
      "source": [
        "days_to_predict = DAYS_TO_PREDICT\n",
        "future_predict = []\n",
        "pred_samples = all_predict[-1:]\n",
        "pred_samples = np.array([pred_samples])\n",
        "for i in range(days_to_predict):\n",
        "    pred = model.predict(pred_samples, batch_size=batch_size)\n",
        "    pred = np.array(pred).flatten()\n",
        "    future_predict.append(pred)\n",
        "    new_samples = np.array(pred_samples).flatten()\n",
        "    new_samples = np.append(new_samples, [pred])\n",
        "    new_samples = new_samples[1:]\n",
        "    pred_samples = np.array(new_samples).reshape(1, 1, 1)\n",
        "future_predict = np.array(future_predict).reshape(len(future_predict), 1, 1)"
      ],
      "execution_count": null,
      "outputs": []
    },
    {
      "cell_type": "code",
      "metadata": {
        "id": "tybIAQGtx1Hp",
        "colab_type": "code",
        "colab": {}
      },
      "source": [
        "model.reset_states()"
      ],
      "execution_count": null,
      "outputs": []
    },
    {
      "cell_type": "code",
      "metadata": {
        "id": "RkHvIMJfx3f3",
        "colab_type": "code",
        "colab": {}
      },
      "source": [
        "f_future_predict = model.predict(future_predict, batch_size=batch_size)"
      ],
      "execution_count": null,
      "outputs": []
    },
    {
      "cell_type": "code",
      "metadata": {
        "id": "7Iksf2YKx6ab",
        "colab_type": "code",
        "colab": {}
      },
      "source": [
        "model.reset_states()"
      ],
      "execution_count": null,
      "outputs": []
    },
    {
      "cell_type": "code",
      "metadata": {
        "id": "1iroU51rx8qQ",
        "colab_type": "code",
        "colab": {}
      },
      "source": [
        "X_all_flatten = np.array(scaler.inverse_transform(\n",
        "    np.array(X_all).reshape(X_all.shape[0], 1)\n",
        ")).flatten().astype('int')\n",
        "X_all_flatten = np.absolute(X_all_flatten)\n",
        "Y_all_flatten = np.array(scaler.inverse_transform(\n",
        "    np.array(Y_all).reshape(Y_all.shape[0], 1)\n",
        ")).flatten().astype('int')\n",
        "Y_all_flatten = np.absolute(Y_all_flatten)\n",
        "all_predict_flatten = np.array(scaler.inverse_transform(\n",
        "    np.array(all_predict).reshape(all_predict.shape[0], 1)\n",
        ")).flatten().astype('int')\n",
        "all_predict_flatten = np.absolute(all_predict_flatten)\n",
        "future_predict_flatten = np.array(scaler.inverse_transform(\n",
        "    np.array(future_predict).reshape(future_predict.shape[0], 1)\n",
        ")).flatten().astype('int')\n",
        "future_predict_flatten = np.absolute(future_predict_flatten)\n",
        "f_future_predict_flatten = np.array(scaler.inverse_transform(\n",
        "    np.array(f_future_predict).reshape(f_future_predict.shape[0], 1)\n",
        ")).flatten().astype('int')\n",
        "f_future_predict_flatten = np.absolute(f_future_predict_flatten)"
      ],
      "execution_count": null,
      "outputs": []
    },
    {
      "cell_type": "code",
      "metadata": {
        "id": "7kQSw3HTyB-r",
        "colab_type": "code",
        "colab": {}
      },
      "source": [
        "all_predict_score = math.sqrt(\n",
        "    mean_squared_error(\n",
        "        Y_all_flatten, \n",
        "        all_predict_flatten\n",
        "    )\n",
        ")"
      ],
      "execution_count": null,
      "outputs": []
    },
    {
      "cell_type": "code",
      "metadata": {
        "id": "7eCKkJR4yEmB",
        "colab_type": "code",
        "colab": {
          "base_uri": "https://localhost:8080/",
          "height": 35
        },
        "outputId": "53239092-66a0-4a51-810e-2f31eca47997"
      },
      "source": [
        "'All Score: %.2f RMSE' % (all_predict_score)"
      ],
      "execution_count": null,
      "outputs": [
        {
          "output_type": "execute_result",
          "data": {
            "application/vnd.google.colaboratory.intrinsic+json": {
              "type": "string"
            },
            "text/plain": [
              "'All Score: 152.02 RMSE'"
            ]
          },
          "metadata": {
            "tags": []
          },
          "execution_count": 44
        }
      ]
    },
    {
      "cell_type": "code",
      "metadata": {
        "id": "H91SldOGyGzh",
        "colab_type": "code",
        "colab": {}
      },
      "source": [
        "future_index = pd.date_range(start=cases.index[-1], periods=days_to_predict + 1, closed='right')"
      ],
      "execution_count": null,
      "outputs": []
    },
    {
      "cell_type": "code",
      "metadata": {
        "id": "yF0drCQ-yJrs",
        "colab_type": "code",
        "colab": {
          "base_uri": "https://localhost:8080/",
          "height": 335
        },
        "outputId": "944f9a33-07ff-4014-ca26-70fd6a57937c"
      },
      "source": [
        "plt.figure(figsize=(6,4),dpi=86)\n",
        "plt.plot(\n",
        "    future_index,\n",
        "    future_predict_flatten,\n",
        "    label='Prediction Recovery',\n",
        "    color='red',\n",
        "    linewidth=2.5\n",
        ")\n",
        "plt.suptitle('Future Prediction Based on Per Day Recovery in Bangladesh',fontsize=8,fontweight='bold')\n",
        "plt.xlabel('Date',fontsize=8,fontweight='bold')\n",
        "plt.ylabel('Recovery',fontsize=8,fontweight='bold')\n",
        "plt.xticks(rotation=70)\n",
        "plt.legend(prop={\"size\":8})\n",
        "plt.tight_layout(3)\n",
        "plt.show()  "
      ],
      "execution_count": null,
      "outputs": [
        {
          "output_type": "display_data",
          "data": {
            "image/png": "[encoded data removed]",
            "text/plain": [
              "<Figure size 516x344 with 1 Axes>"
            ]
          },
          "metadata": {
            "tags": [],
            "needs_background": "light"
          }
        }
      ]
    },
    {
      "cell_type": "code",
      "metadata": {
        "id": "sPqkEBmSyM8a",
        "colab_type": "code",
        "colab": {
          "base_uri": "https://localhost:8080/",
          "height": 335
        },
        "outputId": "69ad30c0-4541-4020-c2c1-06ec185c28b9"
      },
      "source": [
        "plt.figure(figsize=(6,4),dpi=86)\n",
        "plt.plot(\n",
        "    future_index,\n",
        "    f_future_predict_flatten,\n",
        "    label='Future Prediction Recovery',\n",
        "    color='red',\n",
        "    linewidth=2.5\n",
        ")\n",
        "plt.suptitle('Future Prediction Based on Previous Per day Future Recovery Prediction in Bangladesh',fontsize=8,fontweight='bold')\n",
        "plt.xlabel('Date',fontsize=8,fontweight='bold')\n",
        "plt.ylabel('Recovery',fontsize=8,fontweight='bold')\n",
        "plt.xticks(rotation=70)\n",
        "plt.legend(prop={\"size\":8})\n",
        "plt.tight_layout(3)\n",
        "plt.show()"
      ],
      "execution_count": null,
      "outputs": [
        {
          "output_type": "display_data",
          "data": {
            "image/png": "[encoded data removed]",
            "text/plain": [
              "<Figure size 516x344 with 1 Axes>"
            ]
          },
          "metadata": {
            "tags": [],
            "needs_background": "light"
          }
        }
      ]
    },
    {
      "cell_type": "code",
      "metadata": {
        "id": "QTp1GEgVyXrA",
        "colab_type": "code",
        "colab": {
          "base_uri": "https://localhost:8080/",
          "height": 419
        },
        "outputId": "e6928c11-54e7-49a0-e360-670a21f145db"
      },
      "source": [
        "plt.figure(figsize=(8, 5))\n",
        "plt.figure(dpi= 86)\n",
        "plt.plot(\n",
        "    cases.index[:len(X_all_flatten)],\n",
        "    X_all_flatten,\n",
        "    label='Actual Recovery',\n",
        "    linewidth=2.5\n",
        ")\n",
        "plt.plot(\n",
        "    cases.index[:len(X_all_flatten)],\n",
        "    all_predict_flatten,\n",
        "    label='Actual Prediction Recovery',\n",
        "    linewidth=2.5\n",
        ")\n",
        "plt.plot(\n",
        "    future_index,\n",
        "    future_predict_flatten,\n",
        "    label='Predict up to ' + str(days_to_predict) + ' Days in the future',\n",
        "    linewidth=2.5\n",
        ")\n",
        "plt.plot(\n",
        "    future_index,\n",
        "    f_future_predict_flatten,\n",
        "    label='Future based on previous future prediction',\n",
        "    linewidth=2.5\n",
        ")\n",
        "plt.suptitle('Future Prediction Based on Per Day Recovery in Bangladesh',fontsize=8,fontweight='bold')\n",
        "plt.xlabel('Date',fontsize=8,fontweight='bold')\n",
        "plt.ylabel('Recovery',fontsize=8,fontweight='bold')\n",
        "plt.xticks(rotation=70)\n",
        "plt.legend(prop={\"size\":8})\n",
        "plt.tight_layout(3)\n",
        "plt.show()"
      ],
      "execution_count": null,
      "outputs": [
        {
          "output_type": "display_data",
          "data": {
            "image/png": "[encoded data removed]",
            "text/plain": [
              "<Figure size 688x430 with 1 Axes>"
            ]
          },
          "metadata": {
            "tags": [],
            "needs_background": "light"
          }
        }
      ]
    },
    {
      "cell_type": "code",
      "metadata": {
        "id": "GQ00oWsfzKot",
        "colab_type": "code",
        "colab": {}
      },
      "source": [
        ""
      ],
      "execution_count": null,
      "outputs": []
    },
    {
      "cell_type": "markdown",
      "metadata": {
        "id": "r75VFCrRzaHR",
        "colab_type": "text"
      },
      "source": [
        "##Random Forest "
      ]
    },
    {
      "cell_type": "code",
      "metadata": {
        "id": "7NjSW2bRzf-b",
        "colab_type": "code",
        "colab": {}
      },
      "source": [
        "def data_split(data, look_back=1):\n",
        "    x, y = [], []\n",
        "    for i in range(len(data) - look_back - 1):\n",
        "        a = data[i:(i + look_back), 0]\n",
        "        x.append(a)\n",
        "        y.append(data[i + look_back, 0])\n",
        "    return np.array(x), np.array(y)"
      ],
      "execution_count": null,
      "outputs": []
    },
    {
      "cell_type": "code",
      "metadata": {
        "id": "EVjJciIPziWn",
        "colab_type": "code",
        "colab": {}
      },
      "source": [
        "test_size = TEST_SIZE\n",
        "test_size = int(cases.shape[0] * test_size)\n",
        "train_cases = cases[:-test_size]\n",
        "test_cases = cases[-test_size:]"
      ],
      "execution_count": null,
      "outputs": []
    },
    {
      "cell_type": "code",
      "metadata": {
        "id": "F5_DSzYezkdR",
        "colab_type": "code",
        "colab": {}
      },
      "source": [
        "scaler = MinMaxScaler(feature_range=(-1, 1))\n",
        "scaler = scaler.fit(cases)\n",
        "all_cases = scaler.transform(cases)\n",
        "train_cases = scaler.transform(train_cases)\n",
        "test_cases = scaler.transform(test_cases)"
      ],
      "execution_count": null,
      "outputs": []
    },
    {
      "cell_type": "code",
      "metadata": {
        "id": "bX4tPY5ozmie",
        "colab_type": "code",
        "colab": {}
      },
      "source": [
        "look_back = LOOK_BACK\n",
        "X_all, Y_all = data_split(all_cases, look_back=look_back)\n",
        "X_train, Y_train = data_split(train_cases, look_back=look_back)\n",
        "X_test, Y_test = data_split(test_cases, look_back=look_back)"
      ],
      "execution_count": null,
      "outputs": []
    },
    {
      "cell_type": "code",
      "metadata": {
        "id": "7r3CcDnuzo6s",
        "colab_type": "code",
        "colab": {
          "base_uri": "https://localhost:8080/"
        },
        "outputId": "0a4431a4-b682-471e-b2c1-62ecd1cc314a"
      },
      "source": [
        "X_train.shape,Y_train.shape,X_test.shape,Y_test.shape"
      ],
      "execution_count": null,
      "outputs": [
        {
          "output_type": "execute_result",
          "data": {
            "text/plain": [
              "((27, 1), (27,), (10, 1), (10,))"
            ]
          },
          "metadata": {
            "tags": []
          },
          "execution_count": 53
        }
      ]
    },
    {
      "cell_type": "code",
      "metadata": {
        "id": "auixSAxjzrIA",
        "colab_type": "code",
        "colab": {}
      },
      "source": [
        "from sklearn.ensemble import RandomForestRegressor\n",
        "rf=RandomForestRegressor()\n",
        "model = rf.fit(X_train, Y_train)"
      ],
      "execution_count": null,
      "outputs": []
    },
    {
      "cell_type": "code",
      "metadata": {
        "id": "06ACeCT9ztX3",
        "colab_type": "code",
        "colab": {}
      },
      "source": [
        "all_predict = model.predict(X_all)"
      ],
      "execution_count": null,
      "outputs": []
    },
    {
      "cell_type": "code",
      "metadata": {
        "id": "qvLHmBMlzveS",
        "colab_type": "code",
        "colab": {}
      },
      "source": [
        "Y_train_flatten = np.array(scaler.inverse_transform(\n",
        "    np.array(Y_train).reshape(Y_train.shape[0], 1)\n",
        ")).flatten().astype('int')\n",
        "Y_test_flatten = np.array(scaler.inverse_transform(\n",
        "    np.array(Y_test).reshape(Y_test.shape[0], 1)\n",
        ")).flatten().astype('int')\n",
        "all_predict_flatten = np.array(scaler.inverse_transform(\n",
        "    np.array(all_predict).reshape(all_predict.shape[0], 1)\n",
        ")).flatten().astype('int')\n",
        "all_predict_flatten = np.absolute(all_predict_flatten)"
      ],
      "execution_count": null,
      "outputs": []
    },
    {
      "cell_type": "code",
      "metadata": {
        "id": "P0TygvI8zxgy",
        "colab_type": "code",
        "colab": {}
      },
      "source": [
        "y_train_predict=model.predict(X_train)\n",
        "y_test_predict=model.predict(X_test)"
      ],
      "execution_count": null,
      "outputs": []
    },
    {
      "cell_type": "code",
      "metadata": {
        "id": "SSOsRvyxz0SH",
        "colab_type": "code",
        "colab": {
          "base_uri": "https://localhost:8080/"
        },
        "outputId": "43e64538-6cbe-4d21-935a-c22bedae7c96"
      },
      "source": [
        "from sklearn.metrics import mean_squared_error\n",
        "import math\n",
        "\n",
        "print('Train RMSE')\n",
        "print(math.sqrt(mean_squared_error(Y_train_flatten,y_train_predict)))\n",
        "print('Test RMSE')\n",
        "print(math.sqrt(mean_squared_error(Y_test_flatten,y_test_predict)))"
      ],
      "execution_count": null,
      "outputs": [
        {
          "output_type": "stream",
          "text": [
            "Train RMSE\n",
            "7.172468456643099\n",
            "Test RMSE\n",
            "334.5810577721865\n"
          ],
          "name": "stdout"
        }
      ]
    },
    {
      "cell_type": "code",
      "metadata": {
        "id": "OvUFiIDfz2MJ",
        "colab_type": "code",
        "colab": {
          "base_uri": "https://localhost:8080/"
        },
        "outputId": "38cc7810-9dc4-4842-b554-c3b4c8528bdd"
      },
      "source": [
        "all_predict_score = math.sqrt(\n",
        "    mean_squared_error(\n",
        "        Y_all_flatten, \n",
        "        all_predict_flatten\n",
        "    )\n",
        ")\n",
        "print(\"All RMSE :\",all_predict_score)"
      ],
      "execution_count": null,
      "outputs": [
        {
          "output_type": "stream",
          "text": [
            "All RMSE : 167.87082946305884\n"
          ],
          "name": "stdout"
        }
      ]
    },
    {
      "cell_type": "markdown",
      "metadata": {
        "id": "kT91Aa2t0QSH",
        "colab_type": "text"
      },
      "source": [
        "##SVR"
      ]
    },
    {
      "cell_type": "code",
      "metadata": {
        "id": "jvWcNy1-z5gN",
        "colab_type": "code",
        "colab": {}
      },
      "source": [
        "from sklearn.svm import SVR  \n",
        "svr = SVR(kernel='rbf', gamma=0.1) \n",
        "model2 = svr.fit(X_train, Y_train)"
      ],
      "execution_count": null,
      "outputs": []
    },
    {
      "cell_type": "code",
      "metadata": {
        "id": "2sAT0YfUz8It",
        "colab_type": "code",
        "colab": {}
      },
      "source": [
        "y_train_predict=model2.predict(X_train)"
      ],
      "execution_count": null,
      "outputs": []
    },
    {
      "cell_type": "code",
      "metadata": {
        "id": "YVQ3a1c00Aek",
        "colab_type": "code",
        "colab": {
          "base_uri": "https://localhost:8080/"
        },
        "outputId": "ddb68898-d3bc-4894-d2e4-9309cd72623e"
      },
      "source": [
        "y_train_predict"
      ],
      "execution_count": null,
      "outputs": [
        {
          "output_type": "execute_result",
          "data": {
            "text/plain": [
              "array([-0.98305085, -0.98305085, -0.98305085, -0.98305085, -0.98305085,\n",
              "       -0.98305085, -0.98305085, -0.98305085, -0.98305085, -0.98305085,\n",
              "       -0.98305085, -0.98305085, -0.98305085, -0.98305085, -0.98305085,\n",
              "       -0.98305085, -0.98305085, -0.98305085, -0.98305085, -0.98305085,\n",
              "       -0.98305085, -0.98305085, -0.98305085, -0.98305085, -0.98305085,\n",
              "       -0.98305085, -0.98305085])"
            ]
          },
          "metadata": {
            "tags": []
          },
          "execution_count": 62
        }
      ]
    },
    {
      "cell_type": "code",
      "metadata": {
        "id": "h8QDCHUn0Ctp",
        "colab_type": "code",
        "colab": {}
      },
      "source": [
        "y_test_predict=model2.predict(X_test)"
      ],
      "execution_count": null,
      "outputs": []
    },
    {
      "cell_type": "code",
      "metadata": {
        "id": "Ze4kzuKF0E9o",
        "colab_type": "code",
        "colab": {
          "base_uri": "https://localhost:8080/"
        },
        "outputId": "1d89de8f-ed2c-43b3-9823-d6fcc5693641"
      },
      "source": [
        "from sklearn.metrics import mean_squared_error\n",
        "import math\n",
        "\n",
        "print('Train RMSE')\n",
        "print(math.sqrt(mean_squared_error(Y_train_flatten,y_train_predict)))\n",
        "print('Test RMSE')\n",
        "print(math.sqrt(mean_squared_error(Y_test_flatten,y_test_predict)))"
      ],
      "execution_count": null,
      "outputs": [
        {
          "output_type": "stream",
          "text": [
            "Train RMSE\n",
            "7.168033313705343\n",
            "Test RMSE\n",
            "334.5738325688609\n"
          ],
          "name": "stdout"
        }
      ]
    },
    {
      "cell_type": "code",
      "metadata": {
        "id": "zBGzf0rb0HG5",
        "colab_type": "code",
        "colab": {
          "base_uri": "https://localhost:8080/"
        },
        "outputId": "e5bf0391-6d73-42e0-f6b4-65b7d053afc6"
      },
      "source": [
        "all_predict = model2.predict(X_all)\n",
        "all_predict_score = math.sqrt(\n",
        "    mean_squared_error(\n",
        "        Y_all_flatten, \n",
        "        all_predict_flatten\n",
        "    )\n",
        ")\n",
        "print(\"All RMSE\",all_predict_score)"
      ],
      "execution_count": null,
      "outputs": [
        {
          "output_type": "stream",
          "text": [
            "All RMSE 167.87082946305884\n"
          ],
          "name": "stdout"
        }
      ]
    },
    {
      "cell_type": "code",
      "metadata": {
        "id": "KDWwqdCf0KLc",
        "colab_type": "code",
        "colab": {}
      },
      "source": [
        ""
      ],
      "execution_count": null,
      "outputs": []
    }
  ]
}